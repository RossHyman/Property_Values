{
 "cells": [
  {
   "cell_type": "markdown",
   "id": "5e52edcf",
   "metadata": {},
   "source": [
    "In this notebook I run statistical learning models on residential home sales in the Bell school area of Chicago, a highly gentrifying neighborhood with a large number of flipping and teardowns, to demonstrate that models with no inherent bias in their method lead to biased results, overvaluing low priced homes and undervaluing high priced homes. This is not surprising since it is a basic property of models based on averaging. The problem, regression towards the mean, is so intrinsic to these methods that the basic method bares its name. This property exasperates inequality as it leads to lesser taxation of wealthy people and higher taxation on poor people. The results could be used to advocate for a transition from property tax to income tax as was recently attempted in Illinois.  "
   ]
  },
  {
   "cell_type": "code",
   "execution_count": 1,
   "id": "abaa35c9",
   "metadata": {},
   "outputs": [],
   "source": [
    "import numpy as np\n",
    "import pandas as pd\n",
    "import matplotlib.pyplot as plt\n",
    "import seaborn as sns\n",
    "import os\n",
    "from sklearn.decomposition import PCA\n",
    "#from library.sb_utils import save_file\n",
    "import statsmodels.api as sm \n",
    "from statsmodels.graphics.api import abline_plot \n",
    "import warnings \n",
    "warnings.simplefilter(action=\"ignore\", category=FutureWarning)\n",
    "warnings.filterwarnings(action=\"ignore\", module=\"scipy\", message=\"^internal gelsd\")\n",
    "import pickle\n",
    "from sklearn import __version__ as sklearn_version\n",
    "from sklearn.preprocessing import scale\n",
    "from sklearn.model_selection import train_test_split, cross_validate, GridSearchCV, learning_curve\n",
    "from sklearn.preprocessing import StandardScaler, MinMaxScaler\n",
    "from sklearn.dummy import DummyRegressor\n",
    "from sklearn.linear_model import LinearRegression\n",
    "from sklearn.ensemble import RandomForestRegressor\n",
    "from sklearn.metrics import r2_score, mean_squared_error, mean_absolute_error\n",
    "from sklearn.metrics import mean_absolute_percentage_error as mape\n",
    "from sklearn.pipeline import make_pipeline\n",
    "from sklearn.impute import SimpleImputer\n",
    "from sklearn.feature_selection import SelectKBest, f_regression\n",
    "import datetime\n",
    "from sklearn.linear_model import ElasticNetCV\n",
    "from sklearn.linear_model import ElasticNet\n",
    "from sklearn.ensemble import GradientBoostingRegressor"
   ]
  },
  {
   "cell_type": "code",
   "execution_count": 2,
   "id": "eda62f1c",
   "metadata": {},
   "outputs": [],
   "source": [
    "bell_2020 = pd.read_csv('../data/bell_cleaned.csv')\n",
    "bell_sales = pd.read_csv('../data/bell_sales_cleaned.csv')"
   ]
  },
  {
   "cell_type": "code",
   "execution_count": 3,
   "id": "a2d80c6a",
   "metadata": {},
   "outputs": [
    {
     "data": {
      "text/html": [
       "<div>\n",
       "<style scoped>\n",
       "    .dataframe tbody tr th:only-of-type {\n",
       "        vertical-align: middle;\n",
       "    }\n",
       "\n",
       "    .dataframe tbody tr th {\n",
       "        vertical-align: top;\n",
       "    }\n",
       "\n",
       "    .dataframe thead th {\n",
       "        text-align: right;\n",
       "    }\n",
       "</style>\n",
       "<table border=\"1\" class=\"dataframe\">\n",
       "  <thead>\n",
       "    <tr style=\"text-align: right;\">\n",
       "      <th></th>\n",
       "      <th>Unnamed: 0</th>\n",
       "      <th>meta_pin</th>\n",
       "      <th>meta_year</th>\n",
       "      <th>meta_class</th>\n",
       "      <th>meta_sale_price</th>\n",
       "      <th>char_hd_sf</th>\n",
       "      <th>char_age</th>\n",
       "      <th>char_rooms</th>\n",
       "      <th>char_beds</th>\n",
       "      <th>char_frpl</th>\n",
       "      <th>char_fbath</th>\n",
       "      <th>char_hbath</th>\n",
       "      <th>char_bldg_sf</th>\n",
       "      <th>geo_longitude</th>\n",
       "      <th>geo_latitude</th>\n",
       "    </tr>\n",
       "  </thead>\n",
       "  <tbody>\n",
       "    <tr>\n",
       "      <th>0</th>\n",
       "      <td>126575</td>\n",
       "      <td>13242020170000</td>\n",
       "      <td>2017.0</td>\n",
       "      <td>278</td>\n",
       "      <td>850000.0</td>\n",
       "      <td>3050.0</td>\n",
       "      <td>18.0</td>\n",
       "      <td>8.0</td>\n",
       "      <td>4.0</td>\n",
       "      <td>0.0</td>\n",
       "      <td>2.0</td>\n",
       "      <td>1.0</td>\n",
       "      <td>2340.0</td>\n",
       "      <td>-87.690565</td>\n",
       "      <td>41.953323</td>\n",
       "    </tr>\n",
       "    <tr>\n",
       "      <th>1</th>\n",
       "      <td>126576</td>\n",
       "      <td>13242020180000</td>\n",
       "      <td>2013.0</td>\n",
       "      <td>278</td>\n",
       "      <td>1055000.0</td>\n",
       "      <td>3050.0</td>\n",
       "      <td>2.0</td>\n",
       "      <td>9.0</td>\n",
       "      <td>4.0</td>\n",
       "      <td>3.0</td>\n",
       "      <td>3.0</td>\n",
       "      <td>1.0</td>\n",
       "      <td>2639.0</td>\n",
       "      <td>-87.690473</td>\n",
       "      <td>41.953324</td>\n",
       "    </tr>\n",
       "    <tr>\n",
       "      <th>2</th>\n",
       "      <td>126578</td>\n",
       "      <td>13242030020000</td>\n",
       "      <td>2013.0</td>\n",
       "      <td>203</td>\n",
       "      <td>330000.0</td>\n",
       "      <td>3137.0</td>\n",
       "      <td>54.0</td>\n",
       "      <td>6.0</td>\n",
       "      <td>3.0</td>\n",
       "      <td>0.0</td>\n",
       "      <td>2.0</td>\n",
       "      <td>0.0</td>\n",
       "      <td>1020.0</td>\n",
       "      <td>-87.690731</td>\n",
       "      <td>41.952804</td>\n",
       "    </tr>\n",
       "    <tr>\n",
       "      <th>3</th>\n",
       "      <td>126579</td>\n",
       "      <td>13242030040000</td>\n",
       "      <td>2014.0</td>\n",
       "      <td>202</td>\n",
       "      <td>300000.0</td>\n",
       "      <td>3050.0</td>\n",
       "      <td>116.0</td>\n",
       "      <td>4.0</td>\n",
       "      <td>2.0</td>\n",
       "      <td>0.0</td>\n",
       "      <td>2.0</td>\n",
       "      <td>0.0</td>\n",
       "      <td>680.0</td>\n",
       "      <td>-87.690547</td>\n",
       "      <td>41.952805</td>\n",
       "    </tr>\n",
       "    <tr>\n",
       "      <th>4</th>\n",
       "      <td>126580</td>\n",
       "      <td>13242030110000</td>\n",
       "      <td>2018.0</td>\n",
       "      <td>206</td>\n",
       "      <td>976711.0</td>\n",
       "      <td>3660.0</td>\n",
       "      <td>96.0</td>\n",
       "      <td>7.0</td>\n",
       "      <td>4.0</td>\n",
       "      <td>1.0</td>\n",
       "      <td>2.0</td>\n",
       "      <td>1.0</td>\n",
       "      <td>2778.0</td>\n",
       "      <td>-87.689729</td>\n",
       "      <td>41.952810</td>\n",
       "    </tr>\n",
       "  </tbody>\n",
       "</table>\n",
       "</div>"
      ],
      "text/plain": [
       "   Unnamed: 0        meta_pin  meta_year  meta_class  meta_sale_price  \\\n",
       "0      126575  13242020170000     2017.0         278         850000.0   \n",
       "1      126576  13242020180000     2013.0         278        1055000.0   \n",
       "2      126578  13242030020000     2013.0         203         330000.0   \n",
       "3      126579  13242030040000     2014.0         202         300000.0   \n",
       "4      126580  13242030110000     2018.0         206         976711.0   \n",
       "\n",
       "   char_hd_sf  char_age  char_rooms  char_beds  char_frpl  char_fbath  \\\n",
       "0      3050.0      18.0         8.0        4.0        0.0         2.0   \n",
       "1      3050.0       2.0         9.0        4.0        3.0         3.0   \n",
       "2      3137.0      54.0         6.0        3.0        0.0         2.0   \n",
       "3      3050.0     116.0         4.0        2.0        0.0         2.0   \n",
       "4      3660.0      96.0         7.0        4.0        1.0         2.0   \n",
       "\n",
       "   char_hbath  char_bldg_sf  geo_longitude  geo_latitude  \n",
       "0         1.0        2340.0     -87.690565     41.953323  \n",
       "1         1.0        2639.0     -87.690473     41.953324  \n",
       "2         0.0        1020.0     -87.690731     41.952804  \n",
       "3         0.0         680.0     -87.690547     41.952805  \n",
       "4         1.0        2778.0     -87.689729     41.952810  "
      ]
     },
     "execution_count": 3,
     "metadata": {},
     "output_type": "execute_result"
    }
   ],
   "source": [
    "bell_sales.head()"
   ]
  },
  {
   "cell_type": "code",
   "execution_count": 4,
   "id": "db22fb86",
   "metadata": {},
   "outputs": [],
   "source": [
    "bell_sales['one_story'] = [1 if x < 205 else 0 for x in bell_sales['meta_class']]\n",
    "bell_sales['row_house'] = [1 if ((x == 210) or (x==295)) else 0 for x in bell_sales['meta_class']]\n",
    "bell_sales = bell_sales.drop(columns='meta_class')\n",
    "bell_new = bell_sales[bell_sales.char_age<70]\n",
    "bell_old = bell_sales[bell_sales.char_age>70]\n",
    "old_y = bell_old.meta_sale_price\n",
    "old_X = bell_old.drop(['Unnamed: 0','meta_pin','meta_sale_price'],axis=1)\n",
    "new_y = bell_new.meta_sale_price\n",
    "new_X = bell_new.drop(['Unnamed: 0','meta_pin','meta_sale_price'],axis=1)\n",
    "oldX_train, oldX_test, oldy_train, oldy_test = train_test_split(old_X, old_y, test_size=0.2, random_state=42)\n",
    "newX_train, newX_test, newy_train, newy_test = train_test_split(new_X, new_y, test_size=0.2, random_state=42)\n",
    "oldscaler = StandardScaler()\n",
    "oldscaler.fit(oldX_train)\n",
    "oldX_train= oldscaler.transform(oldX_train)\n",
    "oldX_test = oldscaler.transform(oldX_test)\n",
    "newscaler = StandardScaler()\n",
    "newscaler.fit(newX_train)\n",
    "newX_train= newscaler.transform(newX_train)\n",
    "newX_test = newscaler.transform(newX_test)\n",
    "y_train = np.append(oldy_train,newy_train)\n",
    "y_test  = np.append(oldy_test,newy_test)"
   ]
  },
  {
   "cell_type": "code",
   "execution_count": 5,
   "id": "21425d64",
   "metadata": {},
   "outputs": [
    {
     "data": {
      "text/plain": [
       "<AxesSubplot:xlabel='meta_sale_price', ylabel='Count'>"
      ]
     },
     "execution_count": 5,
     "metadata": {},
     "output_type": "execute_result"
    },
    {
     "data": {
      "image/png": "[encoded data removed]",
      "text/plain": [
       "<Figure size 432x288 with 1 Axes>"
      ]
     },
     "metadata": {
      "needs_background": "light"
     },
     "output_type": "display_data"
    }
   ],
   "source": [
    "sns.histplot(x=old_y,bins=100)"
   ]
  },
  {
   "cell_type": "code",
   "execution_count": 6,
   "id": "6019751e",
   "metadata": {},
   "outputs": [
    {
     "data": {
      "text/plain": [
       "<AxesSubplot:xlabel='meta_sale_price', ylabel='Count'>"
      ]
     },
     "execution_count": 6,
     "metadata": {},
     "output_type": "execute_result"
    },
    {
     "data": {
      "image/png": "[encoded data removed]",
      "text/plain": [
       "<Figure size 432x288 with 1 Axes>"
      ]
     },
     "metadata": {
      "needs_background": "light"
     },
     "output_type": "display_data"
    }
   ],
   "source": [
    "sns.histplot(x=oldy_train,bins=100)"
   ]
  },
  {
   "cell_type": "code",
   "execution_count": 7,
   "id": "9cd7e398",
   "metadata": {},
   "outputs": [
    {
     "data": {
      "text/plain": [
       "<AxesSubplot:xlabel='meta_sale_price', ylabel='Count'>"
      ]
     },
     "execution_count": 7,
     "metadata": {},
     "output_type": "execute_result"
    },
    {
     "data": {
      "image/png": "[encoded data removed]",
      "text/plain": [
       "<Figure size 432x288 with 1 Axes>"
      ]
     },
     "metadata": {
      "needs_background": "light"
     },
     "output_type": "display_data"
    }
   ],
   "source": [
    "sns.histplot(x=oldy_test,bins=100)"
   ]
  },
  {
   "cell_type": "markdown",
   "id": "508fba12",
   "metadata": {},
   "source": [
    "scaling is needed for models that need to determine a 'distance\" between data points. But for models, such as decesion trees, that do not require a distance, it is not required.Scaling should do no harm when it is not needed. "
   ]
  },
  {
   "cell_type": "markdown",
   "id": "b0b6ac9c",
   "metadata": {},
   "source": [
    "First just try metrics for the mean value of the training data"
   ]
  },
  {
   "cell_type": "code",
   "execution_count": 8,
   "id": "799b5908",
   "metadata": {},
   "outputs": [],
   "source": [
    "olddumb_reg = DummyRegressor(strategy='mean')\n",
    "olddumb_reg.fit(oldX_train,oldy_train)\n",
    "oldy_tr_pred = olddumb_reg.predict(oldX_train)\n",
    "oldy_te_pred = olddumb_reg.predict(oldX_test)\n",
    "newdumb_reg = DummyRegressor(strategy='mean')\n",
    "newdumb_reg.fit(newX_train,newy_train)\n",
    "newy_tr_pred = newdumb_reg.predict(newX_train)\n",
    "newy_te_pred = newdumb_reg.predict(newX_test)\n",
    "y_tr_pred = np.append(oldy_tr_pred,newy_tr_pred)\n",
    "y_te_pred = np.append(oldy_te_pred,newy_te_pred)\n"
   ]
  },
  {
   "cell_type": "code",
   "execution_count": 9,
   "id": "c726c242",
   "metadata": {},
   "outputs": [
    {
     "data": {
      "text/plain": [
       "(0.4143511417357404,\n",
       " 0.3797135583481504,\n",
       " 0.18801206290947958,\n",
       " 0.2293896671338448,\n",
       " 397671.82031537476,\n",
       " 383442.7490709116,\n",
       " 331433.71194597444,\n",
       " 314106.7557187131)"
      ]
     },
     "execution_count": 9,
     "metadata": {},
     "output_type": "execute_result"
    }
   ],
   "source": [
    "\n",
    "mape(y_train, y_tr_pred), mape(y_test, y_te_pred),\\\n",
    "r2_score(y_train, y_tr_pred), r2_score(y_test, y_te_pred),\\\n",
    "np.sqrt(mean_squared_error(y_train, y_tr_pred)), np.sqrt(mean_squared_error(y_test, y_te_pred)),\\\n",
    "mean_absolute_error(y_train, y_tr_pred),mean_absolute_error(y_test, y_te_pred)"
   ]
  },
  {
   "cell_type": "markdown",
   "id": "fad69010",
   "metadata": {},
   "source": [
    "Three metrics recommended by the International association of assessing officers based on the ratio y_pred/y_test are Coefficient of Dispersion (COD), Price Related Differential (PRD), and Coefficent of Price-Related Bias."
   ]
  },
  {
   "cell_type": "markdown",
   "id": "aae8f2b8",
   "metadata": {},
   "source": [
    "Coefficient of Dispersion (COD)is a measure of the variance of the ratio. It is multiplied by 100. Its value is the percentage variation of the ratio away from the median. It does not tell us if low priced homes are being treated differently than high priced homes."
   ]
  },
  {
   "cell_type": "code",
   "execution_count": 10,
   "id": "e3722ace",
   "metadata": {},
   "outputs": [
    {
     "data": {
      "text/plain": [
       "(39.69569142405838, 38.512694336152954)"
      ]
     },
     "execution_count": 10,
     "metadata": {},
     "output_type": "execute_result"
    }
   ],
   "source": [
    "def cod(y_pred,y_test):\n",
    "    ratio = y_pred/y_test\n",
    "    ratio_median = np.median(ratio)\n",
    "    return 100*np.mean(np.abs(ratio-ratio_median))/ratio_median\n",
    "cod(y_tr_pred,y_train), cod(y_te_pred,y_test)"
   ]
  },
  {
   "cell_type": "markdown",
   "id": "38b59c84",
   "metadata": {},
   "source": [
    "Just taking an average produces a variation of over 40% is the ratio.\n"
   ]
  },
  {
   "cell_type": "markdown",
   "id": "d970399b",
   "metadata": {},
   "source": [
    "Price Related Differential does tell us if low priced homes are being treated differently than high priced homes. It is the mean ratio divided by the sales price weighted mean ratio. If the ratio for large sales price homes is lower than the ratio for low sales price homes, then the mean ratio over the weighted mean ratio will be larger than 1."
   ]
  },
  {
   "cell_type": "code",
   "execution_count": 11,
   "id": "5edf7a3b",
   "metadata": {},
   "outputs": [
    {
     "data": {
      "text/plain": [
       "(1.2019051319836271, 1.179662689867536)"
      ]
     },
     "execution_count": 11,
     "metadata": {},
     "output_type": "execute_result"
    }
   ],
   "source": [
    "def prd(y_pred,y_test):\n",
    "    ratio = y_pred/y_test\n",
    "    y_test_sum = np.sum(y_test)\n",
    "    y_pred_sum = np.sum(y_pred)\n",
    "    return np.mean(ratio)*y_test_sum/y_pred_sum\n",
    "prd(y_tr_pred,y_train), prd(y_te_pred,y_test)"
   ]
  },
  {
   "cell_type": "markdown",
   "id": "778bc195",
   "metadata": {},
   "source": [
    "The mean ratio is 22% higher than the weighted mean ratio, indicating that low proced homes are priced higher than their sales price compared to how high priced homes are treated.  This is a consequence that small variations in the predicated price of a low priced home makes a bigger change in the ratio."
   ]
  },
  {
   "cell_type": "markdown",
   "id": "9801b5be",
   "metadata": {},
   "source": [
    "Coefficent of price related bias (PRB) does a liner regression between the log2 of the price and the ratio. A negative number means that if one increases the price, the ratio goes down."
   ]
  },
  {
   "cell_type": "code",
   "execution_count": 12,
   "id": "c7720837",
   "metadata": {},
   "outputs": [
    {
     "data": {
      "text/plain": [
       "(array([-1.18620674]), array([-1.10707835]))"
      ]
     },
     "execution_count": 12,
     "metadata": {},
     "output_type": "execute_result"
    }
   ],
   "source": [
    "def prb(y_pred,y_test):\n",
    "    proxy = 0.5*(y_pred + y_test)\n",
    "    ln_value = pd.DataFrame(np.log2(proxy))\n",
    "    ratio = y_pred/y_test\n",
    "    ratio_median = np.median(ratio)\n",
    "    pct_dif = (ratio - ratio_median)/ratio_median\n",
    "    lr = LinearRegression()\n",
    "    lr.fit(ln_value,pct_dif)\n",
    "    return lr.coef_\n",
    "prb(y_tr_pred,y_train), prb(y_te_pred,y_test)"
   ]
  },
  {
   "cell_type": "markdown",
   "id": "93d284a2",
   "metadata": {},
   "source": [
    "Using the average price for all predictions has the consequence that doubling the price of the home means the ratio goes down by 78%."
   ]
  },
  {
   "cell_type": "markdown",
   "id": "a3ab86d6",
   "metadata": {},
   "source": [
    "Next we see how linear regression improves predicted prices.  "
   ]
  },
  {
   "cell_type": "code",
   "execution_count": 13,
   "id": "fe29baa3",
   "metadata": {},
   "outputs": [],
   "source": [
    "oldlm = LinearRegression()\n",
    "oldlm.fit(oldX_train,oldy_train)\n",
    "oldy_tr_pred = oldlm.predict(oldX_train)\n",
    "oldy_te_pred = oldlm.predict(oldX_test)\n",
    "newlm = LinearRegression()\n",
    "newlm.fit(newX_train,newy_train)\n",
    "newy_tr_pred = newlm.predict(newX_train)\n",
    "newy_te_pred = newlm.predict(newX_test)\n",
    "y_tr_pred = np.append(oldy_tr_pred,newy_tr_pred)\n",
    "y_te_pred = np.append(oldy_te_pred,newy_te_pred)"
   ]
  },
  {
   "cell_type": "code",
   "execution_count": 14,
   "id": "8a3bc790",
   "metadata": {},
   "outputs": [
    {
     "data": {
      "text/plain": [
       "(0.15677297049208067,\n",
       " 0.17357268314248822,\n",
       " 0.8150759333415336,\n",
       " 0.7025780862906984,\n",
       " 189778.38489508745,\n",
       " 238215.2702341796,\n",
       " 143160.37219917122,\n",
       " 174462.68764887485)"
      ]
     },
     "execution_count": 14,
     "metadata": {},
     "output_type": "execute_result"
    }
   ],
   "source": [
    "mape(y_train, y_tr_pred), mape(y_test, y_te_pred),\\\n",
    "r2_score(y_train, y_tr_pred), r2_score(y_test, y_te_pred),\\\n",
    "np.sqrt(mean_squared_error(y_train, y_tr_pred)), np.sqrt(mean_squared_error(y_test, y_te_pred)),\\\n",
    "mean_absolute_error(y_train, y_tr_pred),mean_absolute_error(y_test, y_te_pred)"
   ]
  },
  {
   "cell_type": "code",
   "execution_count": 15,
   "id": "1f6ed839",
   "metadata": {},
   "outputs": [
    {
     "data": {
      "text/plain": [
       "(15.71694195111256, 17.82154454864478)"
      ]
     },
     "execution_count": 15,
     "metadata": {},
     "output_type": "execute_result"
    }
   ],
   "source": [
    "cod(y_tr_pred,y_train), cod(y_te_pred,y_test)"
   ]
  },
  {
   "cell_type": "markdown",
   "id": "5cd26214",
   "metadata": {},
   "source": [
    "variance is cut by more than half"
   ]
  },
  {
   "cell_type": "code",
   "execution_count": 16,
   "id": "f8289e34",
   "metadata": {},
   "outputs": [
    {
     "data": {
      "text/plain": [
       "(1.0396950132303933, 1.0212517608856664)"
      ]
     },
     "execution_count": 16,
     "metadata": {},
     "output_type": "execute_result"
    }
   ],
   "source": [
    "prd(y_tr_pred,y_train), prd(y_te_pred,y_test)"
   ]
  },
  {
   "cell_type": "markdown",
   "id": "56dfe4f8",
   "metadata": {},
   "source": [
    "mean ratio is now only 7 percent higher than the weighted ratio."
   ]
  },
  {
   "cell_type": "code",
   "execution_count": 17,
   "id": "fc17c371",
   "metadata": {},
   "outputs": [
    {
     "data": {
      "text/plain": [
       "(array([-0.09542023]), array([0.0212858]))"
      ]
     },
     "execution_count": 17,
     "metadata": {},
     "output_type": "execute_result"
    }
   ],
   "source": [
    "prb(y_tr_pred,y_train), prb(y_te_pred,y_test)"
   ]
  },
  {
   "cell_type": "code",
   "execution_count": 18,
   "id": "def9f0f9",
   "metadata": {},
   "outputs": [
    {
     "data": {
      "text/plain": [
       "(array([-10895.82367375,  67730.47895218,  63067.64205042,  10928.84255503,\n",
       "         46488.37189424,   6116.92846508, -24348.66066931,  10348.8780544 ,\n",
       "        190371.24503978,   1279.9497371 , -20341.82159791, -65341.2706774 ,\n",
       "             0.        ]),\n",
       " 937621.5206611354,\n",
       " array([  24212.94425225,  104786.60213134, -106392.82008187,\n",
       "        -108816.23925504,   42020.33650794,   32165.65968728,\n",
       "          27903.82584742,  -14603.19450054,  186511.81922297,\n",
       "         149267.74652577,  -10757.90949339,    6816.27987839,\n",
       "         -10949.05364465]),\n",
       " 1320620.0535712445)"
      ]
     },
     "execution_count": 18,
     "metadata": {},
     "output_type": "execute_result"
    }
   ],
   "source": [
    "oldlm.coef_,oldlm.intercept_,newlm.coef_,newlm.intercept_"
   ]
  },
  {
   "cell_type": "code",
   "execution_count": 19,
   "id": "e02421bc",
   "metadata": {},
   "outputs": [
    {
     "data": {
      "text/plain": [
       "<AxesSubplot:>"
      ]
     },
     "execution_count": 19,
     "metadata": {},
     "output_type": "execute_result"
    },
    {
     "data": {
      "image/png": "[encoded data removed]",
      "text/plain": [
       "<Figure size 432x288 with 1 Axes>"
      ]
     },
     "metadata": {
      "needs_background": "light"
     },
     "output_type": "display_data"
    }
   ],
   "source": [
    "sns.scatterplot(x=y_train,y=y_tr_pred)"
   ]
  },
  {
   "cell_type": "code",
   "execution_count": 20,
   "id": "b7a0b45f",
   "metadata": {},
   "outputs": [
    {
     "data": {
      "text/plain": [
       "<AxesSubplot:>"
      ]
     },
     "execution_count": 20,
     "metadata": {},
     "output_type": "execute_result"
    },
    {
     "data": {
      "image/png": "[encoded data removed]",
      "text/plain": [
       "<Figure size 432x288 with 1 Axes>"
      ]
     },
     "metadata": {
      "needs_background": "light"
     },
     "output_type": "display_data"
    }
   ],
   "source": [
    "sns.scatterplot(x=y_test,y=y_te_pred)"
   ]
  },
  {
   "cell_type": "code",
   "execution_count": 21,
   "id": "f84502d5",
   "metadata": {},
   "outputs": [
    {
     "data": {
      "text/plain": [
       "<AxesSubplot:>"
      ]
     },
     "execution_count": 21,
     "metadata": {},
     "output_type": "execute_result"
    },
    {
     "data": {
      "image/png": "[encoded data removed]",
      "text/plain": [
       "<Figure size 432x288 with 1 Axes>"
      ]
     },
     "metadata": {
      "needs_background": "light"
     },
     "output_type": "display_data"
    }
   ],
   "source": [
    "sns.scatterplot(x=y_train,y=y_tr_pred/y_train)"
   ]
  },
  {
   "cell_type": "code",
   "execution_count": 22,
   "id": "8e07d98b",
   "metadata": {},
   "outputs": [
    {
     "data": {
      "text/plain": [
       "<AxesSubplot:>"
      ]
     },
     "execution_count": 22,
     "metadata": {},
     "output_type": "execute_result"
    },
    {
     "data": {
      "image/png": "[encoded data removed]",
      "text/plain": [
       "<Figure size 432x288 with 1 Axes>"
      ]
     },
     "metadata": {
      "needs_background": "light"
     },
     "output_type": "display_data"
    }
   ],
   "source": [
    "sns.scatterplot(x=y_test,y=y_te_pred/y_test)"
   ]
  },
  {
   "cell_type": "code",
   "execution_count": 23,
   "id": "197ade61",
   "metadata": {},
   "outputs": [
    {
     "data": {
      "text/plain": [
       "<AxesSubplot:>"
      ]
     },
     "execution_count": 23,
     "metadata": {},
     "output_type": "execute_result"
    },
    {
     "data": {
      "image/png": "[encoded data removed]",
      "text/plain": [
       "<Figure size 432x288 with 1 Axes>"
      ]
     },
     "metadata": {
      "needs_background": "light"
     },
     "output_type": "display_data"
    }
   ],
   "source": [
    "sns.scatterplot(x=np.log2(y_train),y=y_tr_pred/y_train)"
   ]
  },
  {
   "cell_type": "code",
   "execution_count": 24,
   "id": "044b7cc1",
   "metadata": {},
   "outputs": [
    {
     "data": {
      "text/plain": [
       "<AxesSubplot:>"
      ]
     },
     "execution_count": 24,
     "metadata": {},
     "output_type": "execute_result"
    },
    {
     "data": {
      "image/png": "[encoded data removed]",
      "text/plain": [
       "<Figure size 432x288 with 1 Axes>"
      ]
     },
     "metadata": {
      "needs_background": "light"
     },
     "output_type": "display_data"
    }
   ],
   "source": [
    "sns.scatterplot(x=np.log2(y_test),y=y_te_pred/y_test)"
   ]
  },
  {
   "cell_type": "markdown",
   "id": "ba3767e8",
   "metadata": {},
   "source": [
    "For linear regression, doubling the home price means the ratio goes down by almost 14%. Let's see how much this can be improved with ElasticNet which includes LinearRegression as a limit."
   ]
  },
  {
   "cell_type": "code",
   "execution_count": 25,
   "id": "6f6f17a3",
   "metadata": {},
   "outputs": [],
   "source": [
    "olden = ElasticNet()\n",
    "params = {'alpha':[0.0001,0.001,0.01,0.1,0.2,0.3,0.4,0.5,0.6,0.7,0.8,0.9,1.0],'l1_ratio':[.1, .5, .7, .9, .95, .99, 1]}\n",
    "olden_gscv = GridSearchCV(olden,params,n_jobs=-1,cv=5,scoring=\"neg_mean_absolute_percentage_error\")\n",
    "olden_gscv.fit(oldX_train,oldy_train)\n",
    "oldy_tr_pred = olden_gscv.predict(oldX_train)\n",
    "oldy_te_pred = olden_gscv.predict(oldX_test)\n",
    "newen = ElasticNet()\n",
    "newen_gscv = GridSearchCV(newen,params,n_jobs=-1,cv=5,scoring=\"neg_mean_absolute_percentage_error\")\n",
    "newen_gscv.fit(newX_train,newy_train)\n",
    "newy_tr_pred = newen_gscv.predict(newX_train)\n",
    "newy_te_pred = newen_gscv.predict(newX_test)\n",
    "y_tr_pred = np.append(oldy_tr_pred,newy_tr_pred)\n",
    "y_te_pred = np.append(oldy_te_pred,newy_te_pred)"
   ]
  },
  {
   "cell_type": "code",
   "execution_count": 26,
   "id": "11beef17",
   "metadata": {},
   "outputs": [
    {
     "data": {
      "text/plain": [
       "(0.1563404515815608,\n",
       " 0.16388665318967818,\n",
       " 0.8070315193843075,\n",
       " 0.7202854247404956,\n",
       " 193862.2358436359,\n",
       " 231015.25757072383,\n",
       " 144433.9278994814,\n",
       " 165814.57392778157)"
      ]
     },
     "execution_count": 26,
     "metadata": {},
     "output_type": "execute_result"
    }
   ],
   "source": [
    "mape(y_train, y_tr_pred), mape(y_test, y_te_pred),\\\n",
    "r2_score(y_train, y_tr_pred), r2_score(y_test, y_te_pred),\\\n",
    "np.sqrt(mean_squared_error(y_train, y_tr_pred)), np.sqrt(mean_squared_error(y_test, y_te_pred)),\\\n",
    "mean_absolute_error(y_train, y_tr_pred),mean_absolute_error(y_test, y_te_pred)"
   ]
  },
  {
   "cell_type": "code",
   "execution_count": 27,
   "id": "914cace4",
   "metadata": {},
   "outputs": [
    {
     "data": {
      "text/plain": [
       "(15.38494252979168, 16.497437526538647)"
      ]
     },
     "execution_count": 27,
     "metadata": {},
     "output_type": "execute_result"
    }
   ],
   "source": [
    "cod(y_tr_pred,y_train), cod(y_te_pred,y_test)"
   ]
  },
  {
   "cell_type": "code",
   "execution_count": 28,
   "id": "860cfeb6",
   "metadata": {},
   "outputs": [
    {
     "data": {
      "text/plain": [
       "(1.0489764140243452, 1.0307539255941793)"
      ]
     },
     "execution_count": 28,
     "metadata": {},
     "output_type": "execute_result"
    }
   ],
   "source": [
    "prd(y_tr_pred,y_train), prd(y_te_pred,y_test)"
   ]
  },
  {
   "cell_type": "code",
   "execution_count": 29,
   "id": "9944e246",
   "metadata": {},
   "outputs": [
    {
     "data": {
      "text/plain": [
       "(array([-0.14581773]), array([-0.03281535]))"
      ]
     },
     "execution_count": 29,
     "metadata": {},
     "output_type": "execute_result"
    }
   ],
   "source": [
    "prb(y_tr_pred,y_train), prb(y_te_pred,y_test)"
   ]
  },
  {
   "cell_type": "code",
   "execution_count": 30,
   "id": "4b4ce53b",
   "metadata": {},
   "outputs": [
    {
     "data": {
      "text/plain": [
       "({'alpha': 0.7, 'l1_ratio': 0.7}, {'alpha': 0.4, 'l1_ratio': 0.7})"
      ]
     },
     "execution_count": 30,
     "metadata": {},
     "output_type": "execute_result"
    }
   ],
   "source": [
    "olden_gscv.best_params_, newen_gscv.best_params_"
   ]
  },
  {
   "cell_type": "code",
   "execution_count": 31,
   "id": "03611c55",
   "metadata": {},
   "outputs": [
    {
     "data": {
      "text/plain": [
       "<AxesSubplot:>"
      ]
     },
     "execution_count": 31,
     "metadata": {},
     "output_type": "execute_result"
    },
    {
     "data": {
      "image/png": "[encoded data removed]",
      "text/plain": [
       "<Figure size 432x288 with 1 Axes>"
      ]
     },
     "metadata": {
      "needs_background": "light"
     },
     "output_type": "display_data"
    }
   ],
   "source": [
    "sns.scatterplot(x=y_train,y=y_tr_pred)"
   ]
  },
  {
   "cell_type": "code",
   "execution_count": 32,
   "id": "415f1430",
   "metadata": {},
   "outputs": [
    {
     "data": {
      "text/plain": [
       "<AxesSubplot:>"
      ]
     },
     "execution_count": 32,
     "metadata": {},
     "output_type": "execute_result"
    },
    {
     "data": {
      "image/png": "[encoded data removed]",
      "text/plain": [
       "<Figure size 432x288 with 1 Axes>"
      ]
     },
     "metadata": {
      "needs_background": "light"
     },
     "output_type": "display_data"
    }
   ],
   "source": [
    "sns.scatterplot(x=y_test,y=y_te_pred)"
   ]
  },
  {
   "cell_type": "code",
   "execution_count": 33,
   "id": "2f4080a4",
   "metadata": {},
   "outputs": [
    {
     "data": {
      "text/plain": [
       "<AxesSubplot:>"
      ]
     },
     "execution_count": 33,
     "metadata": {},
     "output_type": "execute_result"
    },
    {
     "data": {
      "image/png": "[encoded data removed]",
      "text/plain": [
       "<Figure size 432x288 with 1 Axes>"
      ]
     },
     "metadata": {
      "needs_background": "light"
     },
     "output_type": "display_data"
    }
   ],
   "source": [
    "sns.scatterplot(x=y_train,y=y_tr_pred/y_train)"
   ]
  },
  {
   "cell_type": "code",
   "execution_count": 34,
   "id": "c1df9c3f",
   "metadata": {},
   "outputs": [
    {
     "data": {
      "text/plain": [
       "<AxesSubplot:>"
      ]
     },
     "execution_count": 34,
     "metadata": {},
     "output_type": "execute_result"
    },
    {
     "data": {
      "image/png": "[encoded data removed]",
      "text/plain": [
       "<Figure size 432x288 with 1 Axes>"
      ]
     },
     "metadata": {
      "needs_background": "light"
     },
     "output_type": "display_data"
    }
   ],
   "source": [
    "sns.scatterplot(x=y_test,y=y_te_pred/y_test)"
   ]
  },
  {
   "cell_type": "code",
   "execution_count": 35,
   "id": "1dcac96b",
   "metadata": {},
   "outputs": [
    {
     "data": {
      "text/plain": [
       "<AxesSubplot:>"
      ]
     },
     "execution_count": 35,
     "metadata": {},
     "output_type": "execute_result"
    },
    {
     "data": {
      "image/png": "[encoded data removed]",
      "text/plain": [
       "<Figure size 432x288 with 1 Axes>"
      ]
     },
     "metadata": {
      "needs_background": "light"
     },
     "output_type": "display_data"
    }
   ],
   "source": [
    "sns.scatterplot(x=np.log2(y_test),y=y_te_pred/y_test)"
   ]
  },
  {
   "cell_type": "markdown",
   "id": "3237720f",
   "metadata": {},
   "source": [
    "For linear regression, doubling the home price means the ratio goes down by almost 14%. Can this be improved with Random Forest?"
   ]
  },
  {
   "cell_type": "code",
   "execution_count": 36,
   "id": "6a61c7bc",
   "metadata": {},
   "outputs": [],
   "source": [
    "oldrfr= RandomForestRegressor(random_state=42)\n",
    "params = {'n_estimators':[100,200,300,400,500],'criterion':[\"squared_error\", \"absolute_error\", \"poisson\"],'max_features':[\"auto\",\"sqrt\",\"log2\"]}\n",
    "oldrfr_gscv = GridSearchCV(oldrfr,params,n_jobs=-1,cv=5,scoring=\"neg_mean_absolute_percentage_error\")\n",
    "oldrfr_gscv.fit(oldX_train,oldy_train)\n",
    "oldy_tr_pred = oldrfr_gscv.predict(oldX_train)\n",
    "oldy_te_pred = oldrfr_gscv.predict(oldX_test)\n",
    "newrfr = RandomForestRegressor(random_state=42)\n",
    "newrfr_gscv = GridSearchCV(newrfr,params,n_jobs=-1,cv=5,scoring=\"neg_mean_absolute_percentage_error\")\n",
    "newrfr_gscv.fit(newX_train,newy_train)\n",
    "newy_tr_pred = newrfr_gscv.predict(newX_train)\n",
    "newy_te_pred = newrfr_gscv.predict(newX_test)\n",
    "y_tr_pred = np.append(oldy_tr_pred,newy_tr_pred)\n",
    "y_te_pred = np.append(oldy_te_pred,newy_te_pred)"
   ]
  },
  {
   "cell_type": "code",
   "execution_count": 37,
   "id": "437b9556",
   "metadata": {},
   "outputs": [
    {
     "data": {
      "text/plain": [
       "(0.057826550203064875,\n",
       " 0.1509992157658674,\n",
       " 0.9697579802487063,\n",
       " 0.772408551073966,\n",
       " 76745.9426703048,\n",
       " 208382.42416471796,\n",
       " 53386.27759656652,\n",
       " 143300.734125)"
      ]
     },
     "execution_count": 37,
     "metadata": {},
     "output_type": "execute_result"
    }
   ],
   "source": [
    "mape(y_train, y_tr_pred), mape(y_test, y_te_pred),\\\n",
    "r2_score(y_train, y_tr_pred), r2_score(y_test, y_te_pred),\\\n",
    "np.sqrt(mean_squared_error(y_train, y_tr_pred)), np.sqrt(mean_squared_error(y_test, y_te_pred)),\\\n",
    "mean_absolute_error(y_train, y_tr_pred),mean_absolute_error(y_test, y_te_pred)\n"
   ]
  },
  {
   "cell_type": "code",
   "execution_count": 38,
   "id": "bc42fb10",
   "metadata": {},
   "outputs": [
    {
     "data": {
      "text/plain": [
       "(5.754606681941083, 15.352984164419567)"
      ]
     },
     "execution_count": 38,
     "metadata": {},
     "output_type": "execute_result"
    }
   ],
   "source": [
    "cod(y_tr_pred,y_train), cod(y_te_pred,y_test)"
   ]
  },
  {
   "cell_type": "code",
   "execution_count": 39,
   "id": "cbc46dc1",
   "metadata": {},
   "outputs": [
    {
     "data": {
      "text/plain": [
       "(1.0189225747289326, 1.0386850117183772)"
      ]
     },
     "execution_count": 39,
     "metadata": {},
     "output_type": "execute_result"
    }
   ],
   "source": [
    "prd(y_tr_pred,y_train), prd(y_te_pred,y_test)"
   ]
  },
  {
   "cell_type": "code",
   "execution_count": 40,
   "id": "37167a16",
   "metadata": {},
   "outputs": [
    {
     "data": {
      "text/plain": [
       "(array([-0.07632192]), array([-0.10450066]))"
      ]
     },
     "execution_count": 40,
     "metadata": {},
     "output_type": "execute_result"
    }
   ],
   "source": [
    "prb(y_tr_pred,y_train), prb(y_te_pred,y_test)"
   ]
  },
  {
   "cell_type": "code",
   "execution_count": 41,
   "id": "ffa6ad09",
   "metadata": {},
   "outputs": [
    {
     "data": {
      "text/plain": [
       "({'criterion': 'squared_error', 'max_features': 'sqrt', 'n_estimators': 100},\n",
       " {'criterion': 'squared_error', 'max_features': 'auto', 'n_estimators': 400})"
      ]
     },
     "execution_count": 41,
     "metadata": {},
     "output_type": "execute_result"
    }
   ],
   "source": [
    "oldrfr_gscv.best_params_, newrfr_gscv.best_params_"
   ]
  },
  {
   "cell_type": "code",
   "execution_count": 42,
   "id": "4effb738",
   "metadata": {},
   "outputs": [
    {
     "data": {
      "text/plain": [
       "<AxesSubplot:>"
      ]
     },
     "execution_count": 42,
     "metadata": {},
     "output_type": "execute_result"
    },
    {
     "data": {
      "image/png": "[encoded data removed]",
      "text/plain": [
       "<Figure size 432x288 with 1 Axes>"
      ]
     },
     "metadata": {
      "needs_background": "light"
     },
     "output_type": "display_data"
    }
   ],
   "source": [
    "sns.scatterplot(x=y_train,y=y_tr_pred)"
   ]
  },
  {
   "cell_type": "markdown",
   "id": "b596e2fe",
   "metadata": {},
   "source": [
    "looks good on training data"
   ]
  },
  {
   "cell_type": "code",
   "execution_count": 43,
   "id": "efd6243e",
   "metadata": {},
   "outputs": [
    {
     "data": {
      "text/plain": [
       "<AxesSubplot:>"
      ]
     },
     "execution_count": 43,
     "metadata": {},
     "output_type": "execute_result"
    },
    {
     "data": {
      "image/png": "[encoded data removed]",
      "text/plain": [
       "<Figure size 432x288 with 1 Axes>"
      ]
     },
     "metadata": {
      "needs_background": "light"
     },
     "output_type": "display_data"
    }
   ],
   "source": [
    "sns.scatterplot(x=y_test,y=y_te_pred)"
   ]
  },
  {
   "cell_type": "markdown",
   "id": "c4ff3716",
   "metadata": {},
   "source": [
    "less good on the test data"
   ]
  },
  {
   "cell_type": "code",
   "execution_count": 44,
   "id": "561450fa",
   "metadata": {},
   "outputs": [
    {
     "data": {
      "text/plain": [
       "<AxesSubplot:>"
      ]
     },
     "execution_count": 44,
     "metadata": {},
     "output_type": "execute_result"
    },
    {
     "data": {
      "image/png": "[encoded data removed]",
      "text/plain": [
       "<Figure size 432x288 with 1 Axes>"
      ]
     },
     "metadata": {
      "needs_background": "light"
     },
     "output_type": "display_data"
    }
   ],
   "source": [
    "sns.scatterplot(x=y_train,y=y_tr_pred/y_train)"
   ]
  },
  {
   "cell_type": "markdown",
   "id": "880e6c97",
   "metadata": {},
   "source": [
    "training data ratio is higher for low priced homes. The smallest priced home is valued at twice its sales price."
   ]
  },
  {
   "cell_type": "code",
   "execution_count": 45,
   "id": "59043b62",
   "metadata": {},
   "outputs": [
    {
     "data": {
      "text/plain": [
       "<AxesSubplot:>"
      ]
     },
     "execution_count": 45,
     "metadata": {},
     "output_type": "execute_result"
    },
    {
     "data": {
      "image/png": "[encoded data removed]",
      "text/plain": [
       "<Figure size 432x288 with 1 Axes>"
      ]
     },
     "metadata": {
      "needs_background": "light"
     },
     "output_type": "display_data"
    }
   ],
   "source": [
    "sns.scatterplot(x=y_test,y=y_te_pred/y_test)"
   ]
  },
  {
   "cell_type": "markdown",
   "id": "8e5c5da1",
   "metadata": {},
   "source": [
    "same bias in the test data"
   ]
  },
  {
   "cell_type": "code",
   "execution_count": 46,
   "id": "45f3de77",
   "metadata": {},
   "outputs": [
    {
     "data": {
      "text/plain": [
       "<AxesSubplot:>"
      ]
     },
     "execution_count": 46,
     "metadata": {},
     "output_type": "execute_result"
    },
    {
     "data": {
      "image/png": "[encoded data removed]",
      "text/plain": [
       "<Figure size 432x288 with 1 Axes>"
      ]
     },
     "metadata": {
      "needs_background": "light"
     },
     "output_type": "display_data"
    }
   ],
   "source": [
    "sns.scatterplot(x=np.log2(y_train),y=y_tr_pred/y_train)"
   ]
  },
  {
   "cell_type": "code",
   "execution_count": 47,
   "id": "cbb89e12",
   "metadata": {},
   "outputs": [
    {
     "data": {
      "text/plain": [
       "<AxesSubplot:>"
      ]
     },
     "execution_count": 47,
     "metadata": {},
     "output_type": "execute_result"
    },
    {
     "data": {
      "image/png": "[encoded data removed]",
      "text/plain": [
       "<Figure size 432x288 with 1 Axes>"
      ]
     },
     "metadata": {
      "needs_background": "light"
     },
     "output_type": "display_data"
    }
   ],
   "source": [
    "sns.scatterplot(x=np.log2(y_test),y=y_te_pred/y_test)"
   ]
  },
  {
   "cell_type": "markdown",
   "id": "2aeb231a",
   "metadata": {},
   "source": [
    "One can also see the downward trend in when graphing against the log of the price. One high priced homes are valued at less than half of its sale price."
   ]
  },
  {
   "cell_type": "code",
   "execution_count": 48,
   "id": "025279ff",
   "metadata": {},
   "outputs": [],
   "source": [
    "oldgb = GradientBoostingRegressor(random_state=42)\n",
    "oldparams = {'n_estimators':[250,300,350],'learning_rate':[0.01,0.015,0.2],'loss':['squared_error', 'absolute_error'],'max_depth':[1,2,3]}\n",
    "oldgb_gscv = GridSearchCV(oldgb,oldparams,n_jobs=-1,cv=5,scoring=\"neg_mean_absolute_percentage_error\")\n",
    "oldgb_gscv.fit(oldX_train,oldy_train)\n",
    "oldy_tr_pred = oldgb_gscv.predict(oldX_train)\n",
    "oldy_te_pred = oldgb_gscv.predict(oldX_test)\n",
    "newgb = GradientBoostingRegressor(random_state=42)\n",
    "newparams = {'n_estimators':[600,700,800],'learning_rate':[0.005,0.01,0.015],'loss':['squared_error', 'absolute_error'],'max_depth':[3,4,5]}\n",
    "newgb_gscv = GridSearchCV(newgb,newparams,n_jobs=-1,cv=5,scoring=\"neg_mean_absolute_percentage_error\")\n",
    "newgb_gscv.fit(newX_train,newy_train)\n",
    "newy_tr_pred = newgb_gscv.predict(newX_train)\n",
    "newy_te_pred = newgb_gscv.predict(newX_test)\n",
    "y_tr_pred = np.append(oldy_tr_pred,newy_tr_pred)\n",
    "y_te_pred = np.append(oldy_te_pred,newy_te_pred)\n"
   ]
  },
  {
   "cell_type": "code",
   "execution_count": 49,
   "id": "d641deca",
   "metadata": {},
   "outputs": [
    {
     "data": {
      "text/plain": [
       "(0.07515123944568347,\n",
       " 0.15225269123147542,\n",
       " 0.8992717281649968,\n",
       " 0.740509714772916,\n",
       " 140063.7404100151,\n",
       " 222506.99438271983,\n",
       " 67768.43512739796,\n",
       " 152153.55323774807)"
      ]
     },
     "execution_count": 49,
     "metadata": {},
     "output_type": "execute_result"
    }
   ],
   "source": [
    "mape(y_train, y_tr_pred), mape(y_test, y_te_pred),\\\n",
    "r2_score(y_train, y_tr_pred), r2_score(y_test, y_te_pred),\\\n",
    "np.sqrt(mean_squared_error(y_train, y_tr_pred)), np.sqrt(mean_squared_error(y_test, y_te_pred)),\\\n",
    "mean_absolute_error(y_train, y_tr_pred),mean_absolute_error(y_test, y_te_pred)"
   ]
  },
  {
   "cell_type": "code",
   "execution_count": 50,
   "id": "61077194",
   "metadata": {},
   "outputs": [
    {
     "data": {
      "text/plain": [
       "(7.517686304614595, 15.232723655263687)"
      ]
     },
     "execution_count": 50,
     "metadata": {},
     "output_type": "execute_result"
    }
   ],
   "source": [
    "cod(y_tr_pred,y_train), cod(y_te_pred,y_test)"
   ]
  },
  {
   "cell_type": "code",
   "execution_count": 51,
   "id": "6c45597e",
   "metadata": {},
   "outputs": [
    {
     "data": {
      "text/plain": [
       "(1.027516451970008, 1.0343093357872999)"
      ]
     },
     "execution_count": 51,
     "metadata": {},
     "output_type": "execute_result"
    }
   ],
   "source": [
    "prd(y_tr_pred,y_train), prd(y_te_pred,y_test)"
   ]
  },
  {
   "cell_type": "code",
   "execution_count": 52,
   "id": "ef902805",
   "metadata": {},
   "outputs": [
    {
     "data": {
      "text/plain": [
       "(array([-0.09503117]), array([-0.07015787]))"
      ]
     },
     "execution_count": 52,
     "metadata": {},
     "output_type": "execute_result"
    }
   ],
   "source": [
    "prb(y_tr_pred,y_train), prb(y_te_pred,y_test)"
   ]
  },
  {
   "cell_type": "code",
   "execution_count": 53,
   "id": "3d6c52fd",
   "metadata": {},
   "outputs": [
    {
     "data": {
      "text/plain": [
       "({'learning_rate': 0.015,\n",
       "  'loss': 'absolute_error',\n",
       "  'max_depth': 2,\n",
       "  'n_estimators': 300},\n",
       " {'learning_rate': 0.01,\n",
       "  'loss': 'squared_error',\n",
       "  'max_depth': 4,\n",
       "  'n_estimators': 700})"
      ]
     },
     "execution_count": 53,
     "metadata": {},
     "output_type": "execute_result"
    }
   ],
   "source": [
    "oldgb_gscv.best_params_, newgb_gscv.best_params_"
   ]
  },
  {
   "cell_type": "code",
   "execution_count": 54,
   "id": "18708472",
   "metadata": {},
   "outputs": [
    {
     "data": {
      "text/plain": [
       "<AxesSubplot:>"
      ]
     },
     "execution_count": 54,
     "metadata": {},
     "output_type": "execute_result"
    },
    {
     "data": {
      "image/png": "[encoded data removed]",
      "text/plain": [
       "<Figure size 432x288 with 1 Axes>"
      ]
     },
     "metadata": {
      "needs_background": "light"
     },
     "output_type": "display_data"
    }
   ],
   "source": [
    "sns.scatterplot(x=y_train,y=y_tr_pred)"
   ]
  },
  {
   "cell_type": "code",
   "execution_count": 55,
   "id": "650f7a27",
   "metadata": {},
   "outputs": [
    {
     "data": {
      "text/plain": [
       "<AxesSubplot:>"
      ]
     },
     "execution_count": 55,
     "metadata": {},
     "output_type": "execute_result"
    },
    {
     "data": {
      "image/png": "[encoded data removed]",
      "text/plain": [
       "<Figure size 432x288 with 1 Axes>"
      ]
     },
     "metadata": {
      "needs_background": "light"
     },
     "output_type": "display_data"
    }
   ],
   "source": [
    "sns.scatterplot(x=y_test,y=y_te_pred)"
   ]
  },
  {
   "cell_type": "code",
   "execution_count": 56,
   "id": "49fbd8aa",
   "metadata": {},
   "outputs": [
    {
     "data": {
      "text/plain": [
       "<AxesSubplot:>"
      ]
     },
     "execution_count": 56,
     "metadata": {},
     "output_type": "execute_result"
    },
    {
     "data": {
      "image/png": "[encoded data removed]",
      "text/plain": [
       "<Figure size 432x288 with 1 Axes>"
      ]
     },
     "metadata": {
      "needs_background": "light"
     },
     "output_type": "display_data"
    }
   ],
   "source": [
    "sns.scatterplot(x=y_train,y=y_tr_pred/y_train)"
   ]
  },
  {
   "cell_type": "code",
   "execution_count": 57,
   "id": "6b5dc15e",
   "metadata": {},
   "outputs": [
    {
     "data": {
      "text/plain": [
       "<AxesSubplot:>"
      ]
     },
     "execution_count": 57,
     "metadata": {},
     "output_type": "execute_result"
    },
    {
     "data": {
      "image/png": "[encoded data removed]",
      "text/plain": [
       "<Figure size 432x288 with 1 Axes>"
      ]
     },
     "metadata": {
      "needs_background": "light"
     },
     "output_type": "display_data"
    }
   ],
   "source": [
    "sns.scatterplot(x=y_test,y=y_te_pred/y_test)"
   ]
  },
  {
   "cell_type": "code",
   "execution_count": 58,
   "id": "080793d6",
   "metadata": {},
   "outputs": [
    {
     "data": {
      "text/plain": [
       "<AxesSubplot:>"
      ]
     },
     "execution_count": 58,
     "metadata": {},
     "output_type": "execute_result"
    },
    {
     "data": {
      "image/png": "[encoded data removed]",
      "text/plain": [
       "<Figure size 432x288 with 1 Axes>"
      ]
     },
     "metadata": {
      "needs_background": "light"
     },
     "output_type": "display_data"
    }
   ],
   "source": [
    "sns.scatterplot(x=np.log2(y_train),y=y_tr_pred/y_train)"
   ]
  },
  {
   "cell_type": "code",
   "execution_count": 59,
   "id": "340883f9",
   "metadata": {},
   "outputs": [
    {
     "data": {
      "text/plain": [
       "<AxesSubplot:>"
      ]
     },
     "execution_count": 59,
     "metadata": {},
     "output_type": "execute_result"
    },
    {
     "data": {
      "image/png": "[encoded data removed]",
      "text/plain": [
       "<Figure size 432x288 with 1 Axes>"
      ]
     },
     "metadata": {
      "needs_background": "light"
     },
     "output_type": "display_data"
    }
   ],
   "source": [
    "sns.scatterplot(x=np.log2(y_test),y=y_te_pred/y_test)"
   ]
  },
  {
   "cell_type": "code",
   "execution_count": 60,
   "id": "5b078473",
   "metadata": {},
   "outputs": [],
   "source": [
    "best_model_old = oldrfr_gscv.best_estimator_\n",
    "best_model_old.version = '1.0'\n",
    "best_model_old.pandas_version = pd.__version__\n",
    "best_model_old.numpy_version = np.__version__\n",
    "best_model_old.sklearn_version = sklearn_version\n",
    "best_model_old.X_columns = [col for col in old_X.columns]\n",
    "best_model_old.build_datetime = datetime.datetime.now()\n",
    "best_model_new = newrfr_gscv.best_estimator_\n",
    "best_model_new.version = '1.0'\n",
    "best_model_new.pandas_version = pd.__version__\n",
    "best_model_new.numpy_version = np.__version__\n",
    "best_model_new.sklearn_version = sklearn_version\n",
    "best_model_new.X_columns = [col for col in new_X.columns]\n",
    "best_model_new.build_datetime = datetime.datetime.now()"
   ]
  },
  {
   "cell_type": "code",
   "execution_count": 61,
   "id": "b484a554",
   "metadata": {},
   "outputs": [],
   "source": [
    "#from library.sb_utils import save_file\n",
    "#modelpath = '../models'\n",
    "#save_file(best_model_old, 'Bell_old_model.pkl', modelpath)\n",
    "#save_file(best_model_new, 'Bell_new_model.pkl', modelpath)\n"
   ]
  },
  {
   "cell_type": "code",
   "execution_count": 62,
   "id": "b2cd23cd",
   "metadata": {},
   "outputs": [],
   "source": [
    "bell_2020 = pd.read_csv('../data/bell_cleaned.csv')\n",
    "bell_2020['one_story'] = [1 if x < 205 else 0 for x in bell_2020['meta_class']]\n",
    "bell_2020['row_house'] = [1 if ((x == 210) or (x==295)) else 0 for x in bell_2020['meta_class']]\n",
    "bell_2020 = bell_2020.drop(columns='meta_class')\n",
    "bell_2020_new = bell_2020[bell_2020.char_age<70]\n",
    "bell_2020_old = bell_2020[bell_2020.char_age>70]\n",
    "old_2020_pin = bell_2020_old.meta_pin\n",
    "old_2020 = bell_2020_old.drop(['Unnamed: 0','meta_pin'],axis=1)\n",
    "new_2020_pin = bell_2020_new.meta_pin\n",
    "new_2020 = bell_2020_new.drop(['Unnamed: 0','meta_pin'],axis=1)\n",
    "old_2020= oldscaler.transform(old_2020)\n",
    "new_2020 = newscaler.transform(new_2020)"
   ]
  },
  {
   "cell_type": "code",
   "execution_count": 63,
   "id": "42ca2f9e",
   "metadata": {},
   "outputs": [
    {
     "name": "stderr",
     "output_type": "stream",
     "text": [
      "/var/folders/qc/g6yf7hvd019dnqj11v94qpbw0000gn/T/ipykernel_20621/3754778141.py:3: SettingWithCopyWarning: \n",
      "A value is trying to be set on a copy of a slice from a DataFrame.\n",
      "Try using .loc[row_indexer,col_indexer] = value instead\n",
      "\n",
      "See the caveats in the documentation: https://pandas.pydata.org/pandas-docs/stable/user_guide/indexing.html#returning-a-view-versus-a-copy\n",
      "  bell_2020_old['pred_price'] = old_2020_pred\n",
      "/var/folders/qc/g6yf7hvd019dnqj11v94qpbw0000gn/T/ipykernel_20621/3754778141.py:4: SettingWithCopyWarning: \n",
      "A value is trying to be set on a copy of a slice from a DataFrame.\n",
      "Try using .loc[row_indexer,col_indexer] = value instead\n",
      "\n",
      "See the caveats in the documentation: https://pandas.pydata.org/pandas-docs/stable/user_guide/indexing.html#returning-a-view-versus-a-copy\n",
      "  bell_2020_new['pred_price'] = new_2020_pred\n"
     ]
    }
   ],
   "source": [
    "old_2020_pred = best_model_old.predict(old_2020)\n",
    "new_2020_pred = best_model_new.predict(new_2020)\n",
    "bell_2020_old['pred_price'] = old_2020_pred\n",
    "bell_2020_new['pred_price'] = new_2020_pred\n"
   ]
  },
  {
   "cell_type": "code",
   "execution_count": 64,
   "id": "474c1f1c",
   "metadata": {},
   "outputs": [
    {
     "data": {
      "text/html": [
       "<div>\n",
       "<style scoped>\n",
       "    .dataframe tbody tr th:only-of-type {\n",
       "        vertical-align: middle;\n",
       "    }\n",
       "\n",
       "    .dataframe tbody tr th {\n",
       "        vertical-align: top;\n",
       "    }\n",
       "\n",
       "    .dataframe thead th {\n",
       "        text-align: right;\n",
       "    }\n",
       "</style>\n",
       "<table border=\"1\" class=\"dataframe\">\n",
       "  <thead>\n",
       "    <tr style=\"text-align: right;\">\n",
       "      <th></th>\n",
       "      <th>Unnamed: 0</th>\n",
       "      <th>meta_pin</th>\n",
       "      <th>meta_year</th>\n",
       "      <th>char_hd_sf</th>\n",
       "      <th>char_age</th>\n",
       "      <th>char_rooms</th>\n",
       "      <th>char_beds</th>\n",
       "      <th>char_frpl</th>\n",
       "      <th>char_fbath</th>\n",
       "      <th>char_hbath</th>\n",
       "      <th>char_bldg_sf</th>\n",
       "      <th>geo_longitude</th>\n",
       "      <th>geo_latitude</th>\n",
       "      <th>one_story</th>\n",
       "      <th>row_house</th>\n",
       "      <th>pred_price</th>\n",
       "    </tr>\n",
       "  </thead>\n",
       "  <tbody>\n",
       "    <tr>\n",
       "      <th>1</th>\n",
       "      <td>383982</td>\n",
       "      <td>13242020160000</td>\n",
       "      <td>2020.0</td>\n",
       "      <td>3050.0</td>\n",
       "      <td>127.0</td>\n",
       "      <td>4.0</td>\n",
       "      <td>3.0</td>\n",
       "      <td>0.0</td>\n",
       "      <td>1.0</td>\n",
       "      <td>0.0</td>\n",
       "      <td>1077.0</td>\n",
       "      <td>-87.690657</td>\n",
       "      <td>41.953323</td>\n",
       "      <td>1</td>\n",
       "      <td>0</td>\n",
       "      <td>456149.00</td>\n",
       "    </tr>\n",
       "    <tr>\n",
       "      <th>4</th>\n",
       "      <td>383987</td>\n",
       "      <td>13242020210000</td>\n",
       "      <td>2020.0</td>\n",
       "      <td>3050.0</td>\n",
       "      <td>96.0</td>\n",
       "      <td>7.0</td>\n",
       "      <td>3.0</td>\n",
       "      <td>0.0</td>\n",
       "      <td>2.0</td>\n",
       "      <td>1.0</td>\n",
       "      <td>2350.0</td>\n",
       "      <td>-87.690197</td>\n",
       "      <td>41.953325</td>\n",
       "      <td>0</td>\n",
       "      <td>0</td>\n",
       "      <td>817003.26</td>\n",
       "    </tr>\n",
       "    <tr>\n",
       "      <th>6</th>\n",
       "      <td>383998</td>\n",
       "      <td>13242030030000</td>\n",
       "      <td>2020.0</td>\n",
       "      <td>3050.0</td>\n",
       "      <td>96.0</td>\n",
       "      <td>6.0</td>\n",
       "      <td>3.0</td>\n",
       "      <td>0.0</td>\n",
       "      <td>1.0</td>\n",
       "      <td>0.0</td>\n",
       "      <td>1510.0</td>\n",
       "      <td>-87.690639</td>\n",
       "      <td>41.952804</td>\n",
       "      <td>1</td>\n",
       "      <td>0</td>\n",
       "      <td>463998.00</td>\n",
       "    </tr>\n",
       "    <tr>\n",
       "      <th>8</th>\n",
       "      <td>384000</td>\n",
       "      <td>13242030060000</td>\n",
       "      <td>2020.0</td>\n",
       "      <td>4575.0</td>\n",
       "      <td>98.0</td>\n",
       "      <td>6.0</td>\n",
       "      <td>3.0</td>\n",
       "      <td>0.0</td>\n",
       "      <td>1.0</td>\n",
       "      <td>1.0</td>\n",
       "      <td>1447.0</td>\n",
       "      <td>-87.690340</td>\n",
       "      <td>41.952806</td>\n",
       "      <td>1</td>\n",
       "      <td>0</td>\n",
       "      <td>527396.50</td>\n",
       "    </tr>\n",
       "    <tr>\n",
       "      <th>9</th>\n",
       "      <td>384001</td>\n",
       "      <td>13242030070000</td>\n",
       "      <td>2020.0</td>\n",
       "      <td>4575.0</td>\n",
       "      <td>94.0</td>\n",
       "      <td>6.0</td>\n",
       "      <td>3.0</td>\n",
       "      <td>0.0</td>\n",
       "      <td>1.0</td>\n",
       "      <td>0.0</td>\n",
       "      <td>1275.0</td>\n",
       "      <td>-87.690202</td>\n",
       "      <td>41.952807</td>\n",
       "      <td>1</td>\n",
       "      <td>0</td>\n",
       "      <td>462987.00</td>\n",
       "    </tr>\n",
       "  </tbody>\n",
       "</table>\n",
       "</div>"
      ],
      "text/plain": [
       "   Unnamed: 0        meta_pin  meta_year  char_hd_sf  char_age  char_rooms  \\\n",
       "1      383982  13242020160000     2020.0      3050.0     127.0         4.0   \n",
       "4      383987  13242020210000     2020.0      3050.0      96.0         7.0   \n",
       "6      383998  13242030030000     2020.0      3050.0      96.0         6.0   \n",
       "8      384000  13242030060000     2020.0      4575.0      98.0         6.0   \n",
       "9      384001  13242030070000     2020.0      4575.0      94.0         6.0   \n",
       "\n",
       "   char_beds  char_frpl  char_fbath  char_hbath  char_bldg_sf  geo_longitude  \\\n",
       "1        3.0        0.0         1.0         0.0        1077.0     -87.690657   \n",
       "4        3.0        0.0         2.0         1.0        2350.0     -87.690197   \n",
       "6        3.0        0.0         1.0         0.0        1510.0     -87.690639   \n",
       "8        3.0        0.0         1.0         1.0        1447.0     -87.690340   \n",
       "9        3.0        0.0         1.0         0.0        1275.0     -87.690202   \n",
       "\n",
       "   geo_latitude  one_story  row_house  pred_price  \n",
       "1     41.953323          1          0   456149.00  \n",
       "4     41.953325          0          0   817003.26  \n",
       "6     41.952804          1          0   463998.00  \n",
       "8     41.952806          1          0   527396.50  \n",
       "9     41.952807          1          0   462987.00  "
      ]
     },
     "execution_count": 64,
     "metadata": {},
     "output_type": "execute_result"
    }
   ],
   "source": [
    "bell_2020_old.head()"
   ]
  },
  {
   "cell_type": "code",
   "execution_count": 65,
   "id": "214bba9d",
   "metadata": {},
   "outputs": [
    {
     "data": {
      "text/html": [
       "<div>\n",
       "<style scoped>\n",
       "    .dataframe tbody tr th:only-of-type {\n",
       "        vertical-align: middle;\n",
       "    }\n",
       "\n",
       "    .dataframe tbody tr th {\n",
       "        vertical-align: top;\n",
       "    }\n",
       "\n",
       "    .dataframe thead th {\n",
       "        text-align: right;\n",
       "    }\n",
       "</style>\n",
       "<table border=\"1\" class=\"dataframe\">\n",
       "  <thead>\n",
       "    <tr style=\"text-align: right;\">\n",
       "      <th></th>\n",
       "      <th>Unnamed: 0</th>\n",
       "      <th>meta_pin</th>\n",
       "      <th>meta_year</th>\n",
       "      <th>char_hd_sf</th>\n",
       "      <th>char_age</th>\n",
       "      <th>char_rooms</th>\n",
       "      <th>char_beds</th>\n",
       "      <th>char_frpl</th>\n",
       "      <th>char_fbath</th>\n",
       "      <th>char_hbath</th>\n",
       "      <th>char_bldg_sf</th>\n",
       "      <th>geo_longitude</th>\n",
       "      <th>geo_latitude</th>\n",
       "      <th>one_story</th>\n",
       "      <th>row_house</th>\n",
       "      <th>pred_price</th>\n",
       "    </tr>\n",
       "  </thead>\n",
       "  <tbody>\n",
       "    <tr>\n",
       "      <th>65</th>\n",
       "      <td>384066</td>\n",
       "      <td>13242050130000</td>\n",
       "      <td>2020.0</td>\n",
       "      <td>4125.0</td>\n",
       "      <td>93.0</td>\n",
       "      <td>6.0</td>\n",
       "      <td>3.0</td>\n",
       "      <td>1.0</td>\n",
       "      <td>2.0</td>\n",
       "      <td>0.0</td>\n",
       "      <td>1853.0</td>\n",
       "      <td>-87.689245</td>\n",
       "      <td>41.950997</td>\n",
       "      <td>1</td>\n",
       "      <td>0</td>\n",
       "      <td>537821.18</td>\n",
       "    </tr>\n",
       "  </tbody>\n",
       "</table>\n",
       "</div>"
      ],
      "text/plain": [
       "    Unnamed: 0        meta_pin  meta_year  char_hd_sf  char_age  char_rooms  \\\n",
       "65      384066  13242050130000     2020.0      4125.0      93.0         6.0   \n",
       "\n",
       "    char_beds  char_frpl  char_fbath  char_hbath  char_bldg_sf  geo_longitude  \\\n",
       "65        3.0        1.0         2.0         0.0        1853.0     -87.689245   \n",
       "\n",
       "    geo_latitude  one_story  row_house  pred_price  \n",
       "65     41.950997          1          0   537821.18  "
      ]
     },
     "execution_count": 65,
     "metadata": {},
     "output_type": "execute_result"
    }
   ],
   "source": [
    "bell_2020_old[bell_2020_old.meta_pin==13242050130000]"
   ]
  },
  {
   "cell_type": "code",
   "execution_count": 66,
   "id": "cea8b4a9",
   "metadata": {},
   "outputs": [],
   "source": [
    "bell_2020_pred = pd.concat([bell_2020_old,bell_2020_new])"
   ]
  },
  {
   "cell_type": "code",
   "execution_count": 67,
   "id": "2b847d77",
   "metadata": {},
   "outputs": [
    {
     "data": {
      "text/html": [
       "<div>\n",
       "<style scoped>\n",
       "    .dataframe tbody tr th:only-of-type {\n",
       "        vertical-align: middle;\n",
       "    }\n",
       "\n",
       "    .dataframe tbody tr th {\n",
       "        vertical-align: top;\n",
       "    }\n",
       "\n",
       "    .dataframe thead th {\n",
       "        text-align: right;\n",
       "    }\n",
       "</style>\n",
       "<table border=\"1\" class=\"dataframe\">\n",
       "  <thead>\n",
       "    <tr style=\"text-align: right;\">\n",
       "      <th></th>\n",
       "      <th>Unnamed: 0</th>\n",
       "      <th>meta_pin</th>\n",
       "      <th>meta_year</th>\n",
       "      <th>char_hd_sf</th>\n",
       "      <th>char_age</th>\n",
       "      <th>char_rooms</th>\n",
       "      <th>char_beds</th>\n",
       "      <th>char_frpl</th>\n",
       "      <th>char_fbath</th>\n",
       "      <th>char_hbath</th>\n",
       "      <th>char_bldg_sf</th>\n",
       "      <th>geo_longitude</th>\n",
       "      <th>geo_latitude</th>\n",
       "      <th>one_story</th>\n",
       "      <th>row_house</th>\n",
       "      <th>pred_price</th>\n",
       "    </tr>\n",
       "  </thead>\n",
       "  <tbody>\n",
       "    <tr>\n",
       "      <th>65</th>\n",
       "      <td>384066</td>\n",
       "      <td>13242050130000</td>\n",
       "      <td>2020.0</td>\n",
       "      <td>4125.0</td>\n",
       "      <td>93.0</td>\n",
       "      <td>6.0</td>\n",
       "      <td>3.0</td>\n",
       "      <td>1.0</td>\n",
       "      <td>2.0</td>\n",
       "      <td>0.0</td>\n",
       "      <td>1853.0</td>\n",
       "      <td>-87.689245</td>\n",
       "      <td>41.950997</td>\n",
       "      <td>1</td>\n",
       "      <td>0</td>\n",
       "      <td>537821.18</td>\n",
       "    </tr>\n",
       "  </tbody>\n",
       "</table>\n",
       "</div>"
      ],
      "text/plain": [
       "    Unnamed: 0        meta_pin  meta_year  char_hd_sf  char_age  char_rooms  \\\n",
       "65      384066  13242050130000     2020.0      4125.0      93.0         6.0   \n",
       "\n",
       "    char_beds  char_frpl  char_fbath  char_hbath  char_bldg_sf  geo_longitude  \\\n",
       "65        3.0        1.0         2.0         0.0        1853.0     -87.689245   \n",
       "\n",
       "    geo_latitude  one_story  row_house  pred_price  \n",
       "65     41.950997          1          0   537821.18  "
      ]
     },
     "execution_count": 67,
     "metadata": {},
     "output_type": "execute_result"
    }
   ],
   "source": [
    "bell_2020_pred[bell_2020_pred.meta_pin==13242050130000]"
   ]
  },
  {
   "cell_type": "code",
   "execution_count": 68,
   "id": "c88be7c4",
   "metadata": {},
   "outputs": [
    {
     "data": {
      "text/html": [
       "<div>\n",
       "<style scoped>\n",
       "    .dataframe tbody tr th:only-of-type {\n",
       "        vertical-align: middle;\n",
       "    }\n",
       "\n",
       "    .dataframe tbody tr th {\n",
       "        vertical-align: top;\n",
       "    }\n",
       "\n",
       "    .dataframe thead th {\n",
       "        text-align: right;\n",
       "    }\n",
       "</style>\n",
       "<table border=\"1\" class=\"dataframe\">\n",
       "  <thead>\n",
       "    <tr style=\"text-align: right;\">\n",
       "      <th></th>\n",
       "      <th>Unnamed: 0</th>\n",
       "      <th>meta_pin</th>\n",
       "      <th>meta_year</th>\n",
       "      <th>char_hd_sf</th>\n",
       "      <th>char_age</th>\n",
       "      <th>char_rooms</th>\n",
       "      <th>char_beds</th>\n",
       "      <th>char_frpl</th>\n",
       "      <th>char_fbath</th>\n",
       "      <th>char_hbath</th>\n",
       "      <th>char_bldg_sf</th>\n",
       "      <th>geo_longitude</th>\n",
       "      <th>geo_latitude</th>\n",
       "      <th>one_story</th>\n",
       "      <th>row_house</th>\n",
       "      <th>pred_price</th>\n",
       "    </tr>\n",
       "  </thead>\n",
       "  <tbody>\n",
       "    <tr>\n",
       "      <th>51</th>\n",
       "      <td>384052</td>\n",
       "      <td>13242040270000</td>\n",
       "      <td>2020.0</td>\n",
       "      <td>4125.0</td>\n",
       "      <td>96.0</td>\n",
       "      <td>6.0</td>\n",
       "      <td>3.0</td>\n",
       "      <td>0.0</td>\n",
       "      <td>1.0</td>\n",
       "      <td>0.0</td>\n",
       "      <td>1222.0</td>\n",
       "      <td>-87.689268</td>\n",
       "      <td>41.951521</td>\n",
       "      <td>1</td>\n",
       "      <td>0</td>\n",
       "      <td>478517.0</td>\n",
       "    </tr>\n",
       "  </tbody>\n",
       "</table>\n",
       "</div>"
      ],
      "text/plain": [
       "    Unnamed: 0        meta_pin  meta_year  char_hd_sf  char_age  char_rooms  \\\n",
       "51      384052  13242040270000     2020.0      4125.0      96.0         6.0   \n",
       "\n",
       "    char_beds  char_frpl  char_fbath  char_hbath  char_bldg_sf  geo_longitude  \\\n",
       "51        3.0        0.0         1.0         0.0        1222.0     -87.689268   \n",
       "\n",
       "    geo_latitude  one_story  row_house  pred_price  \n",
       "51     41.951521          1          0    478517.0  "
      ]
     },
     "execution_count": 68,
     "metadata": {},
     "output_type": "execute_result"
    }
   ],
   "source": [
    "bell_2020_pred[bell_2020_pred.meta_pin==13242040270000]"
   ]
  },
  {
   "cell_type": "code",
   "execution_count": 69,
   "id": "85500b7d",
   "metadata": {},
   "outputs": [
    {
     "data": {
      "text/html": [
       "<div>\n",
       "<style scoped>\n",
       "    .dataframe tbody tr th:only-of-type {\n",
       "        vertical-align: middle;\n",
       "    }\n",
       "\n",
       "    .dataframe tbody tr th {\n",
       "        vertical-align: top;\n",
       "    }\n",
       "\n",
       "    .dataframe thead th {\n",
       "        text-align: right;\n",
       "    }\n",
       "</style>\n",
       "<table border=\"1\" class=\"dataframe\">\n",
       "  <thead>\n",
       "    <tr style=\"text-align: right;\">\n",
       "      <th></th>\n",
       "      <th>Unnamed: 0</th>\n",
       "      <th>meta_pin</th>\n",
       "      <th>meta_year</th>\n",
       "      <th>char_hd_sf</th>\n",
       "      <th>char_age</th>\n",
       "      <th>char_rooms</th>\n",
       "      <th>char_beds</th>\n",
       "      <th>char_frpl</th>\n",
       "      <th>char_fbath</th>\n",
       "      <th>char_hbath</th>\n",
       "      <th>char_bldg_sf</th>\n",
       "      <th>geo_longitude</th>\n",
       "      <th>geo_latitude</th>\n",
       "      <th>one_story</th>\n",
       "      <th>row_house</th>\n",
       "      <th>pred_price</th>\n",
       "    </tr>\n",
       "  </thead>\n",
       "  <tbody>\n",
       "    <tr>\n",
       "      <th>48</th>\n",
       "      <td>384049</td>\n",
       "      <td>13242040240000</td>\n",
       "      <td>2020.0</td>\n",
       "      <td>4125.0</td>\n",
       "      <td>96.0</td>\n",
       "      <td>6.0</td>\n",
       "      <td>3.0</td>\n",
       "      <td>0.0</td>\n",
       "      <td>1.0</td>\n",
       "      <td>0.0</td>\n",
       "      <td>1222.0</td>\n",
       "      <td>-87.689632</td>\n",
       "      <td>41.951518</td>\n",
       "      <td>1</td>\n",
       "      <td>0</td>\n",
       "      <td>481044.5</td>\n",
       "    </tr>\n",
       "  </tbody>\n",
       "</table>\n",
       "</div>"
      ],
      "text/plain": [
       "    Unnamed: 0        meta_pin  meta_year  char_hd_sf  char_age  char_rooms  \\\n",
       "48      384049  13242040240000     2020.0      4125.0      96.0         6.0   \n",
       "\n",
       "    char_beds  char_frpl  char_fbath  char_hbath  char_bldg_sf  geo_longitude  \\\n",
       "48        3.0        0.0         1.0         0.0        1222.0     -87.689632   \n",
       "\n",
       "    geo_latitude  one_story  row_house  pred_price  \n",
       "48     41.951518          1          0    481044.5  "
      ]
     },
     "execution_count": 69,
     "metadata": {},
     "output_type": "execute_result"
    }
   ],
   "source": [
    "bell_2020_pred[bell_2020_pred.meta_pin==13242040240000]"
   ]
  },
  {
   "cell_type": "code",
   "execution_count": 70,
   "id": "08e3a4d5",
   "metadata": {},
   "outputs": [
    {
     "data": {
      "text/html": [
       "<div>\n",
       "<style scoped>\n",
       "    .dataframe tbody tr th:only-of-type {\n",
       "        vertical-align: middle;\n",
       "    }\n",
       "\n",
       "    .dataframe tbody tr th {\n",
       "        vertical-align: top;\n",
       "    }\n",
       "\n",
       "    .dataframe thead th {\n",
       "        text-align: right;\n",
       "    }\n",
       "</style>\n",
       "<table border=\"1\" class=\"dataframe\">\n",
       "  <thead>\n",
       "    <tr style=\"text-align: right;\">\n",
       "      <th></th>\n",
       "      <th>Unnamed: 0</th>\n",
       "      <th>meta_pin</th>\n",
       "      <th>meta_year</th>\n",
       "      <th>char_hd_sf</th>\n",
       "      <th>char_age</th>\n",
       "      <th>char_rooms</th>\n",
       "      <th>char_beds</th>\n",
       "      <th>char_frpl</th>\n",
       "      <th>char_fbath</th>\n",
       "      <th>char_hbath</th>\n",
       "      <th>char_bldg_sf</th>\n",
       "      <th>geo_longitude</th>\n",
       "      <th>geo_latitude</th>\n",
       "      <th>one_story</th>\n",
       "      <th>row_house</th>\n",
       "      <th>pred_price</th>\n",
       "    </tr>\n",
       "  </thead>\n",
       "  <tbody>\n",
       "    <tr>\n",
       "      <th>41</th>\n",
       "      <td>384041</td>\n",
       "      <td>13242040160000</td>\n",
       "      <td>2020.0</td>\n",
       "      <td>3390.0</td>\n",
       "      <td>6.0</td>\n",
       "      <td>8.0</td>\n",
       "      <td>4.0</td>\n",
       "      <td>0.0</td>\n",
       "      <td>3.0</td>\n",
       "      <td>1.0</td>\n",
       "      <td>2090.0</td>\n",
       "      <td>-87.690586</td>\n",
       "      <td>41.95151</td>\n",
       "      <td>0</td>\n",
       "      <td>0</td>\n",
       "      <td>967717.615</td>\n",
       "    </tr>\n",
       "  </tbody>\n",
       "</table>\n",
       "</div>"
      ],
      "text/plain": [
       "    Unnamed: 0        meta_pin  meta_year  char_hd_sf  char_age  char_rooms  \\\n",
       "41      384041  13242040160000     2020.0      3390.0       6.0         8.0   \n",
       "\n",
       "    char_beds  char_frpl  char_fbath  char_hbath  char_bldg_sf  geo_longitude  \\\n",
       "41        4.0        0.0         3.0         1.0        2090.0     -87.690586   \n",
       "\n",
       "    geo_latitude  one_story  row_house  pred_price  \n",
       "41      41.95151          0          0  967717.615  "
      ]
     },
     "execution_count": 70,
     "metadata": {},
     "output_type": "execute_result"
    }
   ],
   "source": [
    "bell_2020_pred[bell_2020_pred.meta_pin==13242040160000]"
   ]
  },
  {
   "cell_type": "code",
   "execution_count": 71,
   "id": "71b90c67",
   "metadata": {},
   "outputs": [
    {
     "data": {
      "text/html": [
       "<div>\n",
       "<style scoped>\n",
       "    .dataframe tbody tr th:only-of-type {\n",
       "        vertical-align: middle;\n",
       "    }\n",
       "\n",
       "    .dataframe tbody tr th {\n",
       "        vertical-align: top;\n",
       "    }\n",
       "\n",
       "    .dataframe thead th {\n",
       "        text-align: right;\n",
       "    }\n",
       "</style>\n",
       "<table border=\"1\" class=\"dataframe\">\n",
       "  <thead>\n",
       "    <tr style=\"text-align: right;\">\n",
       "      <th></th>\n",
       "      <th>Unnamed: 0</th>\n",
       "      <th>meta_pin</th>\n",
       "      <th>meta_year</th>\n",
       "      <th>char_hd_sf</th>\n",
       "      <th>char_age</th>\n",
       "      <th>char_rooms</th>\n",
       "      <th>char_beds</th>\n",
       "      <th>char_frpl</th>\n",
       "      <th>char_fbath</th>\n",
       "      <th>char_hbath</th>\n",
       "      <th>char_bldg_sf</th>\n",
       "      <th>geo_longitude</th>\n",
       "      <th>geo_latitude</th>\n",
       "      <th>one_story</th>\n",
       "      <th>row_house</th>\n",
       "      <th>pred_price</th>\n",
       "    </tr>\n",
       "  </thead>\n",
       "  <tbody>\n",
       "    <tr>\n",
       "      <th>40</th>\n",
       "      <td>384040</td>\n",
       "      <td>13242040150000</td>\n",
       "      <td>2020.0</td>\n",
       "      <td>3391.0</td>\n",
       "      <td>3.0</td>\n",
       "      <td>8.0</td>\n",
       "      <td>5.0</td>\n",
       "      <td>1.0</td>\n",
       "      <td>3.0</td>\n",
       "      <td>1.0</td>\n",
       "      <td>2168.0</td>\n",
       "      <td>-87.690681</td>\n",
       "      <td>41.951511</td>\n",
       "      <td>0</td>\n",
       "      <td>0</td>\n",
       "      <td>998421.39</td>\n",
       "    </tr>\n",
       "  </tbody>\n",
       "</table>\n",
       "</div>"
      ],
      "text/plain": [
       "    Unnamed: 0        meta_pin  meta_year  char_hd_sf  char_age  char_rooms  \\\n",
       "40      384040  13242040150000     2020.0      3391.0       3.0         8.0   \n",
       "\n",
       "    char_beds  char_frpl  char_fbath  char_hbath  char_bldg_sf  geo_longitude  \\\n",
       "40        5.0        1.0         3.0         1.0        2168.0     -87.690681   \n",
       "\n",
       "    geo_latitude  one_story  row_house  pred_price  \n",
       "40     41.951511          0          0   998421.39  "
      ]
     },
     "execution_count": 71,
     "metadata": {},
     "output_type": "execute_result"
    }
   ],
   "source": [
    "bell_2020_pred[bell_2020_pred.meta_pin==13242040150000]"
   ]
  },
  {
   "cell_type": "code",
   "execution_count": 72,
   "id": "e6f16255",
   "metadata": {},
   "outputs": [
    {
     "data": {
      "text/html": [
       "<div>\n",
       "<style scoped>\n",
       "    .dataframe tbody tr th:only-of-type {\n",
       "        vertical-align: middle;\n",
       "    }\n",
       "\n",
       "    .dataframe tbody tr th {\n",
       "        vertical-align: top;\n",
       "    }\n",
       "\n",
       "    .dataframe thead th {\n",
       "        text-align: right;\n",
       "    }\n",
       "</style>\n",
       "<table border=\"1\" class=\"dataframe\">\n",
       "  <thead>\n",
       "    <tr style=\"text-align: right;\">\n",
       "      <th></th>\n",
       "      <th>Unnamed: 0</th>\n",
       "      <th>meta_pin</th>\n",
       "      <th>meta_year</th>\n",
       "      <th>char_hd_sf</th>\n",
       "      <th>char_age</th>\n",
       "      <th>char_rooms</th>\n",
       "      <th>char_beds</th>\n",
       "      <th>char_frpl</th>\n",
       "      <th>char_fbath</th>\n",
       "      <th>char_hbath</th>\n",
       "      <th>char_bldg_sf</th>\n",
       "      <th>geo_longitude</th>\n",
       "      <th>geo_latitude</th>\n",
       "      <th>one_story</th>\n",
       "      <th>row_house</th>\n",
       "      <th>pred_price</th>\n",
       "    </tr>\n",
       "  </thead>\n",
       "  <tbody>\n",
       "    <tr>\n",
       "      <th>27</th>\n",
       "      <td>384027</td>\n",
       "      <td>13242040010000</td>\n",
       "      <td>2020.0</td>\n",
       "      <td>3780.0</td>\n",
       "      <td>95.0</td>\n",
       "      <td>7.0</td>\n",
       "      <td>4.0</td>\n",
       "      <td>1.0</td>\n",
       "      <td>2.0</td>\n",
       "      <td>0.0</td>\n",
       "      <td>1861.0</td>\n",
       "      <td>-87.690691</td>\n",
       "      <td>41.951896</td>\n",
       "      <td>1</td>\n",
       "      <td>0</td>\n",
       "      <td>684386.94</td>\n",
       "    </tr>\n",
       "  </tbody>\n",
       "</table>\n",
       "</div>"
      ],
      "text/plain": [
       "    Unnamed: 0        meta_pin  meta_year  char_hd_sf  char_age  char_rooms  \\\n",
       "27      384027  13242040010000     2020.0      3780.0      95.0         7.0   \n",
       "\n",
       "    char_beds  char_frpl  char_fbath  char_hbath  char_bldg_sf  geo_longitude  \\\n",
       "27        4.0        1.0         2.0         0.0        1861.0     -87.690691   \n",
       "\n",
       "    geo_latitude  one_story  row_house  pred_price  \n",
       "27     41.951896          1          0   684386.94  "
      ]
     },
     "execution_count": 72,
     "metadata": {},
     "output_type": "execute_result"
    }
   ],
   "source": [
    "bell_2020_pred[bell_2020_pred.meta_pin==13242040010000]"
   ]
  },
  {
   "cell_type": "code",
   "execution_count": 73,
   "id": "6e602d11",
   "metadata": {},
   "outputs": [
    {
     "data": {
      "text/html": [
       "<div>\n",
       "<style scoped>\n",
       "    .dataframe tbody tr th:only-of-type {\n",
       "        vertical-align: middle;\n",
       "    }\n",
       "\n",
       "    .dataframe tbody tr th {\n",
       "        vertical-align: top;\n",
       "    }\n",
       "\n",
       "    .dataframe thead th {\n",
       "        text-align: right;\n",
       "    }\n",
       "</style>\n",
       "<table border=\"1\" class=\"dataframe\">\n",
       "  <thead>\n",
       "    <tr style=\"text-align: right;\">\n",
       "      <th></th>\n",
       "      <th>Unnamed: 0</th>\n",
       "      <th>meta_pin</th>\n",
       "      <th>meta_year</th>\n",
       "      <th>char_hd_sf</th>\n",
       "      <th>char_age</th>\n",
       "      <th>char_rooms</th>\n",
       "      <th>char_beds</th>\n",
       "      <th>char_frpl</th>\n",
       "      <th>char_fbath</th>\n",
       "      <th>char_hbath</th>\n",
       "      <th>char_bldg_sf</th>\n",
       "      <th>geo_longitude</th>\n",
       "      <th>geo_latitude</th>\n",
       "      <th>one_story</th>\n",
       "      <th>row_house</th>\n",
       "      <th>pred_price</th>\n",
       "    </tr>\n",
       "  </thead>\n",
       "  <tbody>\n",
       "    <tr>\n",
       "      <th>13</th>\n",
       "      <td>384009</td>\n",
       "      <td>13242030180000</td>\n",
       "      <td>2020.0</td>\n",
       "      <td>3226.0</td>\n",
       "      <td>3.0</td>\n",
       "      <td>6.0</td>\n",
       "      <td>3.0</td>\n",
       "      <td>1.0</td>\n",
       "      <td>2.0</td>\n",
       "      <td>1.0</td>\n",
       "      <td>2171.0</td>\n",
       "      <td>-87.690718</td>\n",
       "      <td>41.952423</td>\n",
       "      <td>0</td>\n",
       "      <td>0</td>\n",
       "      <td>1027633.325</td>\n",
       "    </tr>\n",
       "  </tbody>\n",
       "</table>\n",
       "</div>"
      ],
      "text/plain": [
       "    Unnamed: 0        meta_pin  meta_year  char_hd_sf  char_age  char_rooms  \\\n",
       "13      384009  13242030180000     2020.0      3226.0       3.0         6.0   \n",
       "\n",
       "    char_beds  char_frpl  char_fbath  char_hbath  char_bldg_sf  geo_longitude  \\\n",
       "13        3.0        1.0         2.0         1.0        2171.0     -87.690718   \n",
       "\n",
       "    geo_latitude  one_story  row_house   pred_price  \n",
       "13     41.952423          0          0  1027633.325  "
      ]
     },
     "execution_count": 73,
     "metadata": {},
     "output_type": "execute_result"
    }
   ],
   "source": [
    "bell_2020_pred[bell_2020_pred.meta_pin==13242030180000]"
   ]
  },
  {
   "cell_type": "code",
   "execution_count": 74,
   "id": "a74a007b",
   "metadata": {},
   "outputs": [
    {
     "data": {
      "text/html": [
       "<div>\n",
       "<style scoped>\n",
       "    .dataframe tbody tr th:only-of-type {\n",
       "        vertical-align: middle;\n",
       "    }\n",
       "\n",
       "    .dataframe tbody tr th {\n",
       "        vertical-align: top;\n",
       "    }\n",
       "\n",
       "    .dataframe thead th {\n",
       "        text-align: right;\n",
       "    }\n",
       "</style>\n",
       "<table border=\"1\" class=\"dataframe\">\n",
       "  <thead>\n",
       "    <tr style=\"text-align: right;\">\n",
       "      <th></th>\n",
       "      <th>Unnamed: 0</th>\n",
       "      <th>meta_pin</th>\n",
       "      <th>meta_year</th>\n",
       "      <th>char_hd_sf</th>\n",
       "      <th>char_age</th>\n",
       "      <th>char_rooms</th>\n",
       "      <th>char_beds</th>\n",
       "      <th>char_frpl</th>\n",
       "      <th>char_fbath</th>\n",
       "      <th>char_hbath</th>\n",
       "      <th>char_bldg_sf</th>\n",
       "      <th>geo_longitude</th>\n",
       "      <th>geo_latitude</th>\n",
       "      <th>one_story</th>\n",
       "      <th>row_house</th>\n",
       "      <th>pred_price</th>\n",
       "    </tr>\n",
       "  </thead>\n",
       "  <tbody>\n",
       "    <tr>\n",
       "      <th>36</th>\n",
       "      <td>384036</td>\n",
       "      <td>13242040110000</td>\n",
       "      <td>2020.0</td>\n",
       "      <td>4125.0</td>\n",
       "      <td>3.0</td>\n",
       "      <td>7.0</td>\n",
       "      <td>5.0</td>\n",
       "      <td>1.0</td>\n",
       "      <td>4.0</td>\n",
       "      <td>1.0</td>\n",
       "      <td>2677.0</td>\n",
       "      <td>-87.689517</td>\n",
       "      <td>41.951905</td>\n",
       "      <td>0</td>\n",
       "      <td>0</td>\n",
       "      <td>1.191598e+06</td>\n",
       "    </tr>\n",
       "  </tbody>\n",
       "</table>\n",
       "</div>"
      ],
      "text/plain": [
       "    Unnamed: 0        meta_pin  meta_year  char_hd_sf  char_age  char_rooms  \\\n",
       "36      384036  13242040110000     2020.0      4125.0       3.0         7.0   \n",
       "\n",
       "    char_beds  char_frpl  char_fbath  char_hbath  char_bldg_sf  geo_longitude  \\\n",
       "36        5.0        1.0         4.0         1.0        2677.0     -87.689517   \n",
       "\n",
       "    geo_latitude  one_story  row_house    pred_price  \n",
       "36     41.951905          0          0  1.191598e+06  "
      ]
     },
     "execution_count": 74,
     "metadata": {},
     "output_type": "execute_result"
    }
   ],
   "source": [
    "bell_2020_pred[bell_2020_pred.meta_pin==13242040110000]"
   ]
  },
  {
   "cell_type": "code",
   "execution_count": 75,
   "id": "dce099be",
   "metadata": {},
   "outputs": [
    {
     "data": {
      "text/html": [
       "<div>\n",
       "<style scoped>\n",
       "    .dataframe tbody tr th:only-of-type {\n",
       "        vertical-align: middle;\n",
       "    }\n",
       "\n",
       "    .dataframe tbody tr th {\n",
       "        vertical-align: top;\n",
       "    }\n",
       "\n",
       "    .dataframe thead th {\n",
       "        text-align: right;\n",
       "    }\n",
       "</style>\n",
       "<table border=\"1\" class=\"dataframe\">\n",
       "  <thead>\n",
       "    <tr style=\"text-align: right;\">\n",
       "      <th></th>\n",
       "      <th>Unnamed: 0</th>\n",
       "      <th>meta_pin</th>\n",
       "      <th>meta_year</th>\n",
       "      <th>char_hd_sf</th>\n",
       "      <th>char_age</th>\n",
       "      <th>char_rooms</th>\n",
       "      <th>char_beds</th>\n",
       "      <th>char_frpl</th>\n",
       "      <th>char_fbath</th>\n",
       "      <th>char_hbath</th>\n",
       "      <th>char_bldg_sf</th>\n",
       "      <th>geo_longitude</th>\n",
       "      <th>geo_latitude</th>\n",
       "      <th>one_story</th>\n",
       "      <th>row_house</th>\n",
       "      <th>pred_price</th>\n",
       "    </tr>\n",
       "  </thead>\n",
       "  <tbody>\n",
       "    <tr>\n",
       "      <th>35</th>\n",
       "      <td>384035</td>\n",
       "      <td>13242040100000</td>\n",
       "      <td>2020.0</td>\n",
       "      <td>4125.0</td>\n",
       "      <td>9.0</td>\n",
       "      <td>8.0</td>\n",
       "      <td>3.0</td>\n",
       "      <td>1.0</td>\n",
       "      <td>3.0</td>\n",
       "      <td>1.0</td>\n",
       "      <td>2467.0</td>\n",
       "      <td>-87.689638</td>\n",
       "      <td>41.951904</td>\n",
       "      <td>0</td>\n",
       "      <td>0</td>\n",
       "      <td>1137941.75</td>\n",
       "    </tr>\n",
       "  </tbody>\n",
       "</table>\n",
       "</div>"
      ],
      "text/plain": [
       "    Unnamed: 0        meta_pin  meta_year  char_hd_sf  char_age  char_rooms  \\\n",
       "35      384035  13242040100000     2020.0      4125.0       9.0         8.0   \n",
       "\n",
       "    char_beds  char_frpl  char_fbath  char_hbath  char_bldg_sf  geo_longitude  \\\n",
       "35        3.0        1.0         3.0         1.0        2467.0     -87.689638   \n",
       "\n",
       "    geo_latitude  one_story  row_house  pred_price  \n",
       "35     41.951904          0          0  1137941.75  "
      ]
     },
     "execution_count": 75,
     "metadata": {},
     "output_type": "execute_result"
    }
   ],
   "source": [
    "bell_2020_pred[bell_2020_pred.meta_pin==13242040100000]"
   ]
  },
  {
   "cell_type": "code",
   "execution_count": 76,
   "id": "6fafa783",
   "metadata": {},
   "outputs": [
    {
     "data": {
      "text/html": [
       "<div>\n",
       "<style scoped>\n",
       "    .dataframe tbody tr th:only-of-type {\n",
       "        vertical-align: middle;\n",
       "    }\n",
       "\n",
       "    .dataframe tbody tr th {\n",
       "        vertical-align: top;\n",
       "    }\n",
       "\n",
       "    .dataframe thead th {\n",
       "        text-align: right;\n",
       "    }\n",
       "</style>\n",
       "<table border=\"1\" class=\"dataframe\">\n",
       "  <thead>\n",
       "    <tr style=\"text-align: right;\">\n",
       "      <th></th>\n",
       "      <th>Unnamed: 0</th>\n",
       "      <th>meta_pin</th>\n",
       "      <th>meta_year</th>\n",
       "      <th>char_hd_sf</th>\n",
       "      <th>char_age</th>\n",
       "      <th>char_rooms</th>\n",
       "      <th>char_beds</th>\n",
       "      <th>char_frpl</th>\n",
       "      <th>char_fbath</th>\n",
       "      <th>char_hbath</th>\n",
       "      <th>char_bldg_sf</th>\n",
       "      <th>geo_longitude</th>\n",
       "      <th>geo_latitude</th>\n",
       "      <th>one_story</th>\n",
       "      <th>row_house</th>\n",
       "      <th>pred_price</th>\n",
       "    </tr>\n",
       "  </thead>\n",
       "  <tbody>\n",
       "    <tr>\n",
       "      <th>39</th>\n",
       "      <td>384039</td>\n",
       "      <td>13242040140000</td>\n",
       "      <td>2020.0</td>\n",
       "      <td>4125.0</td>\n",
       "      <td>96.0</td>\n",
       "      <td>6.0</td>\n",
       "      <td>3.0</td>\n",
       "      <td>0.0</td>\n",
       "      <td>1.0</td>\n",
       "      <td>0.0</td>\n",
       "      <td>1164.0</td>\n",
       "      <td>-87.689153</td>\n",
       "      <td>41.951909</td>\n",
       "      <td>1</td>\n",
       "      <td>0</td>\n",
       "      <td>455270.0</td>\n",
       "    </tr>\n",
       "  </tbody>\n",
       "</table>\n",
       "</div>"
      ],
      "text/plain": [
       "    Unnamed: 0        meta_pin  meta_year  char_hd_sf  char_age  char_rooms  \\\n",
       "39      384039  13242040140000     2020.0      4125.0      96.0         6.0   \n",
       "\n",
       "    char_beds  char_frpl  char_fbath  char_hbath  char_bldg_sf  geo_longitude  \\\n",
       "39        3.0        0.0         1.0         0.0        1164.0     -87.689153   \n",
       "\n",
       "    geo_latitude  one_story  row_house  pred_price  \n",
       "39     41.951909          1          0    455270.0  "
      ]
     },
     "execution_count": 76,
     "metadata": {},
     "output_type": "execute_result"
    }
   ],
   "source": [
    "bell_2020_pred[bell_2020_pred.meta_pin==13242040140000]"
   ]
  },
  {
   "cell_type": "code",
   "execution_count": 77,
   "id": "1c015cd7",
   "metadata": {},
   "outputs": [
    {
     "data": {
      "text/html": [
       "<div>\n",
       "<style scoped>\n",
       "    .dataframe tbody tr th:only-of-type {\n",
       "        vertical-align: middle;\n",
       "    }\n",
       "\n",
       "    .dataframe tbody tr th {\n",
       "        vertical-align: top;\n",
       "    }\n",
       "\n",
       "    .dataframe thead th {\n",
       "        text-align: right;\n",
       "    }\n",
       "</style>\n",
       "<table border=\"1\" class=\"dataframe\">\n",
       "  <thead>\n",
       "    <tr style=\"text-align: right;\">\n",
       "      <th></th>\n",
       "      <th>Unnamed: 0</th>\n",
       "      <th>meta_pin</th>\n",
       "      <th>meta_year</th>\n",
       "      <th>char_hd_sf</th>\n",
       "      <th>char_age</th>\n",
       "      <th>char_rooms</th>\n",
       "      <th>char_beds</th>\n",
       "      <th>char_frpl</th>\n",
       "      <th>char_fbath</th>\n",
       "      <th>char_hbath</th>\n",
       "      <th>char_bldg_sf</th>\n",
       "      <th>geo_longitude</th>\n",
       "      <th>geo_latitude</th>\n",
       "      <th>one_story</th>\n",
       "      <th>row_house</th>\n",
       "      <th>pred_price</th>\n",
       "    </tr>\n",
       "  </thead>\n",
       "  <tbody>\n",
       "    <tr>\n",
       "      <th>117</th>\n",
       "      <td>384118</td>\n",
       "      <td>13242080210000</td>\n",
       "      <td>2020.0</td>\n",
       "      <td>3720.0</td>\n",
       "      <td>101.0</td>\n",
       "      <td>5.0</td>\n",
       "      <td>3.0</td>\n",
       "      <td>0.0</td>\n",
       "      <td>1.0</td>\n",
       "      <td>1.0</td>\n",
       "      <td>1359.0</td>\n",
       "      <td>-87.689871</td>\n",
       "      <td>41.947991</td>\n",
       "      <td>1</td>\n",
       "      <td>0</td>\n",
       "      <td>490219.9</td>\n",
       "    </tr>\n",
       "  </tbody>\n",
       "</table>\n",
       "</div>"
      ],
      "text/plain": [
       "     Unnamed: 0        meta_pin  meta_year  char_hd_sf  char_age  char_rooms  \\\n",
       "117      384118  13242080210000     2020.0      3720.0     101.0         5.0   \n",
       "\n",
       "     char_beds  char_frpl  char_fbath  char_hbath  char_bldg_sf  \\\n",
       "117        3.0        0.0         1.0         1.0        1359.0   \n",
       "\n",
       "     geo_longitude  geo_latitude  one_story  row_house  pred_price  \n",
       "117     -87.689871     41.947991          1          0    490219.9  "
      ]
     },
     "execution_count": 77,
     "metadata": {},
     "output_type": "execute_result"
    }
   ],
   "source": [
    "bell_2020_pred[bell_2020_pred.meta_pin==13242080210000]"
   ]
  },
  {
   "cell_type": "code",
   "execution_count": 79,
   "id": "ce1418af",
   "metadata": {},
   "outputs": [],
   "source": [
    "#pins = [13242050130000,13242040270000,13242040240000,13242040160000,13242040150000,13242040010000,13242030180000,13242040110000,13242040100000,13242040140000,13242080210000]\n",
    "bung_pins =[13242050060000,13242050080000,13242050100000,13242050110000,13242050130000]\n",
    "bell_special = bell_2020_pred[bell_2020_pred.meta_pin.isin(bung_pins)]"
   ]
  },
  {
   "cell_type": "code",
   "execution_count": 80,
   "id": "36aef669",
   "metadata": {},
   "outputs": [
    {
     "data": {
      "text/html": [
       "<div>\n",
       "<style scoped>\n",
       "    .dataframe tbody tr th:only-of-type {\n",
       "        vertical-align: middle;\n",
       "    }\n",
       "\n",
       "    .dataframe tbody tr th {\n",
       "        vertical-align: top;\n",
       "    }\n",
       "\n",
       "    .dataframe thead th {\n",
       "        text-align: right;\n",
       "    }\n",
       "</style>\n",
       "<table border=\"1\" class=\"dataframe\">\n",
       "  <thead>\n",
       "    <tr style=\"text-align: right;\">\n",
       "      <th></th>\n",
       "      <th>Unnamed: 0</th>\n",
       "      <th>meta_pin</th>\n",
       "      <th>meta_year</th>\n",
       "      <th>char_hd_sf</th>\n",
       "      <th>char_age</th>\n",
       "      <th>char_rooms</th>\n",
       "      <th>char_beds</th>\n",
       "      <th>char_frpl</th>\n",
       "      <th>char_fbath</th>\n",
       "      <th>char_hbath</th>\n",
       "      <th>char_bldg_sf</th>\n",
       "      <th>geo_longitude</th>\n",
       "      <th>geo_latitude</th>\n",
       "      <th>one_story</th>\n",
       "      <th>row_house</th>\n",
       "      <th>pred_price</th>\n",
       "    </tr>\n",
       "  </thead>\n",
       "  <tbody>\n",
       "    <tr>\n",
       "      <th>58</th>\n",
       "      <td>384059</td>\n",
       "      <td>13242050060000</td>\n",
       "      <td>2020.0</td>\n",
       "      <td>4125.0</td>\n",
       "      <td>96.0</td>\n",
       "      <td>6.0</td>\n",
       "      <td>3.0</td>\n",
       "      <td>0.0</td>\n",
       "      <td>1.0</td>\n",
       "      <td>0.0</td>\n",
       "      <td>1116.0</td>\n",
       "      <td>-87.690093</td>\n",
       "      <td>41.950991</td>\n",
       "      <td>1</td>\n",
       "      <td>0</td>\n",
       "      <td>472954.50</td>\n",
       "    </tr>\n",
       "    <tr>\n",
       "      <th>60</th>\n",
       "      <td>384061</td>\n",
       "      <td>13242050080000</td>\n",
       "      <td>2020.0</td>\n",
       "      <td>4125.0</td>\n",
       "      <td>95.0</td>\n",
       "      <td>7.0</td>\n",
       "      <td>4.0</td>\n",
       "      <td>0.0</td>\n",
       "      <td>1.0</td>\n",
       "      <td>0.0</td>\n",
       "      <td>1183.0</td>\n",
       "      <td>-87.689850</td>\n",
       "      <td>41.950993</td>\n",
       "      <td>1</td>\n",
       "      <td>0</td>\n",
       "      <td>702487.01</td>\n",
       "    </tr>\n",
       "    <tr>\n",
       "      <th>62</th>\n",
       "      <td>384063</td>\n",
       "      <td>13242050100000</td>\n",
       "      <td>2020.0</td>\n",
       "      <td>4125.0</td>\n",
       "      <td>96.0</td>\n",
       "      <td>6.0</td>\n",
       "      <td>3.0</td>\n",
       "      <td>0.0</td>\n",
       "      <td>2.0</td>\n",
       "      <td>0.0</td>\n",
       "      <td>1920.0</td>\n",
       "      <td>-87.689608</td>\n",
       "      <td>41.950995</td>\n",
       "      <td>1</td>\n",
       "      <td>0</td>\n",
       "      <td>528914.91</td>\n",
       "    </tr>\n",
       "    <tr>\n",
       "      <th>63</th>\n",
       "      <td>384064</td>\n",
       "      <td>13242050110000</td>\n",
       "      <td>2020.0</td>\n",
       "      <td>4125.0</td>\n",
       "      <td>96.0</td>\n",
       "      <td>4.0</td>\n",
       "      <td>3.0</td>\n",
       "      <td>0.0</td>\n",
       "      <td>2.0</td>\n",
       "      <td>0.0</td>\n",
       "      <td>1383.0</td>\n",
       "      <td>-87.689487</td>\n",
       "      <td>41.950996</td>\n",
       "      <td>1</td>\n",
       "      <td>0</td>\n",
       "      <td>452133.51</td>\n",
       "    </tr>\n",
       "    <tr>\n",
       "      <th>65</th>\n",
       "      <td>384066</td>\n",
       "      <td>13242050130000</td>\n",
       "      <td>2020.0</td>\n",
       "      <td>4125.0</td>\n",
       "      <td>93.0</td>\n",
       "      <td>6.0</td>\n",
       "      <td>3.0</td>\n",
       "      <td>1.0</td>\n",
       "      <td>2.0</td>\n",
       "      <td>0.0</td>\n",
       "      <td>1853.0</td>\n",
       "      <td>-87.689245</td>\n",
       "      <td>41.950997</td>\n",
       "      <td>1</td>\n",
       "      <td>0</td>\n",
       "      <td>537821.18</td>\n",
       "    </tr>\n",
       "  </tbody>\n",
       "</table>\n",
       "</div>"
      ],
      "text/plain": [
       "    Unnamed: 0        meta_pin  meta_year  char_hd_sf  char_age  char_rooms  \\\n",
       "58      384059  13242050060000     2020.0      4125.0      96.0         6.0   \n",
       "60      384061  13242050080000     2020.0      4125.0      95.0         7.0   \n",
       "62      384063  13242050100000     2020.0      4125.0      96.0         6.0   \n",
       "63      384064  13242050110000     2020.0      4125.0      96.0         4.0   \n",
       "65      384066  13242050130000     2020.0      4125.0      93.0         6.0   \n",
       "\n",
       "    char_beds  char_frpl  char_fbath  char_hbath  char_bldg_sf  geo_longitude  \\\n",
       "58        3.0        0.0         1.0         0.0        1116.0     -87.690093   \n",
       "60        4.0        0.0         1.0         0.0        1183.0     -87.689850   \n",
       "62        3.0        0.0         2.0         0.0        1920.0     -87.689608   \n",
       "63        3.0        0.0         2.0         0.0        1383.0     -87.689487   \n",
       "65        3.0        1.0         2.0         0.0        1853.0     -87.689245   \n",
       "\n",
       "    geo_latitude  one_story  row_house  pred_price  \n",
       "58     41.950991          1          0   472954.50  \n",
       "60     41.950993          1          0   702487.01  \n",
       "62     41.950995          1          0   528914.91  \n",
       "63     41.950996          1          0   452133.51  \n",
       "65     41.950997          1          0   537821.18  "
      ]
     },
     "execution_count": 80,
     "metadata": {},
     "output_type": "execute_result"
    }
   ],
   "source": [
    "bell_special"
   ]
  },
  {
   "cell_type": "code",
   "execution_count": null,
   "id": "1c327e14",
   "metadata": {},
   "outputs": [],
   "source": [
    "bell_sales_special= bell_sales[bell_sales.meta_pin.isin(pins)]"
   ]
  },
  {
   "cell_type": "code",
   "execution_count": null,
   "id": "e936ca5d",
   "metadata": {},
   "outputs": [],
   "source": [
    "bell_sales_special"
   ]
  },
  {
   "cell_type": "code",
   "execution_count": null,
   "id": "fcb50921",
   "metadata": {},
   "outputs": [],
   "source": [
    "bell_sales_wrong= bell_sales[(bell_sales.one_story==1) &(bell_sales.meta_sale_price>700000)]"
   ]
  },
  {
   "cell_type": "code",
   "execution_count": null,
   "id": "ec2e3c52",
   "metadata": {},
   "outputs": [],
   "source": [
    "bell_sales_wrong"
   ]
  },
  {
   "cell_type": "code",
   "execution_count": null,
   "id": "ad694e6d",
   "metadata": {},
   "outputs": [],
   "source": [
    "bell_sales_wrong.shape"
   ]
  },
  {
   "cell_type": "code",
   "execution_count": null,
   "id": "31301eb0",
   "metadata": {},
   "outputs": [],
   "source": [
    "bell_sales[(bell_sales.one_story==1)].shape"
   ]
  },
  {
   "cell_type": "code",
   "execution_count": null,
   "id": "8bd8c5fb",
   "metadata": {},
   "outputs": [],
   "source": [
    "curious_pins = bell_sales_wrong.meta_pin"
   ]
  },
  {
   "cell_type": "code",
   "execution_count": null,
   "id": "8ad762af",
   "metadata": {},
   "outputs": [],
   "source": [
    "bell_sales[(bell_sales.meta_pin.isin(curious_pins))&(bell_sales.meta_sale_price<700000)]"
   ]
  },
  {
   "cell_type": "code",
   "execution_count": null,
   "id": "bcd48f53",
   "metadata": {},
   "outputs": [],
   "source": [
    "bell_sales_wrong.meta_sale_price.mean()"
   ]
  },
  {
   "cell_type": "code",
   "execution_count": null,
   "id": "249c1b6b",
   "metadata": {},
   "outputs": [],
   "source": []
  }
 ],
 "metadata": {
  "kernelspec": {
   "display_name": "Python 3 (ipykernel)",
   "language": "python",
   "name": "python3"
  },
  "language_info": {
   "codemirror_mode": {
    "name": "ipython",
    "version": 3
   },
   "file_extension": ".py",
   "mimetype": "text/x-python",
   "name": "python",
   "nbconvert_exporter": "python",
   "pygments_lexer": "ipython3",
   "version": "3.10.2"
  }
 },
 "nbformat": 4,
 "nbformat_minor": 5
}
