{
 "cells": [
  {
   "cell_type": "markdown",
   "id": "5e52edcf",
   "metadata": {},
   "source": [
    "In this notebook I run statistical learning models on residential home sales in the Bell school area of Chicago, a highly gentrifying neighborhood with a large number of flipping and teardowns, to demonstrate that models with no inherent bias in their method lead to biased results, overvaluing low priced homes and undervaluing high priced homes. This is not surprising since it is a basic property of models based on averaging. The problem, regression towards the mean, is so intrinsic to these methods that the basic method bares its name. This property exasperates inequality as it leads to lesser taxation of wealthy people and higher taxation on poor people. The results could be used to advocate for a transition from property tax to income tax as was recently attempted in Illinois.  "
   ]
  },
  {
   "cell_type": "code",
   "execution_count": 1,
   "id": "abaa35c9",
   "metadata": {},
   "outputs": [],
   "source": [
    "import numpy as np\n",
    "import pandas as pd\n",
    "import matplotlib.pyplot as plt\n",
    "import seaborn as sns\n",
    "import os\n",
    "from sklearn.decomposition import PCA\n",
    "#from library.sb_utils import save_file\n",
    "import statsmodels.api as sm \n",
    "from statsmodels.graphics.api import abline_plot \n",
    "import warnings \n",
    "warnings.simplefilter(action=\"ignore\", category=FutureWarning)\n",
    "warnings.filterwarnings(action=\"ignore\", module=\"scipy\", message=\"^internal gelsd\")\n",
    "import pickle\n",
    "from sklearn import __version__ as sklearn_version\n",
    "from sklearn.preprocessing import scale\n",
    "from sklearn.model_selection import train_test_split, cross_validate, GridSearchCV, learning_curve\n",
    "from sklearn.preprocessing import StandardScaler, MinMaxScaler\n",
    "from sklearn.dummy import DummyRegressor\n",
    "from sklearn.linear_model import LinearRegression\n",
    "from sklearn.ensemble import RandomForestRegressor\n",
    "from sklearn.metrics import r2_score, mean_squared_error, mean_absolute_error\n",
    "from sklearn.metrics import mean_absolute_percentage_error as mape\n",
    "from sklearn.pipeline import make_pipeline\n",
    "from sklearn.impute import SimpleImputer\n",
    "from sklearn.feature_selection import SelectKBest, f_regression\n",
    "import datetime\n",
    "from sklearn.linear_model import ElasticNetCV\n",
    "from sklearn.linear_model import ElasticNet\n",
    "from sklearn.ensemble import GradientBoostingRegressor"
   ]
  },
  {
   "cell_type": "code",
   "execution_count": 2,
   "id": "eda62f1c",
   "metadata": {},
   "outputs": [],
   "source": [
    "bell_sales = pd.read_csv('../data/bell_sales_cleaned_mf.csv')"
   ]
  },
  {
   "cell_type": "code",
   "execution_count": 3,
   "id": "a2d80c6a",
   "metadata": {},
   "outputs": [
    {
     "data": {
      "text/html": [
       "<div>\n",
       "<style scoped>\n",
       "    .dataframe tbody tr th:only-of-type {\n",
       "        vertical-align: middle;\n",
       "    }\n",
       "\n",
       "    .dataframe tbody tr th {\n",
       "        vertical-align: top;\n",
       "    }\n",
       "\n",
       "    .dataframe thead th {\n",
       "        text-align: right;\n",
       "    }\n",
       "</style>\n",
       "<table border=\"1\" class=\"dataframe\">\n",
       "  <thead>\n",
       "    <tr style=\"text-align: right;\">\n",
       "      <th></th>\n",
       "      <th>Unnamed: 0</th>\n",
       "      <th>meta_pin</th>\n",
       "      <th>meta_year</th>\n",
       "      <th>meta_class</th>\n",
       "      <th>meta_sale_price</th>\n",
       "      <th>char_hd_sf</th>\n",
       "      <th>char_age</th>\n",
       "      <th>char_ext_wall</th>\n",
       "      <th>char_roof_cnst</th>\n",
       "      <th>char_rooms</th>\n",
       "      <th>...</th>\n",
       "      <th>char_air</th>\n",
       "      <th>char_frpl</th>\n",
       "      <th>char_attic_type</th>\n",
       "      <th>char_fbath</th>\n",
       "      <th>char_hbath</th>\n",
       "      <th>char_gar1_size</th>\n",
       "      <th>char_bldg_sf</th>\n",
       "      <th>time_sale_day_of_year</th>\n",
       "      <th>geo_longitude</th>\n",
       "      <th>geo_latitude</th>\n",
       "    </tr>\n",
       "  </thead>\n",
       "  <tbody>\n",
       "    <tr>\n",
       "      <th>0</th>\n",
       "      <td>126575</td>\n",
       "      <td>13242020170000</td>\n",
       "      <td>2017.0</td>\n",
       "      <td>278</td>\n",
       "      <td>850000.0</td>\n",
       "      <td>3050.0</td>\n",
       "      <td>18.0</td>\n",
       "      <td>1</td>\n",
       "      <td>1</td>\n",
       "      <td>8.0</td>\n",
       "      <td>...</td>\n",
       "      <td>1</td>\n",
       "      <td>0.0</td>\n",
       "      <td>3</td>\n",
       "      <td>2.0</td>\n",
       "      <td>1.0</td>\n",
       "      <td>3</td>\n",
       "      <td>2340.0</td>\n",
       "      <td>310.0</td>\n",
       "      <td>-87.690565</td>\n",
       "      <td>41.953323</td>\n",
       "    </tr>\n",
       "    <tr>\n",
       "      <th>1</th>\n",
       "      <td>126576</td>\n",
       "      <td>13242020180000</td>\n",
       "      <td>2013.0</td>\n",
       "      <td>278</td>\n",
       "      <td>1055000.0</td>\n",
       "      <td>3050.0</td>\n",
       "      <td>2.0</td>\n",
       "      <td>2</td>\n",
       "      <td>2</td>\n",
       "      <td>9.0</td>\n",
       "      <td>...</td>\n",
       "      <td>1</td>\n",
       "      <td>3.0</td>\n",
       "      <td>3</td>\n",
       "      <td>3.0</td>\n",
       "      <td>1.0</td>\n",
       "      <td>3</td>\n",
       "      <td>2639.0</td>\n",
       "      <td>304.0</td>\n",
       "      <td>-87.690473</td>\n",
       "      <td>41.953324</td>\n",
       "    </tr>\n",
       "    <tr>\n",
       "      <th>2</th>\n",
       "      <td>126578</td>\n",
       "      <td>13242030020000</td>\n",
       "      <td>2013.0</td>\n",
       "      <td>203</td>\n",
       "      <td>330000.0</td>\n",
       "      <td>3137.0</td>\n",
       "      <td>54.0</td>\n",
       "      <td>2</td>\n",
       "      <td>1</td>\n",
       "      <td>6.0</td>\n",
       "      <td>...</td>\n",
       "      <td>1</td>\n",
       "      <td>0.0</td>\n",
       "      <td>3</td>\n",
       "      <td>2.0</td>\n",
       "      <td>0.0</td>\n",
       "      <td>3</td>\n",
       "      <td>1020.0</td>\n",
       "      <td>322.0</td>\n",
       "      <td>-87.690731</td>\n",
       "      <td>41.952804</td>\n",
       "    </tr>\n",
       "    <tr>\n",
       "      <th>3</th>\n",
       "      <td>126579</td>\n",
       "      <td>13242030040000</td>\n",
       "      <td>2014.0</td>\n",
       "      <td>202</td>\n",
       "      <td>300000.0</td>\n",
       "      <td>3050.0</td>\n",
       "      <td>116.0</td>\n",
       "      <td>1</td>\n",
       "      <td>1</td>\n",
       "      <td>4.0</td>\n",
       "      <td>...</td>\n",
       "      <td>2</td>\n",
       "      <td>0.0</td>\n",
       "      <td>1</td>\n",
       "      <td>2.0</td>\n",
       "      <td>0.0</td>\n",
       "      <td>3</td>\n",
       "      <td>680.0</td>\n",
       "      <td>24.0</td>\n",
       "      <td>-87.690547</td>\n",
       "      <td>41.952805</td>\n",
       "    </tr>\n",
       "    <tr>\n",
       "      <th>4</th>\n",
       "      <td>126580</td>\n",
       "      <td>13242030110000</td>\n",
       "      <td>2018.0</td>\n",
       "      <td>206</td>\n",
       "      <td>976711.0</td>\n",
       "      <td>3660.0</td>\n",
       "      <td>96.0</td>\n",
       "      <td>2</td>\n",
       "      <td>2</td>\n",
       "      <td>7.0</td>\n",
       "      <td>...</td>\n",
       "      <td>1</td>\n",
       "      <td>1.0</td>\n",
       "      <td>3</td>\n",
       "      <td>2.0</td>\n",
       "      <td>1.0</td>\n",
       "      <td>3</td>\n",
       "      <td>2778.0</td>\n",
       "      <td>82.0</td>\n",
       "      <td>-87.689729</td>\n",
       "      <td>41.952810</td>\n",
       "    </tr>\n",
       "  </tbody>\n",
       "</table>\n",
       "<p>5 rows × 24 columns</p>\n",
       "</div>"
      ],
      "text/plain": [
       "   Unnamed: 0        meta_pin  meta_year  meta_class  meta_sale_price  \\\n",
       "0      126575  13242020170000     2017.0         278         850000.0   \n",
       "1      126576  13242020180000     2013.0         278        1055000.0   \n",
       "2      126578  13242030020000     2013.0         203         330000.0   \n",
       "3      126579  13242030040000     2014.0         202         300000.0   \n",
       "4      126580  13242030110000     2018.0         206         976711.0   \n",
       "\n",
       "   char_hd_sf  char_age  char_ext_wall  char_roof_cnst  char_rooms  ...  \\\n",
       "0      3050.0      18.0              1               1         8.0  ...   \n",
       "1      3050.0       2.0              2               2         9.0  ...   \n",
       "2      3137.0      54.0              2               1         6.0  ...   \n",
       "3      3050.0     116.0              1               1         4.0  ...   \n",
       "4      3660.0      96.0              2               2         7.0  ...   \n",
       "\n",
       "   char_air  char_frpl  char_attic_type  char_fbath  char_hbath  \\\n",
       "0         1        0.0                3         2.0         1.0   \n",
       "1         1        3.0                3         3.0         1.0   \n",
       "2         1        0.0                3         2.0         0.0   \n",
       "3         2        0.0                1         2.0         0.0   \n",
       "4         1        1.0                3         2.0         1.0   \n",
       "\n",
       "   char_gar1_size  char_bldg_sf  time_sale_day_of_year  geo_longitude  \\\n",
       "0               3        2340.0                  310.0     -87.690565   \n",
       "1               3        2639.0                  304.0     -87.690473   \n",
       "2               3        1020.0                  322.0     -87.690731   \n",
       "3               3         680.0                   24.0     -87.690547   \n",
       "4               3        2778.0                   82.0     -87.689729   \n",
       "\n",
       "   geo_latitude  \n",
       "0     41.953323  \n",
       "1     41.953324  \n",
       "2     41.952804  \n",
       "3     41.952805  \n",
       "4     41.952810  \n",
       "\n",
       "[5 rows x 24 columns]"
      ]
     },
     "execution_count": 3,
     "metadata": {},
     "output_type": "execute_result"
    }
   ],
   "source": [
    "bell_sales.head()"
   ]
  },
  {
   "cell_type": "code",
   "execution_count": 4,
   "id": "fd072b31",
   "metadata": {},
   "outputs": [],
   "source": [
    "bell_sales_pin = bell_sales.meta_pin\n",
    "bell_y = bell_sales.meta_sale_price\n",
    "bell_X = bell_sales.drop(['Unnamed: 0','meta_pin','meta_sale_price'],axis=1)"
   ]
  },
  {
   "cell_type": "code",
   "execution_count": 5,
   "id": "16ddc94a",
   "metadata": {},
   "outputs": [
    {
     "name": "stdout",
     "output_type": "stream",
     "text": [
      "<class 'pandas.core.frame.DataFrame'>\n",
      "RangeIndex: 293 entries, 0 to 292\n",
      "Data columns (total 21 columns):\n",
      " #   Column                 Non-Null Count  Dtype  \n",
      "---  ------                 --------------  -----  \n",
      " 0   meta_year              293 non-null    float64\n",
      " 1   meta_class             293 non-null    int64  \n",
      " 2   char_hd_sf             293 non-null    float64\n",
      " 3   char_age               293 non-null    float64\n",
      " 4   char_ext_wall          293 non-null    int64  \n",
      " 5   char_roof_cnst         293 non-null    int64  \n",
      " 6   char_rooms             293 non-null    float64\n",
      " 7   char_beds              293 non-null    float64\n",
      " 8   char_bsmt              293 non-null    int64  \n",
      " 9   char_bsmt_fin          293 non-null    int64  \n",
      " 10  char_heat              293 non-null    int64  \n",
      " 11  char_air               293 non-null    int64  \n",
      " 12  char_frpl              293 non-null    float64\n",
      " 13  char_attic_type        293 non-null    int64  \n",
      " 14  char_fbath             293 non-null    float64\n",
      " 15  char_hbath             293 non-null    float64\n",
      " 16  char_gar1_size         293 non-null    int64  \n",
      " 17  char_bldg_sf           293 non-null    float64\n",
      " 18  time_sale_day_of_year  293 non-null    float64\n",
      " 19  geo_longitude          293 non-null    float64\n",
      " 20  geo_latitude           293 non-null    float64\n",
      "dtypes: float64(12), int64(9)\n",
      "memory usage: 48.2 KB\n"
     ]
    }
   ],
   "source": [
    "bell_X.info()"
   ]
  },
  {
   "cell_type": "markdown",
   "id": "2e1b0687",
   "metadata": {},
   "source": [
    "meta_class is the cook county classification of each property based on age, squarefootage, number of stories, and if it is detached or attached to other homes. As age and square footage are seperate feautures, the useful info to extract from the class are the number of stories and if it is attached."
   ]
  },
  {
   "cell_type": "code",
   "execution_count": 6,
   "id": "63c6180a",
   "metadata": {},
   "outputs": [],
   "source": [
    "bell_X['one_story'] = [1 if x < 205 else 0 for x in bell_X['meta_class']]"
   ]
  },
  {
   "cell_type": "code",
   "execution_count": 7,
   "id": "1ac3fdb7",
   "metadata": {},
   "outputs": [
    {
     "data": {
      "text/html": [
       "<div>\n",
       "<style scoped>\n",
       "    .dataframe tbody tr th:only-of-type {\n",
       "        vertical-align: middle;\n",
       "    }\n",
       "\n",
       "    .dataframe tbody tr th {\n",
       "        vertical-align: top;\n",
       "    }\n",
       "\n",
       "    .dataframe thead th {\n",
       "        text-align: right;\n",
       "    }\n",
       "</style>\n",
       "<table border=\"1\" class=\"dataframe\">\n",
       "  <thead>\n",
       "    <tr style=\"text-align: right;\">\n",
       "      <th></th>\n",
       "      <th>meta_year</th>\n",
       "      <th>meta_class</th>\n",
       "      <th>char_hd_sf</th>\n",
       "      <th>char_age</th>\n",
       "      <th>char_ext_wall</th>\n",
       "      <th>char_roof_cnst</th>\n",
       "      <th>char_rooms</th>\n",
       "      <th>char_beds</th>\n",
       "      <th>char_bsmt</th>\n",
       "      <th>char_bsmt_fin</th>\n",
       "      <th>...</th>\n",
       "      <th>char_frpl</th>\n",
       "      <th>char_attic_type</th>\n",
       "      <th>char_fbath</th>\n",
       "      <th>char_hbath</th>\n",
       "      <th>char_gar1_size</th>\n",
       "      <th>char_bldg_sf</th>\n",
       "      <th>time_sale_day_of_year</th>\n",
       "      <th>geo_longitude</th>\n",
       "      <th>geo_latitude</th>\n",
       "      <th>one_story</th>\n",
       "    </tr>\n",
       "  </thead>\n",
       "  <tbody>\n",
       "    <tr>\n",
       "      <th>0</th>\n",
       "      <td>2017.0</td>\n",
       "      <td>278</td>\n",
       "      <td>3050.0</td>\n",
       "      <td>18.0</td>\n",
       "      <td>1</td>\n",
       "      <td>1</td>\n",
       "      <td>8.0</td>\n",
       "      <td>4.0</td>\n",
       "      <td>1</td>\n",
       "      <td>3</td>\n",
       "      <td>...</td>\n",
       "      <td>0.0</td>\n",
       "      <td>3</td>\n",
       "      <td>2.0</td>\n",
       "      <td>1.0</td>\n",
       "      <td>3</td>\n",
       "      <td>2340.0</td>\n",
       "      <td>310.0</td>\n",
       "      <td>-87.690565</td>\n",
       "      <td>41.953323</td>\n",
       "      <td>0</td>\n",
       "    </tr>\n",
       "    <tr>\n",
       "      <th>1</th>\n",
       "      <td>2013.0</td>\n",
       "      <td>278</td>\n",
       "      <td>3050.0</td>\n",
       "      <td>2.0</td>\n",
       "      <td>2</td>\n",
       "      <td>2</td>\n",
       "      <td>9.0</td>\n",
       "      <td>4.0</td>\n",
       "      <td>1</td>\n",
       "      <td>1</td>\n",
       "      <td>...</td>\n",
       "      <td>3.0</td>\n",
       "      <td>3</td>\n",
       "      <td>3.0</td>\n",
       "      <td>1.0</td>\n",
       "      <td>3</td>\n",
       "      <td>2639.0</td>\n",
       "      <td>304.0</td>\n",
       "      <td>-87.690473</td>\n",
       "      <td>41.953324</td>\n",
       "      <td>0</td>\n",
       "    </tr>\n",
       "    <tr>\n",
       "      <th>2</th>\n",
       "      <td>2013.0</td>\n",
       "      <td>203</td>\n",
       "      <td>3137.0</td>\n",
       "      <td>54.0</td>\n",
       "      <td>2</td>\n",
       "      <td>1</td>\n",
       "      <td>6.0</td>\n",
       "      <td>3.0</td>\n",
       "      <td>1</td>\n",
       "      <td>3</td>\n",
       "      <td>...</td>\n",
       "      <td>0.0</td>\n",
       "      <td>3</td>\n",
       "      <td>2.0</td>\n",
       "      <td>0.0</td>\n",
       "      <td>3</td>\n",
       "      <td>1020.0</td>\n",
       "      <td>322.0</td>\n",
       "      <td>-87.690731</td>\n",
       "      <td>41.952804</td>\n",
       "      <td>1</td>\n",
       "    </tr>\n",
       "    <tr>\n",
       "      <th>3</th>\n",
       "      <td>2014.0</td>\n",
       "      <td>202</td>\n",
       "      <td>3050.0</td>\n",
       "      <td>116.0</td>\n",
       "      <td>1</td>\n",
       "      <td>1</td>\n",
       "      <td>4.0</td>\n",
       "      <td>2.0</td>\n",
       "      <td>3</td>\n",
       "      <td>1</td>\n",
       "      <td>...</td>\n",
       "      <td>0.0</td>\n",
       "      <td>1</td>\n",
       "      <td>2.0</td>\n",
       "      <td>0.0</td>\n",
       "      <td>3</td>\n",
       "      <td>680.0</td>\n",
       "      <td>24.0</td>\n",
       "      <td>-87.690547</td>\n",
       "      <td>41.952805</td>\n",
       "      <td>1</td>\n",
       "    </tr>\n",
       "    <tr>\n",
       "      <th>4</th>\n",
       "      <td>2018.0</td>\n",
       "      <td>206</td>\n",
       "      <td>3660.0</td>\n",
       "      <td>96.0</td>\n",
       "      <td>2</td>\n",
       "      <td>2</td>\n",
       "      <td>7.0</td>\n",
       "      <td>4.0</td>\n",
       "      <td>1</td>\n",
       "      <td>1</td>\n",
       "      <td>...</td>\n",
       "      <td>1.0</td>\n",
       "      <td>3</td>\n",
       "      <td>2.0</td>\n",
       "      <td>1.0</td>\n",
       "      <td>3</td>\n",
       "      <td>2778.0</td>\n",
       "      <td>82.0</td>\n",
       "      <td>-87.689729</td>\n",
       "      <td>41.952810</td>\n",
       "      <td>0</td>\n",
       "    </tr>\n",
       "  </tbody>\n",
       "</table>\n",
       "<p>5 rows × 22 columns</p>\n",
       "</div>"
      ],
      "text/plain": [
       "   meta_year  meta_class  char_hd_sf  char_age  char_ext_wall  char_roof_cnst  \\\n",
       "0     2017.0         278      3050.0      18.0              1               1   \n",
       "1     2013.0         278      3050.0       2.0              2               2   \n",
       "2     2013.0         203      3137.0      54.0              2               1   \n",
       "3     2014.0         202      3050.0     116.0              1               1   \n",
       "4     2018.0         206      3660.0      96.0              2               2   \n",
       "\n",
       "   char_rooms  char_beds  char_bsmt  char_bsmt_fin  ...  char_frpl  \\\n",
       "0         8.0        4.0          1              3  ...        0.0   \n",
       "1         9.0        4.0          1              1  ...        3.0   \n",
       "2         6.0        3.0          1              3  ...        0.0   \n",
       "3         4.0        2.0          3              1  ...        0.0   \n",
       "4         7.0        4.0          1              1  ...        1.0   \n",
       "\n",
       "   char_attic_type  char_fbath  char_hbath  char_gar1_size  char_bldg_sf  \\\n",
       "0                3         2.0         1.0               3        2340.0   \n",
       "1                3         3.0         1.0               3        2639.0   \n",
       "2                3         2.0         0.0               3        1020.0   \n",
       "3                1         2.0         0.0               3         680.0   \n",
       "4                3         2.0         1.0               3        2778.0   \n",
       "\n",
       "   time_sale_day_of_year  geo_longitude  geo_latitude  one_story  \n",
       "0                  310.0     -87.690565     41.953323          0  \n",
       "1                  304.0     -87.690473     41.953324          0  \n",
       "2                  322.0     -87.690731     41.952804          1  \n",
       "3                   24.0     -87.690547     41.952805          1  \n",
       "4                   82.0     -87.689729     41.952810          0  \n",
       "\n",
       "[5 rows x 22 columns]"
      ]
     },
     "execution_count": 7,
     "metadata": {},
     "output_type": "execute_result"
    }
   ],
   "source": [
    "bell_X.head()"
   ]
  },
  {
   "cell_type": "code",
   "execution_count": 8,
   "id": "2a4e7e26",
   "metadata": {},
   "outputs": [],
   "source": [
    "bell_X['row_house'] = [1 if ((x == 210) or (x==295)) else 0 for x in bell_X['meta_class']]"
   ]
  },
  {
   "cell_type": "code",
   "execution_count": 9,
   "id": "95c8d1d4",
   "metadata": {},
   "outputs": [
    {
     "data": {
      "text/html": [
       "<div>\n",
       "<style scoped>\n",
       "    .dataframe tbody tr th:only-of-type {\n",
       "        vertical-align: middle;\n",
       "    }\n",
       "\n",
       "    .dataframe tbody tr th {\n",
       "        vertical-align: top;\n",
       "    }\n",
       "\n",
       "    .dataframe thead th {\n",
       "        text-align: right;\n",
       "    }\n",
       "</style>\n",
       "<table border=\"1\" class=\"dataframe\">\n",
       "  <thead>\n",
       "    <tr style=\"text-align: right;\">\n",
       "      <th></th>\n",
       "      <th>meta_year</th>\n",
       "      <th>meta_class</th>\n",
       "      <th>char_hd_sf</th>\n",
       "      <th>char_age</th>\n",
       "      <th>char_ext_wall</th>\n",
       "      <th>char_roof_cnst</th>\n",
       "      <th>char_rooms</th>\n",
       "      <th>char_beds</th>\n",
       "      <th>char_bsmt</th>\n",
       "      <th>char_bsmt_fin</th>\n",
       "      <th>...</th>\n",
       "      <th>char_attic_type</th>\n",
       "      <th>char_fbath</th>\n",
       "      <th>char_hbath</th>\n",
       "      <th>char_gar1_size</th>\n",
       "      <th>char_bldg_sf</th>\n",
       "      <th>time_sale_day_of_year</th>\n",
       "      <th>geo_longitude</th>\n",
       "      <th>geo_latitude</th>\n",
       "      <th>one_story</th>\n",
       "      <th>row_house</th>\n",
       "    </tr>\n",
       "  </thead>\n",
       "  <tbody>\n",
       "    <tr>\n",
       "      <th>127</th>\n",
       "      <td>2019.0</td>\n",
       "      <td>295</td>\n",
       "      <td>2445.0</td>\n",
       "      <td>5.0</td>\n",
       "      <td>2</td>\n",
       "      <td>1</td>\n",
       "      <td>8.0</td>\n",
       "      <td>4.0</td>\n",
       "      <td>1</td>\n",
       "      <td>1</td>\n",
       "      <td>...</td>\n",
       "      <td>3</td>\n",
       "      <td>3.0</td>\n",
       "      <td>1.0</td>\n",
       "      <td>2</td>\n",
       "      <td>2161.0</td>\n",
       "      <td>151.0</td>\n",
       "      <td>-87.680816</td>\n",
       "      <td>41.953577</td>\n",
       "      <td>0</td>\n",
       "      <td>1</td>\n",
       "    </tr>\n",
       "    <tr>\n",
       "      <th>279</th>\n",
       "      <td>2015.0</td>\n",
       "      <td>295</td>\n",
       "      <td>1200.0</td>\n",
       "      <td>17.0</td>\n",
       "      <td>2</td>\n",
       "      <td>2</td>\n",
       "      <td>6.0</td>\n",
       "      <td>3.0</td>\n",
       "      <td>1</td>\n",
       "      <td>3</td>\n",
       "      <td>...</td>\n",
       "      <td>3</td>\n",
       "      <td>1.0</td>\n",
       "      <td>1.0</td>\n",
       "      <td>7</td>\n",
       "      <td>2286.0</td>\n",
       "      <td>182.0</td>\n",
       "      <td>-87.676769</td>\n",
       "      <td>41.950377</td>\n",
       "      <td>0</td>\n",
       "      <td>1</td>\n",
       "    </tr>\n",
       "    <tr>\n",
       "      <th>280</th>\n",
       "      <td>2015.0</td>\n",
       "      <td>295</td>\n",
       "      <td>1205.0</td>\n",
       "      <td>17.0</td>\n",
       "      <td>2</td>\n",
       "      <td>2</td>\n",
       "      <td>6.0</td>\n",
       "      <td>3.0</td>\n",
       "      <td>1</td>\n",
       "      <td>3</td>\n",
       "      <td>...</td>\n",
       "      <td>3</td>\n",
       "      <td>1.0</td>\n",
       "      <td>1.0</td>\n",
       "      <td>7</td>\n",
       "      <td>2286.0</td>\n",
       "      <td>176.0</td>\n",
       "      <td>-87.676768</td>\n",
       "      <td>41.950352</td>\n",
       "      <td>0</td>\n",
       "      <td>1</td>\n",
       "    </tr>\n",
       "    <tr>\n",
       "      <th>281</th>\n",
       "      <td>2018.0</td>\n",
       "      <td>295</td>\n",
       "      <td>1281.0</td>\n",
       "      <td>20.0</td>\n",
       "      <td>2</td>\n",
       "      <td>2</td>\n",
       "      <td>6.0</td>\n",
       "      <td>3.0</td>\n",
       "      <td>1</td>\n",
       "      <td>3</td>\n",
       "      <td>...</td>\n",
       "      <td>3</td>\n",
       "      <td>1.0</td>\n",
       "      <td>1.0</td>\n",
       "      <td>7</td>\n",
       "      <td>2286.0</td>\n",
       "      <td>156.0</td>\n",
       "      <td>-87.676709</td>\n",
       "      <td>41.950366</td>\n",
       "      <td>0</td>\n",
       "      <td>1</td>\n",
       "    </tr>\n",
       "  </tbody>\n",
       "</table>\n",
       "<p>4 rows × 23 columns</p>\n",
       "</div>"
      ],
      "text/plain": [
       "     meta_year  meta_class  char_hd_sf  char_age  char_ext_wall  \\\n",
       "127     2019.0         295      2445.0       5.0              2   \n",
       "279     2015.0         295      1200.0      17.0              2   \n",
       "280     2015.0         295      1205.0      17.0              2   \n",
       "281     2018.0         295      1281.0      20.0              2   \n",
       "\n",
       "     char_roof_cnst  char_rooms  char_beds  char_bsmt  char_bsmt_fin  ...  \\\n",
       "127               1         8.0        4.0          1              1  ...   \n",
       "279               2         6.0        3.0          1              3  ...   \n",
       "280               2         6.0        3.0          1              3  ...   \n",
       "281               2         6.0        3.0          1              3  ...   \n",
       "\n",
       "     char_attic_type  char_fbath  char_hbath  char_gar1_size  char_bldg_sf  \\\n",
       "127                3         3.0         1.0               2        2161.0   \n",
       "279                3         1.0         1.0               7        2286.0   \n",
       "280                3         1.0         1.0               7        2286.0   \n",
       "281                3         1.0         1.0               7        2286.0   \n",
       "\n",
       "     time_sale_day_of_year  geo_longitude  geo_latitude  one_story  row_house  \n",
       "127                  151.0     -87.680816     41.953577          0          1  \n",
       "279                  182.0     -87.676769     41.950377          0          1  \n",
       "280                  176.0     -87.676768     41.950352          0          1  \n",
       "281                  156.0     -87.676709     41.950366          0          1  \n",
       "\n",
       "[4 rows x 23 columns]"
      ]
     },
     "execution_count": 9,
     "metadata": {},
     "output_type": "execute_result"
    }
   ],
   "source": [
    "bell_X[bell_X.row_house==1]"
   ]
  },
  {
   "cell_type": "code",
   "execution_count": 10,
   "id": "4548bae5",
   "metadata": {},
   "outputs": [],
   "source": [
    "bell_X = bell_X.drop(columns='meta_class')"
   ]
  },
  {
   "cell_type": "code",
   "execution_count": 11,
   "id": "0dd03a28",
   "metadata": {},
   "outputs": [
    {
     "name": "stdout",
     "output_type": "stream",
     "text": [
      "<class 'pandas.core.frame.DataFrame'>\n",
      "RangeIndex: 293 entries, 0 to 292\n",
      "Data columns (total 22 columns):\n",
      " #   Column                 Non-Null Count  Dtype  \n",
      "---  ------                 --------------  -----  \n",
      " 0   meta_year              293 non-null    float64\n",
      " 1   char_hd_sf             293 non-null    float64\n",
      " 2   char_age               293 non-null    float64\n",
      " 3   char_ext_wall          293 non-null    int64  \n",
      " 4   char_roof_cnst         293 non-null    int64  \n",
      " 5   char_rooms             293 non-null    float64\n",
      " 6   char_beds              293 non-null    float64\n",
      " 7   char_bsmt              293 non-null    int64  \n",
      " 8   char_bsmt_fin          293 non-null    int64  \n",
      " 9   char_heat              293 non-null    int64  \n",
      " 10  char_air               293 non-null    int64  \n",
      " 11  char_frpl              293 non-null    float64\n",
      " 12  char_attic_type        293 non-null    int64  \n",
      " 13  char_fbath             293 non-null    float64\n",
      " 14  char_hbath             293 non-null    float64\n",
      " 15  char_gar1_size         293 non-null    int64  \n",
      " 16  char_bldg_sf           293 non-null    float64\n",
      " 17  time_sale_day_of_year  293 non-null    float64\n",
      " 18  geo_longitude          293 non-null    float64\n",
      " 19  geo_latitude           293 non-null    float64\n",
      " 20  one_story              293 non-null    int64  \n",
      " 21  row_house              293 non-null    int64  \n",
      "dtypes: float64(12), int64(10)\n",
      "memory usage: 50.5 KB\n"
     ]
    }
   ],
   "source": [
    "bell_X.info() "
   ]
  },
  {
   "cell_type": "code",
   "execution_count": 12,
   "id": "7cd57be3",
   "metadata": {},
   "outputs": [],
   "source": [
    "bell_X = bell_X.astype({'char_ext_wall':'category','char_roof_cnst':'category','char_bsmt':'category','char_attic_type':'category','char_gar1_size':'category'})"
   ]
  },
  {
   "cell_type": "code",
   "execution_count": 13,
   "id": "89ca3df9",
   "metadata": {},
   "outputs": [
    {
     "name": "stdout",
     "output_type": "stream",
     "text": [
      "<class 'pandas.core.frame.DataFrame'>\n",
      "RangeIndex: 293 entries, 0 to 292\n",
      "Data columns (total 22 columns):\n",
      " #   Column                 Non-Null Count  Dtype   \n",
      "---  ------                 --------------  -----   \n",
      " 0   meta_year              293 non-null    float64 \n",
      " 1   char_hd_sf             293 non-null    float64 \n",
      " 2   char_age               293 non-null    float64 \n",
      " 3   char_ext_wall          293 non-null    category\n",
      " 4   char_roof_cnst         293 non-null    category\n",
      " 5   char_rooms             293 non-null    float64 \n",
      " 6   char_beds              293 non-null    float64 \n",
      " 7   char_bsmt              293 non-null    category\n",
      " 8   char_bsmt_fin          293 non-null    int64   \n",
      " 9   char_heat              293 non-null    int64   \n",
      " 10  char_air               293 non-null    int64   \n",
      " 11  char_frpl              293 non-null    float64 \n",
      " 12  char_attic_type        293 non-null    category\n",
      " 13  char_fbath             293 non-null    float64 \n",
      " 14  char_hbath             293 non-null    float64 \n",
      " 15  char_gar1_size         293 non-null    category\n",
      " 16  char_bldg_sf           293 non-null    float64 \n",
      " 17  time_sale_day_of_year  293 non-null    float64 \n",
      " 18  geo_longitude          293 non-null    float64 \n",
      " 19  geo_latitude           293 non-null    float64 \n",
      " 20  one_story              293 non-null    int64   \n",
      " 21  row_house              293 non-null    int64   \n",
      "dtypes: category(5), float64(12), int64(5)\n",
      "memory usage: 41.4 KB\n"
     ]
    }
   ],
   "source": [
    "bell_X.info() "
   ]
  },
  {
   "cell_type": "code",
   "execution_count": 14,
   "id": "71b79327",
   "metadata": {},
   "outputs": [],
   "source": [
    "bell_X_lr = pd.get_dummies(bell_X,drop_first=True)\n",
    "bell_X_dt=  pd.get_dummies(bell_X)"
   ]
  },
  {
   "cell_type": "code",
   "execution_count": 15,
   "id": "2b8a705a",
   "metadata": {},
   "outputs": [],
   "source": [
    "X_train, X_test, y_train, y_test = train_test_split(bell_X_lr, bell_y, test_size=0.2, random_state=42)"
   ]
  },
  {
   "cell_type": "code",
   "execution_count": 16,
   "id": "e5e5cd35",
   "metadata": {},
   "outputs": [],
   "source": [
    "scaler = StandardScaler()\n",
    "scaler.fit(X_train)\n",
    "X_train= scaler.transform(X_train)\n",
    "X_test = scaler.transform(X_test)"
   ]
  },
  {
   "cell_type": "markdown",
   "id": "508fba12",
   "metadata": {},
   "source": [
    "scaling is needed for models that need to determine a 'distance\" between data points. But for models, such as decesion trees, that do not require a distance, it is not required.Scaling should do no harm when it is not needed. "
   ]
  },
  {
   "cell_type": "markdown",
   "id": "b0b6ac9c",
   "metadata": {},
   "source": [
    "First just try metrics for the mean value of the training data"
   ]
  },
  {
   "cell_type": "code",
   "execution_count": 17,
   "id": "799b5908",
   "metadata": {},
   "outputs": [
    {
     "data": {
      "text/plain": [
       "array([[1131707.35042735]])"
      ]
     },
     "execution_count": 17,
     "metadata": {},
     "output_type": "execute_result"
    }
   ],
   "source": [
    "dumb_reg = DummyRegressor(strategy='mean')\n",
    "dumb_reg.fit(X_train,y_train)\n",
    "dumb_reg.constant_\n",
    "\n"
   ]
  },
  {
   "cell_type": "code",
   "execution_count": 18,
   "id": "c726c242",
   "metadata": {},
   "outputs": [
    {
     "data": {
      "text/plain": [
       "(0.44996805776414805,\n",
       " 0.4638872851774428,\n",
       " 0.0,\n",
       " -0.006717921520868142,\n",
       " 434738.2204517969,\n",
       " 462579.2947234855,\n",
       " 347035.00387172186,\n",
       " 375599.8958423874)"
      ]
     },
     "execution_count": 18,
     "metadata": {},
     "output_type": "execute_result"
    }
   ],
   "source": [
    "y_tr_pred = dumb_reg.predict(X_train)\n",
    "y_te_pred = dumb_reg.predict(X_test)\n",
    "mape(y_train, y_tr_pred), mape(y_test, y_te_pred),\\\n",
    "r2_score(y_train, y_tr_pred), r2_score(y_test, y_te_pred),\\\n",
    "np.sqrt(mean_squared_error(y_train, y_tr_pred)), np.sqrt(mean_squared_error(y_test, y_te_pred)),\\\n",
    "mean_absolute_error(y_train, y_tr_pred),mean_absolute_error(y_test, y_te_pred)\n",
    "\n"
   ]
  },
  {
   "cell_type": "markdown",
   "id": "fad69010",
   "metadata": {},
   "source": [
    "Three metrics recommended by the International association of assessing officers based on the ratio y_pred/y_test are Coefficient of Dispersion (COD), Price Related Differential (PRD), and Coefficent of Price-Related Bias."
   ]
  },
  {
   "cell_type": "markdown",
   "id": "aae8f2b8",
   "metadata": {},
   "source": [
    "Coefficient of Dispersion (COD)is a measure of the variance of the ratio. It is multiplied by 100. Its value is the percentage variation of the ratio away from the median. It does not tell us if low priced homes are being treated differently than high priced homes."
   ]
  },
  {
   "cell_type": "code",
   "execution_count": 19,
   "id": "e3722ace",
   "metadata": {},
   "outputs": [
    {
     "data": {
      "text/plain": [
       "(44.46304068614593, 40.43873536375696)"
      ]
     },
     "execution_count": 19,
     "metadata": {},
     "output_type": "execute_result"
    }
   ],
   "source": [
    "def cod(y_pred,y_test):\n",
    "    ratio = y_pred/y_test\n",
    "    ratio_median = np.median(ratio)\n",
    "    return 100*np.mean(np.abs(ratio-ratio_median))/ratio_median\n",
    "cod(y_tr_pred,y_train), cod(y_te_pred,y_test)"
   ]
  },
  {
   "cell_type": "markdown",
   "id": "38b59c84",
   "metadata": {},
   "source": [
    "Just taking an average produces a variation of over 40% is the ratio.\n"
   ]
  },
  {
   "cell_type": "markdown",
   "id": "d970399b",
   "metadata": {},
   "source": [
    "Price Related Differential does tell us if low priced homes are being treated differently than high priced homes. It is the mean ratio divided by the sales price weighted mean ratio. If the ratio for large sales price homes is lower than the ratio for low sales price homes, then the mean ratio over the weighted mean ratio will be larger than 1."
   ]
  },
  {
   "cell_type": "code",
   "execution_count": 20,
   "id": "5edf7a3b",
   "metadata": {},
   "outputs": [
    {
     "data": {
      "text/plain": [
       "(1.2397913651988004, 1.2271569281135832)"
      ]
     },
     "execution_count": 20,
     "metadata": {},
     "output_type": "execute_result"
    }
   ],
   "source": [
    "def prd(y_pred,y_test):\n",
    "    ratio = y_pred/y_test\n",
    "    y_test_sum = np.sum(y_test)\n",
    "    y_pred_sum = np.sum(y_pred)\n",
    "    return np.mean(ratio)*y_test_sum/y_pred_sum\n",
    "prd(y_tr_pred,y_train), prd(y_te_pred,y_test)"
   ]
  },
  {
   "cell_type": "markdown",
   "id": "778bc195",
   "metadata": {},
   "source": [
    "The mean ratio is 22% higher than the weighted mean ratio, indicating that low proced homes are priced higher than their sales price compared to how high priced homes are treated.  This is a consequence that small variations in the predicated price of a low priced home makes a bigger change in the ratio."
   ]
  },
  {
   "cell_type": "markdown",
   "id": "9801b5be",
   "metadata": {},
   "source": [
    "Coefficent of price related bias (PRB) does a liner regression between the log2 of the price and the ratio. A negative number means that if one increases the price, the ratio goes down."
   ]
  },
  {
   "cell_type": "code",
   "execution_count": 21,
   "id": "c7720837",
   "metadata": {},
   "outputs": [
    {
     "data": {
      "text/plain": [
       "(array([-2.30460326]), array([-1.77788597]))"
      ]
     },
     "execution_count": 21,
     "metadata": {},
     "output_type": "execute_result"
    }
   ],
   "source": [
    "def prb(y_pred,y_test):\n",
    "    proxy = 0.5*(y_pred + y_test)\n",
    "    ln_value = pd.DataFrame(np.log2(proxy))\n",
    "    ratio = y_pred/y_test\n",
    "    ratio_median = np.median(ratio)\n",
    "    pct_dif = (ratio - ratio_median)/ratio_median\n",
    "    lr = LinearRegression()\n",
    "    lr.fit(ln_value,pct_dif)\n",
    "    return lr.coef_\n",
    "prb(y_tr_pred,y_train), prb(y_te_pred,y_test)"
   ]
  },
  {
   "cell_type": "markdown",
   "id": "93d284a2",
   "metadata": {},
   "source": [
    "Using the average price for all predictions has the consequence that doubling the price of the home means the ratio goes down by 178%."
   ]
  },
  {
   "cell_type": "markdown",
   "id": "a3ab86d6",
   "metadata": {},
   "source": [
    "Next we see how linear regression improves predicted prices.  "
   ]
  },
  {
   "cell_type": "code",
   "execution_count": 22,
   "id": "fe29baa3",
   "metadata": {},
   "outputs": [
    {
     "data": {
      "text/plain": [
       "LinearRegression()"
      ]
     },
     "execution_count": 22,
     "metadata": {},
     "output_type": "execute_result"
    }
   ],
   "source": [
    "lm = LinearRegression()\n",
    "lm.fit(X_train, y_train)"
   ]
  },
  {
   "cell_type": "code",
   "execution_count": 23,
   "id": "042160cd",
   "metadata": {},
   "outputs": [],
   "source": [
    "y_tr_pred = lm.predict(X_train)\n",
    "y_te_pred = lm.predict(X_test)"
   ]
  },
  {
   "cell_type": "code",
   "execution_count": 24,
   "id": "8a3bc790",
   "metadata": {},
   "outputs": [
    {
     "data": {
      "text/plain": [
       "(0.16076017907283063,\n",
       " 0.23838756243101114,\n",
       " 0.8337447921744822,\n",
       " 0.549354560289365,\n",
       " 177261.92137211186,\n",
       " 309492.25116641144,\n",
       " 141399.68853913195,\n",
       " 231516.62158634)"
      ]
     },
     "execution_count": 24,
     "metadata": {},
     "output_type": "execute_result"
    }
   ],
   "source": [
    "mape(y_train, y_tr_pred), mape(y_test, y_te_pred),\\\n",
    "r2_score(y_train, y_tr_pred), r2_score(y_test, y_te_pred),\\\n",
    "np.sqrt(mean_squared_error(y_train, y_tr_pred)), np.sqrt(mean_squared_error(y_test, y_te_pred)),\\\n",
    "mean_absolute_error(y_train, y_tr_pred),mean_absolute_error(y_test, y_te_pred)\n",
    "\n"
   ]
  },
  {
   "cell_type": "code",
   "execution_count": 25,
   "id": "1f6ed839",
   "metadata": {},
   "outputs": [
    {
     "data": {
      "text/plain": [
       "(16.100573333675225, 23.403911446899127)"
      ]
     },
     "execution_count": 25,
     "metadata": {},
     "output_type": "execute_result"
    }
   ],
   "source": [
    "cod(y_tr_pred,y_train), cod(y_te_pred,y_test)"
   ]
  },
  {
   "cell_type": "markdown",
   "id": "5cd26214",
   "metadata": {},
   "source": [
    "variance is cut by more than half"
   ]
  },
  {
   "cell_type": "code",
   "execution_count": 26,
   "id": "f8289e34",
   "metadata": {},
   "outputs": [
    {
     "data": {
      "text/plain": [
       "(1.0381054735985613, 1.0722769965180503)"
      ]
     },
     "execution_count": 26,
     "metadata": {},
     "output_type": "execute_result"
    }
   ],
   "source": [
    "prd(y_tr_pred,y_train), prd(y_te_pred,y_test)"
   ]
  },
  {
   "cell_type": "markdown",
   "id": "56dfe4f8",
   "metadata": {},
   "source": [
    "mean ratio is now only 7 percent higher than the weighted ratio."
   ]
  },
  {
   "cell_type": "code",
   "execution_count": 27,
   "id": "fc17c371",
   "metadata": {},
   "outputs": [
    {
     "data": {
      "text/plain": [
       "(array([-0.10005336]), array([-0.1500311]))"
      ]
     },
     "execution_count": 27,
     "metadata": {},
     "output_type": "execute_result"
    }
   ],
   "source": [
    "prb(y_tr_pred,y_train), prb(y_te_pred,y_test)"
   ]
  },
  {
   "cell_type": "code",
   "execution_count": 28,
   "id": "e02421bc",
   "metadata": {},
   "outputs": [
    {
     "data": {
      "text/plain": [
       "<AxesSubplot:xlabel='meta_sale_price'>"
      ]
     },
     "execution_count": 28,
     "metadata": {},
     "output_type": "execute_result"
    },
    {
     "data": {
      "image/png": "[encoded data removed]",
      "text/plain": [
       "<Figure size 432x288 with 1 Axes>"
      ]
     },
     "metadata": {
      "needs_background": "light"
     },
     "output_type": "display_data"
    }
   ],
   "source": [
    "sns.scatterplot(x=y_train,y=y_tr_pred)"
   ]
  },
  {
   "cell_type": "code",
   "execution_count": 29,
   "id": "b7a0b45f",
   "metadata": {},
   "outputs": [
    {
     "data": {
      "text/plain": [
       "<AxesSubplot:xlabel='meta_sale_price'>"
      ]
     },
     "execution_count": 29,
     "metadata": {},
     "output_type": "execute_result"
    },
    {
     "data": {
      "image/png": "[encoded data removed]",
      "text/plain": [
       "<Figure size 432x288 with 1 Axes>"
      ]
     },
     "metadata": {
      "needs_background": "light"
     },
     "output_type": "display_data"
    }
   ],
   "source": [
    "sns.scatterplot(x=y_test,y=y_te_pred)"
   ]
  },
  {
   "cell_type": "code",
   "execution_count": 30,
   "id": "f84502d5",
   "metadata": {},
   "outputs": [
    {
     "data": {
      "text/plain": [
       "<AxesSubplot:xlabel='meta_sale_price', ylabel='meta_sale_price'>"
      ]
     },
     "execution_count": 30,
     "metadata": {},
     "output_type": "execute_result"
    },
    {
     "data": {
      "image/png": "[encoded data removed]",
      "text/plain": [
       "<Figure size 432x288 with 1 Axes>"
      ]
     },
     "metadata": {
      "needs_background": "light"
     },
     "output_type": "display_data"
    }
   ],
   "source": [
    "sns.scatterplot(x=y_train,y=y_tr_pred/y_train)"
   ]
  },
  {
   "cell_type": "code",
   "execution_count": 31,
   "id": "8e07d98b",
   "metadata": {},
   "outputs": [
    {
     "data": {
      "text/plain": [
       "<AxesSubplot:xlabel='meta_sale_price', ylabel='meta_sale_price'>"
      ]
     },
     "execution_count": 31,
     "metadata": {},
     "output_type": "execute_result"
    },
    {
     "data": {
      "image/png": "[encoded data removed]",
      "text/plain": [
       "<Figure size 432x288 with 1 Axes>"
      ]
     },
     "metadata": {
      "needs_background": "light"
     },
     "output_type": "display_data"
    }
   ],
   "source": [
    "sns.scatterplot(x=y_test,y=y_te_pred/y_test)"
   ]
  },
  {
   "cell_type": "code",
   "execution_count": 32,
   "id": "197ade61",
   "metadata": {},
   "outputs": [
    {
     "data": {
      "text/plain": [
       "<AxesSubplot:xlabel='meta_sale_price', ylabel='meta_sale_price'>"
      ]
     },
     "execution_count": 32,
     "metadata": {},
     "output_type": "execute_result"
    },
    {
     "data": {
      "image/png": "[encoded data removed]",
      "text/plain": [
       "<Figure size 432x288 with 1 Axes>"
      ]
     },
     "metadata": {
      "needs_background": "light"
     },
     "output_type": "display_data"
    }
   ],
   "source": [
    "sns.scatterplot(x=np.log2(y_train),y=y_tr_pred/y_train)"
   ]
  },
  {
   "cell_type": "code",
   "execution_count": 33,
   "id": "044b7cc1",
   "metadata": {},
   "outputs": [
    {
     "data": {
      "text/plain": [
       "<AxesSubplot:xlabel='meta_sale_price', ylabel='meta_sale_price'>"
      ]
     },
     "execution_count": 33,
     "metadata": {},
     "output_type": "execute_result"
    },
    {
     "data": {
      "image/png": "[encoded data removed]",
      "text/plain": [
       "<Figure size 432x288 with 1 Axes>"
      ]
     },
     "metadata": {
      "needs_background": "light"
     },
     "output_type": "display_data"
    }
   ],
   "source": [
    "sns.scatterplot(x=np.log2(y_test),y=y_te_pred/y_test)"
   ]
  },
  {
   "cell_type": "markdown",
   "id": "ba3767e8",
   "metadata": {},
   "source": [
    "For linear regression, doubling the home price means the ratio goes down by almost 14%. Let's see how much this can be improved with ElasticNet which includes LinearRegression as a limit."
   ]
  },
  {
   "cell_type": "code",
   "execution_count": 34,
   "id": "6f6f17a3",
   "metadata": {},
   "outputs": [],
   "source": [
    "en = ElasticNet()"
   ]
  },
  {
   "cell_type": "code",
   "execution_count": 35,
   "id": "af171135",
   "metadata": {},
   "outputs": [],
   "source": [
    "params = {'alpha':[0.0001,0.001,0.01,0.1,0.2,0.3,0.4,0.5,0.6,0.7,0.8,0.9,1.0],'l1_ratio':[.1, .5, .7, .9, .95, .99, 1]}\n",
    "en_gscv = GridSearchCV(en,params,n_jobs=-1,cv=5,scoring=\"neg_mean_absolute_percentage_error\")"
   ]
  },
  {
   "cell_type": "code",
   "execution_count": 36,
   "id": "2c2b9862",
   "metadata": {},
   "outputs": [
    {
     "data": {
      "text/plain": [
       "GridSearchCV(cv=5, estimator=ElasticNet(), n_jobs=-1,\n",
       "             param_grid={'alpha': [0.0001, 0.001, 0.01, 0.1, 0.2, 0.3, 0.4, 0.5,\n",
       "                                   0.6, 0.7, 0.8, 0.9, 1.0],\n",
       "                         'l1_ratio': [0.1, 0.5, 0.7, 0.9, 0.95, 0.99, 1]},\n",
       "             scoring='neg_mean_absolute_percentage_error')"
      ]
     },
     "execution_count": 36,
     "metadata": {},
     "output_type": "execute_result"
    }
   ],
   "source": [
    "en_gscv.fit(X_train, y_train)"
   ]
  },
  {
   "cell_type": "code",
   "execution_count": 37,
   "id": "8644c995",
   "metadata": {},
   "outputs": [],
   "source": [
    "y_tr_pred = en_gscv.predict(X_train)\n",
    "y_te_pred = en_gscv.predict(X_test)"
   ]
  },
  {
   "cell_type": "code",
   "execution_count": 38,
   "id": "11beef17",
   "metadata": {},
   "outputs": [
    {
     "data": {
      "text/plain": [
       "(0.16474669940039355,\n",
       " 0.23157606374644107,\n",
       " 0.8232515697279386,\n",
       " 0.5715862431613039,\n",
       " 182770.29214964865,\n",
       " 301761.6138312305,\n",
       " 147704.0866948564,\n",
       " 229043.36891492666)"
      ]
     },
     "execution_count": 38,
     "metadata": {},
     "output_type": "execute_result"
    }
   ],
   "source": [
    "mape(y_train, y_tr_pred), mape(y_test, y_te_pred),\\\n",
    "r2_score(y_train, y_tr_pred), r2_score(y_test, y_te_pred),\\\n",
    "np.sqrt(mean_squared_error(y_train, y_tr_pred)), np.sqrt(mean_squared_error(y_test, y_te_pred)),\\\n",
    "mean_absolute_error(y_train, y_tr_pred),mean_absolute_error(y_test, y_te_pred)\n",
    "\n"
   ]
  },
  {
   "cell_type": "code",
   "execution_count": 39,
   "id": "914cace4",
   "metadata": {},
   "outputs": [
    {
     "data": {
      "text/plain": [
       "(16.278685421453417, 22.337967082038574)"
      ]
     },
     "execution_count": 39,
     "metadata": {},
     "output_type": "execute_result"
    }
   ],
   "source": [
    "cod(y_tr_pred,y_train), cod(y_te_pred,y_test)"
   ]
  },
  {
   "cell_type": "code",
   "execution_count": 40,
   "id": "860cfeb6",
   "metadata": {},
   "outputs": [
    {
     "data": {
      "text/plain": [
       "(1.0462864762846154, 1.074501836655818)"
      ]
     },
     "execution_count": 40,
     "metadata": {},
     "output_type": "execute_result"
    }
   ],
   "source": [
    "prd(y_tr_pred,y_train), prd(y_te_pred,y_test)"
   ]
  },
  {
   "cell_type": "code",
   "execution_count": 41,
   "id": "9944e246",
   "metadata": {},
   "outputs": [
    {
     "data": {
      "text/plain": [
       "(array([-0.14463199]), array([-0.16949476]))"
      ]
     },
     "execution_count": 41,
     "metadata": {},
     "output_type": "execute_result"
    }
   ],
   "source": [
    "prb(y_tr_pred,y_train), prb(y_te_pred,y_test)"
   ]
  },
  {
   "cell_type": "code",
   "execution_count": 42,
   "id": "4b4ce53b",
   "metadata": {},
   "outputs": [
    {
     "data": {
      "text/plain": [
       "{'alpha': 0.4, 'l1_ratio': 0.7}"
      ]
     },
     "execution_count": 42,
     "metadata": {},
     "output_type": "execute_result"
    }
   ],
   "source": [
    "en_gscv.best_params_"
   ]
  },
  {
   "cell_type": "code",
   "execution_count": 43,
   "id": "03611c55",
   "metadata": {},
   "outputs": [
    {
     "data": {
      "text/plain": [
       "<AxesSubplot:xlabel='meta_sale_price'>"
      ]
     },
     "execution_count": 43,
     "metadata": {},
     "output_type": "execute_result"
    },
    {
     "data": {
      "image/png": "[encoded data removed]",
      "text/plain": [
       "<Figure size 432x288 with 1 Axes>"
      ]
     },
     "metadata": {
      "needs_background": "light"
     },
     "output_type": "display_data"
    }
   ],
   "source": [
    "sns.scatterplot(x=y_train,y=y_tr_pred)"
   ]
  },
  {
   "cell_type": "code",
   "execution_count": 44,
   "id": "415f1430",
   "metadata": {},
   "outputs": [
    {
     "data": {
      "text/plain": [
       "<AxesSubplot:xlabel='meta_sale_price'>"
      ]
     },
     "execution_count": 44,
     "metadata": {},
     "output_type": "execute_result"
    },
    {
     "data": {
      "image/png": "[encoded data removed]",
      "text/plain": [
       "<Figure size 432x288 with 1 Axes>"
      ]
     },
     "metadata": {
      "needs_background": "light"
     },
     "output_type": "display_data"
    }
   ],
   "source": [
    "sns.scatterplot(x=y_test,y=y_te_pred)"
   ]
  },
  {
   "cell_type": "code",
   "execution_count": 45,
   "id": "2f4080a4",
   "metadata": {},
   "outputs": [
    {
     "data": {
      "text/plain": [
       "<AxesSubplot:xlabel='meta_sale_price', ylabel='meta_sale_price'>"
      ]
     },
     "execution_count": 45,
     "metadata": {},
     "output_type": "execute_result"
    },
    {
     "data": {
      "image/png": "[encoded data removed]",
      "text/plain": [
       "<Figure size 432x288 with 1 Axes>"
      ]
     },
     "metadata": {
      "needs_background": "light"
     },
     "output_type": "display_data"
    }
   ],
   "source": [
    "sns.scatterplot(x=y_train,y=y_tr_pred/y_train)"
   ]
  },
  {
   "cell_type": "code",
   "execution_count": 46,
   "id": "c1df9c3f",
   "metadata": {},
   "outputs": [
    {
     "data": {
      "text/plain": [
       "<AxesSubplot:xlabel='meta_sale_price', ylabel='meta_sale_price'>"
      ]
     },
     "execution_count": 46,
     "metadata": {},
     "output_type": "execute_result"
    },
    {
     "data": {
      "image/png": "[encoded data removed]",
      "text/plain": [
       "<Figure size 432x288 with 1 Axes>"
      ]
     },
     "metadata": {
      "needs_background": "light"
     },
     "output_type": "display_data"
    }
   ],
   "source": [
    "sns.scatterplot(x=y_test,y=y_te_pred/y_test)"
   ]
  },
  {
   "cell_type": "code",
   "execution_count": 47,
   "id": "28d731b1",
   "metadata": {},
   "outputs": [
    {
     "data": {
      "text/plain": [
       "(1.0462864762846154, 1.074501836655818)"
      ]
     },
     "execution_count": 47,
     "metadata": {},
     "output_type": "execute_result"
    }
   ],
   "source": [
    "prd(y_tr_pred,y_train), prd(y_te_pred,y_test)"
   ]
  },
  {
   "cell_type": "code",
   "execution_count": 48,
   "id": "1dcac96b",
   "metadata": {},
   "outputs": [
    {
     "data": {
      "text/plain": [
       "<AxesSubplot:xlabel='meta_sale_price', ylabel='meta_sale_price'>"
      ]
     },
     "execution_count": 48,
     "metadata": {},
     "output_type": "execute_result"
    },
    {
     "data": {
      "image/png": "[encoded data removed]",
      "text/plain": [
       "<Figure size 432x288 with 1 Axes>"
      ]
     },
     "metadata": {
      "needs_background": "light"
     },
     "output_type": "display_data"
    }
   ],
   "source": [
    "sns.scatterplot(x=np.log2(y_test),y=y_te_pred/y_test)"
   ]
  },
  {
   "cell_type": "markdown",
   "id": "3237720f",
   "metadata": {},
   "source": [
    "For linear regression, doubling the home price means the ratio goes down by almost 14%. Can this be improved with Random Forest?"
   ]
  },
  {
   "cell_type": "code",
   "execution_count": 49,
   "id": "12feca12",
   "metadata": {},
   "outputs": [],
   "source": [
    "X_train, X_test, y_train, y_test = train_test_split(bell_X_dt, bell_y, test_size=0.2, random_state=42)"
   ]
  },
  {
   "cell_type": "code",
   "execution_count": 50,
   "id": "d82ddf50",
   "metadata": {},
   "outputs": [],
   "source": [
    "rf = RandomForestRegressor(random_state=42)\n"
   ]
  },
  {
   "cell_type": "code",
   "execution_count": 51,
   "id": "7e72e3e4",
   "metadata": {},
   "outputs": [
    {
     "data": {
      "text/plain": [
       "RandomForestRegressor(random_state=42)"
      ]
     },
     "execution_count": 51,
     "metadata": {},
     "output_type": "execute_result"
    }
   ],
   "source": [
    "rf.fit(X_train, y_train)"
   ]
  },
  {
   "cell_type": "code",
   "execution_count": 52,
   "id": "fd4cb11e",
   "metadata": {},
   "outputs": [],
   "source": [
    "y_tr_pred = rf.predict(X_train)\n",
    "y_te_pred = rf.predict(X_test)"
   ]
  },
  {
   "cell_type": "code",
   "execution_count": 53,
   "id": "cfdeb426",
   "metadata": {},
   "outputs": [
    {
     "data": {
      "text/plain": [
       "(0.06478638023797216,\n",
       " 0.18233047523356286,\n",
       " 0.9697521298362722,\n",
       " 0.628751677294679,\n",
       " 75609.30105734403,\n",
       " 280908.2794688328,\n",
       " 54220.15935897436,\n",
       " 180040.03864406783)"
      ]
     },
     "execution_count": 53,
     "metadata": {},
     "output_type": "execute_result"
    }
   ],
   "source": [
    "mape(y_train, y_tr_pred), mape(y_test, y_te_pred),\\\n",
    "r2_score(y_train, y_tr_pred), r2_score(y_test, y_te_pred),\\\n",
    "np.sqrt(mean_squared_error(y_train, y_tr_pred)), np.sqrt(mean_squared_error(y_test, y_te_pred)),\\\n",
    "mean_absolute_error(y_train, y_tr_pred),mean_absolute_error(y_test, y_te_pred)\n",
    "\n"
   ]
  },
  {
   "cell_type": "code",
   "execution_count": 54,
   "id": "e05091e8",
   "metadata": {},
   "outputs": [
    {
     "data": {
      "text/plain": [
       "(6.458091431106873, 17.733208069167755)"
      ]
     },
     "execution_count": 54,
     "metadata": {},
     "output_type": "execute_result"
    }
   ],
   "source": [
    "cod(y_tr_pred,y_train), cod(y_te_pred,y_test)"
   ]
  },
  {
   "cell_type": "markdown",
   "id": "3c44c7ed",
   "metadata": {},
   "source": [
    "variance compared to linear regression is reduced from 19% to 17%."
   ]
  },
  {
   "cell_type": "code",
   "execution_count": 55,
   "id": "b15c416f",
   "metadata": {},
   "outputs": [
    {
     "data": {
      "text/plain": [
       "(1.0222417754021011, 1.077489341936678)"
      ]
     },
     "execution_count": 55,
     "metadata": {},
     "output_type": "execute_result"
    }
   ],
   "source": [
    "prd(y_tr_pred,y_train), prd(y_te_pred,y_test)"
   ]
  },
  {
   "cell_type": "markdown",
   "id": "cf2ec11a",
   "metadata": {},
   "source": [
    "prd is not inproved. Linear regression is better."
   ]
  },
  {
   "cell_type": "code",
   "execution_count": 56,
   "id": "ad1cb76c",
   "metadata": {},
   "outputs": [
    {
     "data": {
      "text/plain": [
       "(array([-0.09942147]), array([-0.25459565]))"
      ]
     },
     "execution_count": 56,
     "metadata": {},
     "output_type": "execute_result"
    }
   ],
   "source": [
    "prb(y_tr_pred,y_train), prb(y_te_pred,y_test)"
   ]
  },
  {
   "cell_type": "markdown",
   "id": "2963b30f",
   "metadata": {},
   "source": [
    "prb is also not improved. Can we improve Random Forest with hyperparameter tuning?"
   ]
  },
  {
   "cell_type": "code",
   "execution_count": 57,
   "id": "6a61c7bc",
   "metadata": {},
   "outputs": [],
   "source": [
    "rfr= RandomForestRegressor(random_state=42)\n",
    "params = {'n_estimators':[100,200,300,400,500],'criterion':[\"squared_error\", \"absolute_error\", \"poisson\"],'max_features':[\"auto\",\"sqrt\",\"log2\"]}\n",
    "rfr_gscv = GridSearchCV(rfr,params,n_jobs=-1,cv=5,scoring=\"neg_mean_absolute_percentage_error\")"
   ]
  },
  {
   "cell_type": "code",
   "execution_count": 58,
   "id": "43da48c2",
   "metadata": {},
   "outputs": [
    {
     "data": {
      "text/plain": [
       "GridSearchCV(cv=5, estimator=RandomForestRegressor(random_state=42), n_jobs=-1,\n",
       "             param_grid={'criterion': ['squared_error', 'absolute_error',\n",
       "                                       'poisson'],\n",
       "                         'max_features': ['auto', 'sqrt', 'log2'],\n",
       "                         'n_estimators': [100, 200, 300, 400, 500]},\n",
       "             scoring='neg_mean_absolute_percentage_error')"
      ]
     },
     "execution_count": 58,
     "metadata": {},
     "output_type": "execute_result"
    }
   ],
   "source": [
    "rfr_gscv.fit(X_train,y_train)"
   ]
  },
  {
   "cell_type": "code",
   "execution_count": 59,
   "id": "b8b756fc",
   "metadata": {},
   "outputs": [],
   "source": [
    "y_tr_pred = rfr_gscv.predict(X_train)\n",
    "y_te_pred = rfr_gscv.predict(X_test)"
   ]
  },
  {
   "cell_type": "code",
   "execution_count": 60,
   "id": "437b9556",
   "metadata": {},
   "outputs": [
    {
     "data": {
      "text/plain": [
       "(0.0640962337176606,\n",
       " 0.18501154026307576,\n",
       " 0.9710885323417322,\n",
       " 0.6266835564169544,\n",
       " 73920.15904999853,\n",
       " 281689.62366218946,\n",
       " 53917.512264957266,\n",
       " 180181.39491525426)"
      ]
     },
     "execution_count": 60,
     "metadata": {},
     "output_type": "execute_result"
    }
   ],
   "source": [
    "mape(y_train, y_tr_pred), mape(y_test, y_te_pred),\\\n",
    "r2_score(y_train, y_tr_pred), r2_score(y_test, y_te_pred),\\\n",
    "np.sqrt(mean_squared_error(y_train, y_tr_pred)), np.sqrt(mean_squared_error(y_test, y_te_pred)),\\\n",
    "mean_absolute_error(y_train, y_tr_pred),mean_absolute_error(y_test, y_te_pred)\n",
    "\n",
    "\n"
   ]
  },
  {
   "cell_type": "code",
   "execution_count": 61,
   "id": "bc42fb10",
   "metadata": {},
   "outputs": [
    {
     "data": {
      "text/plain": [
       "(6.36860563120075, 18.04013380023425)"
      ]
     },
     "execution_count": 61,
     "metadata": {},
     "output_type": "execute_result"
    }
   ],
   "source": [
    "cod(y_tr_pred,y_train), cod(y_te_pred,y_test)"
   ]
  },
  {
   "cell_type": "code",
   "execution_count": 62,
   "id": "cbc46dc1",
   "metadata": {},
   "outputs": [
    {
     "data": {
      "text/plain": [
       "(1.0219574187964553, 1.0782679053272393)"
      ]
     },
     "execution_count": 62,
     "metadata": {},
     "output_type": "execute_result"
    }
   ],
   "source": [
    "prd(y_tr_pred,y_train), prd(y_te_pred,y_test)"
   ]
  },
  {
   "cell_type": "code",
   "execution_count": 63,
   "id": "37167a16",
   "metadata": {},
   "outputs": [
    {
     "data": {
      "text/plain": [
       "(array([-0.09858337]), array([-0.2588349]))"
      ]
     },
     "execution_count": 63,
     "metadata": {},
     "output_type": "execute_result"
    }
   ],
   "source": [
    "prb(y_tr_pred,y_train), prb(y_te_pred,y_test)"
   ]
  },
  {
   "cell_type": "code",
   "execution_count": 64,
   "id": "ffa6ad09",
   "metadata": {},
   "outputs": [
    {
     "data": {
      "text/plain": [
       "{'criterion': 'squared_error', 'max_features': 'auto', 'n_estimators': 200}"
      ]
     },
     "execution_count": 64,
     "metadata": {},
     "output_type": "execute_result"
    }
   ],
   "source": [
    "rfr_gscv.best_params_"
   ]
  },
  {
   "cell_type": "code",
   "execution_count": 65,
   "id": "b9f3b129",
   "metadata": {},
   "outputs": [
    {
     "data": {
      "text/plain": [
       "<AxesSubplot:xlabel='meta_sale_price'>"
      ]
     },
     "execution_count": 65,
     "metadata": {},
     "output_type": "execute_result"
    },
    {
     "data": {
      "image/png": "[encoded data removed]",
      "text/plain": [
       "<Figure size 432x288 with 1 Axes>"
      ]
     },
     "metadata": {
      "needs_background": "light"
     },
     "output_type": "display_data"
    }
   ],
   "source": [
    "sns.scatterplot(x=y_train,y=y_tr_pred)"
   ]
  },
  {
   "cell_type": "code",
   "execution_count": 66,
   "id": "ae1ba781",
   "metadata": {},
   "outputs": [
    {
     "data": {
      "text/plain": [
       "<AxesSubplot:xlabel='meta_sale_price'>"
      ]
     },
     "execution_count": 66,
     "metadata": {},
     "output_type": "execute_result"
    },
    {
     "data": {
      "image/png": "[encoded data removed]",
      "text/plain": [
       "<Figure size 432x288 with 1 Axes>"
      ]
     },
     "metadata": {
      "needs_background": "light"
     },
     "output_type": "display_data"
    }
   ],
   "source": [
    "sns.scatterplot(x=y_test,y=y_te_pred)"
   ]
  },
  {
   "cell_type": "code",
   "execution_count": 67,
   "id": "561450fa",
   "metadata": {},
   "outputs": [
    {
     "data": {
      "text/plain": [
       "<AxesSubplot:xlabel='meta_sale_price', ylabel='meta_sale_price'>"
      ]
     },
     "execution_count": 67,
     "metadata": {},
     "output_type": "execute_result"
    },
    {
     "data": {
      "image/png": "[encoded data removed]",
      "text/plain": [
       "<Figure size 432x288 with 1 Axes>"
      ]
     },
     "metadata": {
      "needs_background": "light"
     },
     "output_type": "display_data"
    }
   ],
   "source": [
    "sns.scatterplot(x=y_train,y=y_tr_pred/y_train)"
   ]
  },
  {
   "cell_type": "markdown",
   "id": "880e6c97",
   "metadata": {},
   "source": [
    "training data ratio is higher for low priced homes. The smallest priced home is valued at twice its sales price."
   ]
  },
  {
   "cell_type": "code",
   "execution_count": 68,
   "id": "59043b62",
   "metadata": {},
   "outputs": [
    {
     "data": {
      "text/plain": [
       "<AxesSubplot:xlabel='meta_sale_price', ylabel='meta_sale_price'>"
      ]
     },
     "execution_count": 68,
     "metadata": {},
     "output_type": "execute_result"
    },
    {
     "data": {
      "image/png": "[encoded data removed]",
      "text/plain": [
       "<Figure size 432x288 with 1 Axes>"
      ]
     },
     "metadata": {
      "needs_background": "light"
     },
     "output_type": "display_data"
    }
   ],
   "source": [
    "sns.scatterplot(x=y_test,y=y_te_pred/y_test)"
   ]
  },
  {
   "cell_type": "markdown",
   "id": "8e5c5da1",
   "metadata": {},
   "source": [
    "same bias in the test data"
   ]
  },
  {
   "cell_type": "code",
   "execution_count": 69,
   "id": "45f3de77",
   "metadata": {},
   "outputs": [
    {
     "data": {
      "text/plain": [
       "<AxesSubplot:xlabel='meta_sale_price', ylabel='meta_sale_price'>"
      ]
     },
     "execution_count": 69,
     "metadata": {},
     "output_type": "execute_result"
    },
    {
     "data": {
      "image/png": "[encoded data removed]",
      "text/plain": [
       "<Figure size 432x288 with 1 Axes>"
      ]
     },
     "metadata": {
      "needs_background": "light"
     },
     "output_type": "display_data"
    }
   ],
   "source": [
    "sns.scatterplot(x=np.log2(y_train),y=y_tr_pred/y_train)"
   ]
  },
  {
   "cell_type": "code",
   "execution_count": 70,
   "id": "cbb89e12",
   "metadata": {},
   "outputs": [
    {
     "data": {
      "text/plain": [
       "<AxesSubplot:xlabel='meta_sale_price', ylabel='meta_sale_price'>"
      ]
     },
     "execution_count": 70,
     "metadata": {},
     "output_type": "execute_result"
    },
    {
     "data": {
      "image/png": "[encoded data removed]",
      "text/plain": [
       "<Figure size 432x288 with 1 Axes>"
      ]
     },
     "metadata": {
      "needs_background": "light"
     },
     "output_type": "display_data"
    }
   ],
   "source": [
    "sns.scatterplot(x=np.log2(y_test),y=y_te_pred/y_test)"
   ]
  },
  {
   "cell_type": "markdown",
   "id": "2aeb231a",
   "metadata": {},
   "source": [
    "One can also see the downward trend in when graphing against the log of the price. One high priced homes are valued at less than half of its sale price."
   ]
  },
  {
   "cell_type": "code",
   "execution_count": 71,
   "id": "025279ff",
   "metadata": {},
   "outputs": [],
   "source": [
    "gb = GradientBoostingRegressor(random_state=42)\n",
    "params = {'n_estimators':[400,500,600],'learning_rate':[0.01,0.1,0.2],'loss':['squared_error', 'absolute_error'],'max_depth':[1,2,3]}\n",
    "gb_gscv = GridSearchCV(gb,params,n_jobs=-1,cv=5,scoring=\"neg_mean_absolute_percentage_error\")"
   ]
  },
  {
   "cell_type": "code",
   "execution_count": 72,
   "id": "00098f1a",
   "metadata": {},
   "outputs": [
    {
     "data": {
      "text/plain": [
       "GridSearchCV(cv=5, estimator=GradientBoostingRegressor(random_state=42),\n",
       "             n_jobs=-1,\n",
       "             param_grid={'learning_rate': [0.01, 0.1, 0.2],\n",
       "                         'loss': ['squared_error', 'absolute_error'],\n",
       "                         'max_depth': [1, 2, 3],\n",
       "                         'n_estimators': [400, 500, 600]},\n",
       "             scoring='neg_mean_absolute_percentage_error')"
      ]
     },
     "execution_count": 72,
     "metadata": {},
     "output_type": "execute_result"
    }
   ],
   "source": [
    "gb_gscv.fit(X_train,y_train)"
   ]
  },
  {
   "cell_type": "code",
   "execution_count": 73,
   "id": "a35f5dd5",
   "metadata": {},
   "outputs": [],
   "source": [
    "y_tr_pred = gb_gscv.predict(X_train)\n",
    "y_te_pred = gb_gscv.predict(X_test)"
   ]
  },
  {
   "cell_type": "code",
   "execution_count": 74,
   "id": "d641deca",
   "metadata": {},
   "outputs": [
    {
     "data": {
      "text/plain": [
       "(0.10359176930339785,\n",
       " 0.16661373735407453,\n",
       " 0.8816193336898644,\n",
       " 0.6897663394872784,\n",
       " 149578.16923100964,\n",
       " 256789.19643396384,\n",
       " 98485.7697070551,\n",
       " 179933.1154767848)"
      ]
     },
     "execution_count": 74,
     "metadata": {},
     "output_type": "execute_result"
    }
   ],
   "source": [
    "mape(y_train, y_tr_pred), mape(y_test, y_te_pred),\\\n",
    "r2_score(y_train, y_tr_pred), r2_score(y_test, y_te_pred),\\\n",
    "np.sqrt(mean_squared_error(y_train, y_tr_pred)), np.sqrt(mean_squared_error(y_test, y_te_pred)),\\\n",
    "mean_absolute_error(y_train, y_tr_pred),mean_absolute_error(y_test, y_te_pred)\n",
    "\n"
   ]
  },
  {
   "cell_type": "code",
   "execution_count": 75,
   "id": "61077194",
   "metadata": {},
   "outputs": [
    {
     "data": {
      "text/plain": [
       "(10.358335148537291, 16.83675455008822)"
      ]
     },
     "execution_count": 75,
     "metadata": {},
     "output_type": "execute_result"
    }
   ],
   "source": [
    "cod(y_tr_pred,y_train), cod(y_te_pred,y_test)"
   ]
  },
  {
   "cell_type": "code",
   "execution_count": 76,
   "id": "6c45597e",
   "metadata": {},
   "outputs": [
    {
     "data": {
      "text/plain": [
       "(1.0230247353021598, 1.045744059324109)"
      ]
     },
     "execution_count": 76,
     "metadata": {},
     "output_type": "execute_result"
    }
   ],
   "source": [
    "prd(y_tr_pred,y_train), prd(y_te_pred,y_test)"
   ]
  },
  {
   "cell_type": "code",
   "execution_count": 77,
   "id": "ef902805",
   "metadata": {},
   "outputs": [
    {
     "data": {
      "text/plain": [
       "(array([-0.05671359]), array([-0.07653179]))"
      ]
     },
     "execution_count": 77,
     "metadata": {},
     "output_type": "execute_result"
    }
   ],
   "source": [
    "prb(y_tr_pred,y_train), prb(y_te_pred,y_test)"
   ]
  },
  {
   "cell_type": "code",
   "execution_count": 78,
   "id": "3d6c52fd",
   "metadata": {},
   "outputs": [
    {
     "data": {
      "text/plain": [
       "{'learning_rate': 0.1,\n",
       " 'loss': 'absolute_error',\n",
       " 'max_depth': 1,\n",
       " 'n_estimators': 500}"
      ]
     },
     "execution_count": 78,
     "metadata": {},
     "output_type": "execute_result"
    }
   ],
   "source": [
    "gb_gscv.best_params_"
   ]
  },
  {
   "cell_type": "code",
   "execution_count": 79,
   "id": "18708472",
   "metadata": {},
   "outputs": [
    {
     "data": {
      "text/plain": [
       "<AxesSubplot:xlabel='meta_sale_price'>"
      ]
     },
     "execution_count": 79,
     "metadata": {},
     "output_type": "execute_result"
    },
    {
     "data": {
      "image/png": "[encoded data removed]",
      "text/plain": [
       "<Figure size 432x288 with 1 Axes>"
      ]
     },
     "metadata": {
      "needs_background": "light"
     },
     "output_type": "display_data"
    }
   ],
   "source": [
    "sns.scatterplot(x=y_train,y=y_tr_pred)"
   ]
  },
  {
   "cell_type": "code",
   "execution_count": 80,
   "id": "650f7a27",
   "metadata": {},
   "outputs": [
    {
     "data": {
      "text/plain": [
       "<AxesSubplot:xlabel='meta_sale_price'>"
      ]
     },
     "execution_count": 80,
     "metadata": {},
     "output_type": "execute_result"
    },
    {
     "data": {
      "image/png": "[encoded data removed]",
      "text/plain": [
       "<Figure size 432x288 with 1 Axes>"
      ]
     },
     "metadata": {
      "needs_background": "light"
     },
     "output_type": "display_data"
    }
   ],
   "source": [
    "sns.scatterplot(x=y_test,y=y_te_pred)"
   ]
  },
  {
   "cell_type": "code",
   "execution_count": 81,
   "id": "49fbd8aa",
   "metadata": {},
   "outputs": [
    {
     "data": {
      "text/plain": [
       "<AxesSubplot:xlabel='meta_sale_price', ylabel='meta_sale_price'>"
      ]
     },
     "execution_count": 81,
     "metadata": {},
     "output_type": "execute_result"
    },
    {
     "data": {
      "image/png": "[encoded data removed]",
      "text/plain": [
       "<Figure size 432x288 with 1 Axes>"
      ]
     },
     "metadata": {
      "needs_background": "light"
     },
     "output_type": "display_data"
    }
   ],
   "source": [
    "sns.scatterplot(x=y_train,y=y_tr_pred/y_train)"
   ]
  },
  {
   "cell_type": "code",
   "execution_count": 82,
   "id": "6b5dc15e",
   "metadata": {},
   "outputs": [
    {
     "data": {
      "text/plain": [
       "<AxesSubplot:xlabel='meta_sale_price', ylabel='meta_sale_price'>"
      ]
     },
     "execution_count": 82,
     "metadata": {},
     "output_type": "execute_result"
    },
    {
     "data": {
      "image/png": "[encoded data removed]",
      "text/plain": [
       "<Figure size 432x288 with 1 Axes>"
      ]
     },
     "metadata": {
      "needs_background": "light"
     },
     "output_type": "display_data"
    }
   ],
   "source": [
    "sns.scatterplot(x=y_test,y=y_te_pred/y_test)"
   ]
  },
  {
   "cell_type": "code",
   "execution_count": 83,
   "id": "080793d6",
   "metadata": {},
   "outputs": [
    {
     "data": {
      "text/plain": [
       "<AxesSubplot:xlabel='meta_sale_price', ylabel='meta_sale_price'>"
      ]
     },
     "execution_count": 83,
     "metadata": {},
     "output_type": "execute_result"
    },
    {
     "data": {
      "image/png": "[encoded data removed]",
      "text/plain": [
       "<Figure size 432x288 with 1 Axes>"
      ]
     },
     "metadata": {
      "needs_background": "light"
     },
     "output_type": "display_data"
    }
   ],
   "source": [
    "sns.scatterplot(x=np.log2(y_train),y=y_tr_pred/y_train)"
   ]
  },
  {
   "cell_type": "code",
   "execution_count": 84,
   "id": "340883f9",
   "metadata": {},
   "outputs": [
    {
     "data": {
      "text/plain": [
       "<AxesSubplot:xlabel='meta_sale_price', ylabel='meta_sale_price'>"
      ]
     },
     "execution_count": 84,
     "metadata": {},
     "output_type": "execute_result"
    },
    {
     "data": {
      "image/png": "[encoded data removed]",
      "text/plain": [
       "<Figure size 432x288 with 1 Axes>"
      ]
     },
     "metadata": {
      "needs_background": "light"
     },
     "output_type": "display_data"
    }
   ],
   "source": [
    "sns.scatterplot(x=np.log2(y_test),y=y_te_pred/y_test)"
   ]
  },
  {
   "cell_type": "code",
   "execution_count": null,
   "id": "27a64ccd",
   "metadata": {},
   "outputs": [],
   "source": []
  }
 ],
 "metadata": {
  "kernelspec": {
   "display_name": "Python 3 (ipykernel)",
   "language": "python",
   "name": "python3"
  },
  "language_info": {
   "codemirror_mode": {
    "name": "ipython",
    "version": 3
   },
   "file_extension": ".py",
   "mimetype": "text/x-python",
   "name": "python",
   "nbconvert_exporter": "python",
   "pygments_lexer": "ipython3",
   "version": "3.10.2"
  }
 },
 "nbformat": 4,
 "nbformat_minor": 5
}
