{
 "cells": [
  {
   "cell_type": "markdown",
   "id": "9ed7133d",
   "metadata": {},
   "source": [
    "Import stuff I need"
   ]
  },
  {
   "cell_type": "code",
   "execution_count": 1,
   "id": "23ce3e34",
   "metadata": {},
   "outputs": [],
   "source": [
    "import pyarrow.parquet as pq\n",
    "import pandas as pd\n",
    "import matplotlib.pyplot as plt\n",
    "import seaborn as sns\n",
    "import os\n"
   ]
  },
  {
   "cell_type": "markdown",
   "id": "56c97076",
   "metadata": {},
   "source": [
    "Upload into memory the data files. They are in parquet format."
   ]
  },
  {
   "cell_type": "code",
   "execution_count": 2,
   "id": "2bf7e5ad",
   "metadata": {},
   "outputs": [],
   "source": [
    "table_sales = pq.read_table('../data/raw/modeldata.parquet')"
   ]
  },
  {
   "cell_type": "markdown",
   "id": "ccdccb88",
   "metadata": {},
   "source": [
    "table_sales includes data for homes in Cook County that have been sold in the past seven years. table includes data for all homes regardless of a sale. \n",
    "\n",
    "Convert to pandas dataframes."
   ]
  },
  {
   "cell_type": "code",
   "execution_count": 3,
   "id": "f8217e8f",
   "metadata": {},
   "outputs": [],
   "source": [
    "df_sales = table_sales.to_pandas()"
   ]
  },
  {
   "cell_type": "markdown",
   "id": "047f4319",
   "metadata": {},
   "source": [
    "examine columns"
   ]
  },
  {
   "cell_type": "code",
   "execution_count": 4,
   "id": "783aad51",
   "metadata": {},
   "outputs": [
    {
     "name": "stdout",
     "output_type": "stream",
     "text": [
      "<class 'pandas.core.frame.DataFrame'>\n",
      "RangeIndex: 346293 entries, 0 to 346292\n",
      "Data columns (total 98 columns):\n",
      " #   Column                        Non-Null Count   Dtype   \n",
      "---  ------                        --------------   -----   \n",
      " 0   meta_pin                      346293 non-null  object  \n",
      " 1   meta_year                     346293 non-null  float64 \n",
      " 2   meta_class                    346293 non-null  object  \n",
      " 3   meta_town_code                346293 non-null  object  \n",
      " 4   meta_nbhd                     346293 non-null  object  \n",
      " 5   meta_2yr_pri_board_est_bldg   345640 non-null  float64 \n",
      " 6   meta_2yr_pri_board_est_land   345640 non-null  float64 \n",
      " 7   meta_1yr_pri_board_est_bldg   346293 non-null  float64 \n",
      " 8   meta_1yr_pri_board_est_land   346293 non-null  float64 \n",
      " 9   meta_mailed_est_bldg          346293 non-null  float64 \n",
      " 10  meta_mailed_est_land          346293 non-null  float64 \n",
      " 11  meta_certified_est_bldg       346293 non-null  float64 \n",
      " 12  meta_certified_est_land       346293 non-null  float64 \n",
      " 13  meta_modeling_group           346293 non-null  object  \n",
      " 14  meta_multi_code               346293 non-null  object  \n",
      " 15  meta_per_ass                  346293 non-null  float64 \n",
      " 16  meta_cdu                      19658 non-null   object  \n",
      " 17  meta_key_pin                  839 non-null     object  \n",
      " 18  meta_sale_date                346293 non-null  object  \n",
      " 19  meta_sale_price               346293 non-null  float64 \n",
      " 20  meta_document_num             346293 non-null  object  \n",
      " 21  meta_deed_type                346293 non-null  object  \n",
      " 22  meta_num_288s_active          346293 non-null  float64 \n",
      " 23  char_hd_sf                    346293 non-null  float64 \n",
      " 24  char_age                      346293 non-null  float64 \n",
      " 25  char_apts                     46810 non-null   category\n",
      " 26  char_ext_wall                 346090 non-null  category\n",
      " 27  char_roof_cnst                346089 non-null  category\n",
      " 28  char_rooms                    346293 non-null  float64 \n",
      " 29  char_beds                     346293 non-null  float64 \n",
      " 30  char_bsmt                     346103 non-null  category\n",
      " 31  char_bsmt_fin                 346103 non-null  category\n",
      " 32  char_heat                     346088 non-null  category\n",
      " 33  char_oheat                    345248 non-null  category\n",
      " 34  char_air                      346109 non-null  category\n",
      " 35  char_frpl                     346097 non-null  float64 \n",
      " 36  char_attic_type               346090 non-null  category\n",
      " 37  char_fbath                    346293 non-null  float64 \n",
      " 38  char_hbath                    346293 non-null  float64 \n",
      " 39  char_tp_plan                  248338 non-null  category\n",
      " 40  char_tp_dsgn                  160363 non-null  category\n",
      " 41  char_cnst_qlty                345864 non-null  category\n",
      " 42  char_site                     346088 non-null  category\n",
      " 43  char_gar1_size                346123 non-null  category\n",
      " 44  char_gar1_cnst                296729 non-null  category\n",
      " 45  char_gar1_att                 296730 non-null  category\n",
      " 46  char_gar1_area                296724 non-null  category\n",
      " 47  char_ot_impr                  346293 non-null  float64 \n",
      " 48  char_bldg_sf                  346293 non-null  float64 \n",
      " 49  char_repair_cnd               346088 non-null  category\n",
      " 50  char_use                      346096 non-null  category\n",
      " 51  char_type_resd                346106 non-null  category\n",
      " 52  char_attic_fnsh               115021 non-null  category\n",
      " 53  char_renovation               1887 non-null    category\n",
      " 54  char_porch                    63393 non-null   category\n",
      " 55  geo_property_address          345422 non-null  object  \n",
      " 56  geo_property_apt_no           23056 non-null   object  \n",
      " 57  geo_property_city             345422 non-null  object  \n",
      " 58  geo_property_zip              345422 non-null  object  \n",
      " 59  geo_geoid                     345275 non-null  object  \n",
      " 60  geo_tract_pop                 345275 non-null  float64 \n",
      " 61  geo_white_perc                345275 non-null  float64 \n",
      " 62  geo_black_perc                345275 non-null  float64 \n",
      " 63  geo_asian_perc                345275 non-null  float64 \n",
      " 64  geo_his_perc                  345275 non-null  float64 \n",
      " 65  geo_other_perc                345275 non-null  float64 \n",
      " 66  geo_fips                      338223 non-null  object  \n",
      " 67  geo_municipality              338223 non-null  object  \n",
      " 68  geo_ohare_noise               345275 non-null  float64 \n",
      " 69  geo_floodplain                345275 non-null  float64 \n",
      " 70  geo_fs_flood_factor           345275 non-null  float64 \n",
      " 71  geo_fs_flood_risk_direction   345275 non-null  float64 \n",
      " 72  geo_withinmr100               345275 non-null  float64 \n",
      " 73  geo_withinmr101300            345275 non-null  float64 \n",
      " 74  geo_school_elem_district      345275 non-null  object  \n",
      " 75  geo_school_hs_district        345275 non-null  object  \n",
      " 76  geo_longitude                 345275 non-null  float64 \n",
      " 77  geo_latitude                  345275 non-null  float64 \n",
      " 78  econ_tax_rate                 346293 non-null  float64 \n",
      " 79  econ_tax_amt_paid             346293 non-null  float64 \n",
      " 80  econ_midincome                345275 non-null  float64 \n",
      " 81  time_sale_year                346293 non-null  float64 \n",
      " 82  time_sale_quarter             346293 non-null  float64 \n",
      " 83  time_sale_month               346293 non-null  float64 \n",
      " 84  time_sale_week                346293 non-null  float64 \n",
      " 85  time_sale_day                 346293 non-null  float64 \n",
      " 86  time_sale_quarter_of_year     346293 non-null  object  \n",
      " 87  time_sale_month_of_year       346293 non-null  category\n",
      " 88  time_sale_week_of_year        346293 non-null  float64 \n",
      " 89  time_sale_day_of_year         346293 non-null  float64 \n",
      " 90  time_sale_during_school_year  346293 non-null  bool    \n",
      " 91  time_sale_during_holidays     346293 non-null  bool    \n",
      " 92  ind_multi_code                346293 non-null  bool    \n",
      " 93  ind_large_home                346293 non-null  bool    \n",
      " 94  ind_class_error               346293 non-null  bool    \n",
      " 95  ind_garage                    346123 non-null  object  \n",
      " 96  ind_complete_predictors       346293 non-null  bool    \n",
      " 97  ind_arms_length               346293 non-null  bool    \n",
      "dtypes: bool(7), category(24), float64(45), object(22)\n",
      "memory usage: 187.3+ MB\n"
     ]
    }
   ],
   "source": [
    "df_sales.info()"
   ]
  },
  {
   "cell_type": "markdown",
   "id": "9ab2887e",
   "metadata": {},
   "source": [
    "On-line documentation describes some but not all columns. \n",
    "\n",
    "\n",
    "df_sales columns should be the same as df except that df_sales also includes sales columns. Let's check."
   ]
  },
  {
   "cell_type": "markdown",
   "id": "6238f252",
   "metadata": {},
   "source": [
    "meta_sales_price is the important column. For my simplified model I'll scrap the others."
   ]
  },
  {
   "cell_type": "markdown",
   "id": "4200a09d",
   "metadata": {},
   "source": [
    "Let's focus on homes for the same elementary school in Cook County. Alternatives, use median income as proxy for school ranking. The single district we will focus on is the Bell School district becuase it has a lot of bungaloes and mansions mixed together so it is a district where regression to the mean could be present in the County's model."
   ]
  },
  {
   "cell_type": "code",
   "execution_count": 5,
   "id": "327e1c16",
   "metadata": {},
   "outputs": [],
   "source": [
    "df_bell_sales = df_sales[df_sales['geo_school_elem_district']=='BELL']"
   ]
  },
  {
   "cell_type": "code",
   "execution_count": 6,
   "id": "1b0c77db",
   "metadata": {},
   "outputs": [
    {
     "name": "stdout",
     "output_type": "stream",
     "text": [
      "<class 'pandas.core.frame.DataFrame'>\n",
      "Int64Index: 508 entries, 126575 to 144028\n",
      "Data columns (total 98 columns):\n",
      " #   Column                        Non-Null Count  Dtype   \n",
      "---  ------                        --------------  -----   \n",
      " 0   meta_pin                      508 non-null    object  \n",
      " 1   meta_year                     508 non-null    float64 \n",
      " 2   meta_class                    508 non-null    object  \n",
      " 3   meta_town_code                508 non-null    object  \n",
      " 4   meta_nbhd                     508 non-null    object  \n",
      " 5   meta_2yr_pri_board_est_bldg   508 non-null    float64 \n",
      " 6   meta_2yr_pri_board_est_land   508 non-null    float64 \n",
      " 7   meta_1yr_pri_board_est_bldg   508 non-null    float64 \n",
      " 8   meta_1yr_pri_board_est_land   508 non-null    float64 \n",
      " 9   meta_mailed_est_bldg          508 non-null    float64 \n",
      " 10  meta_mailed_est_land          508 non-null    float64 \n",
      " 11  meta_certified_est_bldg       508 non-null    float64 \n",
      " 12  meta_certified_est_land       508 non-null    float64 \n",
      " 13  meta_modeling_group           508 non-null    object  \n",
      " 14  meta_multi_code               508 non-null    object  \n",
      " 15  meta_per_ass                  508 non-null    float64 \n",
      " 16  meta_cdu                      17 non-null     object  \n",
      " 17  meta_key_pin                  0 non-null      object  \n",
      " 18  meta_sale_date                508 non-null    object  \n",
      " 19  meta_sale_price               508 non-null    float64 \n",
      " 20  meta_document_num             508 non-null    object  \n",
      " 21  meta_deed_type                508 non-null    object  \n",
      " 22  meta_num_288s_active          508 non-null    float64 \n",
      " 23  char_hd_sf                    508 non-null    float64 \n",
      " 24  char_age                      508 non-null    float64 \n",
      " 25  char_apts                     213 non-null    category\n",
      " 26  char_ext_wall                 507 non-null    category\n",
      " 27  char_roof_cnst                507 non-null    category\n",
      " 28  char_rooms                    508 non-null    float64 \n",
      " 29  char_beds                     508 non-null    float64 \n",
      " 30  char_bsmt                     507 non-null    category\n",
      " 31  char_bsmt_fin                 507 non-null    category\n",
      " 32  char_heat                     507 non-null    category\n",
      " 33  char_oheat                    502 non-null    category\n",
      " 34  char_air                      507 non-null    category\n",
      " 35  char_frpl                     507 non-null    float64 \n",
      " 36  char_attic_type               507 non-null    category\n",
      " 37  char_fbath                    508 non-null    float64 \n",
      " 38  char_hbath                    508 non-null    float64 \n",
      " 39  char_tp_plan                  486 non-null    category\n",
      " 40  char_tp_dsgn                  345 non-null    category\n",
      " 41  char_cnst_qlty                506 non-null    category\n",
      " 42  char_site                     507 non-null    category\n",
      " 43  char_gar1_size                507 non-null    category\n",
      " 44  char_gar1_cnst                440 non-null    category\n",
      " 45  char_gar1_att                 440 non-null    category\n",
      " 46  char_gar1_area                440 non-null    category\n",
      " 47  char_ot_impr                  508 non-null    float64 \n",
      " 48  char_bldg_sf                  508 non-null    float64 \n",
      " 49  char_repair_cnd               507 non-null    category\n",
      " 50  char_use                      507 non-null    category\n",
      " 51  char_type_resd                507 non-null    category\n",
      " 52  char_attic_fnsh               151 non-null    category\n",
      " 53  char_renovation               34 non-null     category\n",
      " 54  char_porch                    260 non-null    category\n",
      " 55  geo_property_address          508 non-null    object  \n",
      " 56  geo_property_apt_no           111 non-null    object  \n",
      " 57  geo_property_city             508 non-null    object  \n",
      " 58  geo_property_zip              508 non-null    object  \n",
      " 59  geo_geoid                     508 non-null    object  \n",
      " 60  geo_tract_pop                 508 non-null    float64 \n",
      " 61  geo_white_perc                508 non-null    float64 \n",
      " 62  geo_black_perc                508 non-null    float64 \n",
      " 63  geo_asian_perc                508 non-null    float64 \n",
      " 64  geo_his_perc                  508 non-null    float64 \n",
      " 65  geo_other_perc                508 non-null    float64 \n",
      " 66  geo_fips                      508 non-null    object  \n",
      " 67  geo_municipality              508 non-null    object  \n",
      " 68  geo_ohare_noise               508 non-null    float64 \n",
      " 69  geo_floodplain                508 non-null    float64 \n",
      " 70  geo_fs_flood_factor           508 non-null    float64 \n",
      " 71  geo_fs_flood_risk_direction   508 non-null    float64 \n",
      " 72  geo_withinmr100               508 non-null    float64 \n",
      " 73  geo_withinmr101300            508 non-null    float64 \n",
      " 74  geo_school_elem_district      508 non-null    object  \n",
      " 75  geo_school_hs_district        508 non-null    object  \n",
      " 76  geo_longitude                 508 non-null    float64 \n",
      " 77  geo_latitude                  508 non-null    float64 \n",
      " 78  econ_tax_rate                 508 non-null    float64 \n",
      " 79  econ_tax_amt_paid             508 non-null    float64 \n",
      " 80  econ_midincome                508 non-null    float64 \n",
      " 81  time_sale_year                508 non-null    float64 \n",
      " 82  time_sale_quarter             508 non-null    float64 \n",
      " 83  time_sale_month               508 non-null    float64 \n",
      " 84  time_sale_week                508 non-null    float64 \n",
      " 85  time_sale_day                 508 non-null    float64 \n",
      " 86  time_sale_quarter_of_year     508 non-null    object  \n",
      " 87  time_sale_month_of_year       508 non-null    category\n",
      " 88  time_sale_week_of_year        508 non-null    float64 \n",
      " 89  time_sale_day_of_year         508 non-null    float64 \n",
      " 90  time_sale_during_school_year  508 non-null    bool    \n",
      " 91  time_sale_during_holidays     508 non-null    bool    \n",
      " 92  ind_multi_code                508 non-null    bool    \n",
      " 93  ind_large_home                508 non-null    bool    \n",
      " 94  ind_class_error               508 non-null    bool    \n",
      " 95  ind_garage                    507 non-null    object  \n",
      " 96  ind_complete_predictors       508 non-null    bool    \n",
      " 97  ind_arms_length               508 non-null    bool    \n",
      "dtypes: bool(7), category(24), float64(45), object(22)\n",
      "memory usage: 289.5+ KB\n"
     ]
    }
   ],
   "source": [
    "df_bell_sales.info()"
   ]
  },
  {
   "cell_type": "markdown",
   "id": "89c5941d",
   "metadata": {},
   "source": [
    "The features I keep, in additon to the unque pin identifier for each property, as well as year and class of the property are the numeric ones rather than categories: land square footage, age, # rooms, #  bedrooms, # fireplaces, # full bathrooms, # half bathrooms, \"ot_impr\", \"building square footage, logitude, and latitude. All of these are self explanatory except \"ot_impr\" which I might drop if I can't figure out from the documentation what it means. All of these features relate to the property except for the logitude and latitude, which relate to location. Prof Nick Tideman, an economics professor at Virgina Tech, whose research is on land values tells me that the proper way to model this system is to model land values seperately from building values and then add them together. To do this I would have to seperatly identify those properties that are flipped, and assume they are sold at their land value alone. But for my first attempt at this, I will model the land plus property as a single price which is what Cook County does. "
   ]
  },
  {
   "cell_type": "code",
   "execution_count": 7,
   "id": "11b82835",
   "metadata": {},
   "outputs": [
    {
     "data": {
      "text/plain": [
       "211    207\n",
       "278    120\n",
       "206     68\n",
       "203     39\n",
       "205     38\n",
       "204     10\n",
       "212      8\n",
       "202      7\n",
       "208      7\n",
       "295      4\n",
       "Name: meta_class, dtype: int64"
      ]
     },
     "execution_count": 7,
     "metadata": {},
     "output_type": "execute_result"
    }
   ],
   "source": [
    "df_bell_sales.meta_class.value_counts()"
   ]
  },
  {
   "cell_type": "markdown",
   "id": "6e8d3be7",
   "metadata": {},
   "source": [
    "class 211 and 212 are condos. Lets' remopve those"
   ]
  },
  {
   "cell_type": "code",
   "execution_count": 8,
   "id": "dd107848",
   "metadata": {},
   "outputs": [],
   "source": [
    "df_bell_sales = df_bell_sales[(df_bell_sales.meta_class != '211')&(df_bell_sales.meta_class !='212')]"
   ]
  },
  {
   "cell_type": "code",
   "execution_count": 9,
   "id": "41d7e19b",
   "metadata": {},
   "outputs": [
    {
     "data": {
      "text/plain": [
       "278    120\n",
       "206     68\n",
       "203     39\n",
       "205     38\n",
       "204     10\n",
       "202      7\n",
       "208      7\n",
       "295      4\n",
       "Name: meta_class, dtype: int64"
      ]
     },
     "execution_count": 9,
     "metadata": {},
     "output_type": "execute_result"
    }
   ],
   "source": [
    "df_bell_sales.meta_class.value_counts()"
   ]
  },
  {
   "cell_type": "code",
   "execution_count": 10,
   "id": "6588c34b",
   "metadata": {},
   "outputs": [
    {
     "data": {
      "text/plain": [
       "SF    293\n",
       "Name: meta_modeling_group, dtype: int64"
      ]
     },
     "execution_count": 10,
     "metadata": {},
     "output_type": "execute_result"
    }
   ],
   "source": [
    "df_bell_sales.meta_modeling_group.value_counts()"
   ]
  },
  {
   "cell_type": "code",
   "execution_count": 11,
   "id": "5122cc63",
   "metadata": {},
   "outputs": [
    {
     "data": {
      "text/plain": [
       "SF    296509\n",
       "MF     49784\n",
       "Name: meta_modeling_group, dtype: int64"
      ]
     },
     "execution_count": 11,
     "metadata": {},
     "output_type": "execute_result"
    }
   ],
   "source": [
    "df_sales.meta_modeling_group.value_counts()"
   ]
  },
  {
   "cell_type": "code",
   "execution_count": 12,
   "id": "ef583c8e",
   "metadata": {},
   "outputs": [
    {
     "data": {
      "text/plain": [
       "211    46750\n",
       "212     3034\n",
       "Name: meta_class, dtype: int64"
      ]
     },
     "execution_count": 12,
     "metadata": {},
     "output_type": "execute_result"
    }
   ],
   "source": [
    "df_sales[df_sales.meta_modeling_group == 'MF'].meta_class.value_counts()"
   ]
  },
  {
   "cell_type": "code",
   "execution_count": 13,
   "id": "677a900e",
   "metadata": {},
   "outputs": [
    {
     "data": {
      "text/plain": [
       "126575    2017-11-06\n",
       "126576    2013-10-31\n",
       "126578    2013-11-18\n",
       "126579    2014-01-24\n",
       "126580    2018-03-23\n",
       "             ...    \n",
       "144017    2016-10-27\n",
       "144018    2019-05-17\n",
       "144019    2013-07-15\n",
       "144025    2013-05-29\n",
       "144026    2015-07-22\n",
       "Name: meta_sale_date, Length: 293, dtype: object"
      ]
     },
     "execution_count": 13,
     "metadata": {},
     "output_type": "execute_result"
    }
   ],
   "source": [
    "df_bell_sales.meta_sale_date"
   ]
  },
  {
   "cell_type": "code",
   "execution_count": 14,
   "id": "e75e28c6",
   "metadata": {},
   "outputs": [
    {
     "data": {
      "text/plain": [
       "126575    NaN\n",
       "126576    NaN\n",
       "126578    NaN\n",
       "126579    NaN\n",
       "126580    NaN\n",
       "         ... \n",
       "144017    NaN\n",
       "144018    NaN\n",
       "144019    NaN\n",
       "144025    NaN\n",
       "144026    NaN\n",
       "Name: char_apts, Length: 293, dtype: category\n",
       "Categories (6, object): ['1', '2', '3', '4', '5', '6']"
      ]
     },
     "execution_count": 14,
     "metadata": {},
     "output_type": "execute_result"
    }
   ],
   "source": [
    "df_bell_sales.char_apts"
   ]
  },
  {
   "cell_type": "code",
   "execution_count": 15,
   "id": "3071e32f",
   "metadata": {},
   "outputs": [
    {
     "data": {
      "text/plain": [
       "126575    1\n",
       "126576    2\n",
       "126578    2\n",
       "126579    1\n",
       "126580    2\n",
       "         ..\n",
       "144017    2\n",
       "144018    2\n",
       "144019    2\n",
       "144025    2\n",
       "144026    2\n",
       "Name: char_ext_wall, Length: 293, dtype: category\n",
       "Categories (4, object): ['1', '2', '3', '4']"
      ]
     },
     "execution_count": 15,
     "metadata": {},
     "output_type": "execute_result"
    }
   ],
   "source": [
    "df_bell_sales.char_ext_wall\n"
   ]
  },
  {
   "cell_type": "code",
   "execution_count": 16,
   "id": "c1d6e84e",
   "metadata": {},
   "outputs": [
    {
     "data": {
      "text/plain": [
       "126575    1\n",
       "126576    2\n",
       "126578    1\n",
       "126579    1\n",
       "126580    2\n",
       "         ..\n",
       "144017    1\n",
       "144018    1\n",
       "144019    2\n",
       "144025    1\n",
       "144026    1\n",
       "Name: char_roof_cnst, Length: 293, dtype: category\n",
       "Categories (6, object): ['1', '2', '3', '4', '5', '6']"
      ]
     },
     "execution_count": 16,
     "metadata": {},
     "output_type": "execute_result"
    }
   ],
   "source": [
    "df_bell_sales.char_roof_cnst"
   ]
  },
  {
   "cell_type": "code",
   "execution_count": 17,
   "id": "1c390145",
   "metadata": {},
   "outputs": [],
   "source": [
    "df_bell_sales_mf = df_bell_sales.iloc[:,[0,1,2,19,23,24,26,27,28,29,30,31,32,34,35,36,37,38,43,48,89,76,77]]"
   ]
  },
  {
   "cell_type": "code",
   "execution_count": 18,
   "id": "c82f1572",
   "metadata": {},
   "outputs": [
    {
     "data": {
      "text/html": [
       "<div>\n",
       "<style scoped>\n",
       "    .dataframe tbody tr th:only-of-type {\n",
       "        vertical-align: middle;\n",
       "    }\n",
       "\n",
       "    .dataframe tbody tr th {\n",
       "        vertical-align: top;\n",
       "    }\n",
       "\n",
       "    .dataframe thead th {\n",
       "        text-align: right;\n",
       "    }\n",
       "</style>\n",
       "<table border=\"1\" class=\"dataframe\">\n",
       "  <thead>\n",
       "    <tr style=\"text-align: right;\">\n",
       "      <th></th>\n",
       "      <th>char_ext_wall</th>\n",
       "      <th>char_roof_cnst</th>\n",
       "      <th>char_bsmt</th>\n",
       "      <th>char_bsmt_fin</th>\n",
       "      <th>char_heat</th>\n",
       "      <th>char_air</th>\n",
       "      <th>char_attic_type</th>\n",
       "      <th>char_gar1_size</th>\n",
       "    </tr>\n",
       "  </thead>\n",
       "  <tbody>\n",
       "    <tr>\n",
       "      <th>126575</th>\n",
       "      <td>1</td>\n",
       "      <td>1</td>\n",
       "      <td>1</td>\n",
       "      <td>3</td>\n",
       "      <td>1</td>\n",
       "      <td>1</td>\n",
       "      <td>3</td>\n",
       "      <td>3</td>\n",
       "    </tr>\n",
       "    <tr>\n",
       "      <th>126576</th>\n",
       "      <td>2</td>\n",
       "      <td>2</td>\n",
       "      <td>1</td>\n",
       "      <td>1</td>\n",
       "      <td>1</td>\n",
       "      <td>1</td>\n",
       "      <td>3</td>\n",
       "      <td>3</td>\n",
       "    </tr>\n",
       "    <tr>\n",
       "      <th>126578</th>\n",
       "      <td>2</td>\n",
       "      <td>1</td>\n",
       "      <td>1</td>\n",
       "      <td>3</td>\n",
       "      <td>2</td>\n",
       "      <td>1</td>\n",
       "      <td>3</td>\n",
       "      <td>3</td>\n",
       "    </tr>\n",
       "    <tr>\n",
       "      <th>126579</th>\n",
       "      <td>1</td>\n",
       "      <td>1</td>\n",
       "      <td>3</td>\n",
       "      <td>1</td>\n",
       "      <td>1</td>\n",
       "      <td>2</td>\n",
       "      <td>1</td>\n",
       "      <td>3</td>\n",
       "    </tr>\n",
       "    <tr>\n",
       "      <th>126580</th>\n",
       "      <td>2</td>\n",
       "      <td>2</td>\n",
       "      <td>1</td>\n",
       "      <td>1</td>\n",
       "      <td>1</td>\n",
       "      <td>1</td>\n",
       "      <td>3</td>\n",
       "      <td>3</td>\n",
       "    </tr>\n",
       "    <tr>\n",
       "      <th>...</th>\n",
       "      <td>...</td>\n",
       "      <td>...</td>\n",
       "      <td>...</td>\n",
       "      <td>...</td>\n",
       "      <td>...</td>\n",
       "      <td>...</td>\n",
       "      <td>...</td>\n",
       "      <td>...</td>\n",
       "    </tr>\n",
       "    <tr>\n",
       "      <th>144017</th>\n",
       "      <td>2</td>\n",
       "      <td>1</td>\n",
       "      <td>1</td>\n",
       "      <td>1</td>\n",
       "      <td>1</td>\n",
       "      <td>1</td>\n",
       "      <td>3</td>\n",
       "      <td>7</td>\n",
       "    </tr>\n",
       "    <tr>\n",
       "      <th>144018</th>\n",
       "      <td>2</td>\n",
       "      <td>1</td>\n",
       "      <td>1</td>\n",
       "      <td>1</td>\n",
       "      <td>1</td>\n",
       "      <td>1</td>\n",
       "      <td>3</td>\n",
       "      <td>7</td>\n",
       "    </tr>\n",
       "    <tr>\n",
       "      <th>144019</th>\n",
       "      <td>2</td>\n",
       "      <td>2</td>\n",
       "      <td>1</td>\n",
       "      <td>1</td>\n",
       "      <td>1</td>\n",
       "      <td>1</td>\n",
       "      <td>3</td>\n",
       "      <td>3</td>\n",
       "    </tr>\n",
       "    <tr>\n",
       "      <th>144025</th>\n",
       "      <td>2</td>\n",
       "      <td>1</td>\n",
       "      <td>1</td>\n",
       "      <td>1</td>\n",
       "      <td>1</td>\n",
       "      <td>1</td>\n",
       "      <td>3</td>\n",
       "      <td>4</td>\n",
       "    </tr>\n",
       "    <tr>\n",
       "      <th>144026</th>\n",
       "      <td>2</td>\n",
       "      <td>1</td>\n",
       "      <td>1</td>\n",
       "      <td>1</td>\n",
       "      <td>1</td>\n",
       "      <td>1</td>\n",
       "      <td>3</td>\n",
       "      <td>4</td>\n",
       "    </tr>\n",
       "  </tbody>\n",
       "</table>\n",
       "<p>293 rows × 8 columns</p>\n",
       "</div>"
      ],
      "text/plain": [
       "       char_ext_wall char_roof_cnst char_bsmt char_bsmt_fin char_heat  \\\n",
       "126575             1              1         1             3         1   \n",
       "126576             2              2         1             1         1   \n",
       "126578             2              1         1             3         2   \n",
       "126579             1              1         3             1         1   \n",
       "126580             2              2         1             1         1   \n",
       "...              ...            ...       ...           ...       ...   \n",
       "144017             2              1         1             1         1   \n",
       "144018             2              1         1             1         1   \n",
       "144019             2              2         1             1         1   \n",
       "144025             2              1         1             1         1   \n",
       "144026             2              1         1             1         1   \n",
       "\n",
       "       char_air char_attic_type char_gar1_size  \n",
       "126575        1               3              3  \n",
       "126576        1               3              3  \n",
       "126578        1               3              3  \n",
       "126579        2               1              3  \n",
       "126580        1               3              3  \n",
       "...         ...             ...            ...  \n",
       "144017        1               3              7  \n",
       "144018        1               3              7  \n",
       "144019        1               3              3  \n",
       "144025        1               3              4  \n",
       "144026        1               3              4  \n",
       "\n",
       "[293 rows x 8 columns]"
      ]
     },
     "execution_count": 18,
     "metadata": {},
     "output_type": "execute_result"
    }
   ],
   "source": [
    "df_bell_sales_mf.select_dtypes(include='category')"
   ]
  },
  {
   "cell_type": "code",
   "execution_count": 19,
   "id": "c5001193",
   "metadata": {},
   "outputs": [
    {
     "name": "stdout",
     "output_type": "stream",
     "text": [
      "<class 'pandas.core.frame.DataFrame'>\n",
      "Int64Index: 293 entries, 126575 to 144026\n",
      "Data columns (total 23 columns):\n",
      " #   Column                 Non-Null Count  Dtype   \n",
      "---  ------                 --------------  -----   \n",
      " 0   meta_pin               293 non-null    object  \n",
      " 1   meta_year              293 non-null    float64 \n",
      " 2   meta_class             293 non-null    object  \n",
      " 3   meta_sale_price        293 non-null    float64 \n",
      " 4   char_hd_sf             293 non-null    float64 \n",
      " 5   char_age               293 non-null    float64 \n",
      " 6   char_ext_wall          293 non-null    category\n",
      " 7   char_roof_cnst         293 non-null    category\n",
      " 8   char_rooms             293 non-null    float64 \n",
      " 9   char_beds              293 non-null    float64 \n",
      " 10  char_bsmt              293 non-null    category\n",
      " 11  char_bsmt_fin          293 non-null    category\n",
      " 12  char_heat              293 non-null    category\n",
      " 13  char_air               293 non-null    category\n",
      " 14  char_frpl              293 non-null    float64 \n",
      " 15  char_attic_type        293 non-null    category\n",
      " 16  char_fbath             293 non-null    float64 \n",
      " 17  char_hbath             293 non-null    float64 \n",
      " 18  char_gar1_size         293 non-null    category\n",
      " 19  char_bldg_sf           293 non-null    float64 \n",
      " 20  time_sale_day_of_year  293 non-null    float64 \n",
      " 21  geo_longitude          293 non-null    float64 \n",
      " 22  geo_latitude           293 non-null    float64 \n",
      "dtypes: category(8), float64(13), object(2)\n",
      "memory usage: 40.5+ KB\n"
     ]
    }
   ],
   "source": [
    "df_bell_sales_mf.info()"
   ]
  },
  {
   "cell_type": "code",
   "execution_count": 20,
   "id": "5a301012",
   "metadata": {},
   "outputs": [
    {
     "data": {
      "text/plain": [
       "2    123\n",
       "1    121\n",
       "3     45\n",
       "4      4\n",
       "Name: char_ext_wall, dtype: int64"
      ]
     },
     "execution_count": 20,
     "metadata": {},
     "output_type": "execute_result"
    }
   ],
   "source": [
    "df_bell_sales_mf.char_ext_wall.value_counts()"
   ]
  },
  {
   "cell_type": "code",
   "execution_count": 21,
   "id": "73a46b7b",
   "metadata": {},
   "outputs": [
    {
     "data": {
      "text/plain": [
       "1    220\n",
       "2     58\n",
       "6     15\n",
       "3      0\n",
       "4      0\n",
       "5      0\n",
       "Name: char_roof_cnst, dtype: int64"
      ]
     },
     "execution_count": 21,
     "metadata": {},
     "output_type": "execute_result"
    }
   ],
   "source": [
    "df_bell_sales_mf.char_roof_cnst.value_counts()"
   ]
  },
  {
   "cell_type": "code",
   "execution_count": 22,
   "id": "fbd78b66",
   "metadata": {},
   "outputs": [
    {
     "data": {
      "text/plain": [
       "1    271\n",
       "2     14\n",
       "3      8\n",
       "4      0\n",
       "Name: char_bsmt, dtype: int64"
      ]
     },
     "execution_count": 22,
     "metadata": {},
     "output_type": "execute_result"
    }
   ],
   "source": [
    "df_bell_sales_mf.char_bsmt.value_counts()"
   ]
  },
  {
   "cell_type": "code",
   "execution_count": 23,
   "id": "7133be74",
   "metadata": {},
   "outputs": [
    {
     "data": {
      "text/plain": [
       "1    183\n",
       "3    110\n",
       "2      0\n",
       "Name: char_bsmt_fin, dtype: int64"
      ]
     },
     "execution_count": 23,
     "metadata": {},
     "output_type": "execute_result"
    }
   ],
   "source": [
    "df_bell_sales_mf.char_bsmt_fin.value_counts()"
   ]
  },
  {
   "cell_type": "code",
   "execution_count": 24,
   "id": "ad6bdc42",
   "metadata": {},
   "outputs": [
    {
     "data": {
      "text/plain": [
       "1    209\n",
       "2     84\n",
       "Name: char_air, dtype: int64"
      ]
     },
     "execution_count": 24,
     "metadata": {},
     "output_type": "execute_result"
    }
   ],
   "source": [
    "df_bell_sales_mf.char_air.value_counts()"
   ]
  },
  {
   "cell_type": "code",
   "execution_count": 25,
   "id": "cf26d506",
   "metadata": {},
   "outputs": [
    {
     "data": {
      "text/plain": [
       "1    250\n",
       "2     43\n",
       "3      0\n",
       "4      0\n",
       "Name: char_heat, dtype: int64"
      ]
     },
     "execution_count": 25,
     "metadata": {},
     "output_type": "execute_result"
    }
   ],
   "source": [
    "df_bell_sales_mf.char_heat.value_counts()\n"
   ]
  },
  {
   "cell_type": "code",
   "execution_count": 26,
   "id": "302f0d09",
   "metadata": {},
   "outputs": [
    {
     "data": {
      "text/plain": [
       "3    184\n",
       "7     34\n",
       "4     24\n",
       "5     24\n",
       "1     19\n",
       "2      7\n",
       "6      1\n",
       "8      0\n",
       "Name: char_gar1_size, dtype: int64"
      ]
     },
     "execution_count": 26,
     "metadata": {},
     "output_type": "execute_result"
    }
   ],
   "source": [
    "df_bell_sales_mf.char_gar1_size.value_counts()\n"
   ]
  },
  {
   "cell_type": "markdown",
   "id": "6c3dba6f",
   "metadata": {},
   "source": [
    "All values are non-null expect for 1 entry in # fireplaces. But it is only missing in the sales file. I should be able fill this in from the other file. In fact, the feature values in the sales file should be identical for the same property id's in the main file. Privided the property hasn't flipped. Let check this for 1 pin."
   ]
  },
  {
   "cell_type": "code",
   "execution_count": 27,
   "id": "4aa197da",
   "metadata": {},
   "outputs": [
    {
     "data": {
      "image/png": "[encoded data removed]",
      "text/plain": [
       "<Figure size 1080x720 with 16 Axes>"
      ]
     },
     "metadata": {
      "needs_background": "light"
     },
     "output_type": "display_data"
    }
   ],
   "source": [
    "df_bell_sales_mf.hist(figsize=(15,10))\n",
    "plt.subplots_adjust(hspace=0.5);"
   ]
  },
  {
   "cell_type": "markdown",
   "id": "46c23045",
   "metadata": {},
   "source": [
    "There appear to be gap years in the sales data. There is only slight evidence for a bimodal sales distribution from slight dip less than 1.5 million. But the age is clearly bimodal. There appear to be outliers in hd_sf, rooms, beds, half baths, and bld_sf, "
   ]
  },
  {
   "cell_type": "code",
   "execution_count": 28,
   "id": "09470400",
   "metadata": {},
   "outputs": [],
   "source": [
    "df_bell_sales_mf.to_csv('../data/bell_sales_cleaned_mf.csv')"
   ]
  },
  {
   "cell_type": "markdown",
   "id": "dbbe651b",
   "metadata": {},
   "source": [
    "I have saved single family home data in the Bell district. I have retained numerical features plus class."
   ]
  }
 ],
 "metadata": {
  "kernelspec": {
   "display_name": "Python 3 (ipykernel)",
   "language": "python",
   "name": "python3"
  },
  "language_info": {
   "codemirror_mode": {
    "name": "ipython",
    "version": 3
   },
   "file_extension": ".py",
   "mimetype": "text/x-python",
   "name": "python",
   "nbconvert_exporter": "python",
   "pygments_lexer": "ipython3",
   "version": "3.10.2"
  }
 },
 "nbformat": 4,
 "nbformat_minor": 5
}
