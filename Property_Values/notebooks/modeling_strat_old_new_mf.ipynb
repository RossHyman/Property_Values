{
 "cells": [
  {
   "cell_type": "markdown",
   "id": "5e52edcf",
   "metadata": {},
   "source": [
    "In this notebook I run statistical learning models on residential home sales in the Bell school area of Chicago, a highly gentrifying neighborhood with a large number of flipping and teardowns, to demonstrate that models with no inherent bias in their method lead to biased results, overvaluing low priced homes and undervaluing high priced homes. This is not surprising since it is a basic property of models based on averaging. The problem, regression towards the mean, is so intrinsic to these methods that the basic method bares its name. This property exasperates inequality as it leads to lesser taxation of wealthy people and higher taxation on poor people. The results could be used to advocate for a transition from property tax to income tax as was recently attempted in Illinois.  "
   ]
  },
  {
   "cell_type": "code",
   "execution_count": 1,
   "id": "abaa35c9",
   "metadata": {},
   "outputs": [],
   "source": [
    "import numpy as np\n",
    "import pandas as pd\n",
    "import matplotlib.pyplot as plt\n",
    "import seaborn as sns\n",
    "import os\n",
    "from sklearn.decomposition import PCA\n",
    "#from library.sb_utils import save_file\n",
    "import statsmodels.api as sm \n",
    "from statsmodels.graphics.api import abline_plot \n",
    "import warnings \n",
    "warnings.simplefilter(action=\"ignore\", category=FutureWarning)\n",
    "warnings.filterwarnings(action=\"ignore\", module=\"scipy\", message=\"^internal gelsd\")\n",
    "import pickle\n",
    "from sklearn import __version__ as sklearn_version\n",
    "from sklearn.preprocessing import scale\n",
    "from sklearn.model_selection import train_test_split, cross_validate, GridSearchCV, learning_curve\n",
    "from sklearn.preprocessing import StandardScaler, MinMaxScaler\n",
    "from sklearn.dummy import DummyRegressor\n",
    "from sklearn.linear_model import LinearRegression\n",
    "from sklearn.ensemble import RandomForestRegressor\n",
    "from sklearn.metrics import r2_score, mean_squared_error, mean_absolute_error\n",
    "from sklearn.metrics import mean_absolute_percentage_error as mape\n",
    "from sklearn.pipeline import make_pipeline\n",
    "from sklearn.impute import SimpleImputer\n",
    "from sklearn.feature_selection import SelectKBest, f_regression\n",
    "import datetime\n",
    "from sklearn.linear_model import ElasticNetCV\n",
    "from sklearn.linear_model import ElasticNet\n",
    "from sklearn.ensemble import GradientBoostingRegressor"
   ]
  },
  {
   "cell_type": "code",
   "execution_count": 2,
   "id": "eda62f1c",
   "metadata": {},
   "outputs": [],
   "source": [
    "bell_sales = pd.read_csv('../data/bell_sales_cleaned_mf.csv')"
   ]
  },
  {
   "cell_type": "code",
   "execution_count": 3,
   "id": "f6f04ecc",
   "metadata": {},
   "outputs": [],
   "source": [
    "bell_X = bell_sales.astype({'char_ext_wall':'category','char_roof_cnst':'category','char_bsmt':'category','char_attic_type':'category','char_gar1_size':'category'})"
   ]
  },
  {
   "cell_type": "code",
   "execution_count": 4,
   "id": "a2d80c6a",
   "metadata": {},
   "outputs": [
    {
     "data": {
      "text/html": [
       "<div>\n",
       "<style scoped>\n",
       "    .dataframe tbody tr th:only-of-type {\n",
       "        vertical-align: middle;\n",
       "    }\n",
       "\n",
       "    .dataframe tbody tr th {\n",
       "        vertical-align: top;\n",
       "    }\n",
       "\n",
       "    .dataframe thead th {\n",
       "        text-align: right;\n",
       "    }\n",
       "</style>\n",
       "<table border=\"1\" class=\"dataframe\">\n",
       "  <thead>\n",
       "    <tr style=\"text-align: right;\">\n",
       "      <th></th>\n",
       "      <th>Unnamed: 0</th>\n",
       "      <th>meta_pin</th>\n",
       "      <th>meta_year</th>\n",
       "      <th>meta_class</th>\n",
       "      <th>meta_sale_price</th>\n",
       "      <th>char_hd_sf</th>\n",
       "      <th>char_age</th>\n",
       "      <th>char_ext_wall</th>\n",
       "      <th>char_roof_cnst</th>\n",
       "      <th>char_rooms</th>\n",
       "      <th>...</th>\n",
       "      <th>char_air</th>\n",
       "      <th>char_frpl</th>\n",
       "      <th>char_attic_type</th>\n",
       "      <th>char_fbath</th>\n",
       "      <th>char_hbath</th>\n",
       "      <th>char_gar1_size</th>\n",
       "      <th>char_bldg_sf</th>\n",
       "      <th>time_sale_day_of_year</th>\n",
       "      <th>geo_longitude</th>\n",
       "      <th>geo_latitude</th>\n",
       "    </tr>\n",
       "  </thead>\n",
       "  <tbody>\n",
       "    <tr>\n",
       "      <th>0</th>\n",
       "      <td>126575</td>\n",
       "      <td>13242020170000</td>\n",
       "      <td>2017.0</td>\n",
       "      <td>278</td>\n",
       "      <td>850000.0</td>\n",
       "      <td>3050.0</td>\n",
       "      <td>18.0</td>\n",
       "      <td>1</td>\n",
       "      <td>1</td>\n",
       "      <td>8.0</td>\n",
       "      <td>...</td>\n",
       "      <td>1</td>\n",
       "      <td>0.0</td>\n",
       "      <td>3</td>\n",
       "      <td>2.0</td>\n",
       "      <td>1.0</td>\n",
       "      <td>3</td>\n",
       "      <td>2340.0</td>\n",
       "      <td>310.0</td>\n",
       "      <td>-87.690565</td>\n",
       "      <td>41.953323</td>\n",
       "    </tr>\n",
       "    <tr>\n",
       "      <th>1</th>\n",
       "      <td>126576</td>\n",
       "      <td>13242020180000</td>\n",
       "      <td>2013.0</td>\n",
       "      <td>278</td>\n",
       "      <td>1055000.0</td>\n",
       "      <td>3050.0</td>\n",
       "      <td>2.0</td>\n",
       "      <td>2</td>\n",
       "      <td>2</td>\n",
       "      <td>9.0</td>\n",
       "      <td>...</td>\n",
       "      <td>1</td>\n",
       "      <td>3.0</td>\n",
       "      <td>3</td>\n",
       "      <td>3.0</td>\n",
       "      <td>1.0</td>\n",
       "      <td>3</td>\n",
       "      <td>2639.0</td>\n",
       "      <td>304.0</td>\n",
       "      <td>-87.690473</td>\n",
       "      <td>41.953324</td>\n",
       "    </tr>\n",
       "    <tr>\n",
       "      <th>2</th>\n",
       "      <td>126578</td>\n",
       "      <td>13242030020000</td>\n",
       "      <td>2013.0</td>\n",
       "      <td>203</td>\n",
       "      <td>330000.0</td>\n",
       "      <td>3137.0</td>\n",
       "      <td>54.0</td>\n",
       "      <td>2</td>\n",
       "      <td>1</td>\n",
       "      <td>6.0</td>\n",
       "      <td>...</td>\n",
       "      <td>1</td>\n",
       "      <td>0.0</td>\n",
       "      <td>3</td>\n",
       "      <td>2.0</td>\n",
       "      <td>0.0</td>\n",
       "      <td>3</td>\n",
       "      <td>1020.0</td>\n",
       "      <td>322.0</td>\n",
       "      <td>-87.690731</td>\n",
       "      <td>41.952804</td>\n",
       "    </tr>\n",
       "    <tr>\n",
       "      <th>3</th>\n",
       "      <td>126579</td>\n",
       "      <td>13242030040000</td>\n",
       "      <td>2014.0</td>\n",
       "      <td>202</td>\n",
       "      <td>300000.0</td>\n",
       "      <td>3050.0</td>\n",
       "      <td>116.0</td>\n",
       "      <td>1</td>\n",
       "      <td>1</td>\n",
       "      <td>4.0</td>\n",
       "      <td>...</td>\n",
       "      <td>2</td>\n",
       "      <td>0.0</td>\n",
       "      <td>1</td>\n",
       "      <td>2.0</td>\n",
       "      <td>0.0</td>\n",
       "      <td>3</td>\n",
       "      <td>680.0</td>\n",
       "      <td>24.0</td>\n",
       "      <td>-87.690547</td>\n",
       "      <td>41.952805</td>\n",
       "    </tr>\n",
       "    <tr>\n",
       "      <th>4</th>\n",
       "      <td>126580</td>\n",
       "      <td>13242030110000</td>\n",
       "      <td>2018.0</td>\n",
       "      <td>206</td>\n",
       "      <td>976711.0</td>\n",
       "      <td>3660.0</td>\n",
       "      <td>96.0</td>\n",
       "      <td>2</td>\n",
       "      <td>2</td>\n",
       "      <td>7.0</td>\n",
       "      <td>...</td>\n",
       "      <td>1</td>\n",
       "      <td>1.0</td>\n",
       "      <td>3</td>\n",
       "      <td>2.0</td>\n",
       "      <td>1.0</td>\n",
       "      <td>3</td>\n",
       "      <td>2778.0</td>\n",
       "      <td>82.0</td>\n",
       "      <td>-87.689729</td>\n",
       "      <td>41.952810</td>\n",
       "    </tr>\n",
       "  </tbody>\n",
       "</table>\n",
       "<p>5 rows × 24 columns</p>\n",
       "</div>"
      ],
      "text/plain": [
       "   Unnamed: 0        meta_pin  meta_year  meta_class  meta_sale_price  \\\n",
       "0      126575  13242020170000     2017.0         278         850000.0   \n",
       "1      126576  13242020180000     2013.0         278        1055000.0   \n",
       "2      126578  13242030020000     2013.0         203         330000.0   \n",
       "3      126579  13242030040000     2014.0         202         300000.0   \n",
       "4      126580  13242030110000     2018.0         206         976711.0   \n",
       "\n",
       "   char_hd_sf  char_age  char_ext_wall  char_roof_cnst  char_rooms  ...  \\\n",
       "0      3050.0      18.0              1               1         8.0  ...   \n",
       "1      3050.0       2.0              2               2         9.0  ...   \n",
       "2      3137.0      54.0              2               1         6.0  ...   \n",
       "3      3050.0     116.0              1               1         4.0  ...   \n",
       "4      3660.0      96.0              2               2         7.0  ...   \n",
       "\n",
       "   char_air  char_frpl  char_attic_type  char_fbath  char_hbath  \\\n",
       "0         1        0.0                3         2.0         1.0   \n",
       "1         1        3.0                3         3.0         1.0   \n",
       "2         1        0.0                3         2.0         0.0   \n",
       "3         2        0.0                1         2.0         0.0   \n",
       "4         1        1.0                3         2.0         1.0   \n",
       "\n",
       "   char_gar1_size  char_bldg_sf  time_sale_day_of_year  geo_longitude  \\\n",
       "0               3        2340.0                  310.0     -87.690565   \n",
       "1               3        2639.0                  304.0     -87.690473   \n",
       "2               3        1020.0                  322.0     -87.690731   \n",
       "3               3         680.0                   24.0     -87.690547   \n",
       "4               3        2778.0                   82.0     -87.689729   \n",
       "\n",
       "   geo_latitude  \n",
       "0     41.953323  \n",
       "1     41.953324  \n",
       "2     41.952804  \n",
       "3     41.952805  \n",
       "4     41.952810  \n",
       "\n",
       "[5 rows x 24 columns]"
      ]
     },
     "execution_count": 4,
     "metadata": {},
     "output_type": "execute_result"
    }
   ],
   "source": [
    "bell_sales.head()"
   ]
  },
  {
   "cell_type": "code",
   "execution_count": 5,
   "id": "db22fb86",
   "metadata": {},
   "outputs": [],
   "source": [
    "bell_sales['one_story'] = [1 if x < 205 else 0 for x in bell_sales['meta_class']]\n",
    "bell_sales['row_house'] = [1 if ((x == 210) or (x==295)) else 0 for x in bell_sales['meta_class']]\n",
    "bell_sales = bell_sales.drop(columns='meta_class')\n",
    "bell_new = bell_sales[bell_sales.char_age<70]\n",
    "bell_old = bell_sales[bell_sales.char_age>70]\n",
    "old_y = bell_old.meta_sale_price\n",
    "old_X = bell_old.drop(['Unnamed: 0','meta_pin','meta_sale_price'],axis=1)\n",
    "new_y = bell_new.meta_sale_price\n",
    "new_X = bell_new.drop(['Unnamed: 0','meta_pin','meta_sale_price'],axis=1)\n",
    "old_X_lr = pd.get_dummies(old_X,drop_first=True)\n",
    "old_X_dt=  pd.get_dummies(old_X)\n",
    "new_X_lr = pd.get_dummies(new_X,drop_first=True)\n",
    "new_X_dt=  pd.get_dummies(new_X)\n",
    "oldX_train, oldX_test, oldy_train, oldy_test = train_test_split(old_X_lr, old_y, test_size=0.2, random_state=42)\n",
    "newX_train, newX_test, newy_train, newy_test = train_test_split(new_X_lr, new_y, test_size=0.2, random_state=42)\n",
    "oldscaler = StandardScaler()\n",
    "oldscaler.fit(oldX_train)\n",
    "oldX_train= oldscaler.transform(oldX_train)\n",
    "oldX_test = oldscaler.transform(oldX_test)\n",
    "newscaler = StandardScaler()\n",
    "newscaler.fit(newX_train)\n",
    "newX_train= newscaler.transform(newX_train)\n",
    "newX_test = newscaler.transform(newX_test)\n",
    "y_train = np.append(oldy_train,newy_train)\n",
    "y_test  = np.append(oldy_test,newy_test)"
   ]
  },
  {
   "cell_type": "markdown",
   "id": "508fba12",
   "metadata": {},
   "source": [
    "scaling is needed for models that need to determine a 'distance\" between data points. But for models, such as decesion trees, that do not require a distance, it is not required.Scaling should do no harm when it is not needed. "
   ]
  },
  {
   "cell_type": "markdown",
   "id": "b0b6ac9c",
   "metadata": {},
   "source": [
    "First just try metrics for the mean value of the training data"
   ]
  },
  {
   "cell_type": "code",
   "execution_count": 6,
   "id": "799b5908",
   "metadata": {},
   "outputs": [],
   "source": [
    "olddumb_reg = DummyRegressor(strategy='mean')\n",
    "olddumb_reg.fit(oldX_train,oldy_train)\n",
    "oldy_tr_pred = olddumb_reg.predict(oldX_train)\n",
    "oldy_te_pred = olddumb_reg.predict(oldX_test)\n",
    "newdumb_reg = DummyRegressor(strategy='mean')\n",
    "newdumb_reg.fit(newX_train,newy_train)\n",
    "newy_tr_pred = newdumb_reg.predict(newX_train)\n",
    "newy_te_pred = newdumb_reg.predict(newX_test)\n",
    "y_tr_pred = np.append(oldy_tr_pred,newy_tr_pred)\n",
    "y_te_pred = np.append(oldy_te_pred,newy_te_pred)\n"
   ]
  },
  {
   "cell_type": "code",
   "execution_count": 7,
   "id": "c726c242",
   "metadata": {},
   "outputs": [
    {
     "data": {
      "text/plain": [
       "(0.4143511417357404,\n",
       " 0.3797135583481504,\n",
       " 0.18801206290947958,\n",
       " 0.2293896671338448,\n",
       " 397671.82031537476,\n",
       " 383442.7490709116,\n",
       " 331433.71194597444,\n",
       " 314106.7557187131)"
      ]
     },
     "execution_count": 7,
     "metadata": {},
     "output_type": "execute_result"
    }
   ],
   "source": [
    "\n",
    "mape(y_train, y_tr_pred), mape(y_test, y_te_pred),\\\n",
    "r2_score(y_train, y_tr_pred), r2_score(y_test, y_te_pred),\\\n",
    "np.sqrt(mean_squared_error(y_train, y_tr_pred)), np.sqrt(mean_squared_error(y_test, y_te_pred)),\\\n",
    "mean_absolute_error(y_train, y_tr_pred),mean_absolute_error(y_test, y_te_pred)\n",
    "\n"
   ]
  },
  {
   "cell_type": "markdown",
   "id": "fad69010",
   "metadata": {},
   "source": [
    "Three metrics recommended by the International association of assessing officers based on the ratio y_pred/y_test are Coefficient of Dispersion (COD), Price Related Differential (PRD), and Coefficent of Price-Related Bias."
   ]
  },
  {
   "cell_type": "markdown",
   "id": "aae8f2b8",
   "metadata": {},
   "source": [
    "Coefficient of Dispersion (COD)is a measure of the variance of the ratio. It is multiplied by 100. Its value is the percentage variation of the ratio away from the median. It does not tell us if low priced homes are being treated differently than high priced homes."
   ]
  },
  {
   "cell_type": "code",
   "execution_count": 8,
   "id": "e3722ace",
   "metadata": {},
   "outputs": [
    {
     "data": {
      "text/plain": [
       "(39.69569142405838, 38.512694336152954)"
      ]
     },
     "execution_count": 8,
     "metadata": {},
     "output_type": "execute_result"
    }
   ],
   "source": [
    "def cod(y_pred,y_test):\n",
    "    ratio = y_pred/y_test\n",
    "    ratio_median = np.median(ratio)\n",
    "    return 100*np.mean(np.abs(ratio-ratio_median))/ratio_median\n",
    "cod(y_tr_pred,y_train), cod(y_te_pred,y_test)"
   ]
  },
  {
   "cell_type": "markdown",
   "id": "38b59c84",
   "metadata": {},
   "source": [
    "Just taking an average produces a variation of over 40% is the ratio.\n"
   ]
  },
  {
   "cell_type": "markdown",
   "id": "d970399b",
   "metadata": {},
   "source": [
    "Price Related Differential does tell us if low priced homes are being treated differently than high priced homes. It is the mean ratio divided by the sales price weighted mean ratio. If the ratio for large sales price homes is lower than the ratio for low sales price homes, then the mean ratio over the weighted mean ratio will be larger than 1."
   ]
  },
  {
   "cell_type": "code",
   "execution_count": 9,
   "id": "5edf7a3b",
   "metadata": {},
   "outputs": [
    {
     "data": {
      "text/plain": [
       "(1.2019051319836271, 1.179662689867536)"
      ]
     },
     "execution_count": 9,
     "metadata": {},
     "output_type": "execute_result"
    }
   ],
   "source": [
    "def prd(y_pred,y_test):\n",
    "    ratio = y_pred/y_test\n",
    "    y_test_sum = np.sum(y_test)\n",
    "    y_pred_sum = np.sum(y_pred)\n",
    "    return np.mean(ratio)*y_test_sum/y_pred_sum\n",
    "prd(y_tr_pred,y_train), prd(y_te_pred,y_test)"
   ]
  },
  {
   "cell_type": "markdown",
   "id": "778bc195",
   "metadata": {},
   "source": [
    "The mean ratio is 22% higher than the weighted mean ratio, indicating that low proced homes are priced higher than their sales price compared to how high priced homes are treated.  This is a consequence that small variations in the predicated price of a low priced home makes a bigger change in the ratio."
   ]
  },
  {
   "cell_type": "markdown",
   "id": "9801b5be",
   "metadata": {},
   "source": [
    "Coefficent of price related bias (PRB) does a liner regression between the log2 of the price and the ratio. A negative number means that if one increases the price, the ratio goes down."
   ]
  },
  {
   "cell_type": "code",
   "execution_count": 10,
   "id": "c7720837",
   "metadata": {},
   "outputs": [
    {
     "data": {
      "text/plain": [
       "(array([-1.18620674]), array([-1.10707835]))"
      ]
     },
     "execution_count": 10,
     "metadata": {},
     "output_type": "execute_result"
    }
   ],
   "source": [
    "def prb(y_pred,y_test):\n",
    "    proxy = 0.5*(y_pred + y_test)\n",
    "    ln_value = pd.DataFrame(np.log2(proxy))\n",
    "    ratio = y_pred/y_test\n",
    "    ratio_median = np.median(ratio)\n",
    "    pct_dif = (ratio - ratio_median)/ratio_median\n",
    "    lr = LinearRegression()\n",
    "    lr.fit(ln_value,pct_dif)\n",
    "    return lr.coef_\n",
    "prb(y_tr_pred,y_train), prb(y_te_pred,y_test)"
   ]
  },
  {
   "cell_type": "markdown",
   "id": "93d284a2",
   "metadata": {},
   "source": [
    "Using the average price for all predictions has the consequence that doubling the price of the home means the ratio goes down by 78%."
   ]
  },
  {
   "cell_type": "markdown",
   "id": "a3ab86d6",
   "metadata": {},
   "source": [
    "Next we see how linear regression improves predicted prices.  "
   ]
  },
  {
   "cell_type": "code",
   "execution_count": 11,
   "id": "fe29baa3",
   "metadata": {},
   "outputs": [],
   "source": [
    "oldlm = LinearRegression()\n",
    "oldlm.fit(oldX_train,oldy_train)\n",
    "oldy_tr_pred = oldlm.predict(oldX_train)\n",
    "oldy_te_pred = oldlm.predict(oldX_test)\n",
    "newlm = LinearRegression()\n",
    "newlm.fit(newX_train,newy_train)\n",
    "newy_tr_pred = newlm.predict(newX_train)\n",
    "newy_te_pred = newlm.predict(newX_test)\n",
    "y_tr_pred = np.append(oldy_tr_pred,newy_tr_pred)\n",
    "y_te_pred = np.append(oldy_te_pred,newy_te_pred)"
   ]
  },
  {
   "cell_type": "code",
   "execution_count": 12,
   "id": "8a3bc790",
   "metadata": {},
   "outputs": [
    {
     "data": {
      "text/plain": [
       "(0.14136776542644264,\n",
       " 0.16606101439532414,\n",
       " 0.8490013535780846,\n",
       " 0.7188449937089212,\n",
       " 171489.1136412903,\n",
       " 231609.31714725087,\n",
       " 129799.07634616243,\n",
       " 164412.63817378588)"
      ]
     },
     "execution_count": 12,
     "metadata": {},
     "output_type": "execute_result"
    }
   ],
   "source": [
    "mape(y_train, y_tr_pred), mape(y_test, y_te_pred),\\\n",
    "r2_score(y_train, y_tr_pred), r2_score(y_test, y_te_pred),\\\n",
    "np.sqrt(mean_squared_error(y_train, y_tr_pred)), np.sqrt(mean_squared_error(y_test, y_te_pred)),\\\n",
    "mean_absolute_error(y_train, y_tr_pred),mean_absolute_error(y_test, y_te_pred)\n",
    "\n"
   ]
  },
  {
   "cell_type": "code",
   "execution_count": 13,
   "id": "1f6ed839",
   "metadata": {},
   "outputs": [
    {
     "data": {
      "text/plain": [
       "(13.962838569907175, 16.526697334216763)"
      ]
     },
     "execution_count": 13,
     "metadata": {},
     "output_type": "execute_result"
    }
   ],
   "source": [
    "cod(y_tr_pred,y_train), cod(y_te_pred,y_test)"
   ]
  },
  {
   "cell_type": "markdown",
   "id": "5cd26214",
   "metadata": {},
   "source": [
    "variance is cut by more than half"
   ]
  },
  {
   "cell_type": "code",
   "execution_count": 14,
   "id": "f8289e34",
   "metadata": {},
   "outputs": [
    {
     "data": {
      "text/plain": [
       "(1.0310788901704342, 1.0240674724441634)"
      ]
     },
     "execution_count": 14,
     "metadata": {},
     "output_type": "execute_result"
    }
   ],
   "source": [
    "prd(y_tr_pred,y_train), prd(y_te_pred,y_test)"
   ]
  },
  {
   "cell_type": "markdown",
   "id": "56dfe4f8",
   "metadata": {},
   "source": [
    "mean ratio is now only 7 percent higher than the weighted ratio."
   ]
  },
  {
   "cell_type": "code",
   "execution_count": 15,
   "id": "fc17c371",
   "metadata": {},
   "outputs": [
    {
     "data": {
      "text/plain": [
       "(array([-0.06204729]), array([0.00414659]))"
      ]
     },
     "execution_count": 15,
     "metadata": {},
     "output_type": "execute_result"
    }
   ],
   "source": [
    "prb(y_tr_pred,y_train), prb(y_te_pred,y_test)"
   ]
  },
  {
   "cell_type": "code",
   "execution_count": 16,
   "id": "e02421bc",
   "metadata": {},
   "outputs": [
    {
     "data": {
      "text/plain": [
       "<AxesSubplot:>"
      ]
     },
     "execution_count": 16,
     "metadata": {},
     "output_type": "execute_result"
    },
    {
     "data": {
      "image/png": "[encoded data removed]",
      "text/plain": [
       "<Figure size 432x288 with 1 Axes>"
      ]
     },
     "metadata": {
      "needs_background": "light"
     },
     "output_type": "display_data"
    }
   ],
   "source": [
    "sns.scatterplot(x=y_train,y=y_tr_pred)"
   ]
  },
  {
   "cell_type": "code",
   "execution_count": 17,
   "id": "b7a0b45f",
   "metadata": {},
   "outputs": [
    {
     "data": {
      "text/plain": [
       "<AxesSubplot:>"
      ]
     },
     "execution_count": 17,
     "metadata": {},
     "output_type": "execute_result"
    },
    {
     "data": {
      "image/png": "[encoded data removed]",
      "text/plain": [
       "<Figure size 432x288 with 1 Axes>"
      ]
     },
     "metadata": {
      "needs_background": "light"
     },
     "output_type": "display_data"
    }
   ],
   "source": [
    "sns.scatterplot(x=y_test,y=y_te_pred)"
   ]
  },
  {
   "cell_type": "code",
   "execution_count": 18,
   "id": "f84502d5",
   "metadata": {},
   "outputs": [
    {
     "data": {
      "text/plain": [
       "<AxesSubplot:>"
      ]
     },
     "execution_count": 18,
     "metadata": {},
     "output_type": "execute_result"
    },
    {
     "data": {
      "image/png": "[encoded data removed]",
      "text/plain": [
       "<Figure size 432x288 with 1 Axes>"
      ]
     },
     "metadata": {
      "needs_background": "light"
     },
     "output_type": "display_data"
    }
   ],
   "source": [
    "sns.scatterplot(x=y_train,y=y_tr_pred/y_train)"
   ]
  },
  {
   "cell_type": "code",
   "execution_count": 19,
   "id": "8e07d98b",
   "metadata": {},
   "outputs": [
    {
     "data": {
      "text/plain": [
       "<AxesSubplot:>"
      ]
     },
     "execution_count": 19,
     "metadata": {},
     "output_type": "execute_result"
    },
    {
     "data": {
      "image/png": "[encoded data removed]",
      "text/plain": [
       "<Figure size 432x288 with 1 Axes>"
      ]
     },
     "metadata": {
      "needs_background": "light"
     },
     "output_type": "display_data"
    }
   ],
   "source": [
    "sns.scatterplot(x=y_test,y=y_te_pred/y_test)"
   ]
  },
  {
   "cell_type": "code",
   "execution_count": 20,
   "id": "197ade61",
   "metadata": {},
   "outputs": [
    {
     "data": {
      "text/plain": [
       "<AxesSubplot:>"
      ]
     },
     "execution_count": 20,
     "metadata": {},
     "output_type": "execute_result"
    },
    {
     "data": {
      "image/png": "[encoded data removed]",
      "text/plain": [
       "<Figure size 432x288 with 1 Axes>"
      ]
     },
     "metadata": {
      "needs_background": "light"
     },
     "output_type": "display_data"
    }
   ],
   "source": [
    "sns.scatterplot(x=np.log2(y_train),y=y_tr_pred/y_train)"
   ]
  },
  {
   "cell_type": "code",
   "execution_count": 21,
   "id": "044b7cc1",
   "metadata": {},
   "outputs": [
    {
     "data": {
      "text/plain": [
       "<AxesSubplot:>"
      ]
     },
     "execution_count": 21,
     "metadata": {},
     "output_type": "execute_result"
    },
    {
     "data": {
      "image/png": "[encoded data removed]",
      "text/plain": [
       "<Figure size 432x288 with 1 Axes>"
      ]
     },
     "metadata": {
      "needs_background": "light"
     },
     "output_type": "display_data"
    }
   ],
   "source": [
    "sns.scatterplot(x=np.log2(y_test),y=y_te_pred/y_test)"
   ]
  },
  {
   "cell_type": "markdown",
   "id": "ba3767e8",
   "metadata": {},
   "source": [
    "For linear regression, doubling the home price means the ratio goes down by almost 14%. Let's see how much this can be improved with ElasticNet which includes LinearRegression as a limit."
   ]
  },
  {
   "cell_type": "code",
   "execution_count": 22,
   "id": "6f6f17a3",
   "metadata": {},
   "outputs": [],
   "source": [
    "olden = ElasticNet()\n",
    "params = {'alpha':[0.0001,0.001,0.01,0.1,0.2,0.3,0.4,0.5,0.6,0.7,0.8,0.9,1.0],'l1_ratio':[.1, .5, .7, .9, .95, .99, 1]}\n",
    "olden_gscv = GridSearchCV(olden,params,n_jobs=-1,cv=5,scoring=\"neg_mean_absolute_percentage_error\")\n",
    "olden_gscv.fit(oldX_train,oldy_train)\n",
    "oldy_tr_pred = olden_gscv.predict(oldX_train)\n",
    "oldy_te_pred = olden_gscv.predict(oldX_test)\n",
    "newen = ElasticNet()\n",
    "newen_gscv = GridSearchCV(newen,params,n_jobs=-1,cv=5,scoring=\"neg_mean_absolute_percentage_error\")\n",
    "newen_gscv.fit(newX_train,newy_train)\n",
    "newy_tr_pred = newen_gscv.predict(newX_train)\n",
    "newy_te_pred = newen_gscv.predict(newX_test)\n",
    "y_tr_pred = np.append(oldy_tr_pred,newy_tr_pred)\n",
    "y_te_pred = np.append(oldy_te_pred,newy_te_pred)"
   ]
  },
  {
   "cell_type": "code",
   "execution_count": 23,
   "id": "11beef17",
   "metadata": {},
   "outputs": [
    {
     "data": {
      "text/plain": [
       "(0.14492918091573714,\n",
       " 0.1642427873560661,\n",
       " 0.8349997656307362,\n",
       " 0.743108410778273,\n",
       " 179263.68063470337,\n",
       " 221390.02960919356,\n",
       " 134486.2829564096,\n",
       " 159328.2906653437)"
      ]
     },
     "execution_count": 23,
     "metadata": {},
     "output_type": "execute_result"
    }
   ],
   "source": [
    "mape(y_train, y_tr_pred), mape(y_test, y_te_pred),\\\n",
    "r2_score(y_train, y_tr_pred), r2_score(y_test, y_te_pred),\\\n",
    "np.sqrt(mean_squared_error(y_train, y_tr_pred)), np.sqrt(mean_squared_error(y_test, y_te_pred)),\\\n",
    "mean_absolute_error(y_train, y_tr_pred),mean_absolute_error(y_test, y_te_pred)\n",
    "\n"
   ]
  },
  {
   "cell_type": "code",
   "execution_count": 24,
   "id": "914cace4",
   "metadata": {},
   "outputs": [
    {
     "data": {
      "text/plain": [
       "(14.389772682559524, 16.269626904773023)"
      ]
     },
     "execution_count": 24,
     "metadata": {},
     "output_type": "execute_result"
    }
   ],
   "source": [
    "cod(y_tr_pred,y_train), cod(y_te_pred,y_test)"
   ]
  },
  {
   "cell_type": "code",
   "execution_count": 25,
   "id": "860cfeb6",
   "metadata": {},
   "outputs": [
    {
     "data": {
      "text/plain": [
       "(1.0437766004945201, 1.0365248764024684)"
      ]
     },
     "execution_count": 25,
     "metadata": {},
     "output_type": "execute_result"
    }
   ],
   "source": [
    "prd(y_tr_pred,y_train), prd(y_te_pred,y_test)"
   ]
  },
  {
   "cell_type": "code",
   "execution_count": 26,
   "id": "9944e246",
   "metadata": {},
   "outputs": [
    {
     "data": {
      "text/plain": [
       "(array([-0.13074087]), array([-0.06893184]))"
      ]
     },
     "execution_count": 26,
     "metadata": {},
     "output_type": "execute_result"
    }
   ],
   "source": [
    "prb(y_tr_pred,y_train), prb(y_te_pred,y_test)"
   ]
  },
  {
   "cell_type": "code",
   "execution_count": 27,
   "id": "4b4ce53b",
   "metadata": {},
   "outputs": [
    {
     "data": {
      "text/plain": [
       "({'alpha': 0.7, 'l1_ratio': 0.5}, {'alpha': 0.4, 'l1_ratio': 0.7})"
      ]
     },
     "execution_count": 27,
     "metadata": {},
     "output_type": "execute_result"
    }
   ],
   "source": [
    "olden_gscv.best_params_, newen_gscv.best_params_"
   ]
  },
  {
   "cell_type": "code",
   "execution_count": 28,
   "id": "03611c55",
   "metadata": {},
   "outputs": [
    {
     "data": {
      "text/plain": [
       "<AxesSubplot:>"
      ]
     },
     "execution_count": 28,
     "metadata": {},
     "output_type": "execute_result"
    },
    {
     "data": {
      "image/png": "[encoded data removed]",
      "text/plain": [
       "<Figure size 432x288 with 1 Axes>"
      ]
     },
     "metadata": {
      "needs_background": "light"
     },
     "output_type": "display_data"
    }
   ],
   "source": [
    "sns.scatterplot(x=y_train,y=y_tr_pred)"
   ]
  },
  {
   "cell_type": "code",
   "execution_count": 29,
   "id": "415f1430",
   "metadata": {},
   "outputs": [
    {
     "data": {
      "text/plain": [
       "<AxesSubplot:>"
      ]
     },
     "execution_count": 29,
     "metadata": {},
     "output_type": "execute_result"
    },
    {
     "data": {
      "image/png": "[encoded data removed]",
      "text/plain": [
       "<Figure size 432x288 with 1 Axes>"
      ]
     },
     "metadata": {
      "needs_background": "light"
     },
     "output_type": "display_data"
    }
   ],
   "source": [
    "sns.scatterplot(x=y_test,y=y_te_pred)"
   ]
  },
  {
   "cell_type": "code",
   "execution_count": 30,
   "id": "2f4080a4",
   "metadata": {},
   "outputs": [
    {
     "data": {
      "text/plain": [
       "<AxesSubplot:>"
      ]
     },
     "execution_count": 30,
     "metadata": {},
     "output_type": "execute_result"
    },
    {
     "data": {
      "image/png": "[encoded data removed]",
      "text/plain": [
       "<Figure size 432x288 with 1 Axes>"
      ]
     },
     "metadata": {
      "needs_background": "light"
     },
     "output_type": "display_data"
    }
   ],
   "source": [
    "sns.scatterplot(x=y_train,y=y_tr_pred/y_train)"
   ]
  },
  {
   "cell_type": "code",
   "execution_count": 31,
   "id": "c1df9c3f",
   "metadata": {},
   "outputs": [
    {
     "data": {
      "text/plain": [
       "<AxesSubplot:>"
      ]
     },
     "execution_count": 31,
     "metadata": {},
     "output_type": "execute_result"
    },
    {
     "data": {
      "image/png": "[encoded data removed]",
      "text/plain": [
       "<Figure size 432x288 with 1 Axes>"
      ]
     },
     "metadata": {
      "needs_background": "light"
     },
     "output_type": "display_data"
    }
   ],
   "source": [
    "sns.scatterplot(x=y_test,y=y_te_pred/y_test)"
   ]
  },
  {
   "cell_type": "code",
   "execution_count": 32,
   "id": "1dcac96b",
   "metadata": {},
   "outputs": [
    {
     "data": {
      "text/plain": [
       "<AxesSubplot:>"
      ]
     },
     "execution_count": 32,
     "metadata": {},
     "output_type": "execute_result"
    },
    {
     "data": {
      "image/png": "[encoded data removed]",
      "text/plain": [
       "<Figure size 432x288 with 1 Axes>"
      ]
     },
     "metadata": {
      "needs_background": "light"
     },
     "output_type": "display_data"
    }
   ],
   "source": [
    "sns.scatterplot(x=np.log2(y_test),y=y_te_pred/y_test)"
   ]
  },
  {
   "cell_type": "code",
   "execution_count": 33,
   "id": "0170069f",
   "metadata": {},
   "outputs": [],
   "source": [
    "oldX_train, oldX_test, oldy_train, oldy_test = train_test_split(old_X_dt, old_y, test_size=0.2, random_state=42)\n",
    "newX_train, newX_test, newy_train, newy_test = train_test_split(new_X_dt, new_y, test_size=0.2, random_state=42)\n",
    "oldscaler = StandardScaler()\n",
    "oldscaler.fit(oldX_train)\n",
    "oldX_train= oldscaler.transform(oldX_train)\n",
    "oldX_test = oldscaler.transform(oldX_test)\n",
    "newscaler = StandardScaler()\n",
    "newscaler.fit(newX_train)\n",
    "newX_train= newscaler.transform(newX_train)\n",
    "newX_test = newscaler.transform(newX_test)"
   ]
  },
  {
   "cell_type": "markdown",
   "id": "3237720f",
   "metadata": {},
   "source": [
    "For linear regression, doubling the home price means the ratio goes down by almost 14%. Can this be improved with Random Forest?"
   ]
  },
  {
   "cell_type": "code",
   "execution_count": 34,
   "id": "6a61c7bc",
   "metadata": {},
   "outputs": [],
   "source": [
    "oldrfr= RandomForestRegressor(random_state=42)\n",
    "params = {'n_estimators':[100,200,300,400,500],'criterion':[\"squared_error\", \"absolute_error\", \"poisson\"],'max_features':[\"auto\",\"sqrt\",\"log2\"]}\n",
    "oldrfr_gscv = GridSearchCV(oldrfr,params,n_jobs=-1,cv=5,scoring=\"neg_mean_absolute_percentage_error\")\n",
    "oldrfr_gscv.fit(oldX_train,oldy_train)\n",
    "oldy_tr_pred = oldrfr_gscv.predict(oldX_train)\n",
    "oldy_te_pred = oldrfr_gscv.predict(oldX_test)\n",
    "newrfr = RandomForestRegressor(random_state=42)\n",
    "newrfr_gscv = GridSearchCV(newrfr,params,n_jobs=-1,cv=5,scoring=\"neg_mean_absolute_percentage_error\")\n",
    "newrfr_gscv.fit(newX_train,newy_train)\n",
    "newy_tr_pred = newrfr_gscv.predict(newX_train)\n",
    "newy_te_pred = newrfr_gscv.predict(newX_test)\n",
    "y_tr_pred = np.append(oldy_tr_pred,newy_tr_pred)\n",
    "y_te_pred = np.append(oldy_te_pred,newy_te_pred)"
   ]
  },
  {
   "cell_type": "code",
   "execution_count": 35,
   "id": "437b9556",
   "metadata": {},
   "outputs": [
    {
     "data": {
      "text/plain": [
       "(0.05786345775337726,\n",
       " 0.15658661792442785,\n",
       " 0.9702617617310293,\n",
       " 0.7731070169213422,\n",
       " 76104.02859943012,\n",
       " 208062.42126350309,\n",
       " 53371.76921673819,\n",
       " 148514.48529166667)"
      ]
     },
     "execution_count": 35,
     "metadata": {},
     "output_type": "execute_result"
    }
   ],
   "source": [
    "mape(y_train, y_tr_pred), mape(y_test, y_te_pred),\\\n",
    "r2_score(y_train, y_tr_pred), r2_score(y_test, y_te_pred),\\\n",
    "np.sqrt(mean_squared_error(y_train, y_tr_pred)), np.sqrt(mean_squared_error(y_test, y_te_pred)),\\\n",
    "mean_absolute_error(y_train, y_tr_pred),mean_absolute_error(y_test, y_te_pred)\n",
    "\n",
    "\n"
   ]
  },
  {
   "cell_type": "code",
   "execution_count": 36,
   "id": "bc42fb10",
   "metadata": {},
   "outputs": [
    {
     "data": {
      "text/plain": [
       "(5.709336878715445, 15.764307551493442)"
      ]
     },
     "execution_count": 36,
     "metadata": {},
     "output_type": "execute_result"
    }
   ],
   "source": [
    "cod(y_tr_pred,y_train), cod(y_te_pred,y_test)"
   ]
  },
  {
   "cell_type": "code",
   "execution_count": 37,
   "id": "cbc46dc1",
   "metadata": {},
   "outputs": [
    {
     "data": {
      "text/plain": [
       "(1.0191648150181687, 1.0422615445629724)"
      ]
     },
     "execution_count": 37,
     "metadata": {},
     "output_type": "execute_result"
    }
   ],
   "source": [
    "prd(y_tr_pred,y_train), prd(y_te_pred,y_test)"
   ]
  },
  {
   "cell_type": "code",
   "execution_count": 38,
   "id": "37167a16",
   "metadata": {},
   "outputs": [
    {
     "data": {
      "text/plain": [
       "(array([-0.07714451]), array([-0.12525466]))"
      ]
     },
     "execution_count": 38,
     "metadata": {},
     "output_type": "execute_result"
    }
   ],
   "source": [
    "prb(y_tr_pred,y_train), prb(y_te_pred,y_test)"
   ]
  },
  {
   "cell_type": "code",
   "execution_count": 39,
   "id": "ffa6ad09",
   "metadata": {},
   "outputs": [
    {
     "data": {
      "text/plain": [
       "({'criterion': 'squared_error', 'max_features': 'sqrt', 'n_estimators': 200},\n",
       " {'criterion': 'squared_error', 'max_features': 'auto', 'n_estimators': 400})"
      ]
     },
     "execution_count": 39,
     "metadata": {},
     "output_type": "execute_result"
    }
   ],
   "source": [
    "oldrfr_gscv.best_params_, newrfr_gscv.best_params_"
   ]
  },
  {
   "cell_type": "code",
   "execution_count": 40,
   "id": "4effb738",
   "metadata": {},
   "outputs": [
    {
     "data": {
      "text/plain": [
       "<AxesSubplot:>"
      ]
     },
     "execution_count": 40,
     "metadata": {},
     "output_type": "execute_result"
    },
    {
     "data": {
      "image/png": "[encoded data removed]",
      "text/plain": [
       "<Figure size 432x288 with 1 Axes>"
      ]
     },
     "metadata": {
      "needs_background": "light"
     },
     "output_type": "display_data"
    }
   ],
   "source": [
    "sns.scatterplot(x=y_train,y=y_tr_pred)"
   ]
  },
  {
   "cell_type": "markdown",
   "id": "b596e2fe",
   "metadata": {},
   "source": [
    "looks good on training data"
   ]
  },
  {
   "cell_type": "code",
   "execution_count": 41,
   "id": "efd6243e",
   "metadata": {},
   "outputs": [
    {
     "data": {
      "text/plain": [
       "<AxesSubplot:>"
      ]
     },
     "execution_count": 41,
     "metadata": {},
     "output_type": "execute_result"
    },
    {
     "data": {
      "image/png": "[encoded data removed]",
      "text/plain": [
       "<Figure size 432x288 with 1 Axes>"
      ]
     },
     "metadata": {
      "needs_background": "light"
     },
     "output_type": "display_data"
    }
   ],
   "source": [
    "sns.scatterplot(x=y_test,y=y_te_pred)"
   ]
  },
  {
   "cell_type": "markdown",
   "id": "c4ff3716",
   "metadata": {},
   "source": [
    "less good on the test data"
   ]
  },
  {
   "cell_type": "code",
   "execution_count": 42,
   "id": "561450fa",
   "metadata": {},
   "outputs": [
    {
     "data": {
      "text/plain": [
       "<AxesSubplot:>"
      ]
     },
     "execution_count": 42,
     "metadata": {},
     "output_type": "execute_result"
    },
    {
     "data": {
      "image/png": "[encoded data removed]",
      "text/plain": [
       "<Figure size 432x288 with 1 Axes>"
      ]
     },
     "metadata": {
      "needs_background": "light"
     },
     "output_type": "display_data"
    }
   ],
   "source": [
    "sns.scatterplot(x=y_train,y=y_tr_pred/y_train)"
   ]
  },
  {
   "cell_type": "markdown",
   "id": "880e6c97",
   "metadata": {},
   "source": [
    "training data ratio is higher for low priced homes. The smallest priced home is valued at twice its sales price."
   ]
  },
  {
   "cell_type": "code",
   "execution_count": 43,
   "id": "59043b62",
   "metadata": {},
   "outputs": [
    {
     "data": {
      "text/plain": [
       "<AxesSubplot:>"
      ]
     },
     "execution_count": 43,
     "metadata": {},
     "output_type": "execute_result"
    },
    {
     "data": {
      "image/png": "[encoded data removed]",
      "text/plain": [
       "<Figure size 432x288 with 1 Axes>"
      ]
     },
     "metadata": {
      "needs_background": "light"
     },
     "output_type": "display_data"
    }
   ],
   "source": [
    "sns.scatterplot(x=y_test,y=y_te_pred/y_test)"
   ]
  },
  {
   "cell_type": "markdown",
   "id": "8e5c5da1",
   "metadata": {},
   "source": [
    "same bias in the test data"
   ]
  },
  {
   "cell_type": "code",
   "execution_count": 44,
   "id": "45f3de77",
   "metadata": {},
   "outputs": [
    {
     "data": {
      "text/plain": [
       "<AxesSubplot:>"
      ]
     },
     "execution_count": 44,
     "metadata": {},
     "output_type": "execute_result"
    },
    {
     "data": {
      "image/png": "[encoded data removed]",
      "text/plain": [
       "<Figure size 432x288 with 1 Axes>"
      ]
     },
     "metadata": {
      "needs_background": "light"
     },
     "output_type": "display_data"
    }
   ],
   "source": [
    "sns.scatterplot(x=np.log2(y_train),y=y_tr_pred/y_train)"
   ]
  },
  {
   "cell_type": "code",
   "execution_count": 45,
   "id": "cbb89e12",
   "metadata": {},
   "outputs": [
    {
     "data": {
      "text/plain": [
       "<AxesSubplot:>"
      ]
     },
     "execution_count": 45,
     "metadata": {},
     "output_type": "execute_result"
    },
    {
     "data": {
      "image/png": "[encoded data removed]",
      "text/plain": [
       "<Figure size 432x288 with 1 Axes>"
      ]
     },
     "metadata": {
      "needs_background": "light"
     },
     "output_type": "display_data"
    }
   ],
   "source": [
    "sns.scatterplot(x=np.log2(y_test),y=y_te_pred/y_test)"
   ]
  },
  {
   "cell_type": "markdown",
   "id": "2aeb231a",
   "metadata": {},
   "source": [
    "One can also see the downward trend in when graphing against the log of the price. One high priced homes are valued at less than half of its sale price."
   ]
  },
  {
   "cell_type": "code",
   "execution_count": 46,
   "id": "025279ff",
   "metadata": {},
   "outputs": [],
   "source": [
    "oldgb = GradientBoostingRegressor(random_state=42)\n",
    "oldparams = {'n_estimators':[250,300,350],'learning_rate':[0.01,0.015,0.2],'loss':['squared_error', 'absolute_error'],'max_depth':[1,2,3]}\n",
    "oldgb_gscv = GridSearchCV(oldgb,oldparams,n_jobs=-1,cv=5,scoring=\"neg_mean_absolute_percentage_error\")\n",
    "oldgb_gscv.fit(oldX_train,oldy_train)\n",
    "oldy_tr_pred = oldgb_gscv.predict(oldX_train)\n",
    "oldy_te_pred = oldgb_gscv.predict(oldX_test)\n",
    "newgb = GradientBoostingRegressor(random_state=42)\n",
    "newparams = {'n_estimators':[600,700,800],'learning_rate':[0.005,0.01,0.015],'loss':['squared_error', 'absolute_error'],'max_depth':[3,4,5]}\n",
    "newgb_gscv = GridSearchCV(newgb,newparams,n_jobs=-1,cv=5,scoring=\"neg_mean_absolute_percentage_error\")\n",
    "newgb_gscv.fit(newX_train,newy_train)\n",
    "newy_tr_pred = newgb_gscv.predict(newX_train)\n",
    "newy_te_pred = newgb_gscv.predict(newX_test)\n",
    "y_tr_pred = np.append(oldy_tr_pred,newy_tr_pred)\n",
    "y_te_pred = np.append(oldy_te_pred,newy_te_pred)\n"
   ]
  },
  {
   "cell_type": "code",
   "execution_count": 47,
   "id": "d641deca",
   "metadata": {},
   "outputs": [
    {
     "data": {
      "text/plain": [
       "(0.06988416960067588,\n",
       " 0.1686197991543452,\n",
       " 0.9045849950894674,\n",
       " 0.7261565771868985,\n",
       " 136319.6200754842,\n",
       " 228577.91812593272,\n",
       " 62264.3814182542,\n",
       " 160061.01943975515)"
      ]
     },
     "execution_count": 47,
     "metadata": {},
     "output_type": "execute_result"
    }
   ],
   "source": [
    "mape(y_train, y_tr_pred), mape(y_test, y_te_pred),\\\n",
    "r2_score(y_train, y_tr_pred), r2_score(y_test, y_te_pred),\\\n",
    "np.sqrt(mean_squared_error(y_train, y_tr_pred)), np.sqrt(mean_squared_error(y_test, y_te_pred)),\\\n",
    "mean_absolute_error(y_train, y_tr_pred),mean_absolute_error(y_test, y_te_pred)\n",
    "\n"
   ]
  },
  {
   "cell_type": "code",
   "execution_count": 48,
   "id": "61077194",
   "metadata": {},
   "outputs": [
    {
     "data": {
      "text/plain": [
       "(6.987172362639596, 17.015732775493884)"
      ]
     },
     "execution_count": 48,
     "metadata": {},
     "output_type": "execute_result"
    }
   ],
   "source": [
    "cod(y_tr_pred,y_train), cod(y_te_pred,y_test)"
   ]
  },
  {
   "cell_type": "code",
   "execution_count": 49,
   "id": "6c45597e",
   "metadata": {},
   "outputs": [
    {
     "data": {
      "text/plain": [
       "(1.0238275511227608, 1.0411704917273972)"
      ]
     },
     "execution_count": 49,
     "metadata": {},
     "output_type": "execute_result"
    }
   ],
   "source": [
    "prd(y_tr_pred,y_train), prd(y_te_pred,y_test)"
   ]
  },
  {
   "cell_type": "code",
   "execution_count": 50,
   "id": "ef902805",
   "metadata": {},
   "outputs": [
    {
     "data": {
      "text/plain": [
       "(array([-0.07919026]), array([-0.08760626]))"
      ]
     },
     "execution_count": 50,
     "metadata": {},
     "output_type": "execute_result"
    }
   ],
   "source": [
    "prb(y_tr_pred,y_train), prb(y_te_pred,y_test)"
   ]
  },
  {
   "cell_type": "code",
   "execution_count": 51,
   "id": "3d6c52fd",
   "metadata": {},
   "outputs": [
    {
     "data": {
      "text/plain": [
       "({'learning_rate': 0.2,\n",
       "  'loss': 'absolute_error',\n",
       "  'max_depth': 1,\n",
       "  'n_estimators': 250},\n",
       " {'learning_rate': 0.015,\n",
       "  'loss': 'squared_error',\n",
       "  'max_depth': 4,\n",
       "  'n_estimators': 600})"
      ]
     },
     "execution_count": 51,
     "metadata": {},
     "output_type": "execute_result"
    }
   ],
   "source": [
    "oldgb_gscv.best_params_, newgb_gscv.best_params_"
   ]
  },
  {
   "cell_type": "code",
   "execution_count": 52,
   "id": "18708472",
   "metadata": {},
   "outputs": [
    {
     "data": {
      "text/plain": [
       "<AxesSubplot:>"
      ]
     },
     "execution_count": 52,
     "metadata": {},
     "output_type": "execute_result"
    },
    {
     "data": {
      "image/png": "[encoded data removed]",
      "text/plain": [
       "<Figure size 432x288 with 1 Axes>"
      ]
     },
     "metadata": {
      "needs_background": "light"
     },
     "output_type": "display_data"
    }
   ],
   "source": [
    "sns.scatterplot(x=y_train,y=y_tr_pred)"
   ]
  },
  {
   "cell_type": "code",
   "execution_count": 53,
   "id": "650f7a27",
   "metadata": {},
   "outputs": [
    {
     "data": {
      "text/plain": [
       "<AxesSubplot:>"
      ]
     },
     "execution_count": 53,
     "metadata": {},
     "output_type": "execute_result"
    },
    {
     "data": {
      "image/png": "[encoded data removed]",
      "text/plain": [
       "<Figure size 432x288 with 1 Axes>"
      ]
     },
     "metadata": {
      "needs_background": "light"
     },
     "output_type": "display_data"
    }
   ],
   "source": [
    "sns.scatterplot(x=y_test,y=y_te_pred)"
   ]
  },
  {
   "cell_type": "code",
   "execution_count": 54,
   "id": "49fbd8aa",
   "metadata": {},
   "outputs": [
    {
     "data": {
      "text/plain": [
       "<AxesSubplot:>"
      ]
     },
     "execution_count": 54,
     "metadata": {},
     "output_type": "execute_result"
    },
    {
     "data": {
      "image/png": "[encoded data removed]",
      "text/plain": [
       "<Figure size 432x288 with 1 Axes>"
      ]
     },
     "metadata": {
      "needs_background": "light"
     },
     "output_type": "display_data"
    }
   ],
   "source": [
    "sns.scatterplot(x=y_train,y=y_tr_pred/y_train)"
   ]
  },
  {
   "cell_type": "code",
   "execution_count": 55,
   "id": "6b5dc15e",
   "metadata": {},
   "outputs": [
    {
     "data": {
      "text/plain": [
       "<AxesSubplot:>"
      ]
     },
     "execution_count": 55,
     "metadata": {},
     "output_type": "execute_result"
    },
    {
     "data": {
      "image/png": "[encoded data removed]",
      "text/plain": [
       "<Figure size 432x288 with 1 Axes>"
      ]
     },
     "metadata": {
      "needs_background": "light"
     },
     "output_type": "display_data"
    }
   ],
   "source": [
    "sns.scatterplot(x=y_test,y=y_te_pred/y_test)"
   ]
  },
  {
   "cell_type": "code",
   "execution_count": 56,
   "id": "080793d6",
   "metadata": {},
   "outputs": [
    {
     "data": {
      "text/plain": [
       "<AxesSubplot:>"
      ]
     },
     "execution_count": 56,
     "metadata": {},
     "output_type": "execute_result"
    },
    {
     "data": {
      "image/png": "[encoded data removed]",
      "text/plain": [
       "<Figure size 432x288 with 1 Axes>"
      ]
     },
     "metadata": {
      "needs_background": "light"
     },
     "output_type": "display_data"
    }
   ],
   "source": [
    "sns.scatterplot(x=np.log2(y_train),y=y_tr_pred/y_train)"
   ]
  },
  {
   "cell_type": "code",
   "execution_count": 57,
   "id": "340883f9",
   "metadata": {},
   "outputs": [
    {
     "data": {
      "text/plain": [
       "<AxesSubplot:>"
      ]
     },
     "execution_count": 57,
     "metadata": {},
     "output_type": "execute_result"
    },
    {
     "data": {
      "image/png": "[encoded data removed]",
      "text/plain": [
       "<Figure size 432x288 with 1 Axes>"
      ]
     },
     "metadata": {
      "needs_background": "light"
     },
     "output_type": "display_data"
    }
   ],
   "source": [
    "sns.scatterplot(x=np.log2(y_test),y=y_te_pred/y_test)"
   ]
  },
  {
   "cell_type": "code",
   "execution_count": null,
   "id": "38299463",
   "metadata": {},
   "outputs": [],
   "source": []
  }
 ],
 "metadata": {
  "kernelspec": {
   "display_name": "Python 3 (ipykernel)",
   "language": "python",
   "name": "python3"
  },
  "language_info": {
   "codemirror_mode": {
    "name": "ipython",
    "version": 3
   },
   "file_extension": ".py",
   "mimetype": "text/x-python",
   "name": "python",
   "nbconvert_exporter": "python",
   "pygments_lexer": "ipython3",
   "version": "3.10.2"
  }
 },
 "nbformat": 4,
 "nbformat_minor": 5
}
