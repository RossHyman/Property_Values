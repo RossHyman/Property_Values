{
 "cells": [
  {
   "cell_type": "markdown",
   "id": "02db2a8d",
   "metadata": {},
   "source": [
    "Cook County Illinois, which includes the city of Chicago, collects property tax. It does not collect income tax. Would it be more fair to switch to income tax?\n",
    "\n",
    "I compare the property tax paid per homeowner in Cook County Illinois to the median income of census tracts.\n",
    "\n",
    "Linear regression shows that the effective tax rate is practically independent of income.  However this result ignores that these is very large variance at low income and very small variance at high income. This means that although the average tax rate for low and high incomes are practically the same, a low income person is much more likely to be overtaxed than a high income person.  \n",
    "\n",
    "I demonstrare this quantitatively by calculating the median income of people who are taxed above certain rates. "
   ]
  },
  {
   "cell_type": "markdown",
   "id": "9ed7133d",
   "metadata": {},
   "source": [
    "Import stuff I need and lots of stuff I don't"
   ]
  },
  {
   "cell_type": "code",
   "execution_count": 1,
   "id": "23ce3e34",
   "metadata": {},
   "outputs": [],
   "source": [
    "import pyarrow.parquet as pq\n",
    "import pandas as pd\n",
    "import matplotlib.pyplot as plt\n",
    "import seaborn as sns\n",
    "import os\n",
    "import numpy as np\n",
    "from sklearn.decomposition import PCA\n",
    "#from library.sb_utils import save_file\n",
    "import statsmodels.api as sm \n",
    "from statsmodels.graphics.api import abline_plot \n",
    "import warnings \n",
    "warnings.simplefilter(action=\"ignore\", category=FutureWarning)\n",
    "warnings.filterwarnings(action=\"ignore\", module=\"scipy\", message=\"^internal gelsd\")\n",
    "import pickle\n",
    "from sklearn import __version__ as sklearn_version\n",
    "from sklearn.preprocessing import scale\n",
    "from sklearn.model_selection import train_test_split, cross_validate, GridSearchCV, learning_curve\n",
    "from sklearn.preprocessing import StandardScaler, MinMaxScaler\n",
    "from sklearn.dummy import DummyRegressor\n",
    "from sklearn.linear_model import LinearRegression\n",
    "from sklearn.ensemble import RandomForestRegressor\n",
    "from sklearn.metrics import r2_score, mean_squared_error, mean_absolute_error\n",
    "from sklearn.pipeline import make_pipeline\n",
    "from sklearn.impute import SimpleImputer\n",
    "from sklearn.feature_selection import SelectKBest, f_regression\n",
    "import datetime\n"
   ]
  },
  {
   "cell_type": "markdown",
   "id": "56c97076",
   "metadata": {},
   "source": [
    "Upload into memory the data file acquired from the Cook County Assessor's gitlab. It is in parquet format."
   ]
  },
  {
   "cell_type": "code",
   "execution_count": 2,
   "id": "a5c77628",
   "metadata": {},
   "outputs": [],
   "source": [
    "table = pq.read_table('../data/raw/assmntdata.parquet')"
   ]
  },
  {
   "cell_type": "markdown",
   "id": "ccdccb88",
   "metadata": {},
   "source": [
    "Convert to pandas dataframes."
   ]
  },
  {
   "cell_type": "code",
   "execution_count": 3,
   "id": "b33bab24",
   "metadata": {},
   "outputs": [],
   "source": [
    "df = table.to_pandas()\n"
   ]
  },
  {
   "cell_type": "markdown",
   "id": "047f4319",
   "metadata": {},
   "source": [
    "examine columns"
   ]
  },
  {
   "cell_type": "code",
   "execution_count": 4,
   "id": "ca34bea6",
   "metadata": {},
   "outputs": [
    {
     "name": "stdout",
     "output_type": "stream",
     "text": [
      "<class 'pandas.core.frame.DataFrame'>\n",
      "RangeIndex: 1098894 entries, 0 to 1098893\n",
      "Data columns (total 95 columns):\n",
      " #   Column                        Non-Null Count    Dtype   \n",
      "---  ------                        --------------    -----   \n",
      " 0   meta_pin                      1098894 non-null  object  \n",
      " 1   meta_year                     1098894 non-null  float64 \n",
      " 2   meta_class                    1098894 non-null  object  \n",
      " 3   meta_town_code                1098894 non-null  object  \n",
      " 4   meta_nbhd                     1098894 non-null  object  \n",
      " 5   meta_2yr_pri_board_est_bldg   1097104 non-null  float64 \n",
      " 6   meta_2yr_pri_board_est_land   1097104 non-null  float64 \n",
      " 7   meta_1yr_pri_board_est_bldg   1098894 non-null  float64 \n",
      " 8   meta_1yr_pri_board_est_land   1098894 non-null  float64 \n",
      " 9   meta_mailed_est_bldg          1098894 non-null  float64 \n",
      " 10  meta_mailed_est_land          1098894 non-null  float64 \n",
      " 11  meta_certified_est_bldg       1098894 non-null  float64 \n",
      " 12  meta_certified_est_land       1098894 non-null  float64 \n",
      " 13  meta_modeling_group           1098894 non-null  object  \n",
      " 14  meta_per_ass                  1098894 non-null  float64 \n",
      " 15  meta_cdu                      64076 non-null    object  \n",
      " 16  meta_key_pin                  50179 non-null    object  \n",
      " 17  meta_multi_code               1098008 non-null  object  \n",
      " 18  meta_num_288s_ended           1098894 non-null  float64 \n",
      " 19  meta_num_288s_active          1098894 non-null  float64 \n",
      " 20  meta_sale_date                1098894 non-null  object  \n",
      " 21  char_hd_sf                    1098894 non-null  float64 \n",
      " 22  char_age                      1098894 non-null  float64 \n",
      " 23  char_apts                     158382 non-null   category\n",
      " 24  char_ext_wall                 1098128 non-null  category\n",
      " 25  char_roof_cnst                1098127 non-null  category\n",
      " 26  char_rooms                    1098894 non-null  float64 \n",
      " 27  char_beds                     1098894 non-null  float64 \n",
      " 28  char_bsmt                     1098127 non-null  category\n",
      " 29  char_bsmt_fin                 1098127 non-null  category\n",
      " 30  char_heat                     1098127 non-null  category\n",
      " 31  char_oheat                    1098008 non-null  category\n",
      " 32  char_air                      1098128 non-null  category\n",
      " 33  char_frpl                     1098133 non-null  float64 \n",
      " 34  char_attic_type               1098127 non-null  category\n",
      " 35  char_fbath                    1098894 non-null  float64 \n",
      " 36  char_hbath                    1098894 non-null  float64 \n",
      " 37  char_tp_plan                  800207 non-null   category\n",
      " 38  char_tp_dsgn                  527994 non-null   category\n",
      " 39  char_cnst_qlty                1097303 non-null  category\n",
      " 40  char_site                     1098127 non-null  category\n",
      " 41  char_gar1_size                1098133 non-null  category\n",
      " 42  char_gar1_cnst                916681 non-null   category\n",
      " 43  char_gar1_att                 916679 non-null   category\n",
      " 44  char_gar1_area                916676 non-null   category\n",
      " 45  char_ot_impr                  1098894 non-null  float64 \n",
      " 46  char_bldg_sf                  1098894 non-null  float64 \n",
      " 47  char_repair_cnd               1098127 non-null  category\n",
      " 48  char_use                      1098133 non-null  category\n",
      " 49  char_type_resd                1098133 non-null  category\n",
      " 50  char_attic_fnsh               358754 non-null   category\n",
      " 51  char_renovation               3599 non-null     category\n",
      " 52  char_porch                    197452 non-null   category\n",
      " 53  geo_property_address          1097104 non-null  object  \n",
      " 54  geo_property_apt_no           70957 non-null    object  \n",
      " 55  geo_property_city             1097104 non-null  object  \n",
      " 56  geo_property_zip              1097104 non-null  object  \n",
      " 57  geo_geoid                     1098894 non-null  object  \n",
      " 58  geo_tract_pop                 1098894 non-null  float64 \n",
      " 59  geo_white_perc                1098894 non-null  float64 \n",
      " 60  geo_black_perc                1098894 non-null  float64 \n",
      " 61  geo_asian_perc                1098894 non-null  float64 \n",
      " 62  geo_his_perc                  1098894 non-null  float64 \n",
      " 63  geo_other_perc                1098894 non-null  float64 \n",
      " 64  geo_fips                      1075479 non-null  object  \n",
      " 65  geo_municipality              1075479 non-null  object  \n",
      " 66  geo_ohare_noise               1098894 non-null  float64 \n",
      " 67  geo_floodplain                1098894 non-null  float64 \n",
      " 68  geo_fs_flood_factor           1098894 non-null  float64 \n",
      " 69  geo_fs_flood_risk_direction   1098894 non-null  float64 \n",
      " 70  geo_withinmr100               1098894 non-null  float64 \n",
      " 71  geo_withinmr101300            1098894 non-null  float64 \n",
      " 72  geo_school_elem_district      1098894 non-null  object  \n",
      " 73  geo_school_hs_district        1098894 non-null  object  \n",
      " 74  geo_longitude                 1098894 non-null  float64 \n",
      " 75  geo_latitude                  1098894 non-null  float64 \n",
      " 76  econ_tax_rate                 1098894 non-null  float64 \n",
      " 77  econ_tax_amt_paid             1098894 non-null  float64 \n",
      " 78  econ_midincome                1098894 non-null  float64 \n",
      " 79  time_sale_year                1098894 non-null  float64 \n",
      " 80  time_sale_quarter             1098894 non-null  float64 \n",
      " 81  time_sale_month               1098894 non-null  float64 \n",
      " 82  time_sale_week                1098894 non-null  float64 \n",
      " 83  time_sale_day                 1098894 non-null  float64 \n",
      " 84  time_sale_quarter_of_year     1098894 non-null  object  \n",
      " 85  time_sale_month_of_year       1098894 non-null  category\n",
      " 86  time_sale_week_of_year        1098894 non-null  float64 \n",
      " 87  time_sale_day_of_year         1098894 non-null  float64 \n",
      " 88  time_sale_during_school_year  1098894 non-null  bool    \n",
      " 89  time_sale_during_holidays     1098894 non-null  bool    \n",
      " 90  ind_multi_code                1098894 non-null  bool    \n",
      " 91  ind_large_home                1098894 non-null  bool    \n",
      " 92  ind_class_error               1098894 non-null  bool    \n",
      " 93  ind_garage                    1098133 non-null  object  \n",
      " 94  ind_complete_predictors       1098894 non-null  bool    \n",
      "dtypes: bool(6), category(24), float64(45), object(20)\n",
      "memory usage: 576.4+ MB\n"
     ]
    }
   ],
   "source": [
    "df.info()"
   ]
  },
  {
   "cell_type": "code",
   "execution_count": 5,
   "id": "a4191126",
   "metadata": {},
   "outputs": [
    {
     "data": {
      "text/html": [
       "<div>\n",
       "<style scoped>\n",
       "    .dataframe tbody tr th:only-of-type {\n",
       "        vertical-align: middle;\n",
       "    }\n",
       "\n",
       "    .dataframe tbody tr th {\n",
       "        vertical-align: top;\n",
       "    }\n",
       "\n",
       "    .dataframe thead th {\n",
       "        text-align: right;\n",
       "    }\n",
       "</style>\n",
       "<table border=\"1\" class=\"dataframe\">\n",
       "  <thead>\n",
       "    <tr style=\"text-align: right;\">\n",
       "      <th></th>\n",
       "      <th>meta_pin</th>\n",
       "      <th>meta_year</th>\n",
       "      <th>meta_class</th>\n",
       "      <th>meta_town_code</th>\n",
       "      <th>meta_nbhd</th>\n",
       "      <th>meta_2yr_pri_board_est_bldg</th>\n",
       "      <th>meta_2yr_pri_board_est_land</th>\n",
       "      <th>meta_1yr_pri_board_est_bldg</th>\n",
       "      <th>meta_1yr_pri_board_est_land</th>\n",
       "      <th>meta_mailed_est_bldg</th>\n",
       "      <th>...</th>\n",
       "      <th>time_sale_month_of_year</th>\n",
       "      <th>time_sale_week_of_year</th>\n",
       "      <th>time_sale_day_of_year</th>\n",
       "      <th>time_sale_during_school_year</th>\n",
       "      <th>time_sale_during_holidays</th>\n",
       "      <th>ind_multi_code</th>\n",
       "      <th>ind_large_home</th>\n",
       "      <th>ind_class_error</th>\n",
       "      <th>ind_garage</th>\n",
       "      <th>ind_complete_predictors</th>\n",
       "    </tr>\n",
       "  </thead>\n",
       "  <tbody>\n",
       "    <tr>\n",
       "      <th>0</th>\n",
       "      <td>01011000040000</td>\n",
       "      <td>2020.0</td>\n",
       "      <td>212</td>\n",
       "      <td>10</td>\n",
       "      <td>10012</td>\n",
       "      <td>374930.0</td>\n",
       "      <td>52510.0</td>\n",
       "      <td>320210.0</td>\n",
       "      <td>58030.0</td>\n",
       "      <td>320210.0</td>\n",
       "      <td>...</td>\n",
       "      <td>Jan</td>\n",
       "      <td>1.0</td>\n",
       "      <td>1.0</td>\n",
       "      <td>True</td>\n",
       "      <td>True</td>\n",
       "      <td>False</td>\n",
       "      <td>False</td>\n",
       "      <td>False</td>\n",
       "      <td>True</td>\n",
       "      <td>True</td>\n",
       "    </tr>\n",
       "    <tr>\n",
       "      <th>1</th>\n",
       "      <td>01011000050000</td>\n",
       "      <td>2020.0</td>\n",
       "      <td>205</td>\n",
       "      <td>10</td>\n",
       "      <td>10012</td>\n",
       "      <td>216890.0</td>\n",
       "      <td>31030.0</td>\n",
       "      <td>275500.0</td>\n",
       "      <td>34300.0</td>\n",
       "      <td>275500.0</td>\n",
       "      <td>...</td>\n",
       "      <td>Jan</td>\n",
       "      <td>1.0</td>\n",
       "      <td>1.0</td>\n",
       "      <td>True</td>\n",
       "      <td>True</td>\n",
       "      <td>False</td>\n",
       "      <td>False</td>\n",
       "      <td>False</td>\n",
       "      <td>True</td>\n",
       "      <td>True</td>\n",
       "    </tr>\n",
       "    <tr>\n",
       "      <th>2</th>\n",
       "      <td>01011000060000</td>\n",
       "      <td>2020.0</td>\n",
       "      <td>212</td>\n",
       "      <td>10</td>\n",
       "      <td>10012</td>\n",
       "      <td>353260.0</td>\n",
       "      <td>31030.0</td>\n",
       "      <td>296390.0</td>\n",
       "      <td>34300.0</td>\n",
       "      <td>296390.0</td>\n",
       "      <td>...</td>\n",
       "      <td>Jan</td>\n",
       "      <td>1.0</td>\n",
       "      <td>1.0</td>\n",
       "      <td>True</td>\n",
       "      <td>True</td>\n",
       "      <td>False</td>\n",
       "      <td>False</td>\n",
       "      <td>False</td>\n",
       "      <td>True</td>\n",
       "      <td>True</td>\n",
       "    </tr>\n",
       "    <tr>\n",
       "      <th>3</th>\n",
       "      <td>01011000090000</td>\n",
       "      <td>2020.0</td>\n",
       "      <td>212</td>\n",
       "      <td>10</td>\n",
       "      <td>10012</td>\n",
       "      <td>668790.0</td>\n",
       "      <td>64460.0</td>\n",
       "      <td>604870.0</td>\n",
       "      <td>71240.0</td>\n",
       "      <td>604870.0</td>\n",
       "      <td>...</td>\n",
       "      <td>Jan</td>\n",
       "      <td>1.0</td>\n",
       "      <td>1.0</td>\n",
       "      <td>True</td>\n",
       "      <td>True</td>\n",
       "      <td>False</td>\n",
       "      <td>False</td>\n",
       "      <td>False</td>\n",
       "      <td>True</td>\n",
       "      <td>True</td>\n",
       "    </tr>\n",
       "    <tr>\n",
       "      <th>4</th>\n",
       "      <td>01011000170000</td>\n",
       "      <td>2020.0</td>\n",
       "      <td>205</td>\n",
       "      <td>10</td>\n",
       "      <td>10012</td>\n",
       "      <td>291310.0</td>\n",
       "      <td>42870.0</td>\n",
       "      <td>355640.0</td>\n",
       "      <td>47390.0</td>\n",
       "      <td>355640.0</td>\n",
       "      <td>...</td>\n",
       "      <td>Jan</td>\n",
       "      <td>1.0</td>\n",
       "      <td>1.0</td>\n",
       "      <td>True</td>\n",
       "      <td>True</td>\n",
       "      <td>False</td>\n",
       "      <td>False</td>\n",
       "      <td>False</td>\n",
       "      <td>False</td>\n",
       "      <td>True</td>\n",
       "    </tr>\n",
       "  </tbody>\n",
       "</table>\n",
       "<p>5 rows × 95 columns</p>\n",
       "</div>"
      ],
      "text/plain": [
       "         meta_pin  meta_year meta_class meta_town_code meta_nbhd  \\\n",
       "0  01011000040000     2020.0        212             10     10012   \n",
       "1  01011000050000     2020.0        205             10     10012   \n",
       "2  01011000060000     2020.0        212             10     10012   \n",
       "3  01011000090000     2020.0        212             10     10012   \n",
       "4  01011000170000     2020.0        205             10     10012   \n",
       "\n",
       "   meta_2yr_pri_board_est_bldg  meta_2yr_pri_board_est_land  \\\n",
       "0                     374930.0                      52510.0   \n",
       "1                     216890.0                      31030.0   \n",
       "2                     353260.0                      31030.0   \n",
       "3                     668790.0                      64460.0   \n",
       "4                     291310.0                      42870.0   \n",
       "\n",
       "   meta_1yr_pri_board_est_bldg  meta_1yr_pri_board_est_land  \\\n",
       "0                     320210.0                      58030.0   \n",
       "1                     275500.0                      34300.0   \n",
       "2                     296390.0                      34300.0   \n",
       "3                     604870.0                      71240.0   \n",
       "4                     355640.0                      47390.0   \n",
       "\n",
       "   meta_mailed_est_bldg  ...  time_sale_month_of_year  time_sale_week_of_year  \\\n",
       "0              320210.0  ...                      Jan                     1.0   \n",
       "1              275500.0  ...                      Jan                     1.0   \n",
       "2              296390.0  ...                      Jan                     1.0   \n",
       "3              604870.0  ...                      Jan                     1.0   \n",
       "4              355640.0  ...                      Jan                     1.0   \n",
       "\n",
       "   time_sale_day_of_year time_sale_during_school_year  \\\n",
       "0                    1.0                         True   \n",
       "1                    1.0                         True   \n",
       "2                    1.0                         True   \n",
       "3                    1.0                         True   \n",
       "4                    1.0                         True   \n",
       "\n",
       "   time_sale_during_holidays ind_multi_code ind_large_home ind_class_error  \\\n",
       "0                       True          False          False           False   \n",
       "1                       True          False          False           False   \n",
       "2                       True          False          False           False   \n",
       "3                       True          False          False           False   \n",
       "4                       True          False          False           False   \n",
       "\n",
       "   ind_garage  ind_complete_predictors  \n",
       "0        True                     True  \n",
       "1        True                     True  \n",
       "2        True                     True  \n",
       "3        True                     True  \n",
       "4       False                     True  \n",
       "\n",
       "[5 rows x 95 columns]"
      ]
     },
     "execution_count": 5,
     "metadata": {},
     "output_type": "execute_result"
    }
   ],
   "source": [
    "df.head()"
   ]
  },
  {
   "cell_type": "markdown",
   "id": "edd61994",
   "metadata": {},
   "source": [
    "The columns I want are econ_tax_amt_paid, and econ_midincome."
   ]
  },
  {
   "cell_type": "code",
   "execution_count": 6,
   "id": "95d347d8",
   "metadata": {},
   "outputs": [],
   "source": [
    "columns =['econ_tax_amt_paid','econ_midincome']"
   ]
  },
  {
   "cell_type": "code",
   "execution_count": 7,
   "id": "fed739c7",
   "metadata": {},
   "outputs": [
    {
     "data": {
      "text/html": [
       "<div>\n",
       "<style scoped>\n",
       "    .dataframe tbody tr th:only-of-type {\n",
       "        vertical-align: middle;\n",
       "    }\n",
       "\n",
       "    .dataframe tbody tr th {\n",
       "        vertical-align: top;\n",
       "    }\n",
       "\n",
       "    .dataframe thead th {\n",
       "        text-align: right;\n",
       "    }\n",
       "</style>\n",
       "<table border=\"1\" class=\"dataframe\">\n",
       "  <thead>\n",
       "    <tr style=\"text-align: right;\">\n",
       "      <th></th>\n",
       "      <th>econ_tax_amt_paid</th>\n",
       "      <th>econ_midincome</th>\n",
       "    </tr>\n",
       "  </thead>\n",
       "  <tbody>\n",
       "    <tr>\n",
       "      <th>0</th>\n",
       "      <td>4224.475455</td>\n",
       "      <td>148670.0</td>\n",
       "    </tr>\n",
       "    <tr>\n",
       "      <th>1</th>\n",
       "      <td>4224.475455</td>\n",
       "      <td>148670.0</td>\n",
       "    </tr>\n",
       "    <tr>\n",
       "      <th>2</th>\n",
       "      <td>4224.475455</td>\n",
       "      <td>148670.0</td>\n",
       "    </tr>\n",
       "    <tr>\n",
       "      <th>3</th>\n",
       "      <td>5542.137143</td>\n",
       "      <td>148670.0</td>\n",
       "    </tr>\n",
       "    <tr>\n",
       "      <th>4</th>\n",
       "      <td>4569.021964</td>\n",
       "      <td>148670.0</td>\n",
       "    </tr>\n",
       "  </tbody>\n",
       "</table>\n",
       "</div>"
      ],
      "text/plain": [
       "   econ_tax_amt_paid  econ_midincome\n",
       "0        4224.475455        148670.0\n",
       "1        4224.475455        148670.0\n",
       "2        4224.475455        148670.0\n",
       "3        5542.137143        148670.0\n",
       "4        4569.021964        148670.0"
      ]
     },
     "execution_count": 7,
     "metadata": {},
     "output_type": "execute_result"
    }
   ],
   "source": [
    "df[columns].head()"
   ]
  },
  {
   "cell_type": "code",
   "execution_count": 8,
   "id": "67c5c3df",
   "metadata": {},
   "outputs": [],
   "source": [
    "df_econ = df[columns]"
   ]
  },
  {
   "cell_type": "markdown",
   "id": "e4aa804a",
   "metadata": {},
   "source": [
    "We are interested in the effective income tax rate = (property tax)/income"
   ]
  },
  {
   "cell_type": "code",
   "execution_count": 9,
   "id": "6680241a",
   "metadata": {},
   "outputs": [
    {
     "name": "stderr",
     "output_type": "stream",
     "text": [
      "/var/folders/qc/g6yf7hvd019dnqj11v94qpbw0000gn/T/ipykernel_5114/3943838791.py:1: SettingWithCopyWarning: \n",
      "A value is trying to be set on a copy of a slice from a DataFrame.\n",
      "Try using .loc[row_indexer,col_indexer] = value instead\n",
      "\n",
      "See the caveats in the documentation: https://pandas.pydata.org/pandas-docs/stable/user_guide/indexing.html#returning-a-view-versus-a-copy\n",
      "  df_econ['rate'] = 100*df_econ['econ_tax_amt_paid']/df_econ['econ_midincome']\n"
     ]
    }
   ],
   "source": [
    "df_econ['rate'] = 100*df_econ['econ_tax_amt_paid']/df_econ['econ_midincome']"
   ]
  },
  {
   "cell_type": "code",
   "execution_count": 10,
   "id": "92d1a22c",
   "metadata": {},
   "outputs": [
    {
     "name": "stderr",
     "output_type": "stream",
     "text": [
      "/var/folders/qc/g6yf7hvd019dnqj11v94qpbw0000gn/T/ipykernel_5114/140034539.py:1: SettingWithCopyWarning: \n",
      "A value is trying to be set on a copy of a slice from a DataFrame.\n",
      "Try using .loc[row_indexer,col_indexer] = value instead\n",
      "\n",
      "See the caveats in the documentation: https://pandas.pydata.org/pandas-docs/stable/user_guide/indexing.html#returning-a-view-versus-a-copy\n",
      "  df_econ['incomeperthou'] =df_econ['econ_midincome']/1000\n"
     ]
    }
   ],
   "source": [
    "df_econ['incomeperthou'] =df_econ['econ_midincome']/1000"
   ]
  },
  {
   "cell_type": "code",
   "execution_count": 11,
   "id": "2ce765f9",
   "metadata": {},
   "outputs": [
    {
     "data": {
      "text/html": [
       "<div>\n",
       "<style scoped>\n",
       "    .dataframe tbody tr th:only-of-type {\n",
       "        vertical-align: middle;\n",
       "    }\n",
       "\n",
       "    .dataframe tbody tr th {\n",
       "        vertical-align: top;\n",
       "    }\n",
       "\n",
       "    .dataframe thead th {\n",
       "        text-align: right;\n",
       "    }\n",
       "</style>\n",
       "<table border=\"1\" class=\"dataframe\">\n",
       "  <thead>\n",
       "    <tr style=\"text-align: right;\">\n",
       "      <th></th>\n",
       "      <th>econ_tax_amt_paid</th>\n",
       "      <th>econ_midincome</th>\n",
       "      <th>rate</th>\n",
       "      <th>incomeperthou</th>\n",
       "    </tr>\n",
       "  </thead>\n",
       "  <tbody>\n",
       "    <tr>\n",
       "      <th>0</th>\n",
       "      <td>4224.475455</td>\n",
       "      <td>148670.0</td>\n",
       "      <td>2.841512</td>\n",
       "      <td>148.67</td>\n",
       "    </tr>\n",
       "    <tr>\n",
       "      <th>1</th>\n",
       "      <td>4224.475455</td>\n",
       "      <td>148670.0</td>\n",
       "      <td>2.841512</td>\n",
       "      <td>148.67</td>\n",
       "    </tr>\n",
       "    <tr>\n",
       "      <th>2</th>\n",
       "      <td>4224.475455</td>\n",
       "      <td>148670.0</td>\n",
       "      <td>2.841512</td>\n",
       "      <td>148.67</td>\n",
       "    </tr>\n",
       "    <tr>\n",
       "      <th>3</th>\n",
       "      <td>5542.137143</td>\n",
       "      <td>148670.0</td>\n",
       "      <td>3.727811</td>\n",
       "      <td>148.67</td>\n",
       "    </tr>\n",
       "    <tr>\n",
       "      <th>4</th>\n",
       "      <td>4569.021964</td>\n",
       "      <td>148670.0</td>\n",
       "      <td>3.073264</td>\n",
       "      <td>148.67</td>\n",
       "    </tr>\n",
       "  </tbody>\n",
       "</table>\n",
       "</div>"
      ],
      "text/plain": [
       "   econ_tax_amt_paid  econ_midincome      rate  incomeperthou\n",
       "0        4224.475455        148670.0  2.841512         148.67\n",
       "1        4224.475455        148670.0  2.841512         148.67\n",
       "2        4224.475455        148670.0  2.841512         148.67\n",
       "3        5542.137143        148670.0  3.727811         148.67\n",
       "4        4569.021964        148670.0  3.073264         148.67"
      ]
     },
     "execution_count": 11,
     "metadata": {},
     "output_type": "execute_result"
    }
   ],
   "source": [
    "df_econ.head()"
   ]
  },
  {
   "cell_type": "code",
   "execution_count": 12,
   "id": "eb9ae774",
   "metadata": {},
   "outputs": [
    {
     "data": {
      "text/plain": [
       "<AxesSubplot:xlabel='incomeperthou', ylabel='rate'>"
      ]
     },
     "execution_count": 12,
     "metadata": {},
     "output_type": "execute_result"
    },
    {
     "data": {
      "image/png": "[encoded data removed]",
      "text/plain": [
       "<Figure size 432x288 with 1 Axes>"
      ]
     },
     "metadata": {
      "needs_background": "light"
     },
     "output_type": "display_data"
    }
   ],
   "source": [
    "sns.scatterplot(data = df_econ,x='incomeperthou',y='rate')"
   ]
  },
  {
   "cell_type": "markdown",
   "id": "8bf77cd1",
   "metadata": {},
   "source": [
    "There is a very slight tendency in favor of high income. This can be seen by linear regression."
   ]
  },
  {
   "cell_type": "code",
   "execution_count": 13,
   "id": "2aa20a41",
   "metadata": {},
   "outputs": [
    {
     "data": {
      "text/plain": [
       "array([-0.00175949])"
      ]
     },
     "execution_count": 13,
     "metadata": {},
     "output_type": "execute_result"
    }
   ],
   "source": [
    "ln = LinearRegression()\n",
    "ln.fit(df_econ[['incomeperthou']],df_econ.rate)\n",
    "ln.coef_"
   ]
  },
  {
   "cell_type": "markdown",
   "id": "7d7d1764",
   "metadata": {},
   "source": [
    "This is effectively flat. A change in income by 1 million dollars decreases the effective tax rate by only 1.76%. However, the coefficient isn't the most important thing but the variation. From the graph it can be seen that there is much greater variation of tax rate for low income census tracks. To see this we calculate the median rate and median income."
   ]
  },
  {
   "cell_type": "code",
   "execution_count": 14,
   "id": "bcdae642",
   "metadata": {},
   "outputs": [
    {
     "data": {
      "text/plain": [
       "4.331565140579675"
      ]
     },
     "execution_count": 14,
     "metadata": {},
     "output_type": "execute_result"
    }
   ],
   "source": [
    "median_rate = df_econ.rate.median()\n",
    "median_rate"
   ]
  },
  {
   "cell_type": "code",
   "execution_count": 15,
   "id": "c218345c",
   "metadata": {},
   "outputs": [
    {
     "data": {
      "text/plain": [
       "(64.659, 1098894)"
      ]
     },
     "execution_count": 15,
     "metadata": {},
     "output_type": "execute_result"
    }
   ],
   "source": [
    "median_income = df_econ.incomeperthou.median()\n",
    "median_income, df_econ.shape[0]"
   ]
  },
  {
   "cell_type": "markdown",
   "id": "b7790b89",
   "metadata": {},
   "source": [
    "Now look at median income for those charged more than the median rate."
   ]
  },
  {
   "cell_type": "code",
   "execution_count": 16,
   "id": "b1c9bf70",
   "metadata": {},
   "outputs": [
    {
     "data": {
      "text/plain": [
       "(63301.0, 548800)"
      ]
     },
     "execution_count": 16,
     "metadata": {},
     "output_type": "execute_result"
    }
   ],
   "source": [
    "df_overtaxed = df_econ[df_econ.rate>1*median_rate]\n",
    "median_income_overtaxed = df_overtaxed.econ_midincome.median()\n",
    "median_income_overtaxed, df_overtaxed.shape[0]"
   ]
  },
  {
   "cell_type": "markdown",
   "id": "1a20052d",
   "metadata": {},
   "source": [
    "The median income of the overtaxed group is about the same as the over all median income. But now look at the median income of the group that is taxes at twice the median rate or higher."
   ]
  },
  {
   "cell_type": "code",
   "execution_count": 17,
   "id": "cf8c8222",
   "metadata": {},
   "outputs": [
    {
     "data": {
      "text/plain": [
       "(53549.0, 52385)"
      ]
     },
     "execution_count": 17,
     "metadata": {},
     "output_type": "execute_result"
    }
   ],
   "source": [
    "df_overtaxed = df_econ[df_econ.rate>2*median_rate]\n",
    "median_income_overtaxed = df_overtaxed.econ_midincome.median()\n",
    "median_income_overtaxed, df_overtaxed.shape[0]"
   ]
  },
  {
   "cell_type": "markdown",
   "id": "babcf4c0",
   "metadata": {},
   "source": [
    "We see that the median has gone down by almost $10,000. Let's see how the trend continues..."
   ]
  },
  {
   "cell_type": "code",
   "execution_count": 18,
   "id": "7e23b5c3",
   "metadata": {},
   "outputs": [],
   "source": [
    "\n",
    "median_income=np.empty(7)\n",
    "total =np.empty(7)\n",
    "for n in range(0,7):\n",
    "    median_income[n] = df_econ[df_econ.rate>n*median_rate].econ_midincome.median()\n",
    "    total[n] = df_econ[df_econ.rate>n*median_rate].shape[0]\n",
    "\n",
    "    \n"
   ]
  },
  {
   "cell_type": "code",
   "execution_count": 19,
   "id": "8e8a2df0",
   "metadata": {},
   "outputs": [
    {
     "data": {
      "text/plain": [
       "array([64659., 63301., 53549., 38427., 36927., 36927., 36406.])"
      ]
     },
     "execution_count": 19,
     "metadata": {},
     "output_type": "execute_result"
    }
   ],
   "source": [
    "median_income"
   ]
  },
  {
   "cell_type": "code",
   "execution_count": 20,
   "id": "ef7f474f",
   "metadata": {},
   "outputs": [
    {
     "data": {
      "text/plain": [
       "array([1.098789e+06, 5.488000e+05, 5.238500e+04, 1.454000e+04,\n",
       "       3.635000e+03, 1.957000e+03, 7.940000e+02])"
      ]
     },
     "execution_count": 20,
     "metadata": {},
     "output_type": "execute_result"
    }
   ],
   "source": [
    "total"
   ]
  },
  {
   "cell_type": "code",
   "execution_count": 21,
   "id": "4b6db82c",
   "metadata": {},
   "outputs": [
    {
     "data": {
      "text/plain": [
       "array([1.00000000e+02, 4.99458950e+01, 4.76752133e+00, 1.32327499e+00,\n",
       "       3.30818747e-01, 1.78105169e-01, 7.22613714e-02])"
      ]
     },
     "execution_count": 21,
     "metadata": {},
     "output_type": "execute_result"
    }
   ],
   "source": [
    "100*total/total[0]"
   ]
  },
  {
   "cell_type": "code",
   "execution_count": 22,
   "id": "3dbd4e95",
   "metadata": {},
   "outputs": [
    {
     "data": {
      "text/plain": [
       "<AxesSubplot:>"
      ]
     },
     "execution_count": 22,
     "metadata": {},
     "output_type": "execute_result"
    },
    {
     "data": {
      "image/png": "[encoded data removed]",
      "text/plain": [
       "<Figure size 432x288 with 1 Axes>"
      ]
     },
     "metadata": {
      "needs_background": "light"
     },
     "output_type": "display_data"
    }
   ],
   "source": [
    "sns.scatterplot(x=range(0,7), y= median_income)"
   ]
  },
  {
   "cell_type": "markdown",
   "id": "2fb95c17",
   "metadata": {},
   "source": [
    "The median income continues to fall as we consider groups of people taxed at higher and higher effective rates. The graph below shows the fraction of people effected is also getting smaller."
   ]
  },
  {
   "cell_type": "code",
   "execution_count": 23,
   "id": "75d5939d",
   "metadata": {},
   "outputs": [
    {
     "data": {
      "text/plain": [
       "<AxesSubplot:>"
      ]
     },
     "execution_count": 23,
     "metadata": {},
     "output_type": "execute_result"
    },
    {
     "data": {
      "image/png": "[encoded data removed]",
      "text/plain": [
       "<Figure size 432x288 with 1 Axes>"
      ]
     },
     "metadata": {
      "needs_background": "light"
     },
     "output_type": "display_data"
    }
   ],
   "source": [
    "sns.scatterplot(x=range(0,7), y= total/total[0])"
   ]
  },
  {
   "cell_type": "code",
   "execution_count": 27,
   "id": "077df29c",
   "metadata": {},
   "outputs": [],
   "source": [
    "df_medians = df_econ.groupby(['econ_midincome']).median()"
   ]
  },
  {
   "cell_type": "markdown",
   "id": "384af803",
   "metadata": {},
   "source": [
    "Conclusion: Linear regression showed that there was little bias in the average tax rate. But greater variance at low income means that a low income person is more likely to be overtaxed than a high income person. "
   ]
  },
  {
   "cell_type": "code",
   "execution_count": 31,
   "id": "a2fc3784",
   "metadata": {},
   "outputs": [],
   "source": [
    "df_medians = pd.DataFrame(df_medians)"
   ]
  },
  {
   "cell_type": "code",
   "execution_count": 33,
   "id": "798b84e3",
   "metadata": {},
   "outputs": [
    {
     "data": {
      "text/html": [
       "<div>\n",
       "<style scoped>\n",
       "    .dataframe tbody tr th:only-of-type {\n",
       "        vertical-align: middle;\n",
       "    }\n",
       "\n",
       "    .dataframe tbody tr th {\n",
       "        vertical-align: top;\n",
       "    }\n",
       "\n",
       "    .dataframe thead th {\n",
       "        text-align: right;\n",
       "    }\n",
       "</style>\n",
       "<table border=\"1\" class=\"dataframe\">\n",
       "  <thead>\n",
       "    <tr style=\"text-align: right;\">\n",
       "      <th></th>\n",
       "      <th>econ_tax_amt_paid</th>\n",
       "      <th>rate</th>\n",
       "      <th>incomeperthou</th>\n",
       "    </tr>\n",
       "    <tr>\n",
       "      <th>econ_midincome</th>\n",
       "      <th></th>\n",
       "      <th></th>\n",
       "      <th></th>\n",
       "    </tr>\n",
       "  </thead>\n",
       "  <tbody>\n",
       "    <tr>\n",
       "      <th>9787.0</th>\n",
       "      <td>1594.444641</td>\n",
       "      <td>16.291454</td>\n",
       "      <td>9.787</td>\n",
       "    </tr>\n",
       "    <tr>\n",
       "      <th>10455.0</th>\n",
       "      <td>3508.821643</td>\n",
       "      <td>33.561183</td>\n",
       "      <td>10.455</td>\n",
       "    </tr>\n",
       "    <tr>\n",
       "      <th>12306.0</th>\n",
       "      <td>1594.444641</td>\n",
       "      <td>12.956644</td>\n",
       "      <td>12.306</td>\n",
       "    </tr>\n",
       "    <tr>\n",
       "      <th>13585.0</th>\n",
       "      <td>801.051239</td>\n",
       "      <td>5.896586</td>\n",
       "      <td>13.585</td>\n",
       "    </tr>\n",
       "    <tr>\n",
       "      <th>13736.0</th>\n",
       "      <td>1287.137256</td>\n",
       "      <td>9.370539</td>\n",
       "      <td>13.736</td>\n",
       "    </tr>\n",
       "    <tr>\n",
       "      <th>...</th>\n",
       "      <td>...</td>\n",
       "      <td>...</td>\n",
       "      <td>...</td>\n",
       "    </tr>\n",
       "    <tr>\n",
       "      <th>211042.0</th>\n",
       "      <td>15220.979498</td>\n",
       "      <td>7.212299</td>\n",
       "      <td>211.042</td>\n",
       "    </tr>\n",
       "    <tr>\n",
       "      <th>214875.0</th>\n",
       "      <td>16498.787742</td>\n",
       "      <td>7.678319</td>\n",
       "      <td>214.875</td>\n",
       "    </tr>\n",
       "    <tr>\n",
       "      <th>218000.0</th>\n",
       "      <td>8261.149478</td>\n",
       "      <td>3.789518</td>\n",
       "      <td>218.000</td>\n",
       "    </tr>\n",
       "    <tr>\n",
       "      <th>228229.0</th>\n",
       "      <td>7274.450997</td>\n",
       "      <td>3.187347</td>\n",
       "      <td>228.229</td>\n",
       "    </tr>\n",
       "    <tr>\n",
       "      <th>250001.0</th>\n",
       "      <td>15220.979498</td>\n",
       "      <td>6.088367</td>\n",
       "      <td>250.001</td>\n",
       "    </tr>\n",
       "  </tbody>\n",
       "</table>\n",
       "<p>1277 rows × 3 columns</p>\n",
       "</div>"
      ],
      "text/plain": [
       "                econ_tax_amt_paid       rate  incomeperthou\n",
       "econ_midincome                                             \n",
       "9787.0                1594.444641  16.291454          9.787\n",
       "10455.0               3508.821643  33.561183         10.455\n",
       "12306.0               1594.444641  12.956644         12.306\n",
       "13585.0                801.051239   5.896586         13.585\n",
       "13736.0               1287.137256   9.370539         13.736\n",
       "...                           ...        ...            ...\n",
       "211042.0             15220.979498   7.212299        211.042\n",
       "214875.0             16498.787742   7.678319        214.875\n",
       "218000.0              8261.149478   3.789518        218.000\n",
       "228229.0              7274.450997   3.187347        228.229\n",
       "250001.0             15220.979498   6.088367        250.001\n",
       "\n",
       "[1277 rows x 3 columns]"
      ]
     },
     "execution_count": 33,
     "metadata": {},
     "output_type": "execute_result"
    }
   ],
   "source": [
    "df_medians"
   ]
  },
  {
   "cell_type": "code",
   "execution_count": 32,
   "id": "1bb0dd37",
   "metadata": {},
   "outputs": [
    {
     "data": {
      "text/plain": [
       "<AxesSubplot:xlabel='incomeperthou', ylabel='rate'>"
      ]
     },
     "execution_count": 32,
     "metadata": {},
     "output_type": "execute_result"
    },
    {
     "data": {
      "image/png": "[encoded data removed]",
      "text/plain": [
       "<Figure size 432x288 with 1 Axes>"
      ]
     },
     "metadata": {
      "needs_background": "light"
     },
     "output_type": "display_data"
    }
   ],
   "source": [
    "sns.scatterplot(data = df_medians,x='incomeperthou',y='rate')"
   ]
  },
  {
   "cell_type": "code",
   "execution_count": 42,
   "id": "b7edf1af",
   "metadata": {},
   "outputs": [],
   "source": [
    "df_medians['log_income'] = np.log(df_medians.incomeperthou)"
   ]
  },
  {
   "cell_type": "code",
   "execution_count": 43,
   "id": "dc649c78",
   "metadata": {},
   "outputs": [
    {
     "data": {
      "text/plain": [
       "<AxesSubplot:xlabel='log_income', ylabel='rate'>"
      ]
     },
     "execution_count": 43,
     "metadata": {},
     "output_type": "execute_result"
    },
    {
     "data": {
      "image/png": "[encoded data removed]",
      "text/plain": [
       "<Figure size 432x288 with 1 Axes>"
      ]
     },
     "metadata": {
      "needs_background": "light"
     },
     "output_type": "display_data"
    }
   ],
   "source": [
    "sns.scatterplot(data = df_medians,x='log_income',y='rate')"
   ]
  },
  {
   "cell_type": "code",
   "execution_count": 30,
   "id": "d81d4731",
   "metadata": {},
   "outputs": [
    {
     "data": {
      "text/plain": [
       "array([-0.01166678])"
      ]
     },
     "execution_count": 30,
     "metadata": {},
     "output_type": "execute_result"
    }
   ],
   "source": [
    "ln = LinearRegression()\n",
    "ln.fit(df_medians[['incomeperthou']],df_medians.rate)\n",
    "ln.coef_"
   ]
  },
  {
   "cell_type": "code",
   "execution_count": 36,
   "id": "6a95a3c9",
   "metadata": {},
   "outputs": [],
   "source": [
    "median_rate = df_medians.rate.median()\n",
    "median_income=np.empty(7)\n",
    "total =np.empty(7)\n",
    "for n in range(0,7):\n",
    "    median_income[n] = df_medians[df_medians.rate>n*median_rate].incomeperthou.median()\n",
    "    total[n] = df_medians[df_medians.rate>n*median_rate].shape[0]\n",
    "\n",
    "    \n"
   ]
  },
  {
   "cell_type": "code",
   "execution_count": 37,
   "id": "0d34e347",
   "metadata": {},
   "outputs": [
    {
     "data": {
      "text/plain": [
       "<AxesSubplot:>"
      ]
     },
     "execution_count": 37,
     "metadata": {},
     "output_type": "execute_result"
    },
    {
     "data": {
      "image/png": "[encoded data removed]",
      "text/plain": [
       "<Figure size 432x288 with 1 Axes>"
      ]
     },
     "metadata": {
      "needs_background": "light"
     },
     "output_type": "display_data"
    }
   ],
   "source": [
    "sns.scatterplot(x=range(0,7), y= median_income)"
   ]
  },
  {
   "cell_type": "code",
   "execution_count": 39,
   "id": "74ae70c5",
   "metadata": {},
   "outputs": [
    {
     "data": {
      "text/plain": [
       "<AxesSubplot:>"
      ]
     },
     "execution_count": 39,
     "metadata": {},
     "output_type": "execute_result"
    },
    {
     "data": {
      "image/png": "[encoded data removed]",
      "text/plain": [
       "<Figure size 432x288 with 1 Axes>"
      ]
     },
     "metadata": {
      "needs_background": "light"
     },
     "output_type": "display_data"
    }
   ],
   "source": [
    "sns.scatterplot(x=range(0,7), y= total)"
   ]
  },
  {
   "cell_type": "code",
   "execution_count": null,
   "id": "3ec12809",
   "metadata": {},
   "outputs": [],
   "source": []
  }
 ],
 "metadata": {
  "kernelspec": {
   "display_name": "Python 3 (ipykernel)",
   "language": "python",
   "name": "python3"
  },
  "language_info": {
   "codemirror_mode": {
    "name": "ipython",
    "version": 3
   },
   "file_extension": ".py",
   "mimetype": "text/x-python",
   "name": "python",
   "nbconvert_exporter": "python",
   "pygments_lexer": "ipython3",
   "version": "3.10.2"
  }
 },
 "nbformat": 4,
 "nbformat_minor": 5
}
