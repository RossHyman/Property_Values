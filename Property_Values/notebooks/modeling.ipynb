{
 "cells": [
  {
   "cell_type": "markdown",
   "id": "5e52edcf",
   "metadata": {},
   "source": [
    "In this notebook I run statistical learning models on residential home sales in the Bell school area of Chicago, a highly gentrifying neighborhood with a large number of flipping and teardowns, to demonstrate that models with no inherent bias in their method lead to biased results, overvaluing low priced homes and undervaluing high priced homes. This is not surprising since it is a basic property of models based on averaging. The problem, regression towards the mean, is so intrinsic to these methods that the basic method bares its name. This property exasperates inequality as it leads to lesser taxation of wealthy people and higher taxation on poor people. The results could be used to advocate for a transition from property tax to income tax as was recently attempted in Illinois.  "
   ]
  },
  {
   "cell_type": "code",
   "execution_count": 1,
   "id": "abaa35c9",
   "metadata": {},
   "outputs": [],
   "source": [
    "import numpy as np\n",
    "import pandas as pd\n",
    "import matplotlib.pyplot as plt\n",
    "import seaborn as sns\n",
    "import os\n",
    "from sklearn.decomposition import PCA\n",
    "#from library.sb_utils import save_file\n",
    "import statsmodels.api as sm \n",
    "from statsmodels.graphics.api import abline_plot \n",
    "import warnings \n",
    "warnings.simplefilter(action=\"ignore\", category=FutureWarning)\n",
    "warnings.filterwarnings(action=\"ignore\", module=\"scipy\", message=\"^internal gelsd\")\n",
    "import pickle\n",
    "from sklearn import __version__ as sklearn_version\n",
    "from sklearn.preprocessing import scale\n",
    "from sklearn.model_selection import train_test_split, cross_validate, GridSearchCV, learning_curve\n",
    "from sklearn.preprocessing import StandardScaler, MinMaxScaler\n",
    "from sklearn.dummy import DummyRegressor\n",
    "from sklearn.linear_model import LinearRegression\n",
    "from sklearn.ensemble import RandomForestRegressor\n",
    "from sklearn.metrics import r2_score, mean_squared_error, mean_absolute_error\n",
    "from sklearn.metrics import mean_absolute_percentage_error as mape\n",
    "from sklearn.pipeline import make_pipeline\n",
    "from sklearn.impute import SimpleImputer\n",
    "from sklearn.feature_selection import SelectKBest, f_regression\n",
    "import datetime\n",
    "from sklearn.linear_model import ElasticNetCV\n",
    "from sklearn.linear_model import ElasticNet\n",
    "from sklearn.ensemble import GradientBoostingRegressor"
   ]
  },
  {
   "cell_type": "code",
   "execution_count": 2,
   "id": "eda62f1c",
   "metadata": {},
   "outputs": [],
   "source": [
    "bell_sales = pd.read_csv('../data/bell_sales_cleaned.csv')"
   ]
  },
  {
   "cell_type": "code",
   "execution_count": 3,
   "id": "a2d80c6a",
   "metadata": {},
   "outputs": [
    {
     "data": {
      "text/html": [
       "<div>\n",
       "<style scoped>\n",
       "    .dataframe tbody tr th:only-of-type {\n",
       "        vertical-align: middle;\n",
       "    }\n",
       "\n",
       "    .dataframe tbody tr th {\n",
       "        vertical-align: top;\n",
       "    }\n",
       "\n",
       "    .dataframe thead th {\n",
       "        text-align: right;\n",
       "    }\n",
       "</style>\n",
       "<table border=\"1\" class=\"dataframe\">\n",
       "  <thead>\n",
       "    <tr style=\"text-align: right;\">\n",
       "      <th></th>\n",
       "      <th>Unnamed: 0</th>\n",
       "      <th>meta_pin</th>\n",
       "      <th>meta_year</th>\n",
       "      <th>meta_class</th>\n",
       "      <th>meta_sale_price</th>\n",
       "      <th>char_hd_sf</th>\n",
       "      <th>char_age</th>\n",
       "      <th>char_rooms</th>\n",
       "      <th>char_beds</th>\n",
       "      <th>char_frpl</th>\n",
       "      <th>char_fbath</th>\n",
       "      <th>char_hbath</th>\n",
       "      <th>char_bldg_sf</th>\n",
       "      <th>geo_longitude</th>\n",
       "      <th>geo_latitude</th>\n",
       "      <th>one_story</th>\n",
       "      <th>row_house</th>\n",
       "    </tr>\n",
       "  </thead>\n",
       "  <tbody>\n",
       "    <tr>\n",
       "      <th>0</th>\n",
       "      <td>126575</td>\n",
       "      <td>13242020170000</td>\n",
       "      <td>2017.0</td>\n",
       "      <td>278</td>\n",
       "      <td>850000.0</td>\n",
       "      <td>3050.0</td>\n",
       "      <td>18.0</td>\n",
       "      <td>8.0</td>\n",
       "      <td>4.0</td>\n",
       "      <td>0.0</td>\n",
       "      <td>2.0</td>\n",
       "      <td>1.0</td>\n",
       "      <td>2340.0</td>\n",
       "      <td>-87.690565</td>\n",
       "      <td>41.953323</td>\n",
       "      <td>0</td>\n",
       "      <td>0</td>\n",
       "    </tr>\n",
       "    <tr>\n",
       "      <th>1</th>\n",
       "      <td>126576</td>\n",
       "      <td>13242020180000</td>\n",
       "      <td>2013.0</td>\n",
       "      <td>278</td>\n",
       "      <td>1055000.0</td>\n",
       "      <td>3050.0</td>\n",
       "      <td>2.0</td>\n",
       "      <td>9.0</td>\n",
       "      <td>4.0</td>\n",
       "      <td>3.0</td>\n",
       "      <td>3.0</td>\n",
       "      <td>1.0</td>\n",
       "      <td>2639.0</td>\n",
       "      <td>-87.690473</td>\n",
       "      <td>41.953324</td>\n",
       "      <td>0</td>\n",
       "      <td>0</td>\n",
       "    </tr>\n",
       "    <tr>\n",
       "      <th>2</th>\n",
       "      <td>126578</td>\n",
       "      <td>13242030020000</td>\n",
       "      <td>2013.0</td>\n",
       "      <td>203</td>\n",
       "      <td>330000.0</td>\n",
       "      <td>3137.0</td>\n",
       "      <td>54.0</td>\n",
       "      <td>6.0</td>\n",
       "      <td>3.0</td>\n",
       "      <td>0.0</td>\n",
       "      <td>2.0</td>\n",
       "      <td>0.0</td>\n",
       "      <td>1020.0</td>\n",
       "      <td>-87.690731</td>\n",
       "      <td>41.952804</td>\n",
       "      <td>1</td>\n",
       "      <td>0</td>\n",
       "    </tr>\n",
       "    <tr>\n",
       "      <th>3</th>\n",
       "      <td>126579</td>\n",
       "      <td>13242030040000</td>\n",
       "      <td>2014.0</td>\n",
       "      <td>202</td>\n",
       "      <td>300000.0</td>\n",
       "      <td>3050.0</td>\n",
       "      <td>116.0</td>\n",
       "      <td>4.0</td>\n",
       "      <td>2.0</td>\n",
       "      <td>0.0</td>\n",
       "      <td>2.0</td>\n",
       "      <td>0.0</td>\n",
       "      <td>680.0</td>\n",
       "      <td>-87.690547</td>\n",
       "      <td>41.952805</td>\n",
       "      <td>1</td>\n",
       "      <td>0</td>\n",
       "    </tr>\n",
       "    <tr>\n",
       "      <th>4</th>\n",
       "      <td>126580</td>\n",
       "      <td>13242030110000</td>\n",
       "      <td>2018.0</td>\n",
       "      <td>206</td>\n",
       "      <td>976711.0</td>\n",
       "      <td>3660.0</td>\n",
       "      <td>96.0</td>\n",
       "      <td>7.0</td>\n",
       "      <td>4.0</td>\n",
       "      <td>1.0</td>\n",
       "      <td>2.0</td>\n",
       "      <td>1.0</td>\n",
       "      <td>2778.0</td>\n",
       "      <td>-87.689729</td>\n",
       "      <td>41.952810</td>\n",
       "      <td>0</td>\n",
       "      <td>0</td>\n",
       "    </tr>\n",
       "  </tbody>\n",
       "</table>\n",
       "</div>"
      ],
      "text/plain": [
       "   Unnamed: 0        meta_pin  meta_year  meta_class  meta_sale_price  \\\n",
       "0      126575  13242020170000     2017.0         278         850000.0   \n",
       "1      126576  13242020180000     2013.0         278        1055000.0   \n",
       "2      126578  13242030020000     2013.0         203         330000.0   \n",
       "3      126579  13242030040000     2014.0         202         300000.0   \n",
       "4      126580  13242030110000     2018.0         206         976711.0   \n",
       "\n",
       "   char_hd_sf  char_age  char_rooms  char_beds  char_frpl  char_fbath  \\\n",
       "0      3050.0      18.0         8.0        4.0        0.0         2.0   \n",
       "1      3050.0       2.0         9.0        4.0        3.0         3.0   \n",
       "2      3137.0      54.0         6.0        3.0        0.0         2.0   \n",
       "3      3050.0     116.0         4.0        2.0        0.0         2.0   \n",
       "4      3660.0      96.0         7.0        4.0        1.0         2.0   \n",
       "\n",
       "   char_hbath  char_bldg_sf  geo_longitude  geo_latitude  one_story  row_house  \n",
       "0         1.0        2340.0     -87.690565     41.953323          0          0  \n",
       "1         1.0        2639.0     -87.690473     41.953324          0          0  \n",
       "2         0.0        1020.0     -87.690731     41.952804          1          0  \n",
       "3         0.0         680.0     -87.690547     41.952805          1          0  \n",
       "4         1.0        2778.0     -87.689729     41.952810          0          0  "
      ]
     },
     "execution_count": 3,
     "metadata": {},
     "output_type": "execute_result"
    }
   ],
   "source": [
    "bell_sales['one_story'] = [1 if x < 205 else 0 for x in bell_sales['meta_class']]\n",
    "bell_sales['row_house'] = [1 if ((x == 210) or (x==295)) else 0 for x in bell_sales['meta_class']]\n",
    "bell_sales.head()"
   ]
  },
  {
   "cell_type": "code",
   "execution_count": 4,
   "id": "fd072b31",
   "metadata": {},
   "outputs": [],
   "source": [
    "bell_sales_pin = bell_sales.meta_pin\n",
    "bell_y = bell_sales.meta_sale_price\n",
    "bell_X = bell_sales.drop(['Unnamed: 0','meta_pin','meta_sale_price','meta_class'],axis=1)"
   ]
  },
  {
   "cell_type": "code",
   "execution_count": 5,
   "id": "16ddc94a",
   "metadata": {},
   "outputs": [
    {
     "name": "stdout",
     "output_type": "stream",
     "text": [
      "<class 'pandas.core.frame.DataFrame'>\n",
      "RangeIndex: 293 entries, 0 to 292\n",
      "Data columns (total 13 columns):\n",
      " #   Column         Non-Null Count  Dtype  \n",
      "---  ------         --------------  -----  \n",
      " 0   meta_year      293 non-null    float64\n",
      " 1   char_hd_sf     293 non-null    float64\n",
      " 2   char_age       293 non-null    float64\n",
      " 3   char_rooms     293 non-null    float64\n",
      " 4   char_beds      293 non-null    float64\n",
      " 5   char_frpl      293 non-null    float64\n",
      " 6   char_fbath     293 non-null    float64\n",
      " 7   char_hbath     293 non-null    float64\n",
      " 8   char_bldg_sf   293 non-null    float64\n",
      " 9   geo_longitude  293 non-null    float64\n",
      " 10  geo_latitude   293 non-null    float64\n",
      " 11  one_story      293 non-null    int64  \n",
      " 12  row_house      293 non-null    int64  \n",
      "dtypes: float64(11), int64(2)\n",
      "memory usage: 29.9 KB\n"
     ]
    }
   ],
   "source": [
    "bell_X.info()"
   ]
  },
  {
   "cell_type": "markdown",
   "id": "2e1b0687",
   "metadata": {},
   "source": [
    "meta_class is the cook county classification of each property based on age, squarefootage, number of stories, and if it is detached or attached to other homes. As age and square footage are seperate feautures, the useful info to extract from the class are the number of stories and if it is attached."
   ]
  },
  {
   "cell_type": "code",
   "execution_count": 6,
   "id": "db541613",
   "metadata": {},
   "outputs": [],
   "source": [
    "columns=bell_X.columns"
   ]
  },
  {
   "cell_type": "code",
   "execution_count": 7,
   "id": "2b8a705a",
   "metadata": {},
   "outputs": [],
   "source": [
    "X_train, X_test, y_train, y_test = train_test_split(bell_X, bell_y, test_size=0.2, random_state=42)"
   ]
  },
  {
   "cell_type": "code",
   "execution_count": 8,
   "id": "e5e5cd35",
   "metadata": {},
   "outputs": [],
   "source": [
    "scaler = StandardScaler()\n",
    "scaler.fit(X_train)\n",
    "X_train= scaler.transform(X_train)\n",
    "X_test = scaler.transform(X_test)"
   ]
  },
  {
   "cell_type": "markdown",
   "id": "508fba12",
   "metadata": {},
   "source": [
    "scaling is needed for models that need to determine a 'distance\" between data points. But for models, such as decesion trees, that do not require a distance, it is not required.Scaling should do no harm when it is not needed. "
   ]
  },
  {
   "cell_type": "markdown",
   "id": "b0b6ac9c",
   "metadata": {},
   "source": [
    "First just try metrics for the mean value of the training data"
   ]
  },
  {
   "cell_type": "code",
   "execution_count": 9,
   "id": "799b5908",
   "metadata": {},
   "outputs": [
    {
     "data": {
      "text/plain": [
       "array([[1131707.35042735]])"
      ]
     },
     "execution_count": 9,
     "metadata": {},
     "output_type": "execute_result"
    }
   ],
   "source": [
    "dumb_reg = DummyRegressor(strategy='mean')\n",
    "dumb_reg.fit(X_train,y_train)\n",
    "dumb_reg.constant_\n",
    "\n"
   ]
  },
  {
   "cell_type": "code",
   "execution_count": 10,
   "id": "c726c242",
   "metadata": {},
   "outputs": [
    {
     "data": {
      "text/plain": [
       "(0.44996805776414805,\n",
       " 0.4638872851774428,\n",
       " 0.0,\n",
       " -0.006717921520868142,\n",
       " 434738.2204517969,\n",
       " 462579.2947234855,\n",
       " 347035.00387172186,\n",
       " 375599.8958423874)"
      ]
     },
     "execution_count": 10,
     "metadata": {},
     "output_type": "execute_result"
    }
   ],
   "source": [
    "y_tr_pred = dumb_reg.predict(X_train)\n",
    "y_te_pred = dumb_reg.predict(X_test)\n",
    "mape(y_train, y_tr_pred), mape(y_test, y_te_pred),\\\n",
    "r2_score(y_train, y_tr_pred), r2_score(y_test, y_te_pred),\\\n",
    "np.sqrt(mean_squared_error(y_train, y_tr_pred)), np.sqrt(mean_squared_error(y_test, y_te_pred)),\\\n",
    "mean_absolute_error(y_train, y_tr_pred),mean_absolute_error(y_test, y_te_pred)"
   ]
  },
  {
   "cell_type": "markdown",
   "id": "fad69010",
   "metadata": {},
   "source": [
    "Three metrics recommended by the International association of assessing officers based on the ratio y_pred/y_test are Coefficient of Dispersion (COD), Price Related Differential (PRD), and Coefficent of Price-Related Bias."
   ]
  },
  {
   "cell_type": "markdown",
   "id": "aae8f2b8",
   "metadata": {},
   "source": [
    "Coefficient of Dispersion (COD)is a measure of the variance of the ratio. It is multiplied by 100. Its value is the percentage variation of the ratio away from the median. It does not tell us if low priced homes are being treated differently than high priced homes."
   ]
  },
  {
   "cell_type": "code",
   "execution_count": 11,
   "id": "e3722ace",
   "metadata": {},
   "outputs": [
    {
     "data": {
      "text/plain": [
       "(44.46304068614593, 40.43873536375696)"
      ]
     },
     "execution_count": 11,
     "metadata": {},
     "output_type": "execute_result"
    }
   ],
   "source": [
    "def cod(y_pred,y_test):\n",
    "    ratio = y_pred/y_test\n",
    "    ratio_median = np.median(ratio)\n",
    "    return 100*np.mean(np.abs(ratio-ratio_median))/ratio_median\n",
    "cod(y_tr_pred,y_train), cod(y_te_pred,y_test)"
   ]
  },
  {
   "cell_type": "markdown",
   "id": "38b59c84",
   "metadata": {},
   "source": [
    "Just taking an average produces a variation of over 40% is the ratio.\n"
   ]
  },
  {
   "cell_type": "markdown",
   "id": "d970399b",
   "metadata": {},
   "source": [
    "Price Related Differential does tell us if low priced homes are being treated differently than high priced homes. It is the mean ratio divided by the sales price weighted mean ratio. If the ratio for large sales price homes is lower than the ratio for low sales price homes, then the mean ratio over the weighted mean ratio will be larger than 1."
   ]
  },
  {
   "cell_type": "code",
   "execution_count": 12,
   "id": "5edf7a3b",
   "metadata": {},
   "outputs": [
    {
     "data": {
      "text/plain": [
       "(1.2397913651988004, 1.2271569281135832)"
      ]
     },
     "execution_count": 12,
     "metadata": {},
     "output_type": "execute_result"
    }
   ],
   "source": [
    "def prd(y_pred,y_test):\n",
    "    ratio = y_pred/y_test\n",
    "    y_test_sum = np.sum(y_test)\n",
    "    y_pred_sum = np.sum(y_pred)\n",
    "    return np.mean(ratio)*y_test_sum/y_pred_sum\n",
    "prd(y_tr_pred,y_train), prd(y_te_pred,y_test)"
   ]
  },
  {
   "cell_type": "markdown",
   "id": "778bc195",
   "metadata": {},
   "source": [
    "The mean ratio is 22% higher than the weighted mean ratio, indicating that low proced homes are priced higher than their sales price compared to how high priced homes are treated.  This is a consequence that small variations in the predicated price of a low priced home makes a bigger change in the ratio."
   ]
  },
  {
   "cell_type": "markdown",
   "id": "9801b5be",
   "metadata": {},
   "source": [
    "Coefficent of price related bias (PRB) does a liner regression between the log2 of the price and the ratio. A negative number means that if one increases the price, the ratio goes down."
   ]
  },
  {
   "cell_type": "code",
   "execution_count": 13,
   "id": "c7720837",
   "metadata": {},
   "outputs": [
    {
     "data": {
      "text/plain": [
       "(array([-2.30460326]), array([-1.77788597]))"
      ]
     },
     "execution_count": 13,
     "metadata": {},
     "output_type": "execute_result"
    }
   ],
   "source": [
    "def prb(y_pred,y_test):\n",
    "    proxy = 0.5*(y_pred + y_test)\n",
    "    ln_value = pd.DataFrame(np.log2(proxy))\n",
    "    ratio = y_pred/y_test\n",
    "    ratio_median = np.median(ratio)\n",
    "    pct_dif = (ratio - ratio_median)/ratio_median\n",
    "    lr = LinearRegression()\n",
    "    lr.fit(ln_value,pct_dif)\n",
    "    return lr.coef_\n",
    "prb(y_tr_pred,y_train), prb(y_te_pred,y_test)"
   ]
  },
  {
   "cell_type": "markdown",
   "id": "93d284a2",
   "metadata": {},
   "source": [
    "Using the average price for all predictions has the consequence that doubling the price of the home means the ratio goes down by 178%."
   ]
  },
  {
   "cell_type": "markdown",
   "id": "a3ab86d6",
   "metadata": {},
   "source": [
    "Next we see how linear regression improves predicted prices.  "
   ]
  },
  {
   "cell_type": "code",
   "execution_count": 14,
   "id": "fe29baa3",
   "metadata": {},
   "outputs": [
    {
     "data": {
      "text/plain": [
       "LinearRegression()"
      ]
     },
     "execution_count": 14,
     "metadata": {},
     "output_type": "execute_result"
    }
   ],
   "source": [
    "lm = LinearRegression()\n",
    "lm.fit(X_train, y_train)"
   ]
  },
  {
   "cell_type": "code",
   "execution_count": 15,
   "id": "042160cd",
   "metadata": {},
   "outputs": [],
   "source": [
    "y_tr_pred = lm.predict(X_train)\n",
    "y_te_pred = lm.predict(X_test)"
   ]
  },
  {
   "cell_type": "code",
   "execution_count": 16,
   "id": "8a3bc790",
   "metadata": {},
   "outputs": [
    {
     "data": {
      "text/plain": [
       "(0.17024646373122818,\n",
       " 0.20877836527125762,\n",
       " 0.7986853029158377,\n",
       " 0.6026764394678505,\n",
       " 195058.80726145208,\n",
       " 290605.91452558845,\n",
       " 153166.36786171395,\n",
       " 213838.31583288126)"
      ]
     },
     "execution_count": 16,
     "metadata": {},
     "output_type": "execute_result"
    }
   ],
   "source": [
    "mape(y_train, y_tr_pred), mape(y_test, y_te_pred),\\\n",
    "r2_score(y_train, y_tr_pred), r2_score(y_test, y_te_pred),\\\n",
    "np.sqrt(mean_squared_error(y_train, y_tr_pred)), np.sqrt(mean_squared_error(y_test, y_te_pred)),\\\n",
    "mean_absolute_error(y_train, y_tr_pred),mean_absolute_error(y_test, y_te_pred)"
   ]
  },
  {
   "cell_type": "code",
   "execution_count": 17,
   "id": "1f6ed839",
   "metadata": {},
   "outputs": [
    {
     "data": {
      "text/plain": [
       "(16.842064162217586, 19.13095426729003)"
      ]
     },
     "execution_count": 17,
     "metadata": {},
     "output_type": "execute_result"
    }
   ],
   "source": [
    "cod(y_tr_pred,y_train), cod(y_te_pred,y_test)"
   ]
  },
  {
   "cell_type": "markdown",
   "id": "5cd26214",
   "metadata": {},
   "source": [
    "variance is cut by more than half"
   ]
  },
  {
   "cell_type": "code",
   "execution_count": 18,
   "id": "f8289e34",
   "metadata": {},
   "outputs": [
    {
     "data": {
      "text/plain": [
       "(1.0468692430716888, 1.065616774119676)"
      ]
     },
     "execution_count": 18,
     "metadata": {},
     "output_type": "execute_result"
    }
   ],
   "source": [
    "prd(y_tr_pred,y_train), prd(y_te_pred,y_test)"
   ]
  },
  {
   "cell_type": "markdown",
   "id": "56dfe4f8",
   "metadata": {},
   "source": [
    "mean ratio is now only 7 percent higher than the weighted ratio."
   ]
  },
  {
   "cell_type": "code",
   "execution_count": 19,
   "id": "fc17c371",
   "metadata": {},
   "outputs": [
    {
     "data": {
      "text/plain": [
       "(array([-0.13606587]), array([-0.13707227]))"
      ]
     },
     "execution_count": 19,
     "metadata": {},
     "output_type": "execute_result"
    }
   ],
   "source": [
    "prb(y_tr_pred,y_train), prb(y_te_pred,y_test)"
   ]
  },
  {
   "cell_type": "code",
   "execution_count": 20,
   "id": "e02421bc",
   "metadata": {},
   "outputs": [
    {
     "data": {
      "text/plain": [
       "<AxesSubplot:xlabel='meta_sale_price'>"
      ]
     },
     "execution_count": 20,
     "metadata": {},
     "output_type": "execute_result"
    },
    {
     "data": {
      "image/png": "[encoded data removed]",
      "text/plain": [
       "<Figure size 432x288 with 1 Axes>"
      ]
     },
     "metadata": {
      "needs_background": "light"
     },
     "output_type": "display_data"
    }
   ],
   "source": [
    "sns.scatterplot(x=y_train,y=y_tr_pred)"
   ]
  },
  {
   "cell_type": "code",
   "execution_count": 21,
   "id": "b7a0b45f",
   "metadata": {},
   "outputs": [
    {
     "data": {
      "text/plain": [
       "<AxesSubplot:xlabel='meta_sale_price'>"
      ]
     },
     "execution_count": 21,
     "metadata": {},
     "output_type": "execute_result"
    },
    {
     "data": {
      "image/png": "[encoded data removed]",
      "text/plain": [
       "<Figure size 432x288 with 1 Axes>"
      ]
     },
     "metadata": {
      "needs_background": "light"
     },
     "output_type": "display_data"
    }
   ],
   "source": [
    "sns.scatterplot(x=y_test,y=y_te_pred)"
   ]
  },
  {
   "cell_type": "code",
   "execution_count": 22,
   "id": "f84502d5",
   "metadata": {},
   "outputs": [
    {
     "data": {
      "text/plain": [
       "<AxesSubplot:xlabel='meta_sale_price', ylabel='meta_sale_price'>"
      ]
     },
     "execution_count": 22,
     "metadata": {},
     "output_type": "execute_result"
    },
    {
     "data": {
      "image/png": "[encoded data removed]",
      "text/plain": [
       "<Figure size 432x288 with 1 Axes>"
      ]
     },
     "metadata": {
      "needs_background": "light"
     },
     "output_type": "display_data"
    }
   ],
   "source": [
    "sns.scatterplot(x=y_train,y=y_tr_pred/y_train)"
   ]
  },
  {
   "cell_type": "code",
   "execution_count": 23,
   "id": "8e07d98b",
   "metadata": {},
   "outputs": [
    {
     "data": {
      "text/plain": [
       "<AxesSubplot:xlabel='meta_sale_price', ylabel='meta_sale_price'>"
      ]
     },
     "execution_count": 23,
     "metadata": {},
     "output_type": "execute_result"
    },
    {
     "data": {
      "image/png": "[encoded data removed]",
      "text/plain": [
       "<Figure size 432x288 with 1 Axes>"
      ]
     },
     "metadata": {
      "needs_background": "light"
     },
     "output_type": "display_data"
    }
   ],
   "source": [
    "sns.scatterplot(x=y_test,y=y_te_pred/y_test)"
   ]
  },
  {
   "cell_type": "code",
   "execution_count": 24,
   "id": "197ade61",
   "metadata": {},
   "outputs": [
    {
     "data": {
      "text/plain": [
       "<AxesSubplot:xlabel='meta_sale_price', ylabel='meta_sale_price'>"
      ]
     },
     "execution_count": 24,
     "metadata": {},
     "output_type": "execute_result"
    },
    {
     "data": {
      "image/png": "[encoded data removed]",
      "text/plain": [
       "<Figure size 432x288 with 1 Axes>"
      ]
     },
     "metadata": {
      "needs_background": "light"
     },
     "output_type": "display_data"
    }
   ],
   "source": [
    "sns.scatterplot(x=np.log2(y_train),y=y_tr_pred/y_train)"
   ]
  },
  {
   "cell_type": "code",
   "execution_count": 25,
   "id": "044b7cc1",
   "metadata": {},
   "outputs": [
    {
     "data": {
      "text/plain": [
       "<AxesSubplot:xlabel='meta_sale_price', ylabel='meta_sale_price'>"
      ]
     },
     "execution_count": 25,
     "metadata": {},
     "output_type": "execute_result"
    },
    {
     "data": {
      "image/png": "[encoded data removed]",
      "text/plain": [
       "<Figure size 432x288 with 1 Axes>"
      ]
     },
     "metadata": {
      "needs_background": "light"
     },
     "output_type": "display_data"
    }
   ],
   "source": [
    "sns.scatterplot(x=np.log2(y_test),y=y_te_pred/y_test)"
   ]
  },
  {
   "cell_type": "markdown",
   "id": "ba3767e8",
   "metadata": {},
   "source": [
    "For linear regression, doubling the home price means the ratio goes down by almost 14%. Let's see how much this can be improved with ElasticNet which includes LinearRegression as a limit."
   ]
  },
  {
   "cell_type": "code",
   "execution_count": 26,
   "id": "6f6f17a3",
   "metadata": {},
   "outputs": [],
   "source": [
    "en = ElasticNet()"
   ]
  },
  {
   "cell_type": "code",
   "execution_count": 27,
   "id": "af171135",
   "metadata": {},
   "outputs": [],
   "source": [
    "params = {'alpha':[0.0001,0.001,0.01,0.1,0.2,0.3,0.4,0.5,0.6,0.7,0.8,0.9,1.0,3823.315949420067],'l1_ratio':[.1, .5, .7, .9, .95, .99, 1]}\n",
    "en_gscv = GridSearchCV(en,params,n_jobs=-1,cv=5,scoring=\"neg_mean_absolute_percentage_error\")"
   ]
  },
  {
   "cell_type": "code",
   "execution_count": 28,
   "id": "2c2b9862",
   "metadata": {},
   "outputs": [
    {
     "data": {
      "text/plain": [
       "GridSearchCV(cv=5, estimator=ElasticNet(), n_jobs=-1,\n",
       "             param_grid={'alpha': [0.0001, 0.001, 0.01, 0.1, 0.2, 0.3, 0.4, 0.5,\n",
       "                                   0.6, 0.7, 0.8, 0.9, 1.0, 3823.315949420067],\n",
       "                         'l1_ratio': [0.1, 0.5, 0.7, 0.9, 0.95, 0.99, 1]},\n",
       "             scoring='neg_mean_absolute_percentage_error')"
      ]
     },
     "execution_count": 28,
     "metadata": {},
     "output_type": "execute_result"
    }
   ],
   "source": [
    "en_gscv.fit(X_train, y_train)"
   ]
  },
  {
   "cell_type": "code",
   "execution_count": 29,
   "id": "8644c995",
   "metadata": {},
   "outputs": [],
   "source": [
    "y_tr_pred = en_gscv.predict(X_train)\n",
    "y_te_pred = en_gscv.predict(X_test)"
   ]
  },
  {
   "cell_type": "code",
   "execution_count": 30,
   "id": "11beef17",
   "metadata": {},
   "outputs": [
    {
     "data": {
      "text/plain": [
       "(0.1711951045179366,\n",
       " 0.20624881477524473,\n",
       " 0.7975631366516762,\n",
       " 0.6095832836919701,\n",
       " 195601.69914175628,\n",
       " 288068.9780029611,\n",
       " 155054.72246117293,\n",
       " 211545.74411722185)"
      ]
     },
     "execution_count": 30,
     "metadata": {},
     "output_type": "execute_result"
    }
   ],
   "source": [
    "mape(y_train, y_tr_pred), mape(y_test, y_te_pred),\\\n",
    "r2_score(y_train, y_tr_pred), r2_score(y_test, y_te_pred),\\\n",
    "np.sqrt(mean_squared_error(y_train, y_tr_pred)), np.sqrt(mean_squared_error(y_test, y_te_pred)),\\\n",
    "mean_absolute_error(y_train, y_tr_pred),mean_absolute_error(y_test, y_te_pred)"
   ]
  },
  {
   "cell_type": "code",
   "execution_count": 31,
   "id": "914cace4",
   "metadata": {},
   "outputs": [
    {
     "data": {
      "text/plain": [
       "(16.77928581591395, 18.948552969510658)"
      ]
     },
     "execution_count": 31,
     "metadata": {},
     "output_type": "execute_result"
    }
   ],
   "source": [
    "cod(y_tr_pred,y_train), cod(y_te_pred,y_test)"
   ]
  },
  {
   "cell_type": "code",
   "execution_count": 32,
   "id": "860cfeb6",
   "metadata": {},
   "outputs": [
    {
     "data": {
      "text/plain": [
       "(1.0491360566949972, 1.0671990691429285)"
      ]
     },
     "execution_count": 32,
     "metadata": {},
     "output_type": "execute_result"
    }
   ],
   "source": [
    "prd(y_tr_pred,y_train), prd(y_te_pred,y_test)"
   ]
  },
  {
   "cell_type": "code",
   "execution_count": 33,
   "id": "9944e246",
   "metadata": {},
   "outputs": [
    {
     "data": {
      "text/plain": [
       "(array([-0.14880359]), array([-0.14911457]))"
      ]
     },
     "execution_count": 33,
     "metadata": {},
     "output_type": "execute_result"
    }
   ],
   "source": [
    "prb(y_tr_pred,y_train), prb(y_te_pred,y_test)"
   ]
  },
  {
   "cell_type": "code",
   "execution_count": 34,
   "id": "4b4ce53b",
   "metadata": {},
   "outputs": [
    {
     "data": {
      "text/plain": [
       "{'alpha': 0.1, 'l1_ratio': 0.7}"
      ]
     },
     "execution_count": 34,
     "metadata": {},
     "output_type": "execute_result"
    }
   ],
   "source": [
    "en_gscv.best_params_"
   ]
  },
  {
   "cell_type": "code",
   "execution_count": 35,
   "id": "03611c55",
   "metadata": {},
   "outputs": [
    {
     "data": {
      "text/plain": [
       "<AxesSubplot:xlabel='meta_sale_price'>"
      ]
     },
     "execution_count": 35,
     "metadata": {},
     "output_type": "execute_result"
    },
    {
     "data": {
      "image/png": "[encoded data removed]",
      "text/plain": [
       "<Figure size 432x288 with 1 Axes>"
      ]
     },
     "metadata": {
      "needs_background": "light"
     },
     "output_type": "display_data"
    }
   ],
   "source": [
    "sns.scatterplot(x=y_train,y=y_tr_pred)"
   ]
  },
  {
   "cell_type": "code",
   "execution_count": 36,
   "id": "415f1430",
   "metadata": {},
   "outputs": [
    {
     "data": {
      "text/plain": [
       "<AxesSubplot:xlabel='meta_sale_price'>"
      ]
     },
     "execution_count": 36,
     "metadata": {},
     "output_type": "execute_result"
    },
    {
     "data": {
      "image/png": "[encoded data removed]",
      "text/plain": [
       "<Figure size 432x288 with 1 Axes>"
      ]
     },
     "metadata": {
      "needs_background": "light"
     },
     "output_type": "display_data"
    }
   ],
   "source": [
    "sns.scatterplot(x=y_test,y=y_te_pred)"
   ]
  },
  {
   "cell_type": "code",
   "execution_count": 37,
   "id": "2f4080a4",
   "metadata": {},
   "outputs": [
    {
     "data": {
      "text/plain": [
       "<AxesSubplot:xlabel='meta_sale_price', ylabel='meta_sale_price'>"
      ]
     },
     "execution_count": 37,
     "metadata": {},
     "output_type": "execute_result"
    },
    {
     "data": {
      "image/png": "[encoded data removed]",
      "text/plain": [
       "<Figure size 432x288 with 1 Axes>"
      ]
     },
     "metadata": {
      "needs_background": "light"
     },
     "output_type": "display_data"
    }
   ],
   "source": [
    "sns.scatterplot(x=y_train,y=y_tr_pred/y_train)"
   ]
  },
  {
   "cell_type": "code",
   "execution_count": 38,
   "id": "c1df9c3f",
   "metadata": {},
   "outputs": [
    {
     "data": {
      "text/plain": [
       "<AxesSubplot:xlabel='meta_sale_price', ylabel='meta_sale_price'>"
      ]
     },
     "execution_count": 38,
     "metadata": {},
     "output_type": "execute_result"
    },
    {
     "data": {
      "image/png": "[encoded data removed]",
      "text/plain": [
       "<Figure size 432x288 with 1 Axes>"
      ]
     },
     "metadata": {
      "needs_background": "light"
     },
     "output_type": "display_data"
    }
   ],
   "source": [
    "sns.scatterplot(x=y_test,y=y_te_pred/y_test)"
   ]
  },
  {
   "cell_type": "code",
   "execution_count": 39,
   "id": "28d731b1",
   "metadata": {},
   "outputs": [
    {
     "data": {
      "text/plain": [
       "(1.0491360566949972, 1.0671990691429285)"
      ]
     },
     "execution_count": 39,
     "metadata": {},
     "output_type": "execute_result"
    }
   ],
   "source": [
    "prd(y_tr_pred,y_train), prd(y_te_pred,y_test)"
   ]
  },
  {
   "cell_type": "code",
   "execution_count": 40,
   "id": "1dcac96b",
   "metadata": {},
   "outputs": [
    {
     "data": {
      "text/plain": [
       "<AxesSubplot:xlabel='meta_sale_price', ylabel='meta_sale_price'>"
      ]
     },
     "execution_count": 40,
     "metadata": {},
     "output_type": "execute_result"
    },
    {
     "data": {
      "image/png": "[encoded data removed]",
      "text/plain": [
       "<Figure size 432x288 with 1 Axes>"
      ]
     },
     "metadata": {
      "needs_background": "light"
     },
     "output_type": "display_data"
    }
   ],
   "source": [
    "sns.scatterplot(x=np.log2(y_test),y=y_te_pred/y_test)"
   ]
  },
  {
   "cell_type": "markdown",
   "id": "3237720f",
   "metadata": {},
   "source": [
    "For linear regression, doubling the home price means the ratio goes down by almost 14%. Can this be improved with Random Forest?"
   ]
  },
  {
   "cell_type": "code",
   "execution_count": 41,
   "id": "d82ddf50",
   "metadata": {},
   "outputs": [],
   "source": [
    "rf = RandomForestRegressor(random_state=42)\n"
   ]
  },
  {
   "cell_type": "code",
   "execution_count": 42,
   "id": "7e72e3e4",
   "metadata": {},
   "outputs": [
    {
     "data": {
      "text/plain": [
       "RandomForestRegressor(random_state=42)"
      ]
     },
     "execution_count": 42,
     "metadata": {},
     "output_type": "execute_result"
    }
   ],
   "source": [
    "rf.fit(X_train, y_train)"
   ]
  },
  {
   "cell_type": "code",
   "execution_count": 43,
   "id": "fd4cb11e",
   "metadata": {},
   "outputs": [],
   "source": [
    "y_tr_pred = rf.predict(X_train)\n",
    "y_te_pred = rf.predict(X_test)"
   ]
  },
  {
   "cell_type": "code",
   "execution_count": 44,
   "id": "cfdeb426",
   "metadata": {},
   "outputs": [
    {
     "data": {
      "text/plain": [
       "(0.06442975083782056,\n",
       " 0.16593440504167206,\n",
       " 0.9693109759572004,\n",
       " 0.6581567104554906,\n",
       " 76158.67191183235,\n",
       " 269554.02378348476,\n",
       " 54845.34183760683,\n",
       " 169893.10016949152)"
      ]
     },
     "execution_count": 44,
     "metadata": {},
     "output_type": "execute_result"
    }
   ],
   "source": [
    "mape(y_train, y_tr_pred), mape(y_test, y_te_pred),\\\n",
    "r2_score(y_train, y_tr_pred), r2_score(y_test, y_te_pred),\\\n",
    "np.sqrt(mean_squared_error(y_train, y_tr_pred)), np.sqrt(mean_squared_error(y_test, y_te_pred)),\\\n",
    "mean_absolute_error(y_train, y_tr_pred),mean_absolute_error(y_test, y_te_pred)\n"
   ]
  },
  {
   "cell_type": "code",
   "execution_count": 45,
   "id": "e05091e8",
   "metadata": {},
   "outputs": [
    {
     "data": {
      "text/plain": [
       "(6.412962466668047, 16.539561747999795)"
      ]
     },
     "execution_count": 45,
     "metadata": {},
     "output_type": "execute_result"
    }
   ],
   "source": [
    "cod(y_tr_pred,y_train), cod(y_te_pred,y_test)"
   ]
  },
  {
   "cell_type": "markdown",
   "id": "3c44c7ed",
   "metadata": {},
   "source": [
    "variance compared to linear regression is reduced from 19% to 17%."
   ]
  },
  {
   "cell_type": "code",
   "execution_count": 46,
   "id": "b15c416f",
   "metadata": {},
   "outputs": [
    {
     "data": {
      "text/plain": [
       "(1.0214769359887668, 1.0674456254461802)"
      ]
     },
     "execution_count": 46,
     "metadata": {},
     "output_type": "execute_result"
    }
   ],
   "source": [
    "prd(y_tr_pred,y_train), prd(y_te_pred,y_test)"
   ]
  },
  {
   "cell_type": "markdown",
   "id": "cf2ec11a",
   "metadata": {},
   "source": [
    "prd is not inproved. Linear regression is better."
   ]
  },
  {
   "cell_type": "code",
   "execution_count": 47,
   "id": "ad1cb76c",
   "metadata": {},
   "outputs": [
    {
     "data": {
      "text/plain": [
       "(array([-0.09603153]), array([-0.20900107]))"
      ]
     },
     "execution_count": 47,
     "metadata": {},
     "output_type": "execute_result"
    }
   ],
   "source": [
    "prb(y_tr_pred,y_train), prb(y_te_pred,y_test)"
   ]
  },
  {
   "cell_type": "markdown",
   "id": "2963b30f",
   "metadata": {},
   "source": [
    "prb is also not improved. Can we improve Random Forest with hyperparameter tuning?"
   ]
  },
  {
   "cell_type": "code",
   "execution_count": 48,
   "id": "6a61c7bc",
   "metadata": {},
   "outputs": [],
   "source": [
    "rfr= RandomForestRegressor(random_state=42)\n",
    "params = {'n_estimators':[100,200,300,400,500],'criterion':[\"squared_error\", \"absolute_error\", \"poisson\"],'max_features':[\"auto\",\"sqrt\",\"log2\"]}\n",
    "rfr_gscv = GridSearchCV(rfr,params,n_jobs=-1,cv=5,scoring=\"neg_mean_absolute_percentage_error\")"
   ]
  },
  {
   "cell_type": "code",
   "execution_count": 49,
   "id": "43da48c2",
   "metadata": {},
   "outputs": [
    {
     "data": {
      "text/plain": [
       "GridSearchCV(cv=5, estimator=RandomForestRegressor(random_state=42), n_jobs=-1,\n",
       "             param_grid={'criterion': ['squared_error', 'absolute_error',\n",
       "                                       'poisson'],\n",
       "                         'max_features': ['auto', 'sqrt', 'log2'],\n",
       "                         'n_estimators': [100, 200, 300, 400, 500]},\n",
       "             scoring='neg_mean_absolute_percentage_error')"
      ]
     },
     "execution_count": 49,
     "metadata": {},
     "output_type": "execute_result"
    }
   ],
   "source": [
    "rfr_gscv.fit(X_train,y_train)"
   ]
  },
  {
   "cell_type": "code",
   "execution_count": 50,
   "id": "b8b756fc",
   "metadata": {},
   "outputs": [],
   "source": [
    "y_tr_pred = rfr_gscv.predict(X_train)\n",
    "y_te_pred = rfr_gscv.predict(X_test)"
   ]
  },
  {
   "cell_type": "code",
   "execution_count": 51,
   "id": "437b9556",
   "metadata": {},
   "outputs": [
    {
     "data": {
      "text/plain": [
       "(0.06492994670308033, 0.16114012767962513)"
      ]
     },
     "execution_count": 51,
     "metadata": {},
     "output_type": "execute_result"
    }
   ],
   "source": [
    "mape(y_train, y_tr_pred),mape(y_test, y_te_pred)\n"
   ]
  },
  {
   "cell_type": "code",
   "execution_count": 52,
   "id": "bc42fb10",
   "metadata": {},
   "outputs": [
    {
     "data": {
      "text/plain": [
       "(6.447629908619754, 16.054056914393566)"
      ]
     },
     "execution_count": 52,
     "metadata": {},
     "output_type": "execute_result"
    }
   ],
   "source": [
    "cod(y_tr_pred,y_train), cod(y_te_pred,y_test)"
   ]
  },
  {
   "cell_type": "code",
   "execution_count": 53,
   "id": "cbc46dc1",
   "metadata": {},
   "outputs": [
    {
     "data": {
      "text/plain": [
       "(1.0221905061278458, 1.0675370278338763)"
      ]
     },
     "execution_count": 53,
     "metadata": {},
     "output_type": "execute_result"
    }
   ],
   "source": [
    "prd(y_tr_pred,y_train), prd(y_te_pred,y_test)"
   ]
  },
  {
   "cell_type": "code",
   "execution_count": 54,
   "id": "37167a16",
   "metadata": {},
   "outputs": [
    {
     "data": {
      "text/plain": [
       "(array([-0.10026823]), array([-0.20560427]))"
      ]
     },
     "execution_count": 54,
     "metadata": {},
     "output_type": "execute_result"
    }
   ],
   "source": [
    "prb(y_tr_pred,y_train), prb(y_te_pred,y_test)"
   ]
  },
  {
   "cell_type": "code",
   "execution_count": 55,
   "id": "ffa6ad09",
   "metadata": {},
   "outputs": [
    {
     "data": {
      "text/plain": [
       "{'criterion': 'absolute_error', 'max_features': 'auto', 'n_estimators': 100}"
      ]
     },
     "execution_count": 55,
     "metadata": {},
     "output_type": "execute_result"
    }
   ],
   "source": [
    "rfr_gscv.best_params_"
   ]
  },
  {
   "cell_type": "code",
   "execution_count": 56,
   "id": "b5befad3",
   "metadata": {},
   "outputs": [
    {
     "data": {
      "text/plain": [
       "RandomForestRegressor(criterion='absolute_error')"
      ]
     },
     "execution_count": 56,
     "metadata": {},
     "output_type": "execute_result"
    }
   ],
   "source": [
    "rfrbest= RandomForestRegressor(criterion='absolute_error',max_features='auto',n_estimators=100)\n",
    "rfrbest.fit(X_train,y_train)"
   ]
  },
  {
   "cell_type": "code",
   "execution_count": 57,
   "id": "4b8983b2",
   "metadata": {},
   "outputs": [],
   "source": [
    "y_tr_pred = rfrbest.predict(X_train)\n",
    "y_te_pred = rfrbest.predict(X_test)"
   ]
  },
  {
   "cell_type": "code",
   "execution_count": 58,
   "id": "3a7a1fa4",
   "metadata": {},
   "outputs": [
    {
     "data": {
      "text/plain": [
       "(0.06717451613216592,\n",
       " 0.16988602638019212,\n",
       " 0.9694995139602692,\n",
       " 0.6387202575344343,\n",
       " 75924.37112031505,\n",
       " 277111.2101932224,\n",
       " 55046.02952991453,\n",
       " 173081.008220339)"
      ]
     },
     "execution_count": 58,
     "metadata": {},
     "output_type": "execute_result"
    }
   ],
   "source": [
    "mape(y_train, y_tr_pred), mape(y_test, y_te_pred),\\\n",
    "r2_score(y_train, y_tr_pred), r2_score(y_test, y_te_pred),\\\n",
    "np.sqrt(mean_squared_error(y_train, y_tr_pred)), np.sqrt(mean_squared_error(y_test, y_te_pred)),\\\n",
    "mean_absolute_error(y_train, y_tr_pred),mean_absolute_error(y_test, y_te_pred)"
   ]
  },
  {
   "cell_type": "markdown",
   "id": "3a8ac7a0",
   "metadata": {},
   "source": [
    "not an improvement.\n"
   ]
  },
  {
   "cell_type": "code",
   "execution_count": 59,
   "id": "4eedf771",
   "metadata": {},
   "outputs": [
    {
     "data": {
      "text/plain": [
       "(6.670239467689324, 17.135999976406104)"
      ]
     },
     "execution_count": 59,
     "metadata": {},
     "output_type": "execute_result"
    }
   ],
   "source": [
    "cod(y_tr_pred,y_train), cod(y_te_pred,y_test)"
   ]
  },
  {
   "cell_type": "markdown",
   "id": "ceb068db",
   "metadata": {},
   "source": [
    "small imporvement in cod"
   ]
  },
  {
   "cell_type": "code",
   "execution_count": 60,
   "id": "15d170ae",
   "metadata": {},
   "outputs": [
    {
     "data": {
      "text/plain": [
       "(1.0238658434358907, 1.071010205898244)"
      ]
     },
     "execution_count": 60,
     "metadata": {},
     "output_type": "execute_result"
    }
   ],
   "source": [
    "prd(y_tr_pred,y_train), prd(y_te_pred,y_test)"
   ]
  },
  {
   "cell_type": "markdown",
   "id": "fa543dec",
   "metadata": {},
   "source": [
    "prd is worse"
   ]
  },
  {
   "cell_type": "code",
   "execution_count": 61,
   "id": "6cc16368",
   "metadata": {},
   "outputs": [
    {
     "data": {
      "text/plain": [
       "(array([-0.10708387]), array([-0.22009753]))"
      ]
     },
     "execution_count": 61,
     "metadata": {},
     "output_type": "execute_result"
    }
   ],
   "source": [
    "prb(y_tr_pred,y_train), prb(y_te_pred,y_test)"
   ]
  },
  {
   "cell_type": "markdown",
   "id": "bcbfa14d",
   "metadata": {},
   "source": [
    "prb is also worse. Conclusion: minimizing root mean square error increases the bias in favor of the wealthy. Straight linear regression was the best of the models studied.\n",
    "\n",
    "Below are graphs of the ratio metrics for the last model studied."
   ]
  },
  {
   "cell_type": "code",
   "execution_count": 62,
   "id": "4effb738",
   "metadata": {},
   "outputs": [
    {
     "data": {
      "text/plain": [
       "<AxesSubplot:xlabel='meta_sale_price'>"
      ]
     },
     "execution_count": 62,
     "metadata": {},
     "output_type": "execute_result"
    },
    {
     "data": {
      "image/png": "[encoded data removed]",
      "text/plain": [
       "<Figure size 432x288 with 1 Axes>"
      ]
     },
     "metadata": {
      "needs_background": "light"
     },
     "output_type": "display_data"
    }
   ],
   "source": [
    "sns.scatterplot(x=y_train,y=y_tr_pred)"
   ]
  },
  {
   "cell_type": "markdown",
   "id": "b596e2fe",
   "metadata": {},
   "source": [
    "looks good on training data"
   ]
  },
  {
   "cell_type": "code",
   "execution_count": 63,
   "id": "efd6243e",
   "metadata": {},
   "outputs": [
    {
     "data": {
      "text/plain": [
       "<AxesSubplot:xlabel='meta_sale_price'>"
      ]
     },
     "execution_count": 63,
     "metadata": {},
     "output_type": "execute_result"
    },
    {
     "data": {
      "image/png": "[encoded data removed]",
      "text/plain": [
       "<Figure size 432x288 with 1 Axes>"
      ]
     },
     "metadata": {
      "needs_background": "light"
     },
     "output_type": "display_data"
    }
   ],
   "source": [
    "sns.scatterplot(x=y_test,y=y_te_pred)"
   ]
  },
  {
   "cell_type": "markdown",
   "id": "c4ff3716",
   "metadata": {},
   "source": [
    "less good on the test data"
   ]
  },
  {
   "cell_type": "code",
   "execution_count": 64,
   "id": "561450fa",
   "metadata": {},
   "outputs": [
    {
     "data": {
      "text/plain": [
       "<AxesSubplot:xlabel='meta_sale_price', ylabel='meta_sale_price'>"
      ]
     },
     "execution_count": 64,
     "metadata": {},
     "output_type": "execute_result"
    },
    {
     "data": {
      "image/png": "[encoded data removed]",
      "text/plain": [
       "<Figure size 432x288 with 1 Axes>"
      ]
     },
     "metadata": {
      "needs_background": "light"
     },
     "output_type": "display_data"
    }
   ],
   "source": [
    "sns.scatterplot(x=y_train,y=y_tr_pred/y_train)"
   ]
  },
  {
   "cell_type": "markdown",
   "id": "880e6c97",
   "metadata": {},
   "source": [
    "training data ratio is higher for low priced homes. The smallest priced home is valued at twice its sales price."
   ]
  },
  {
   "cell_type": "code",
   "execution_count": 65,
   "id": "59043b62",
   "metadata": {},
   "outputs": [
    {
     "data": {
      "text/plain": [
       "<AxesSubplot:xlabel='meta_sale_price', ylabel='meta_sale_price'>"
      ]
     },
     "execution_count": 65,
     "metadata": {},
     "output_type": "execute_result"
    },
    {
     "data": {
      "image/png": "[encoded data removed]",
      "text/plain": [
       "<Figure size 432x288 with 1 Axes>"
      ]
     },
     "metadata": {
      "needs_background": "light"
     },
     "output_type": "display_data"
    }
   ],
   "source": [
    "sns.scatterplot(x=y_test,y=y_te_pred/y_test)"
   ]
  },
  {
   "cell_type": "markdown",
   "id": "8e5c5da1",
   "metadata": {},
   "source": [
    "same bias in the test data"
   ]
  },
  {
   "cell_type": "code",
   "execution_count": 66,
   "id": "45f3de77",
   "metadata": {},
   "outputs": [
    {
     "data": {
      "text/plain": [
       "<AxesSubplot:xlabel='meta_sale_price', ylabel='meta_sale_price'>"
      ]
     },
     "execution_count": 66,
     "metadata": {},
     "output_type": "execute_result"
    },
    {
     "data": {
      "image/png": "[encoded data removed]",
      "text/plain": [
       "<Figure size 432x288 with 1 Axes>"
      ]
     },
     "metadata": {
      "needs_background": "light"
     },
     "output_type": "display_data"
    }
   ],
   "source": [
    "sns.scatterplot(x=np.log2(y_train),y=y_tr_pred/y_train)"
   ]
  },
  {
   "cell_type": "code",
   "execution_count": 67,
   "id": "cbb89e12",
   "metadata": {},
   "outputs": [
    {
     "data": {
      "text/plain": [
       "<AxesSubplot:xlabel='meta_sale_price', ylabel='meta_sale_price'>"
      ]
     },
     "execution_count": 67,
     "metadata": {},
     "output_type": "execute_result"
    },
    {
     "data": {
      "image/png": "[encoded data removed]",
      "text/plain": [
       "<Figure size 432x288 with 1 Axes>"
      ]
     },
     "metadata": {
      "needs_background": "light"
     },
     "output_type": "display_data"
    }
   ],
   "source": [
    "sns.scatterplot(x=np.log2(y_test),y=y_te_pred/y_test)"
   ]
  },
  {
   "cell_type": "markdown",
   "id": "2aeb231a",
   "metadata": {},
   "source": [
    "One can also see the downward trend in when graphing against the log of the price. One high priced homes are valued at less than half of its sale price."
   ]
  },
  {
   "cell_type": "code",
   "execution_count": 68,
   "id": "025279ff",
   "metadata": {},
   "outputs": [],
   "source": [
    "gb = GradientBoostingRegressor(random_state=42)\n",
    "params = {'n_estimators':[300,400,500],'learning_rate':[0.01,0.1,0.2],'loss':['squared_error', 'absolute_error'],'max_depth':[1,2,3]}\n",
    "gb_gscv = GridSearchCV(gb,params,n_jobs=-1,cv=5,scoring=\"neg_mean_absolute_percentage_error\")"
   ]
  },
  {
   "cell_type": "code",
   "execution_count": 69,
   "id": "00098f1a",
   "metadata": {},
   "outputs": [
    {
     "data": {
      "text/plain": [
       "GridSearchCV(cv=5, estimator=GradientBoostingRegressor(random_state=42),\n",
       "             n_jobs=-1,\n",
       "             param_grid={'learning_rate': [0.01, 0.1, 0.2],\n",
       "                         'loss': ['squared_error', 'absolute_error'],\n",
       "                         'max_depth': [1, 2, 3],\n",
       "                         'n_estimators': [300, 400, 500]},\n",
       "             scoring='neg_mean_absolute_percentage_error')"
      ]
     },
     "execution_count": 69,
     "metadata": {},
     "output_type": "execute_result"
    }
   ],
   "source": [
    "gb_gscv.fit(X_train,y_train)"
   ]
  },
  {
   "cell_type": "code",
   "execution_count": 70,
   "id": "a35f5dd5",
   "metadata": {},
   "outputs": [],
   "source": [
    "y_tr_pred = gb_gscv.predict(X_train)\n",
    "y_te_pred = gb_gscv.predict(X_test)"
   ]
  },
  {
   "cell_type": "code",
   "execution_count": 71,
   "id": "d641deca",
   "metadata": {},
   "outputs": [
    {
     "data": {
      "text/plain": [
       "(0.11106099590478939,\n",
       " 0.1645009548544317,\n",
       " 0.8656963980412377,\n",
       " 0.6874340591840851,\n",
       " 159320.49736221708,\n",
       " 257752.63634831482,\n",
       " 107173.15192738427,\n",
       " 179623.6915482913)"
      ]
     },
     "execution_count": 71,
     "metadata": {},
     "output_type": "execute_result"
    }
   ],
   "source": [
    "mape(y_train, y_tr_pred), mape(y_test, y_te_pred),\\\n",
    "r2_score(y_train, y_tr_pred), r2_score(y_test, y_te_pred),\\\n",
    "np.sqrt(mean_squared_error(y_train, y_tr_pred)), np.sqrt(mean_squared_error(y_test, y_te_pred)),\\\n",
    "mean_absolute_error(y_train, y_tr_pred),mean_absolute_error(y_test, y_te_pred)"
   ]
  },
  {
   "cell_type": "code",
   "execution_count": 72,
   "id": "61077194",
   "metadata": {},
   "outputs": [
    {
     "data": {
      "text/plain": [
       "(11.10616998080721, 16.948916093147552)"
      ]
     },
     "execution_count": 72,
     "metadata": {},
     "output_type": "execute_result"
    }
   ],
   "source": [
    "cod(y_tr_pred,y_train), cod(y_te_pred,y_test)"
   ]
  },
  {
   "cell_type": "code",
   "execution_count": 73,
   "id": "6c45597e",
   "metadata": {},
   "outputs": [
    {
     "data": {
      "text/plain": [
       "(1.0298937480163681, 1.0496991435574823)"
      ]
     },
     "execution_count": 73,
     "metadata": {},
     "output_type": "execute_result"
    }
   ],
   "source": [
    "prd(y_tr_pred,y_train), prd(y_te_pred,y_test)"
   ]
  },
  {
   "cell_type": "code",
   "execution_count": 74,
   "id": "ef902805",
   "metadata": {},
   "outputs": [
    {
     "data": {
      "text/plain": [
       "(array([-0.08902108]), array([-0.09950098]))"
      ]
     },
     "execution_count": 74,
     "metadata": {},
     "output_type": "execute_result"
    }
   ],
   "source": [
    "prb(y_tr_pred,y_train), prb(y_te_pred,y_test)"
   ]
  },
  {
   "cell_type": "code",
   "execution_count": 75,
   "id": "3d6c52fd",
   "metadata": {},
   "outputs": [
    {
     "data": {
      "text/plain": [
       "{'learning_rate': 0.1,\n",
       " 'loss': 'absolute_error',\n",
       " 'max_depth': 1,\n",
       " 'n_estimators': 400}"
      ]
     },
     "execution_count": 75,
     "metadata": {},
     "output_type": "execute_result"
    }
   ],
   "source": [
    "gb_gscv.best_params_"
   ]
  },
  {
   "cell_type": "code",
   "execution_count": 76,
   "id": "18708472",
   "metadata": {},
   "outputs": [
    {
     "data": {
      "text/plain": [
       "<AxesSubplot:xlabel='meta_sale_price'>"
      ]
     },
     "execution_count": 76,
     "metadata": {},
     "output_type": "execute_result"
    },
    {
     "data": {
      "image/png": "[encoded data removed]",
      "text/plain": [
       "<Figure size 432x288 with 1 Axes>"
      ]
     },
     "metadata": {
      "needs_background": "light"
     },
     "output_type": "display_data"
    }
   ],
   "source": [
    "sns.scatterplot(x=y_train,y=y_tr_pred)"
   ]
  },
  {
   "cell_type": "code",
   "execution_count": 77,
   "id": "650f7a27",
   "metadata": {},
   "outputs": [
    {
     "data": {
      "text/plain": [
       "<AxesSubplot:xlabel='meta_sale_price'>"
      ]
     },
     "execution_count": 77,
     "metadata": {},
     "output_type": "execute_result"
    },
    {
     "data": {
      "image/png": "[encoded data removed]",
      "text/plain": [
       "<Figure size 432x288 with 1 Axes>"
      ]
     },
     "metadata": {
      "needs_background": "light"
     },
     "output_type": "display_data"
    }
   ],
   "source": [
    "sns.scatterplot(x=y_test,y=y_te_pred)"
   ]
  },
  {
   "cell_type": "code",
   "execution_count": 78,
   "id": "49fbd8aa",
   "metadata": {},
   "outputs": [
    {
     "data": {
      "text/plain": [
       "<AxesSubplot:xlabel='meta_sale_price', ylabel='meta_sale_price'>"
      ]
     },
     "execution_count": 78,
     "metadata": {},
     "output_type": "execute_result"
    },
    {
     "data": {
      "image/png": "[encoded data removed]",
      "text/plain": [
       "<Figure size 432x288 with 1 Axes>"
      ]
     },
     "metadata": {
      "needs_background": "light"
     },
     "output_type": "display_data"
    }
   ],
   "source": [
    "sns.scatterplot(x=y_train,y=y_tr_pred/y_train)"
   ]
  },
  {
   "cell_type": "code",
   "execution_count": 79,
   "id": "6b5dc15e",
   "metadata": {},
   "outputs": [
    {
     "data": {
      "text/plain": [
       "<AxesSubplot:xlabel='meta_sale_price', ylabel='meta_sale_price'>"
      ]
     },
     "execution_count": 79,
     "metadata": {},
     "output_type": "execute_result"
    },
    {
     "data": {
      "image/png": "[encoded data removed]",
      "text/plain": [
       "<Figure size 432x288 with 1 Axes>"
      ]
     },
     "metadata": {
      "needs_background": "light"
     },
     "output_type": "display_data"
    }
   ],
   "source": [
    "sns.scatterplot(x=y_test,y=y_te_pred/y_test)"
   ]
  },
  {
   "cell_type": "code",
   "execution_count": 80,
   "id": "080793d6",
   "metadata": {},
   "outputs": [
    {
     "data": {
      "text/plain": [
       "<AxesSubplot:xlabel='meta_sale_price', ylabel='meta_sale_price'>"
      ]
     },
     "execution_count": 80,
     "metadata": {},
     "output_type": "execute_result"
    },
    {
     "data": {
      "image/png": "[encoded data removed]",
      "text/plain": [
       "<Figure size 432x288 with 1 Axes>"
      ]
     },
     "metadata": {
      "needs_background": "light"
     },
     "output_type": "display_data"
    }
   ],
   "source": [
    "sns.scatterplot(x=np.log2(y_train),y=y_tr_pred/y_train)"
   ]
  },
  {
   "cell_type": "code",
   "execution_count": 81,
   "id": "340883f9",
   "metadata": {},
   "outputs": [
    {
     "data": {
      "text/plain": [
       "<AxesSubplot:xlabel='meta_sale_price', ylabel='meta_sale_price'>"
      ]
     },
     "execution_count": 81,
     "metadata": {},
     "output_type": "execute_result"
    },
    {
     "data": {
      "image/png": "[encoded data removed]",
      "text/plain": [
       "<Figure size 432x288 with 1 Axes>"
      ]
     },
     "metadata": {
      "needs_background": "light"
     },
     "output_type": "display_data"
    }
   ],
   "source": [
    "sns.scatterplot(x=np.log2(y_test),y=y_te_pred/y_test)"
   ]
  },
  {
   "cell_type": "code",
   "execution_count": 82,
   "id": "70bb11e3",
   "metadata": {},
   "outputs": [
    {
     "data": {
      "text/plain": [
       "RandomForestRegressor(random_state=42)"
      ]
     },
     "execution_count": 82,
     "metadata": {},
     "output_type": "execute_result"
    }
   ],
   "source": [
    "lr_wqd = RandomForestRegressor(random_state=42)\n",
    "lr_wqd.fit(bell_X, bell_y)"
   ]
  },
  {
   "cell_type": "code",
   "execution_count": 83,
   "id": "80d18a26",
   "metadata": {},
   "outputs": [],
   "source": [
    "bell_2020 = pd.read_csv('../data/bell_cleaned.csv')\n",
    "bell_2020['one_story'] = [1 if x < 205 else 0 for x in bell_2020['meta_class']]\n",
    "bell_2020['row_house'] = [1 if ((x == 210) or (x==295)) else 0 for x in bell_2020['meta_class']]\n",
    "bell_2020 = bell_2020.drop(columns='meta_class')\n",
    "bell_2020_pin = bell_2020.meta_pin\n",
    "bell_2020 = bell_2020.drop(['Unnamed: 0','meta_pin'],axis=1)"
   ]
  },
  {
   "cell_type": "code",
   "execution_count": 84,
   "id": "f093c678",
   "metadata": {},
   "outputs": [],
   "source": [
    "bell_wqd_pred = lr_wqd.predict(bell_2020)"
   ]
  },
  {
   "cell_type": "code",
   "execution_count": 85,
   "id": "28885e93",
   "metadata": {},
   "outputs": [],
   "source": [
    "qd_index= bell_sales[(bell_sales.one_story==1) &(bell_sales.meta_sale_price>700000)].index"
   ]
  },
  {
   "cell_type": "code",
   "execution_count": 86,
   "id": "d9254702",
   "metadata": {},
   "outputs": [],
   "source": [
    "bell_sales_woqd = bell_sales.drop(index = qd_index)"
   ]
  },
  {
   "cell_type": "code",
   "execution_count": 101,
   "id": "a4d20aab",
   "metadata": {},
   "outputs": [
    {
     "data": {
      "text/html": [
       "<div>\n",
       "<style scoped>\n",
       "    .dataframe tbody tr th:only-of-type {\n",
       "        vertical-align: middle;\n",
       "    }\n",
       "\n",
       "    .dataframe tbody tr th {\n",
       "        vertical-align: top;\n",
       "    }\n",
       "\n",
       "    .dataframe thead th {\n",
       "        text-align: right;\n",
       "    }\n",
       "</style>\n",
       "<table border=\"1\" class=\"dataframe\">\n",
       "  <thead>\n",
       "    <tr style=\"text-align: right;\">\n",
       "      <th></th>\n",
       "      <th>Unnamed: 0</th>\n",
       "      <th>meta_pin</th>\n",
       "      <th>meta_year</th>\n",
       "      <th>meta_sale_price</th>\n",
       "      <th>char_hd_sf</th>\n",
       "      <th>char_age</th>\n",
       "      <th>char_rooms</th>\n",
       "      <th>char_beds</th>\n",
       "      <th>char_frpl</th>\n",
       "      <th>char_fbath</th>\n",
       "      <th>char_hbath</th>\n",
       "      <th>char_bldg_sf</th>\n",
       "      <th>geo_longitude</th>\n",
       "      <th>geo_latitude</th>\n",
       "      <th>one_story</th>\n",
       "      <th>row_house</th>\n",
       "    </tr>\n",
       "  </thead>\n",
       "  <tbody>\n",
       "    <tr>\n",
       "      <th>11</th>\n",
       "      <td>126589</td>\n",
       "      <td>13242040090000</td>\n",
       "      <td>2013.0</td>\n",
       "      <td>960000.0</td>\n",
       "      <td>4125.0</td>\n",
       "      <td>89.0</td>\n",
       "      <td>6.0</td>\n",
       "      <td>3.0</td>\n",
       "      <td>0.0</td>\n",
       "      <td>1.0</td>\n",
       "      <td>0.0</td>\n",
       "      <td>1164.0</td>\n",
       "      <td>-87.689760</td>\n",
       "      <td>41.951903</td>\n",
       "      <td>1</td>\n",
       "      <td>0</td>\n",
       "    </tr>\n",
       "    <tr>\n",
       "      <th>13</th>\n",
       "      <td>126591</td>\n",
       "      <td>13242040100000</td>\n",
       "      <td>2014.0</td>\n",
       "      <td>956000.0</td>\n",
       "      <td>4125.0</td>\n",
       "      <td>3.0</td>\n",
       "      <td>8.0</td>\n",
       "      <td>3.0</td>\n",
       "      <td>1.0</td>\n",
       "      <td>3.0</td>\n",
       "      <td>1.0</td>\n",
       "      <td>2467.0</td>\n",
       "      <td>-87.689638</td>\n",
       "      <td>41.951904</td>\n",
       "      <td>1</td>\n",
       "      <td>0</td>\n",
       "    </tr>\n",
       "    <tr>\n",
       "      <th>28</th>\n",
       "      <td>126606</td>\n",
       "      <td>13242050240000</td>\n",
       "      <td>2016.0</td>\n",
       "      <td>1200000.0</td>\n",
       "      <td>4125.0</td>\n",
       "      <td>93.0</td>\n",
       "      <td>6.0</td>\n",
       "      <td>3.0</td>\n",
       "      <td>1.0</td>\n",
       "      <td>1.0</td>\n",
       "      <td>0.0</td>\n",
       "      <td>1160.0</td>\n",
       "      <td>-87.689472</td>\n",
       "      <td>41.950610</td>\n",
       "      <td>1</td>\n",
       "      <td>0</td>\n",
       "    </tr>\n",
       "    <tr>\n",
       "      <th>30</th>\n",
       "      <td>126608</td>\n",
       "      <td>13242050270000</td>\n",
       "      <td>2014.0</td>\n",
       "      <td>850000.0</td>\n",
       "      <td>4125.0</td>\n",
       "      <td>91.0</td>\n",
       "      <td>7.0</td>\n",
       "      <td>5.0</td>\n",
       "      <td>0.0</td>\n",
       "      <td>2.0</td>\n",
       "      <td>0.0</td>\n",
       "      <td>2442.0</td>\n",
       "      <td>-87.689109</td>\n",
       "      <td>41.950612</td>\n",
       "      <td>1</td>\n",
       "      <td>0</td>\n",
       "    </tr>\n",
       "    <tr>\n",
       "      <th>52</th>\n",
       "      <td>126630</td>\n",
       "      <td>13242080130000</td>\n",
       "      <td>2014.0</td>\n",
       "      <td>1105000.0</td>\n",
       "      <td>3720.0</td>\n",
       "      <td>56.0</td>\n",
       "      <td>5.0</td>\n",
       "      <td>3.0</td>\n",
       "      <td>0.0</td>\n",
       "      <td>2.0</td>\n",
       "      <td>0.0</td>\n",
       "      <td>1008.0</td>\n",
       "      <td>-87.690370</td>\n",
       "      <td>41.947411</td>\n",
       "      <td>1</td>\n",
       "      <td>0</td>\n",
       "    </tr>\n",
       "    <tr>\n",
       "      <th>97</th>\n",
       "      <td>143218</td>\n",
       "      <td>14191010110000</td>\n",
       "      <td>2015.0</td>\n",
       "      <td>737500.0</td>\n",
       "      <td>3720.0</td>\n",
       "      <td>92.0</td>\n",
       "      <td>8.0</td>\n",
       "      <td>3.0</td>\n",
       "      <td>0.0</td>\n",
       "      <td>2.0</td>\n",
       "      <td>1.0</td>\n",
       "      <td>2291.0</td>\n",
       "      <td>-87.686894</td>\n",
       "      <td>41.953311</td>\n",
       "      <td>1</td>\n",
       "      <td>0</td>\n",
       "    </tr>\n",
       "    <tr>\n",
       "      <th>113</th>\n",
       "      <td>143251</td>\n",
       "      <td>14191050140000</td>\n",
       "      <td>2015.0</td>\n",
       "      <td>727000.0</td>\n",
       "      <td>3720.0</td>\n",
       "      <td>112.0</td>\n",
       "      <td>7.0</td>\n",
       "      <td>4.0</td>\n",
       "      <td>0.0</td>\n",
       "      <td>2.0</td>\n",
       "      <td>1.0</td>\n",
       "      <td>2268.0</td>\n",
       "      <td>-87.682012</td>\n",
       "      <td>41.952887</td>\n",
       "      <td>1</td>\n",
       "      <td>0</td>\n",
       "    </tr>\n",
       "    <tr>\n",
       "      <th>159</th>\n",
       "      <td>143340</td>\n",
       "      <td>14191110160000</td>\n",
       "      <td>2017.0</td>\n",
       "      <td>950000.0</td>\n",
       "      <td>3720.0</td>\n",
       "      <td>114.0</td>\n",
       "      <td>7.0</td>\n",
       "      <td>3.0</td>\n",
       "      <td>0.0</td>\n",
       "      <td>2.0</td>\n",
       "      <td>0.0</td>\n",
       "      <td>1836.0</td>\n",
       "      <td>-87.684370</td>\n",
       "      <td>41.950889</td>\n",
       "      <td>1</td>\n",
       "      <td>0</td>\n",
       "    </tr>\n",
       "    <tr>\n",
       "      <th>161</th>\n",
       "      <td>143346</td>\n",
       "      <td>14191120050000</td>\n",
       "      <td>2014.0</td>\n",
       "      <td>725000.0</td>\n",
       "      <td>3596.0</td>\n",
       "      <td>111.0</td>\n",
       "      <td>7.0</td>\n",
       "      <td>4.0</td>\n",
       "      <td>0.0</td>\n",
       "      <td>1.0</td>\n",
       "      <td>0.0</td>\n",
       "      <td>1816.0</td>\n",
       "      <td>-87.683192</td>\n",
       "      <td>41.951820</td>\n",
       "      <td>1</td>\n",
       "      <td>0</td>\n",
       "    </tr>\n",
       "    <tr>\n",
       "      <th>176</th>\n",
       "      <td>143382</td>\n",
       "      <td>14191140110000</td>\n",
       "      <td>2015.0</td>\n",
       "      <td>775000.0</td>\n",
       "      <td>4340.0</td>\n",
       "      <td>112.0</td>\n",
       "      <td>6.0</td>\n",
       "      <td>3.0</td>\n",
       "      <td>0.0</td>\n",
       "      <td>1.0</td>\n",
       "      <td>1.0</td>\n",
       "      <td>2048.0</td>\n",
       "      <td>-87.680752</td>\n",
       "      <td>41.951201</td>\n",
       "      <td>1</td>\n",
       "      <td>0</td>\n",
       "    </tr>\n",
       "    <tr>\n",
       "      <th>221</th>\n",
       "      <td>143483</td>\n",
       "      <td>14191220130000</td>\n",
       "      <td>2020.0</td>\n",
       "      <td>865000.0</td>\n",
       "      <td>3125.0</td>\n",
       "      <td>122.0</td>\n",
       "      <td>8.0</td>\n",
       "      <td>4.0</td>\n",
       "      <td>0.0</td>\n",
       "      <td>1.0</td>\n",
       "      <td>0.0</td>\n",
       "      <td>1762.0</td>\n",
       "      <td>-87.682126</td>\n",
       "      <td>41.949289</td>\n",
       "      <td>1</td>\n",
       "      <td>0</td>\n",
       "    </tr>\n",
       "    <tr>\n",
       "      <th>224</th>\n",
       "      <td>143486</td>\n",
       "      <td>14191220190000</td>\n",
       "      <td>2014.0</td>\n",
       "      <td>1015000.0</td>\n",
       "      <td>3750.0</td>\n",
       "      <td>116.0</td>\n",
       "      <td>8.0</td>\n",
       "      <td>4.0</td>\n",
       "      <td>0.0</td>\n",
       "      <td>1.0</td>\n",
       "      <td>0.0</td>\n",
       "      <td>1779.0</td>\n",
       "      <td>-87.681492</td>\n",
       "      <td>41.949297</td>\n",
       "      <td>1</td>\n",
       "      <td>0</td>\n",
       "    </tr>\n",
       "    <tr>\n",
       "      <th>225</th>\n",
       "      <td>143487</td>\n",
       "      <td>14191220190000</td>\n",
       "      <td>2017.0</td>\n",
       "      <td>1150000.0</td>\n",
       "      <td>3750.0</td>\n",
       "      <td>119.0</td>\n",
       "      <td>8.0</td>\n",
       "      <td>4.0</td>\n",
       "      <td>0.0</td>\n",
       "      <td>1.0</td>\n",
       "      <td>0.0</td>\n",
       "      <td>1779.0</td>\n",
       "      <td>-87.681492</td>\n",
       "      <td>41.949297</td>\n",
       "      <td>1</td>\n",
       "      <td>0</td>\n",
       "    </tr>\n",
       "    <tr>\n",
       "      <th>228</th>\n",
       "      <td>143490</td>\n",
       "      <td>14191220240000</td>\n",
       "      <td>2016.0</td>\n",
       "      <td>795000.0</td>\n",
       "      <td>4125.0</td>\n",
       "      <td>113.0</td>\n",
       "      <td>4.0</td>\n",
       "      <td>2.0</td>\n",
       "      <td>0.0</td>\n",
       "      <td>1.0</td>\n",
       "      <td>0.0</td>\n",
       "      <td>792.0</td>\n",
       "      <td>-87.683113</td>\n",
       "      <td>41.948888</td>\n",
       "      <td>1</td>\n",
       "      <td>0</td>\n",
       "    </tr>\n",
       "    <tr>\n",
       "      <th>240</th>\n",
       "      <td>143505</td>\n",
       "      <td>14191230120000</td>\n",
       "      <td>2018.0</td>\n",
       "      <td>710000.0</td>\n",
       "      <td>3125.0</td>\n",
       "      <td>120.0</td>\n",
       "      <td>7.0</td>\n",
       "      <td>3.0</td>\n",
       "      <td>1.0</td>\n",
       "      <td>3.0</td>\n",
       "      <td>0.0</td>\n",
       "      <td>1956.0</td>\n",
       "      <td>-87.679504</td>\n",
       "      <td>41.949325</td>\n",
       "      <td>1</td>\n",
       "      <td>0</td>\n",
       "    </tr>\n",
       "    <tr>\n",
       "      <th>243</th>\n",
       "      <td>143508</td>\n",
       "      <td>14191230170000</td>\n",
       "      <td>2019.0</td>\n",
       "      <td>882000.0</td>\n",
       "      <td>4125.0</td>\n",
       "      <td>108.0</td>\n",
       "      <td>5.0</td>\n",
       "      <td>2.0</td>\n",
       "      <td>0.0</td>\n",
       "      <td>1.0</td>\n",
       "      <td>0.0</td>\n",
       "      <td>1773.0</td>\n",
       "      <td>-87.678942</td>\n",
       "      <td>41.949332</td>\n",
       "      <td>1</td>\n",
       "      <td>0</td>\n",
       "    </tr>\n",
       "    <tr>\n",
       "      <th>245</th>\n",
       "      <td>143512</td>\n",
       "      <td>14191230230000</td>\n",
       "      <td>2013.0</td>\n",
       "      <td>725000.0</td>\n",
       "      <td>4687.0</td>\n",
       "      <td>83.0</td>\n",
       "      <td>6.0</td>\n",
       "      <td>3.0</td>\n",
       "      <td>0.0</td>\n",
       "      <td>1.0</td>\n",
       "      <td>0.0</td>\n",
       "      <td>1491.0</td>\n",
       "      <td>-87.680298</td>\n",
       "      <td>41.948926</td>\n",
       "      <td>1</td>\n",
       "      <td>0</td>\n",
       "    </tr>\n",
       "  </tbody>\n",
       "</table>\n",
       "</div>"
      ],
      "text/plain": [
       "     Unnamed: 0        meta_pin  meta_year  meta_sale_price  char_hd_sf  \\\n",
       "11       126589  13242040090000     2013.0         960000.0      4125.0   \n",
       "13       126591  13242040100000     2014.0         956000.0      4125.0   \n",
       "28       126606  13242050240000     2016.0        1200000.0      4125.0   \n",
       "30       126608  13242050270000     2014.0         850000.0      4125.0   \n",
       "52       126630  13242080130000     2014.0        1105000.0      3720.0   \n",
       "97       143218  14191010110000     2015.0         737500.0      3720.0   \n",
       "113      143251  14191050140000     2015.0         727000.0      3720.0   \n",
       "159      143340  14191110160000     2017.0         950000.0      3720.0   \n",
       "161      143346  14191120050000     2014.0         725000.0      3596.0   \n",
       "176      143382  14191140110000     2015.0         775000.0      4340.0   \n",
       "221      143483  14191220130000     2020.0         865000.0      3125.0   \n",
       "224      143486  14191220190000     2014.0        1015000.0      3750.0   \n",
       "225      143487  14191220190000     2017.0        1150000.0      3750.0   \n",
       "228      143490  14191220240000     2016.0         795000.0      4125.0   \n",
       "240      143505  14191230120000     2018.0         710000.0      3125.0   \n",
       "243      143508  14191230170000     2019.0         882000.0      4125.0   \n",
       "245      143512  14191230230000     2013.0         725000.0      4687.0   \n",
       "\n",
       "     char_age  char_rooms  char_beds  char_frpl  char_fbath  char_hbath  \\\n",
       "11       89.0         6.0        3.0        0.0         1.0         0.0   \n",
       "13        3.0         8.0        3.0        1.0         3.0         1.0   \n",
       "28       93.0         6.0        3.0        1.0         1.0         0.0   \n",
       "30       91.0         7.0        5.0        0.0         2.0         0.0   \n",
       "52       56.0         5.0        3.0        0.0         2.0         0.0   \n",
       "97       92.0         8.0        3.0        0.0         2.0         1.0   \n",
       "113     112.0         7.0        4.0        0.0         2.0         1.0   \n",
       "159     114.0         7.0        3.0        0.0         2.0         0.0   \n",
       "161     111.0         7.0        4.0        0.0         1.0         0.0   \n",
       "176     112.0         6.0        3.0        0.0         1.0         1.0   \n",
       "221     122.0         8.0        4.0        0.0         1.0         0.0   \n",
       "224     116.0         8.0        4.0        0.0         1.0         0.0   \n",
       "225     119.0         8.0        4.0        0.0         1.0         0.0   \n",
       "228     113.0         4.0        2.0        0.0         1.0         0.0   \n",
       "240     120.0         7.0        3.0        1.0         3.0         0.0   \n",
       "243     108.0         5.0        2.0        0.0         1.0         0.0   \n",
       "245      83.0         6.0        3.0        0.0         1.0         0.0   \n",
       "\n",
       "     char_bldg_sf  geo_longitude  geo_latitude  one_story  row_house  \n",
       "11         1164.0     -87.689760     41.951903          1          0  \n",
       "13         2467.0     -87.689638     41.951904          1          0  \n",
       "28         1160.0     -87.689472     41.950610          1          0  \n",
       "30         2442.0     -87.689109     41.950612          1          0  \n",
       "52         1008.0     -87.690370     41.947411          1          0  \n",
       "97         2291.0     -87.686894     41.953311          1          0  \n",
       "113        2268.0     -87.682012     41.952887          1          0  \n",
       "159        1836.0     -87.684370     41.950889          1          0  \n",
       "161        1816.0     -87.683192     41.951820          1          0  \n",
       "176        2048.0     -87.680752     41.951201          1          0  \n",
       "221        1762.0     -87.682126     41.949289          1          0  \n",
       "224        1779.0     -87.681492     41.949297          1          0  \n",
       "225        1779.0     -87.681492     41.949297          1          0  \n",
       "228         792.0     -87.683113     41.948888          1          0  \n",
       "240        1956.0     -87.679504     41.949325          1          0  \n",
       "243        1773.0     -87.678942     41.949332          1          0  \n",
       "245        1491.0     -87.680298     41.948926          1          0  "
      ]
     },
     "execution_count": 101,
     "metadata": {},
     "output_type": "execute_result"
    }
   ],
   "source": [
    "bell_sales[(bell_sales.one_story==1) &(bell_sales.meta_sale_price>700000)]"
   ]
  },
  {
   "cell_type": "code",
   "execution_count": 87,
   "id": "1963f7c5",
   "metadata": {},
   "outputs": [],
   "source": [
    "bell_woqd_pin = bell_sales_woqd.meta_pin\n",
    "bell_woqd_y = bell_sales_woqd.meta_sale_price\n",
    "bell_woqd_X = bell_sales_woqd.drop(['Unnamed: 0','meta_pin','meta_sale_price','meta_class'],axis=1)"
   ]
  },
  {
   "cell_type": "code",
   "execution_count": 88,
   "id": "a8ae1e42",
   "metadata": {},
   "outputs": [
    {
     "data": {
      "text/html": [
       "<div>\n",
       "<style scoped>\n",
       "    .dataframe tbody tr th:only-of-type {\n",
       "        vertical-align: middle;\n",
       "    }\n",
       "\n",
       "    .dataframe tbody tr th {\n",
       "        vertical-align: top;\n",
       "    }\n",
       "\n",
       "    .dataframe thead th {\n",
       "        text-align: right;\n",
       "    }\n",
       "</style>\n",
       "<table border=\"1\" class=\"dataframe\">\n",
       "  <thead>\n",
       "    <tr style=\"text-align: right;\">\n",
       "      <th></th>\n",
       "      <th>meta_year</th>\n",
       "      <th>char_hd_sf</th>\n",
       "      <th>char_age</th>\n",
       "      <th>char_rooms</th>\n",
       "      <th>char_beds</th>\n",
       "      <th>char_frpl</th>\n",
       "      <th>char_fbath</th>\n",
       "      <th>char_hbath</th>\n",
       "      <th>char_bldg_sf</th>\n",
       "      <th>geo_longitude</th>\n",
       "      <th>geo_latitude</th>\n",
       "      <th>one_story</th>\n",
       "      <th>row_house</th>\n",
       "    </tr>\n",
       "  </thead>\n",
       "  <tbody>\n",
       "    <tr>\n",
       "      <th>0</th>\n",
       "      <td>2017.0</td>\n",
       "      <td>3050.0</td>\n",
       "      <td>18.0</td>\n",
       "      <td>8.0</td>\n",
       "      <td>4.0</td>\n",
       "      <td>0.0</td>\n",
       "      <td>2.0</td>\n",
       "      <td>1.0</td>\n",
       "      <td>2340.0</td>\n",
       "      <td>-87.690565</td>\n",
       "      <td>41.953323</td>\n",
       "      <td>0</td>\n",
       "      <td>0</td>\n",
       "    </tr>\n",
       "    <tr>\n",
       "      <th>1</th>\n",
       "      <td>2013.0</td>\n",
       "      <td>3050.0</td>\n",
       "      <td>2.0</td>\n",
       "      <td>9.0</td>\n",
       "      <td>4.0</td>\n",
       "      <td>3.0</td>\n",
       "      <td>3.0</td>\n",
       "      <td>1.0</td>\n",
       "      <td>2639.0</td>\n",
       "      <td>-87.690473</td>\n",
       "      <td>41.953324</td>\n",
       "      <td>0</td>\n",
       "      <td>0</td>\n",
       "    </tr>\n",
       "    <tr>\n",
       "      <th>2</th>\n",
       "      <td>2013.0</td>\n",
       "      <td>3137.0</td>\n",
       "      <td>54.0</td>\n",
       "      <td>6.0</td>\n",
       "      <td>3.0</td>\n",
       "      <td>0.0</td>\n",
       "      <td>2.0</td>\n",
       "      <td>0.0</td>\n",
       "      <td>1020.0</td>\n",
       "      <td>-87.690731</td>\n",
       "      <td>41.952804</td>\n",
       "      <td>1</td>\n",
       "      <td>0</td>\n",
       "    </tr>\n",
       "    <tr>\n",
       "      <th>3</th>\n",
       "      <td>2014.0</td>\n",
       "      <td>3050.0</td>\n",
       "      <td>116.0</td>\n",
       "      <td>4.0</td>\n",
       "      <td>2.0</td>\n",
       "      <td>0.0</td>\n",
       "      <td>2.0</td>\n",
       "      <td>0.0</td>\n",
       "      <td>680.0</td>\n",
       "      <td>-87.690547</td>\n",
       "      <td>41.952805</td>\n",
       "      <td>1</td>\n",
       "      <td>0</td>\n",
       "    </tr>\n",
       "    <tr>\n",
       "      <th>4</th>\n",
       "      <td>2018.0</td>\n",
       "      <td>3660.0</td>\n",
       "      <td>96.0</td>\n",
       "      <td>7.0</td>\n",
       "      <td>4.0</td>\n",
       "      <td>1.0</td>\n",
       "      <td>2.0</td>\n",
       "      <td>1.0</td>\n",
       "      <td>2778.0</td>\n",
       "      <td>-87.689729</td>\n",
       "      <td>41.952810</td>\n",
       "      <td>0</td>\n",
       "      <td>0</td>\n",
       "    </tr>\n",
       "  </tbody>\n",
       "</table>\n",
       "</div>"
      ],
      "text/plain": [
       "   meta_year  char_hd_sf  char_age  char_rooms  char_beds  char_frpl  \\\n",
       "0     2017.0      3050.0      18.0         8.0        4.0        0.0   \n",
       "1     2013.0      3050.0       2.0         9.0        4.0        3.0   \n",
       "2     2013.0      3137.0      54.0         6.0        3.0        0.0   \n",
       "3     2014.0      3050.0     116.0         4.0        2.0        0.0   \n",
       "4     2018.0      3660.0      96.0         7.0        4.0        1.0   \n",
       "\n",
       "   char_fbath  char_hbath  char_bldg_sf  geo_longitude  geo_latitude  \\\n",
       "0         2.0         1.0        2340.0     -87.690565     41.953323   \n",
       "1         3.0         1.0        2639.0     -87.690473     41.953324   \n",
       "2         2.0         0.0        1020.0     -87.690731     41.952804   \n",
       "3         2.0         0.0         680.0     -87.690547     41.952805   \n",
       "4         2.0         1.0        2778.0     -87.689729     41.952810   \n",
       "\n",
       "   one_story  row_house  \n",
       "0          0          0  \n",
       "1          0          0  \n",
       "2          1          0  \n",
       "3          1          0  \n",
       "4          0          0  "
      ]
     },
     "execution_count": 88,
     "metadata": {},
     "output_type": "execute_result"
    }
   ],
   "source": [
    "bell_woqd_X.head()"
   ]
  },
  {
   "cell_type": "code",
   "execution_count": 89,
   "id": "b64f3875",
   "metadata": {},
   "outputs": [
    {
     "data": {
      "text/html": [
       "<div>\n",
       "<style scoped>\n",
       "    .dataframe tbody tr th:only-of-type {\n",
       "        vertical-align: middle;\n",
       "    }\n",
       "\n",
       "    .dataframe tbody tr th {\n",
       "        vertical-align: top;\n",
       "    }\n",
       "\n",
       "    .dataframe thead th {\n",
       "        text-align: right;\n",
       "    }\n",
       "</style>\n",
       "<table border=\"1\" class=\"dataframe\">\n",
       "  <thead>\n",
       "    <tr style=\"text-align: right;\">\n",
       "      <th></th>\n",
       "      <th>meta_year</th>\n",
       "      <th>char_hd_sf</th>\n",
       "      <th>char_age</th>\n",
       "      <th>char_rooms</th>\n",
       "      <th>char_beds</th>\n",
       "      <th>char_frpl</th>\n",
       "      <th>char_fbath</th>\n",
       "      <th>char_hbath</th>\n",
       "      <th>char_bldg_sf</th>\n",
       "      <th>geo_longitude</th>\n",
       "      <th>geo_latitude</th>\n",
       "      <th>one_story</th>\n",
       "      <th>row_house</th>\n",
       "    </tr>\n",
       "  </thead>\n",
       "  <tbody>\n",
       "    <tr>\n",
       "      <th>0</th>\n",
       "      <td>2020.0</td>\n",
       "      <td>3129.0</td>\n",
       "      <td>25.0</td>\n",
       "      <td>10.0</td>\n",
       "      <td>3.0</td>\n",
       "      <td>2.0</td>\n",
       "      <td>3.0</td>\n",
       "      <td>1.0</td>\n",
       "      <td>2166.0</td>\n",
       "      <td>-87.690749</td>\n",
       "      <td>41.953322</td>\n",
       "      <td>0</td>\n",
       "      <td>0</td>\n",
       "    </tr>\n",
       "    <tr>\n",
       "      <th>1</th>\n",
       "      <td>2020.0</td>\n",
       "      <td>3050.0</td>\n",
       "      <td>127.0</td>\n",
       "      <td>4.0</td>\n",
       "      <td>3.0</td>\n",
       "      <td>0.0</td>\n",
       "      <td>1.0</td>\n",
       "      <td>0.0</td>\n",
       "      <td>1077.0</td>\n",
       "      <td>-87.690657</td>\n",
       "      <td>41.953323</td>\n",
       "      <td>1</td>\n",
       "      <td>0</td>\n",
       "    </tr>\n",
       "    <tr>\n",
       "      <th>2</th>\n",
       "      <td>2020.0</td>\n",
       "      <td>3050.0</td>\n",
       "      <td>21.0</td>\n",
       "      <td>8.0</td>\n",
       "      <td>4.0</td>\n",
       "      <td>0.0</td>\n",
       "      <td>2.0</td>\n",
       "      <td>1.0</td>\n",
       "      <td>2340.0</td>\n",
       "      <td>-87.690565</td>\n",
       "      <td>41.953323</td>\n",
       "      <td>0</td>\n",
       "      <td>0</td>\n",
       "    </tr>\n",
       "    <tr>\n",
       "      <th>3</th>\n",
       "      <td>2020.0</td>\n",
       "      <td>3050.0</td>\n",
       "      <td>9.0</td>\n",
       "      <td>9.0</td>\n",
       "      <td>4.0</td>\n",
       "      <td>2.0</td>\n",
       "      <td>3.0</td>\n",
       "      <td>1.0</td>\n",
       "      <td>2639.0</td>\n",
       "      <td>-87.690473</td>\n",
       "      <td>41.953324</td>\n",
       "      <td>0</td>\n",
       "      <td>0</td>\n",
       "    </tr>\n",
       "    <tr>\n",
       "      <th>4</th>\n",
       "      <td>2020.0</td>\n",
       "      <td>3050.0</td>\n",
       "      <td>96.0</td>\n",
       "      <td>7.0</td>\n",
       "      <td>3.0</td>\n",
       "      <td>0.0</td>\n",
       "      <td>2.0</td>\n",
       "      <td>1.0</td>\n",
       "      <td>2350.0</td>\n",
       "      <td>-87.690197</td>\n",
       "      <td>41.953325</td>\n",
       "      <td>0</td>\n",
       "      <td>0</td>\n",
       "    </tr>\n",
       "  </tbody>\n",
       "</table>\n",
       "</div>"
      ],
      "text/plain": [
       "   meta_year  char_hd_sf  char_age  char_rooms  char_beds  char_frpl  \\\n",
       "0     2020.0      3129.0      25.0        10.0        3.0        2.0   \n",
       "1     2020.0      3050.0     127.0         4.0        3.0        0.0   \n",
       "2     2020.0      3050.0      21.0         8.0        4.0        0.0   \n",
       "3     2020.0      3050.0       9.0         9.0        4.0        2.0   \n",
       "4     2020.0      3050.0      96.0         7.0        3.0        0.0   \n",
       "\n",
       "   char_fbath  char_hbath  char_bldg_sf  geo_longitude  geo_latitude  \\\n",
       "0         3.0         1.0        2166.0     -87.690749     41.953322   \n",
       "1         1.0         0.0        1077.0     -87.690657     41.953323   \n",
       "2         2.0         1.0        2340.0     -87.690565     41.953323   \n",
       "3         3.0         1.0        2639.0     -87.690473     41.953324   \n",
       "4         2.0         1.0        2350.0     -87.690197     41.953325   \n",
       "\n",
       "   one_story  row_house  \n",
       "0          0          0  \n",
       "1          1          0  \n",
       "2          0          0  \n",
       "3          0          0  \n",
       "4          0          0  "
      ]
     },
     "execution_count": 89,
     "metadata": {},
     "output_type": "execute_result"
    }
   ],
   "source": [
    "bell_2020.head()"
   ]
  },
  {
   "cell_type": "code",
   "execution_count": 90,
   "id": "d5a4aa0b",
   "metadata": {},
   "outputs": [],
   "source": [
    "lr_woqd = RandomForestRegressor(random_state=42)\n",
    "lr_woqd.fit(bell_woqd_X, bell_woqd_y)\n",
    "bell_woqd_pred = lr_woqd.predict(bell_2020)"
   ]
  },
  {
   "cell_type": "code",
   "execution_count": 91,
   "id": "2d06f197",
   "metadata": {},
   "outputs": [],
   "source": [
    "bell_2020['pin']=bell_2020_pin\n",
    "bell_2020['pred_wqd'] = bell_wqd_pred\n",
    "bell_2020['pred_woqd'] = bell_woqd_pred"
   ]
  },
  {
   "cell_type": "code",
   "execution_count": 92,
   "id": "290382d5",
   "metadata": {},
   "outputs": [
    {
     "data": {
      "text/html": [
       "<div>\n",
       "<style scoped>\n",
       "    .dataframe tbody tr th:only-of-type {\n",
       "        vertical-align: middle;\n",
       "    }\n",
       "\n",
       "    .dataframe tbody tr th {\n",
       "        vertical-align: top;\n",
       "    }\n",
       "\n",
       "    .dataframe thead th {\n",
       "        text-align: right;\n",
       "    }\n",
       "</style>\n",
       "<table border=\"1\" class=\"dataframe\">\n",
       "  <thead>\n",
       "    <tr style=\"text-align: right;\">\n",
       "      <th></th>\n",
       "      <th>meta_year</th>\n",
       "      <th>char_hd_sf</th>\n",
       "      <th>char_age</th>\n",
       "      <th>char_rooms</th>\n",
       "      <th>char_beds</th>\n",
       "      <th>char_frpl</th>\n",
       "      <th>char_fbath</th>\n",
       "      <th>char_hbath</th>\n",
       "      <th>char_bldg_sf</th>\n",
       "      <th>geo_longitude</th>\n",
       "      <th>geo_latitude</th>\n",
       "      <th>one_story</th>\n",
       "      <th>row_house</th>\n",
       "      <th>pin</th>\n",
       "      <th>pred_wqd</th>\n",
       "      <th>pred_woqd</th>\n",
       "    </tr>\n",
       "  </thead>\n",
       "  <tbody>\n",
       "    <tr>\n",
       "      <th>58</th>\n",
       "      <td>2020.0</td>\n",
       "      <td>4125.0</td>\n",
       "      <td>96.0</td>\n",
       "      <td>6.0</td>\n",
       "      <td>3.0</td>\n",
       "      <td>0.0</td>\n",
       "      <td>1.0</td>\n",
       "      <td>0.0</td>\n",
       "      <td>1116.0</td>\n",
       "      <td>-87.690093</td>\n",
       "      <td>41.950991</td>\n",
       "      <td>1</td>\n",
       "      <td>0</td>\n",
       "      <td>13242050060000</td>\n",
       "      <td>530596.0</td>\n",
       "      <td>534449.5</td>\n",
       "    </tr>\n",
       "    <tr>\n",
       "      <th>60</th>\n",
       "      <td>2020.0</td>\n",
       "      <td>4125.0</td>\n",
       "      <td>95.0</td>\n",
       "      <td>7.0</td>\n",
       "      <td>4.0</td>\n",
       "      <td>0.0</td>\n",
       "      <td>1.0</td>\n",
       "      <td>0.0</td>\n",
       "      <td>1183.0</td>\n",
       "      <td>-87.689850</td>\n",
       "      <td>41.950993</td>\n",
       "      <td>1</td>\n",
       "      <td>0</td>\n",
       "      <td>13242050080000</td>\n",
       "      <td>572793.5</td>\n",
       "      <td>515739.5</td>\n",
       "    </tr>\n",
       "    <tr>\n",
       "      <th>62</th>\n",
       "      <td>2020.0</td>\n",
       "      <td>4125.0</td>\n",
       "      <td>96.0</td>\n",
       "      <td>6.0</td>\n",
       "      <td>3.0</td>\n",
       "      <td>0.0</td>\n",
       "      <td>2.0</td>\n",
       "      <td>0.0</td>\n",
       "      <td>1920.0</td>\n",
       "      <td>-87.689608</td>\n",
       "      <td>41.950995</td>\n",
       "      <td>1</td>\n",
       "      <td>0</td>\n",
       "      <td>13242050100000</td>\n",
       "      <td>580217.5</td>\n",
       "      <td>517977.0</td>\n",
       "    </tr>\n",
       "    <tr>\n",
       "      <th>63</th>\n",
       "      <td>2020.0</td>\n",
       "      <td>4125.0</td>\n",
       "      <td>96.0</td>\n",
       "      <td>4.0</td>\n",
       "      <td>3.0</td>\n",
       "      <td>0.0</td>\n",
       "      <td>2.0</td>\n",
       "      <td>0.0</td>\n",
       "      <td>1383.0</td>\n",
       "      <td>-87.689487</td>\n",
       "      <td>41.950996</td>\n",
       "      <td>1</td>\n",
       "      <td>0</td>\n",
       "      <td>13242050110000</td>\n",
       "      <td>592430.0</td>\n",
       "      <td>519126.0</td>\n",
       "    </tr>\n",
       "    <tr>\n",
       "      <th>65</th>\n",
       "      <td>2020.0</td>\n",
       "      <td>4125.0</td>\n",
       "      <td>93.0</td>\n",
       "      <td>6.0</td>\n",
       "      <td>3.0</td>\n",
       "      <td>1.0</td>\n",
       "      <td>2.0</td>\n",
       "      <td>0.0</td>\n",
       "      <td>1853.0</td>\n",
       "      <td>-87.689245</td>\n",
       "      <td>41.950997</td>\n",
       "      <td>1</td>\n",
       "      <td>0</td>\n",
       "      <td>13242050130000</td>\n",
       "      <td>838968.5</td>\n",
       "      <td>523721.0</td>\n",
       "    </tr>\n",
       "  </tbody>\n",
       "</table>\n",
       "</div>"
      ],
      "text/plain": [
       "    meta_year  char_hd_sf  char_age  char_rooms  char_beds  char_frpl  \\\n",
       "58     2020.0      4125.0      96.0         6.0        3.0        0.0   \n",
       "60     2020.0      4125.0      95.0         7.0        4.0        0.0   \n",
       "62     2020.0      4125.0      96.0         6.0        3.0        0.0   \n",
       "63     2020.0      4125.0      96.0         4.0        3.0        0.0   \n",
       "65     2020.0      4125.0      93.0         6.0        3.0        1.0   \n",
       "\n",
       "    char_fbath  char_hbath  char_bldg_sf  geo_longitude  geo_latitude  \\\n",
       "58         1.0         0.0        1116.0     -87.690093     41.950991   \n",
       "60         1.0         0.0        1183.0     -87.689850     41.950993   \n",
       "62         2.0         0.0        1920.0     -87.689608     41.950995   \n",
       "63         2.0         0.0        1383.0     -87.689487     41.950996   \n",
       "65         2.0         0.0        1853.0     -87.689245     41.950997   \n",
       "\n",
       "    one_story  row_house             pin  pred_wqd  pred_woqd  \n",
       "58          1          0  13242050060000  530596.0   534449.5  \n",
       "60          1          0  13242050080000  572793.5   515739.5  \n",
       "62          1          0  13242050100000  580217.5   517977.0  \n",
       "63          1          0  13242050110000  592430.0   519126.0  \n",
       "65          1          0  13242050130000  838968.5   523721.0  "
      ]
     },
     "execution_count": 92,
     "metadata": {},
     "output_type": "execute_result"
    }
   ],
   "source": [
    "bung_pins =[13242050060000,13242050080000,13242050100000,13242050110000,13242050130000]\n",
    "bell_2020[bell_2020.pin.isin(bung_pins)]"
   ]
  },
  {
   "cell_type": "code",
   "execution_count": 93,
   "id": "6394d83a",
   "metadata": {},
   "outputs": [
    {
     "data": {
      "text/plain": [
       "array([[<AxesSubplot:title={'center':'char_age'}>]], dtype=object)"
      ]
     },
     "execution_count": 93,
     "metadata": {},
     "output_type": "execute_result"
    },
    {
     "data": {
      "image/png": "[encoded data removed]",
      "text/plain": [
       "<Figure size 432x288 with 1 Axes>"
      ]
     },
     "metadata": {
      "needs_background": "light"
     },
     "output_type": "display_data"
    }
   ],
   "source": [
    "bell_sales.hist(column='char_age',bins=20)"
   ]
  },
  {
   "cell_type": "code",
   "execution_count": 94,
   "id": "69bd5475",
   "metadata": {},
   "outputs": [
    {
     "data": {
      "text/plain": [
       "(129, 17)"
      ]
     },
     "execution_count": 94,
     "metadata": {},
     "output_type": "execute_result"
    }
   ],
   "source": [
    "bell_sales[bell_sales.char_age<40].shape\n"
   ]
  },
  {
   "cell_type": "code",
   "execution_count": 95,
   "id": "f4dfc14d",
   "metadata": {},
   "outputs": [
    {
     "data": {
      "text/plain": [
       "(152, 17)"
      ]
     },
     "execution_count": 95,
     "metadata": {},
     "output_type": "execute_result"
    }
   ],
   "source": [
    "bell_sales[bell_sales.char_age>70].shape\n"
   ]
  },
  {
   "cell_type": "code",
   "execution_count": 96,
   "id": "b01f361e",
   "metadata": {},
   "outputs": [
    {
     "data": {
      "text/plain": [
       "(141, 17)"
      ]
     },
     "execution_count": 96,
     "metadata": {},
     "output_type": "execute_result"
    }
   ],
   "source": [
    "bell_sales[bell_sales.char_age<70].shape\n"
   ]
  },
  {
   "cell_type": "code",
   "execution_count": 97,
   "id": "2d133296",
   "metadata": {},
   "outputs": [],
   "source": [
    "bell_sales['one_story'] = [1 if x < 205 else 0 for x in bell_sales['meta_class']]\n",
    "bell_sales['row_house'] = [1 if ((x == 210) or (x==295)) else 0 for x in bell_sales['meta_class']]\n",
    "bell_sales = bell_sales.drop(columns='meta_class')\n",
    "bell_new = bell_sales[bell_sales.char_age<70]\n",
    "bell_old = bell_sales[bell_sales.char_age>70]\n",
    "old_y = bell_old.meta_sale_price\n",
    "old_X = bell_old.drop(['Unnamed: 0','meta_pin','meta_sale_price'],axis=1)\n",
    "new_y = bell_new.meta_sale_price\n",
    "new_X = bell_new.drop(['Unnamed: 0','meta_pin','meta_sale_price'],axis=1)"
   ]
  },
  {
   "cell_type": "code",
   "execution_count": 98,
   "id": "7e602f5a",
   "metadata": {},
   "outputs": [],
   "source": [
    "oldX_train, oldX_test, oldy_train, oldy_test = train_test_split(old_X, old_y, test_size=0.2, random_state=42)\n",
    "newX_train, newX_test, newy_train, newy_test = train_test_split(new_X, new_y, test_size=0.2, random_state=42)"
   ]
  },
  {
   "cell_type": "code",
   "execution_count": 99,
   "id": "c8354e2c",
   "metadata": {},
   "outputs": [],
   "source": [
    "oldscaler = StandardScaler()\n",
    "oldscaler.fit(oldX_train)\n",
    "oldX_train= scaler.transform(oldX_train)\n",
    "oldX_test = scaler.transform(oldX_test)\n",
    "newscaler = StandardScaler()\n",
    "newscaler.fit(newX_train)\n",
    "newX_train= scaler.transform(newX_train)\n",
    "newX_test = scaler.transform(newX_test)"
   ]
  },
  {
   "cell_type": "code",
   "execution_count": null,
   "id": "27a64ccd",
   "metadata": {},
   "outputs": [],
   "source": []
  }
 ],
 "metadata": {
  "kernelspec": {
   "display_name": "Python 3 (ipykernel)",
   "language": "python",
   "name": "python3"
  },
  "language_info": {
   "codemirror_mode": {
    "name": "ipython",
    "version": 3
   },
   "file_extension": ".py",
   "mimetype": "text/x-python",
   "name": "python",
   "nbconvert_exporter": "python",
   "pygments_lexer": "ipython3",
   "version": "3.10.2"
  }
 },
 "nbformat": 4,
 "nbformat_minor": 5
}
