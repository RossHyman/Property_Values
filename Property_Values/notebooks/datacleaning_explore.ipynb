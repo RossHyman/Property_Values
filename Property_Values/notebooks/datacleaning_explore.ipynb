{
 "cells": [
  {
   "cell_type": "markdown",
   "id": "9ed7133d",
   "metadata": {},
   "source": [
    "Import stuff I need"
   ]
  },
  {
   "cell_type": "code",
   "execution_count": 1,
   "id": "23ce3e34",
   "metadata": {},
   "outputs": [],
   "source": [
    "import pyarrow.parquet as pq\n",
    "import pandas as pd\n",
    "import matplotlib.pyplot as plt\n",
    "import seaborn as sns\n",
    "import os\n"
   ]
  },
  {
   "cell_type": "markdown",
   "id": "56c97076",
   "metadata": {},
   "source": [
    "Upload into memory the data files. They are in parquet format."
   ]
  },
  {
   "cell_type": "code",
   "execution_count": 2,
   "id": "2bf7e5ad",
   "metadata": {},
   "outputs": [],
   "source": [
    "table_sales = pq.read_table('../data/raw/modeldata.parquet')"
   ]
  },
  {
   "cell_type": "code",
   "execution_count": 3,
   "id": "a5c77628",
   "metadata": {},
   "outputs": [],
   "source": [
    "table = pq.read_table('../data/raw/assmntdata.parquet')"
   ]
  },
  {
   "cell_type": "markdown",
   "id": "ccdccb88",
   "metadata": {},
   "source": [
    "table_sales includes data for homes in Cook County that have been sold in the past seven years. table includes data for all homes regardless of a sale. \n",
    "\n",
    "Convert to pandas dataframes."
   ]
  },
  {
   "cell_type": "code",
   "execution_count": 4,
   "id": "f8217e8f",
   "metadata": {},
   "outputs": [],
   "source": [
    "df_sales = table_sales.to_pandas()"
   ]
  },
  {
   "cell_type": "code",
   "execution_count": 5,
   "id": "b33bab24",
   "metadata": {},
   "outputs": [],
   "source": [
    "df = table.to_pandas()\n"
   ]
  },
  {
   "cell_type": "code",
   "execution_count": 6,
   "id": "31c6aecd",
   "metadata": {},
   "outputs": [
    {
     "data": {
      "text/html": [
       "<div>\n",
       "<style scoped>\n",
       "    .dataframe tbody tr th:only-of-type {\n",
       "        vertical-align: middle;\n",
       "    }\n",
       "\n",
       "    .dataframe tbody tr th {\n",
       "        vertical-align: top;\n",
       "    }\n",
       "\n",
       "    .dataframe thead th {\n",
       "        text-align: right;\n",
       "    }\n",
       "</style>\n",
       "<table border=\"1\" class=\"dataframe\">\n",
       "  <thead>\n",
       "    <tr style=\"text-align: right;\">\n",
       "      <th></th>\n",
       "      <th>meta_pin</th>\n",
       "      <th>meta_year</th>\n",
       "      <th>meta_class</th>\n",
       "      <th>meta_town_code</th>\n",
       "      <th>meta_nbhd</th>\n",
       "      <th>meta_2yr_pri_board_est_bldg</th>\n",
       "      <th>meta_2yr_pri_board_est_land</th>\n",
       "      <th>meta_1yr_pri_board_est_bldg</th>\n",
       "      <th>meta_1yr_pri_board_est_land</th>\n",
       "      <th>meta_mailed_est_bldg</th>\n",
       "      <th>...</th>\n",
       "      <th>time_sale_month_of_year</th>\n",
       "      <th>time_sale_week_of_year</th>\n",
       "      <th>time_sale_day_of_year</th>\n",
       "      <th>time_sale_during_school_year</th>\n",
       "      <th>time_sale_during_holidays</th>\n",
       "      <th>ind_multi_code</th>\n",
       "      <th>ind_large_home</th>\n",
       "      <th>ind_class_error</th>\n",
       "      <th>ind_garage</th>\n",
       "      <th>ind_complete_predictors</th>\n",
       "    </tr>\n",
       "  </thead>\n",
       "  <tbody>\n",
       "    <tr>\n",
       "      <th>0</th>\n",
       "      <td>01011000040000</td>\n",
       "      <td>2020.0</td>\n",
       "      <td>212</td>\n",
       "      <td>10</td>\n",
       "      <td>10012</td>\n",
       "      <td>374930.0</td>\n",
       "      <td>52510.0</td>\n",
       "      <td>320210.0</td>\n",
       "      <td>58030.0</td>\n",
       "      <td>320210.0</td>\n",
       "      <td>...</td>\n",
       "      <td>Jan</td>\n",
       "      <td>1.0</td>\n",
       "      <td>1.0</td>\n",
       "      <td>True</td>\n",
       "      <td>True</td>\n",
       "      <td>False</td>\n",
       "      <td>False</td>\n",
       "      <td>False</td>\n",
       "      <td>True</td>\n",
       "      <td>True</td>\n",
       "    </tr>\n",
       "    <tr>\n",
       "      <th>1</th>\n",
       "      <td>01011000050000</td>\n",
       "      <td>2020.0</td>\n",
       "      <td>205</td>\n",
       "      <td>10</td>\n",
       "      <td>10012</td>\n",
       "      <td>216890.0</td>\n",
       "      <td>31030.0</td>\n",
       "      <td>275500.0</td>\n",
       "      <td>34300.0</td>\n",
       "      <td>275500.0</td>\n",
       "      <td>...</td>\n",
       "      <td>Jan</td>\n",
       "      <td>1.0</td>\n",
       "      <td>1.0</td>\n",
       "      <td>True</td>\n",
       "      <td>True</td>\n",
       "      <td>False</td>\n",
       "      <td>False</td>\n",
       "      <td>False</td>\n",
       "      <td>True</td>\n",
       "      <td>True</td>\n",
       "    </tr>\n",
       "    <tr>\n",
       "      <th>2</th>\n",
       "      <td>01011000060000</td>\n",
       "      <td>2020.0</td>\n",
       "      <td>212</td>\n",
       "      <td>10</td>\n",
       "      <td>10012</td>\n",
       "      <td>353260.0</td>\n",
       "      <td>31030.0</td>\n",
       "      <td>296390.0</td>\n",
       "      <td>34300.0</td>\n",
       "      <td>296390.0</td>\n",
       "      <td>...</td>\n",
       "      <td>Jan</td>\n",
       "      <td>1.0</td>\n",
       "      <td>1.0</td>\n",
       "      <td>True</td>\n",
       "      <td>True</td>\n",
       "      <td>False</td>\n",
       "      <td>False</td>\n",
       "      <td>False</td>\n",
       "      <td>True</td>\n",
       "      <td>True</td>\n",
       "    </tr>\n",
       "    <tr>\n",
       "      <th>3</th>\n",
       "      <td>01011000090000</td>\n",
       "      <td>2020.0</td>\n",
       "      <td>212</td>\n",
       "      <td>10</td>\n",
       "      <td>10012</td>\n",
       "      <td>668790.0</td>\n",
       "      <td>64460.0</td>\n",
       "      <td>604870.0</td>\n",
       "      <td>71240.0</td>\n",
       "      <td>604870.0</td>\n",
       "      <td>...</td>\n",
       "      <td>Jan</td>\n",
       "      <td>1.0</td>\n",
       "      <td>1.0</td>\n",
       "      <td>True</td>\n",
       "      <td>True</td>\n",
       "      <td>False</td>\n",
       "      <td>False</td>\n",
       "      <td>False</td>\n",
       "      <td>True</td>\n",
       "      <td>True</td>\n",
       "    </tr>\n",
       "    <tr>\n",
       "      <th>4</th>\n",
       "      <td>01011000170000</td>\n",
       "      <td>2020.0</td>\n",
       "      <td>205</td>\n",
       "      <td>10</td>\n",
       "      <td>10012</td>\n",
       "      <td>291310.0</td>\n",
       "      <td>42870.0</td>\n",
       "      <td>355640.0</td>\n",
       "      <td>47390.0</td>\n",
       "      <td>355640.0</td>\n",
       "      <td>...</td>\n",
       "      <td>Jan</td>\n",
       "      <td>1.0</td>\n",
       "      <td>1.0</td>\n",
       "      <td>True</td>\n",
       "      <td>True</td>\n",
       "      <td>False</td>\n",
       "      <td>False</td>\n",
       "      <td>False</td>\n",
       "      <td>False</td>\n",
       "      <td>True</td>\n",
       "    </tr>\n",
       "  </tbody>\n",
       "</table>\n",
       "<p>5 rows × 95 columns</p>\n",
       "</div>"
      ],
      "text/plain": [
       "         meta_pin  meta_year meta_class meta_town_code meta_nbhd  \\\n",
       "0  01011000040000     2020.0        212             10     10012   \n",
       "1  01011000050000     2020.0        205             10     10012   \n",
       "2  01011000060000     2020.0        212             10     10012   \n",
       "3  01011000090000     2020.0        212             10     10012   \n",
       "4  01011000170000     2020.0        205             10     10012   \n",
       "\n",
       "   meta_2yr_pri_board_est_bldg  meta_2yr_pri_board_est_land  \\\n",
       "0                     374930.0                      52510.0   \n",
       "1                     216890.0                      31030.0   \n",
       "2                     353260.0                      31030.0   \n",
       "3                     668790.0                      64460.0   \n",
       "4                     291310.0                      42870.0   \n",
       "\n",
       "   meta_1yr_pri_board_est_bldg  meta_1yr_pri_board_est_land  \\\n",
       "0                     320210.0                      58030.0   \n",
       "1                     275500.0                      34300.0   \n",
       "2                     296390.0                      34300.0   \n",
       "3                     604870.0                      71240.0   \n",
       "4                     355640.0                      47390.0   \n",
       "\n",
       "   meta_mailed_est_bldg  ...  time_sale_month_of_year  time_sale_week_of_year  \\\n",
       "0              320210.0  ...                      Jan                     1.0   \n",
       "1              275500.0  ...                      Jan                     1.0   \n",
       "2              296390.0  ...                      Jan                     1.0   \n",
       "3              604870.0  ...                      Jan                     1.0   \n",
       "4              355640.0  ...                      Jan                     1.0   \n",
       "\n",
       "   time_sale_day_of_year time_sale_during_school_year  \\\n",
       "0                    1.0                         True   \n",
       "1                    1.0                         True   \n",
       "2                    1.0                         True   \n",
       "3                    1.0                         True   \n",
       "4                    1.0                         True   \n",
       "\n",
       "   time_sale_during_holidays ind_multi_code ind_large_home ind_class_error  \\\n",
       "0                       True          False          False           False   \n",
       "1                       True          False          False           False   \n",
       "2                       True          False          False           False   \n",
       "3                       True          False          False           False   \n",
       "4                       True          False          False           False   \n",
       "\n",
       "   ind_garage  ind_complete_predictors  \n",
       "0        True                     True  \n",
       "1        True                     True  \n",
       "2        True                     True  \n",
       "3        True                     True  \n",
       "4       False                     True  \n",
       "\n",
       "[5 rows x 95 columns]"
      ]
     },
     "execution_count": 6,
     "metadata": {},
     "output_type": "execute_result"
    }
   ],
   "source": [
    "df.head()"
   ]
  },
  {
   "cell_type": "markdown",
   "id": "047f4319",
   "metadata": {},
   "source": [
    "examine columns"
   ]
  },
  {
   "cell_type": "code",
   "execution_count": null,
   "id": "783aad51",
   "metadata": {},
   "outputs": [],
   "source": [
    "df_sales.info()"
   ]
  },
  {
   "cell_type": "code",
   "execution_count": null,
   "id": "ca34bea6",
   "metadata": {},
   "outputs": [],
   "source": [
    "df.info()"
   ]
  },
  {
   "cell_type": "markdown",
   "id": "9ab2887e",
   "metadata": {},
   "source": [
    "On-line documentation describes some but not all columns. \n",
    "\n",
    "\n",
    "df_sales columns should be the same as df except that df_sales also includes sales columns. Let's check."
   ]
  },
  {
   "cell_type": "code",
   "execution_count": null,
   "id": "472cc711",
   "metadata": {},
   "outputs": [],
   "source": [
    "df_sales_set = set(df_sales.columns)"
   ]
  },
  {
   "cell_type": "code",
   "execution_count": null,
   "id": "5d91590f",
   "metadata": {},
   "outputs": [],
   "source": [
    "df_set = set(df.columns)"
   ]
  },
  {
   "cell_type": "code",
   "execution_count": null,
   "id": "245d6e7d",
   "metadata": {},
   "outputs": [],
   "source": [
    "print(df_sales_set.difference(df_set))"
   ]
  },
  {
   "cell_type": "code",
   "execution_count": null,
   "id": "79dcc891",
   "metadata": {},
   "outputs": [],
   "source": [
    "print(df_set.difference(df_sales_set))"
   ]
  },
  {
   "cell_type": "markdown",
   "id": "6238f252",
   "metadata": {},
   "source": [
    "meta_sales_price is the important column. For my simplified model I'll scrap the others."
   ]
  },
  {
   "cell_type": "markdown",
   "id": "4200a09d",
   "metadata": {},
   "source": [
    "Let's focus on homes for the same elementary school in Cook County. Alternatives, use median income as proxy for school ranking. The single district we will focus on is the Bell School district becuase it has a lot of bungaloes and mansions mixed together so it is a district where regression to the mean could be present in the County's model."
   ]
  },
  {
   "cell_type": "code",
   "execution_count": null,
   "id": "8c1615cf",
   "metadata": {},
   "outputs": [],
   "source": [
    "df['geo_school_elem_district'].unique()\n"
   ]
  },
  {
   "cell_type": "code",
   "execution_count": null,
   "id": "007c2bf5",
   "metadata": {},
   "outputs": [],
   "source": [
    "df_bell = df[df['geo_school_elem_district']=='BELL']"
   ]
  },
  {
   "cell_type": "code",
   "execution_count": null,
   "id": "992818ed",
   "metadata": {},
   "outputs": [],
   "source": [
    "df_bell.info()"
   ]
  },
  {
   "cell_type": "code",
   "execution_count": null,
   "id": "327e1c16",
   "metadata": {},
   "outputs": [],
   "source": [
    "df_bell_sales = df_sales[df_sales['geo_school_elem_district']=='BELL']"
   ]
  },
  {
   "cell_type": "code",
   "execution_count": null,
   "id": "1b0c77db",
   "metadata": {},
   "outputs": [],
   "source": [
    "df_bell_sales.info()"
   ]
  },
  {
   "cell_type": "markdown",
   "id": "89c5941d",
   "metadata": {},
   "source": [
    "The features I keep, in additon to the unque pin identifier for each property, as well as year and class of the property are the numeric ones rather than categories: land square footage, age, # rooms, #  bedrooms, # fireplaces, # full bathrooms, # half bathrooms, \"ot_impr\", \"building square footage, logitude, and latitude. All of these are self explanatory except \"ot_impr\" which I might drop if I can't figure out from the documentation what it means. All of these features relate to the property except for the logitude and latitude, which relate to location. Prof Nick Tideman, an economics professor at Virgina Tech, whose research is on land values tells me that the proper way to model this system is to model land values seperately from building values and then add them together. To do this I would have to seperatly identify those properties that are flipped, and assume they are sold at their land value alone. But for my first attempt at this, I will model the land plus property as a single price which is what Cook County does. "
   ]
  },
  {
   "cell_type": "code",
   "execution_count": null,
   "id": "9773d0bc",
   "metadata": {},
   "outputs": [],
   "source": [
    "df_bell_gf = df_bell.iloc[:,[0,1,2,21,22,26,27,33,35,36,45,46,74,75]]\n"
   ]
  },
  {
   "cell_type": "code",
   "execution_count": null,
   "id": "e75e28c6",
   "metadata": {},
   "outputs": [],
   "source": [
    "df_bell_gf.head()"
   ]
  },
  {
   "cell_type": "code",
   "execution_count": null,
   "id": "1c390145",
   "metadata": {},
   "outputs": [],
   "source": [
    "df_bell_sales_gf = df_bell_sales.iloc[:,[0,1,2,19,23,24,28,29,35,37,38,47,48,76,77]]"
   ]
  },
  {
   "cell_type": "code",
   "execution_count": null,
   "id": "c82f1572",
   "metadata": {},
   "outputs": [],
   "source": [
    "df_bell_sales_gf.head()"
   ]
  },
  {
   "cell_type": "code",
   "execution_count": null,
   "id": "cf26d506",
   "metadata": {},
   "outputs": [],
   "source": [
    "df_bell_gf.info()\n"
   ]
  },
  {
   "cell_type": "code",
   "execution_count": null,
   "id": "302f0d09",
   "metadata": {},
   "outputs": [],
   "source": [
    "df_bell_sales_gf.info()"
   ]
  },
  {
   "cell_type": "markdown",
   "id": "6c3dba6f",
   "metadata": {},
   "source": [
    "All values are non-null expect for 1 entry in # fireplaces. But it is only missing in the sales file. I should be able fill this in from the other file. In fact, the feature values in the sales file should be identical for the same property id's in the main file. Privided the property hasn't flipped. Let check this for 1 pin."
   ]
  },
  {
   "cell_type": "code",
   "execution_count": null,
   "id": "e00d6d69",
   "metadata": {},
   "outputs": [],
   "source": [
    "df_bell_gf[df_bell_gf.meta_pin=='13242020170000'].T"
   ]
  },
  {
   "cell_type": "code",
   "execution_count": null,
   "id": "e4a54620",
   "metadata": {},
   "outputs": [],
   "source": [
    "df_bell_sales_gf[df_bell_sales_gf.meta_pin=='13242020170000'].T"
   ]
  },
  {
   "cell_type": "markdown",
   "id": "519aa7f5",
   "metadata": {},
   "source": [
    "The year (presumably of the data) and the age is different but consistant with each other. The same pin can have differnet years which should effect the age of the property only. Except that if a house is sold and flipped then then other property feautures should change too.\n",
    "\n",
    "Just to verify that all values are present:\n",
    "\n"
   ]
  },
  {
   "cell_type": "code",
   "execution_count": null,
   "id": "06104d06",
   "metadata": {},
   "outputs": [],
   "source": [
    "missing = pd.concat([df_bell_gf.isnull().sum(), 100 * df_bell_gf.isnull().mean()], axis=1)\n",
    "missing.columns=['count', '%']\n",
    "missing.sort_values(by='count',ascending=False)\n"
   ]
  },
  {
   "cell_type": "markdown",
   "id": "fee08d6b",
   "metadata": {},
   "source": [
    "check that each pin number in the two files is unique\n"
   ]
  },
  {
   "cell_type": "code",
   "execution_count": null,
   "id": "09667837",
   "metadata": {},
   "outputs": [],
   "source": [
    "df_bell_gf['meta_pin'].value_counts().head()"
   ]
  },
  {
   "cell_type": "markdown",
   "id": "4c7810e4",
   "metadata": {},
   "source": [
    "We have four duplicates. Lets look at them.\n"
   ]
  },
  {
   "cell_type": "code",
   "execution_count": null,
   "id": "6bbdb3ec",
   "metadata": {},
   "outputs": [],
   "source": [
    "df_bell_gf[df_bell_gf['meta_pin']=='14191240230000']"
   ]
  },
  {
   "cell_type": "code",
   "execution_count": null,
   "id": "3a360e3a",
   "metadata": {},
   "outputs": [],
   "source": [
    "df_bell_gf[df_bell_gf['meta_pin']=='14192020110000']"
   ]
  },
  {
   "cell_type": "code",
   "execution_count": null,
   "id": "a95cb2d0",
   "metadata": {},
   "outputs": [],
   "source": [
    "df_bell_gf[df_bell_gf['meta_pin']=='14191050190000']"
   ]
  },
  {
   "cell_type": "code",
   "execution_count": null,
   "id": "5d134dde",
   "metadata": {},
   "outputs": [],
   "source": [
    "df_bell_gf[df_bell_gf['meta_pin']=='14192170310000']"
   ]
  },
  {
   "cell_type": "markdown",
   "id": "3dea4eb8",
   "metadata": {},
   "source": [
    "It is not clear what is going on here. Let's check the sales file."
   ]
  },
  {
   "cell_type": "code",
   "execution_count": null,
   "id": "dc18a651",
   "metadata": {},
   "outputs": [],
   "source": [
    "df_bell_sales_gf['meta_pin'].value_counts().head(100)"
   ]
  },
  {
   "cell_type": "markdown",
   "id": "2f589e24",
   "metadata": {},
   "source": [
    "It makes sense that there should be lots of duplicates in the sales file since properties are sold many times. Let's take a look at a few.\n"
   ]
  },
  {
   "cell_type": "code",
   "execution_count": null,
   "id": "269da40b",
   "metadata": {},
   "outputs": [],
   "source": [
    "df_bell_sales_gf[df_bell_sales_gf['meta_pin']=='14191050270000']\n"
   ]
  },
  {
   "cell_type": "markdown",
   "id": "0d2c9e76",
   "metadata": {},
   "source": [
    "This tells a story that I partially understand. The property was sold in 2014. The old house was torn down and a new house built in its place or the old house was significantly renovated. The new property was then sold in 2015. This explains the drop in age from 106 to 1. The property was sold again in 2018. the features are the same in 2015 and 2018. Between 2014 and 2015 the feautures changed, consistant with the flipping scenerio. However the feauture changes are weird. the totakl number of rooms and the total number of bed rooms goes down and but the number of full and half bathrooms go up.  Also, the building square footage goes down. Despit an enormous change in price.Clearly the data is not accurate. Let's try another.\n"
   ]
  },
  {
   "cell_type": "code",
   "execution_count": null,
   "id": "84917bb7",
   "metadata": {},
   "outputs": [],
   "source": [
    "df_bell_sales_gf[df_bell_sales_gf['meta_pin']=='13242080030000']"
   ]
  },
  {
   "cell_type": "markdown",
   "id": "af39960c",
   "metadata": {},
   "source": [
    "This is consistant with a flip. The age goes down to 1 the price goes way up and the features change. This time all the features change in the right direction. Now I confirm that pins are unique if I suppliment them by year and class.\n"
   ]
  },
  {
   "cell_type": "code",
   "execution_count": null,
   "id": "681c68d5",
   "metadata": {},
   "outputs": [],
   "source": [
    "(df_bell_sales_gf['meta_pin'] + ', ' + df_bell_sales_gf['meta_year'].astype('str')+ ', ' + df_bell_sales_gf['meta_class']).value_counts().head()\n"
   ]
  },
  {
   "cell_type": "markdown",
   "id": "de28f8d5",
   "metadata": {},
   "source": [
    "What is ot_impr?"
   ]
  },
  {
   "cell_type": "code",
   "execution_count": null,
   "id": "f043998d",
   "metadata": {},
   "outputs": [],
   "source": [
    "df_bell_sales_gf['char_ot_impr'].value_counts()"
   ]
  },
  {
   "cell_type": "markdown",
   "id": "994c8de8",
   "metadata": {},
   "source": [
    "It means nothing. I can drop it."
   ]
  },
  {
   "cell_type": "code",
   "execution_count": null,
   "id": "593f556f",
   "metadata": {},
   "outputs": [],
   "source": [
    "df_bell_sales_gf.nunique()"
   ]
  },
  {
   "cell_type": "code",
   "execution_count": null,
   "id": "101c3675",
   "metadata": {},
   "outputs": [],
   "source": [
    "df_bell_gf.nunique()"
   ]
  },
  {
   "cell_type": "markdown",
   "id": "5d692df1",
   "metadata": {},
   "source": [
    "All other catergories, besides ot_impr convey some information, except that the year in the main file is set to 2020 for every property. The main file also includes more property classes. Just for fun I'll look at value counts for the property classes in a bar graph.\n"
   ]
  },
  {
   "cell_type": "code",
   "execution_count": null,
   "id": "865a7e37",
   "metadata": {},
   "outputs": [],
   "source": [
    "\n",
    "df_bell_gf.meta_class.value_counts().plot(kind='barh', title=\"Counts of Classes\", xlabel=\"Class\")\n",
    "\n"
   ]
  },
  {
   "cell_type": "code",
   "execution_count": null,
   "id": "5a1388ec",
   "metadata": {},
   "outputs": [],
   "source": [
    "df_bell_sales_gf.meta_class.value_counts().plot(kind='barh', title=\"Counts of Classes\", xlabel=\"Class\")"
   ]
  },
  {
   "cell_type": "markdown",
   "id": "cfaaa893",
   "metadata": {},
   "source": [
    "There are some classes that are different in each file. Is the class a feature worth keeping or is all the class information included in the building square footage, age, and land square footage? Let's check."
   ]
  },
  {
   "cell_type": "code",
   "execution_count": null,
   "id": "0cf7a822",
   "metadata": {},
   "outputs": [],
   "source": [
    "df_bell_sales_gf.groupby('meta_class')[['char_bldg_sf','char_hd_sf','char_age']].mean()"
   ]
  },
  {
   "cell_type": "code",
   "execution_count": null,
   "id": "7045fea2",
   "metadata": {},
   "outputs": [],
   "source": [
    "df_bell_gf.groupby('meta_class')[['char_bldg_sf','char_hd_sf','char_age']].mean()\n"
   ]
  },
  {
   "cell_type": "markdown",
   "id": "bb08d764",
   "metadata": {},
   "source": [
    "The data is constant with the definitions of these classes. 202-204 are single story with increasing minimum building square footage. 205-206 are two or more stories and older than 62 years. 207-278-208 are two or more story and less than or equal to 62 years with increasing building square footage. They are out of numerical order. 211 are apartmment buildings with 2-6 appartments. I think this must include condos and 2 and 3 flats. They are a dominant older property in the district. 212 is mixed use residential and comerical with comercial on the ground floor. 2-34 is split level with lower level below ground. 295 is townhome or row house. Will need to study distribution in each class to see if classes can be dropped as the data is represented by the features. As no feauture represents number of stories, I might need to retain this if I decide that this is important. \n"
   ]
  },
  {
   "cell_type": "code",
   "execution_count": null,
   "id": "22a1720b",
   "metadata": {},
   "outputs": [],
   "source": [
    "df_bell_gf.describe().T"
   ]
  },
  {
   "cell_type": "code",
   "execution_count": null,
   "id": "e7c1e863",
   "metadata": {},
   "outputs": [],
   "source": [
    "df_bell_sales_gf.describe().T"
   ]
  },
  {
   "cell_type": "markdown",
   "id": "9aee2439",
   "metadata": {},
   "source": [
    "Will need to check some of these. The maximums for the main file seem to be errors: 46 rooms, 24 bed rooms, 6 fireplaces, 10 bathroom, 6 half baths. These are supposed to be individual residendences. Some of the maximums for the sales file are equally outlandish: 42 rooms, 24 bedrooms, 6 bathrooms, 6 half baths. "
   ]
  },
  {
   "cell_type": "code",
   "execution_count": null,
   "id": "4aa197da",
   "metadata": {},
   "outputs": [],
   "source": [
    "df_bell_sales_gf.hist(figsize=(15,10))\n",
    "plt.subplots_adjust(hspace=0.5);"
   ]
  },
  {
   "cell_type": "markdown",
   "id": "46c23045",
   "metadata": {},
   "source": [
    "There appear to be gap years in the sales data. There is only slight evidence for a bimodal sales distribution from slight dip less than 1.5 million. But the age is clearly bimodal. There appear to be outliers in hd_sf, rooms, beds, half baths, and bld_sf, "
   ]
  },
  {
   "cell_type": "code",
   "execution_count": null,
   "id": "99b1be71",
   "metadata": {},
   "outputs": [],
   "source": [
    "df_bell_gf.hist(figsize=(15,10))\n",
    "plt.subplots_adjust(hspace=0.5);"
   ]
  },
  {
   "cell_type": "markdown",
   "id": "5b45714b",
   "metadata": {},
   "source": [
    "outliers in rooms, fbaths, hbaths, ot_impr, and bldg_sf"
   ]
  },
  {
   "cell_type": "code",
   "execution_count": null,
   "id": "d3338732",
   "metadata": {},
   "outputs": [],
   "source": [
    "df_bell_sales_gf[df_bell_sales_gf.char_rooms >= 20].T"
   ]
  },
  {
   "cell_type": "code",
   "execution_count": null,
   "id": "a271e868",
   "metadata": {},
   "outputs": [],
   "source": [
    "df_bell_gf[df_bell_gf.char_rooms > 21].T"
   ]
  },
  {
   "cell_type": "markdown",
   "id": "0968389e",
   "metadata": {},
   "source": [
    "All of the ones with huge numbers of rooms are in class 211 which is \"Apartment building with 2 to 6 units, any age\" It looks like the building is being treated as a whole. In any case, it is sufficiently different than a single residece that I should not inlcude class 211. Here's how it looks with them."
   ]
  },
  {
   "cell_type": "code",
   "execution_count": null,
   "id": "58027c10",
   "metadata": {},
   "outputs": [],
   "source": [
    "df_bell_sales_gf[df_bell_sales_gf.meta_class != '211'].hist(figsize=(15,10))\n",
    "plt.subplots_adjust(hspace=0.5);"
   ]
  },
  {
   "cell_type": "code",
   "execution_count": null,
   "id": "1f05cb21",
   "metadata": {},
   "outputs": [],
   "source": [
    "df_bell_gf[df_bell_gf.meta_class != '211'].hist(figsize=(15,10))\n",
    "plt.subplots_adjust(hspace=0.5);"
   ]
  },
  {
   "cell_type": "markdown",
   "id": "cbcd207b",
   "metadata": {},
   "source": [
    "Let's check out the remaining outlier "
   ]
  },
  {
   "cell_type": "code",
   "execution_count": null,
   "id": "78803185",
   "metadata": {},
   "outputs": [],
   "source": [
    "df_bell_sales_gf[(df_bell_sales_gf.meta_class != '211') & (df_bell_sales_gf.char_hd_sf > 6000)].T"
   ]
  },
  {
   "cell_type": "code",
   "execution_count": null,
   "id": "9da13c48",
   "metadata": {},
   "outputs": [],
   "source": [
    "df_bell_gf[(df_bell_gf.meta_class != '211') & (df_bell_gf.char_hd_sf > 6000)].T"
   ]
  },
  {
   "cell_type": "markdown",
   "id": "57457e88",
   "metadata": {},
   "source": [
    "Aside from one entry, these are old buildings. In some cases wealthy people have bought to adjacent properties and tore down one to use the land as a yard for the other. I wonder if this explains the huge land sf and smaller bldg sqwuare footage for some entries. Or they could be errors in entry."
   ]
  },
  {
   "cell_type": "code",
   "execution_count": null,
   "id": "701b9419",
   "metadata": {},
   "outputs": [],
   "source": [
    "df_bell_sales_gf[(df_bell_sales_gf.meta_class != '211') & (df_bell_sales_gf.char_bldg_sf > 6000)].T"
   ]
  },
  {
   "cell_type": "code",
   "execution_count": null,
   "id": "6da2fab1",
   "metadata": {},
   "outputs": [],
   "source": [
    "df_bell_gf[(df_bell_gf.meta_class != '211') & (df_bell_gf.char_bldg_sf > 6000)].T"
   ]
  },
  {
   "cell_type": "markdown",
   "id": "0986cb09",
   "metadata": {},
   "source": [
    "All of these are class 212 \"Mixed-use commercial/residential building with apartment and commercial area totaling 6 units or less with a square foot area less than 20,000 square feet, any age\" and should be removed."
   ]
  },
  {
   "cell_type": "code",
   "execution_count": null,
   "id": "ec66e6a9",
   "metadata": {},
   "outputs": [],
   "source": [
    "bell = df_bell_gf[(df_bell_gf.meta_class != '211') & (df_bell_gf.meta_class != '212')]"
   ]
  },
  {
   "cell_type": "code",
   "execution_count": null,
   "id": "ea72c2f4",
   "metadata": {},
   "outputs": [],
   "source": [
    "bell_sales = df_bell_sales_gf[(df_bell_sales_gf.meta_class != '211') & (df_bell_sales_gf.meta_class != '212')]"
   ]
  },
  {
   "cell_type": "code",
   "execution_count": null,
   "id": "a330584b",
   "metadata": {},
   "outputs": [],
   "source": [
    "bell.info()"
   ]
  },
  {
   "cell_type": "code",
   "execution_count": null,
   "id": "0e3430d7",
   "metadata": {},
   "outputs": [],
   "source": [
    "bell_sales.info()"
   ]
  },
  {
   "cell_type": "markdown",
   "id": "b358dbb1",
   "metadata": {},
   "source": [
    "637 single family residences and 293 sales prices to work with."
   ]
  },
  {
   "cell_type": "code",
   "execution_count": null,
   "id": "a8d82b23",
   "metadata": {},
   "outputs": [],
   "source": [
    "bell.hist(figsize=(15,10))\n",
    "plt.subplots_adjust(hspace=0.5);"
   ]
  },
  {
   "cell_type": "code",
   "execution_count": null,
   "id": "0a67567d",
   "metadata": {},
   "outputs": [],
   "source": [
    "bell_sales.hist(figsize=(15,10))\n",
    "plt.subplots_adjust(hspace=0.5);"
   ]
  },
  {
   "cell_type": "markdown",
   "id": "0936b8f0",
   "metadata": {},
   "source": [
    "A possible bimodel distribution in price is a little more visible now. Let's check out ot_impr.\n"
   ]
  },
  {
   "cell_type": "code",
   "execution_count": null,
   "id": "b4cad0ed",
   "metadata": {},
   "outputs": [],
   "source": [
    "bell[bell.char_ot_impr > 0].T"
   ]
  },
  {
   "cell_type": "markdown",
   "id": "b089677a",
   "metadata": {},
   "source": [
    "Can't tell what it is but because there is no info in sales data it is useless to keep."
   ]
  },
  {
   "cell_type": "code",
   "execution_count": null,
   "id": "f8f3dc79",
   "metadata": {},
   "outputs": [],
   "source": [
    "bell = bell.drop(columns = 'char_ot_impr')"
   ]
  },
  {
   "cell_type": "code",
   "execution_count": null,
   "id": "83be0523",
   "metadata": {},
   "outputs": [],
   "source": [
    "bell_sales= bell_sales.drop(columns = 'char_ot_impr')"
   ]
  },
  {
   "cell_type": "code",
   "execution_count": null,
   "id": "efe6b481",
   "metadata": {},
   "outputs": [],
   "source": [
    "bell.head()\n"
   ]
  },
  {
   "cell_type": "code",
   "execution_count": null,
   "id": "0d0c849c",
   "metadata": {},
   "outputs": [],
   "source": [
    "bell_sales.head()"
   ]
  },
  {
   "cell_type": "code",
   "execution_count": null,
   "id": "467b0b49",
   "metadata": {},
   "outputs": [],
   "source": [
    "bell.to_csv('../data/bell_cleaned.csv')"
   ]
  },
  {
   "cell_type": "code",
   "execution_count": null,
   "id": "09470400",
   "metadata": {},
   "outputs": [],
   "source": [
    "bell_sales.to_csv('../data/bell_sales_cleaned.csv')"
   ]
  },
  {
   "cell_type": "markdown",
   "id": "dbbe651b",
   "metadata": {},
   "source": [
    "I have saved single family home data in the Bell district. I have retained numerical features plus class."
   ]
  }
 ],
 "metadata": {
  "kernelspec": {
   "display_name": "Python 3 (ipykernel)",
   "language": "python",
   "name": "python3"
  },
  "language_info": {
   "codemirror_mode": {
    "name": "ipython",
    "version": 3
   },
   "file_extension": ".py",
   "mimetype": "text/x-python",
   "name": "python",
   "nbconvert_exporter": "python",
   "pygments_lexer": "ipython3",
   "version": "3.10.2"
  }
 },
 "nbformat": 4,
 "nbformat_minor": 5
}
