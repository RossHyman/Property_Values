{
 "cells": [
  {
   "cell_type": "markdown",
   "id": "9ed7133d",
   "metadata": {},
   "source": [
    "Import stuff I need"
   ]
  },
  {
   "cell_type": "code",
   "execution_count": 1,
   "id": "23ce3e34",
   "metadata": {},
   "outputs": [],
   "source": [
    "import pyarrow.parquet as pq\n",
    "import pandas as pd\n",
    "import matplotlib.pyplot as plt\n",
    "import seaborn as sns\n",
    "import os\n"
   ]
  },
  {
   "cell_type": "markdown",
   "id": "56c97076",
   "metadata": {},
   "source": [
    "Upload into memory the data file. It is in parquet format."
   ]
  },
  {
   "cell_type": "code",
   "execution_count": 2,
   "id": "2bf7e5ad",
   "metadata": {},
   "outputs": [],
   "source": [
    "table_sales = pq.read_table('../data/raw/modeldata.parquet')"
   ]
  },
  {
   "cell_type": "markdown",
   "id": "ccdccb88",
   "metadata": {},
   "source": [
    "table_sales includes data for homes in Cook County that have been sold in the past seven years. table includes data for all homes regardless of a sale. \n",
    "\n",
    "Convert to pandas dataframes."
   ]
  },
  {
   "cell_type": "code",
   "execution_count": 3,
   "id": "f8217e8f",
   "metadata": {},
   "outputs": [],
   "source": [
    "df_bell_sales = table_sales.to_pandas()"
   ]
  },
  {
   "cell_type": "markdown",
   "id": "047f4319",
   "metadata": {},
   "source": [
    "examine columns"
   ]
  },
  {
   "cell_type": "code",
   "execution_count": 4,
   "id": "783aad51",
   "metadata": {},
   "outputs": [
    {
     "name": "stdout",
     "output_type": "stream",
     "text": [
      "<class 'pandas.core.frame.DataFrame'>\n",
      "RangeIndex: 346293 entries, 0 to 346292\n",
      "Data columns (total 98 columns):\n",
      " #   Column                        Non-Null Count   Dtype   \n",
      "---  ------                        --------------   -----   \n",
      " 0   meta_pin                      346293 non-null  object  \n",
      " 1   meta_year                     346293 non-null  float64 \n",
      " 2   meta_class                    346293 non-null  object  \n",
      " 3   meta_town_code                346293 non-null  object  \n",
      " 4   meta_nbhd                     346293 non-null  object  \n",
      " 5   meta_2yr_pri_board_est_bldg   345640 non-null  float64 \n",
      " 6   meta_2yr_pri_board_est_land   345640 non-null  float64 \n",
      " 7   meta_1yr_pri_board_est_bldg   346293 non-null  float64 \n",
      " 8   meta_1yr_pri_board_est_land   346293 non-null  float64 \n",
      " 9   meta_mailed_est_bldg          346293 non-null  float64 \n",
      " 10  meta_mailed_est_land          346293 non-null  float64 \n",
      " 11  meta_certified_est_bldg       346293 non-null  float64 \n",
      " 12  meta_certified_est_land       346293 non-null  float64 \n",
      " 13  meta_modeling_group           346293 non-null  object  \n",
      " 14  meta_multi_code               346293 non-null  object  \n",
      " 15  meta_per_ass                  346293 non-null  float64 \n",
      " 16  meta_cdu                      19658 non-null   object  \n",
      " 17  meta_key_pin                  839 non-null     object  \n",
      " 18  meta_sale_date                346293 non-null  object  \n",
      " 19  meta_sale_price               346293 non-null  float64 \n",
      " 20  meta_document_num             346293 non-null  object  \n",
      " 21  meta_deed_type                346293 non-null  object  \n",
      " 22  meta_num_288s_active          346293 non-null  float64 \n",
      " 23  char_hd_sf                    346293 non-null  float64 \n",
      " 24  char_age                      346293 non-null  float64 \n",
      " 25  char_apts                     46810 non-null   category\n",
      " 26  char_ext_wall                 346090 non-null  category\n",
      " 27  char_roof_cnst                346089 non-null  category\n",
      " 28  char_rooms                    346293 non-null  float64 \n",
      " 29  char_beds                     346293 non-null  float64 \n",
      " 30  char_bsmt                     346103 non-null  category\n",
      " 31  char_bsmt_fin                 346103 non-null  category\n",
      " 32  char_heat                     346088 non-null  category\n",
      " 33  char_oheat                    345248 non-null  category\n",
      " 34  char_air                      346109 non-null  category\n",
      " 35  char_frpl                     346097 non-null  float64 \n",
      " 36  char_attic_type               346090 non-null  category\n",
      " 37  char_fbath                    346293 non-null  float64 \n",
      " 38  char_hbath                    346293 non-null  float64 \n",
      " 39  char_tp_plan                  248338 non-null  category\n",
      " 40  char_tp_dsgn                  160363 non-null  category\n",
      " 41  char_cnst_qlty                345864 non-null  category\n",
      " 42  char_site                     346088 non-null  category\n",
      " 43  char_gar1_size                346123 non-null  category\n",
      " 44  char_gar1_cnst                296729 non-null  category\n",
      " 45  char_gar1_att                 296730 non-null  category\n",
      " 46  char_gar1_area                296724 non-null  category\n",
      " 47  char_ot_impr                  346293 non-null  float64 \n",
      " 48  char_bldg_sf                  346293 non-null  float64 \n",
      " 49  char_repair_cnd               346088 non-null  category\n",
      " 50  char_use                      346096 non-null  category\n",
      " 51  char_type_resd                346106 non-null  category\n",
      " 52  char_attic_fnsh               115021 non-null  category\n",
      " 53  char_renovation               1887 non-null    category\n",
      " 54  char_porch                    63393 non-null   category\n",
      " 55  geo_property_address          345422 non-null  object  \n",
      " 56  geo_property_apt_no           23056 non-null   object  \n",
      " 57  geo_property_city             345422 non-null  object  \n",
      " 58  geo_property_zip              345422 non-null  object  \n",
      " 59  geo_geoid                     345275 non-null  object  \n",
      " 60  geo_tract_pop                 345275 non-null  float64 \n",
      " 61  geo_white_perc                345275 non-null  float64 \n",
      " 62  geo_black_perc                345275 non-null  float64 \n",
      " 63  geo_asian_perc                345275 non-null  float64 \n",
      " 64  geo_his_perc                  345275 non-null  float64 \n",
      " 65  geo_other_perc                345275 non-null  float64 \n",
      " 66  geo_fips                      338223 non-null  object  \n",
      " 67  geo_municipality              338223 non-null  object  \n",
      " 68  geo_ohare_noise               345275 non-null  float64 \n",
      " 69  geo_floodplain                345275 non-null  float64 \n",
      " 70  geo_fs_flood_factor           345275 non-null  float64 \n",
      " 71  geo_fs_flood_risk_direction   345275 non-null  float64 \n",
      " 72  geo_withinmr100               345275 non-null  float64 \n",
      " 73  geo_withinmr101300            345275 non-null  float64 \n",
      " 74  geo_school_elem_district      345275 non-null  object  \n",
      " 75  geo_school_hs_district        345275 non-null  object  \n",
      " 76  geo_longitude                 345275 non-null  float64 \n",
      " 77  geo_latitude                  345275 non-null  float64 \n",
      " 78  econ_tax_rate                 346293 non-null  float64 \n",
      " 79  econ_tax_amt_paid             346293 non-null  float64 \n",
      " 80  econ_midincome                345275 non-null  float64 \n",
      " 81  time_sale_year                346293 non-null  float64 \n",
      " 82  time_sale_quarter             346293 non-null  float64 \n",
      " 83  time_sale_month               346293 non-null  float64 \n",
      " 84  time_sale_week                346293 non-null  float64 \n",
      " 85  time_sale_day                 346293 non-null  float64 \n",
      " 86  time_sale_quarter_of_year     346293 non-null  object  \n",
      " 87  time_sale_month_of_year       346293 non-null  category\n",
      " 88  time_sale_week_of_year        346293 non-null  float64 \n",
      " 89  time_sale_day_of_year         346293 non-null  float64 \n",
      " 90  time_sale_during_school_year  346293 non-null  bool    \n",
      " 91  time_sale_during_holidays     346293 non-null  bool    \n",
      " 92  ind_multi_code                346293 non-null  bool    \n",
      " 93  ind_large_home                346293 non-null  bool    \n",
      " 94  ind_class_error               346293 non-null  bool    \n",
      " 95  ind_garage                    346123 non-null  object  \n",
      " 96  ind_complete_predictors       346293 non-null  bool    \n",
      " 97  ind_arms_length               346293 non-null  bool    \n",
      "dtypes: bool(7), category(24), float64(45), object(22)\n",
      "memory usage: 187.3+ MB\n"
     ]
    }
   ],
   "source": [
    "df_bell_sales.info()"
   ]
  },
  {
   "cell_type": "markdown",
   "id": "9ab2887e",
   "metadata": {},
   "source": [
    "On-line documentation describes some but not all columns. \n",
    "\n",
    "\n",
    "df_sales columns should be the same as df except that df_sales also includes sales columns. Let's check."
   ]
  },
  {
   "cell_type": "markdown",
   "id": "6238f252",
   "metadata": {},
   "source": [
    "meta_sales_price is the important column. For my simplified model I'll scrap the others."
   ]
  },
  {
   "cell_type": "markdown",
   "id": "4200a09d",
   "metadata": {},
   "source": [
    "Let's focus on homes for the same elementary school in Cook County. Alternatives, use median income as proxy for school ranking. The single district we will focus on is the Bell School district becuase it has a lot of bungaloes and mansions mixed together so it is a district where regression to the mean could be present in the County's model."
   ]
  },
  {
   "cell_type": "code",
   "execution_count": 5,
   "id": "327e1c16",
   "metadata": {},
   "outputs": [],
   "source": [
    "#df_bell_sales = df_sales[df_sales['geo_school_elem_district']=='BELL']"
   ]
  },
  {
   "cell_type": "code",
   "execution_count": 6,
   "id": "1b0c77db",
   "metadata": {},
   "outputs": [],
   "source": [
    "#df_bell_sales.info()"
   ]
  },
  {
   "cell_type": "markdown",
   "id": "89c5941d",
   "metadata": {},
   "source": [
    "The features I keep, in additon to the unque pin identifier for each property, as well as year and class of the property are the numeric ones rather than categories: land square footage, age, # rooms, #  bedrooms, # fireplaces, # full bathrooms, # half bathrooms, \"ot_impr\", \"building square footage, logitude, and latitude. All of these are self explanatory except \"ot_impr\" which I might drop if I can't figure out from the documentation what it means. All of these features relate to the property except for the logitude and latitude, which relate to location. Prof Nick Tideman, an economics professor at Virgina Tech, whose research is on land values tells me that the proper way to model this system is to model land values seperately from building values and then add them together. To do this I would have to seperatly identify those properties that are flipped, and assume they are sold at their land value alone. But for my first attempt at this, I will model the land plus property as a single price which is what Cook County does. "
   ]
  },
  {
   "cell_type": "code",
   "execution_count": 7,
   "id": "11b82835",
   "metadata": {},
   "outputs": [
    {
     "data": {
      "text/plain": [
       "203    107741\n",
       "211     46750\n",
       "202     35848\n",
       "278     31433\n",
       "234     29320\n",
       "295     24000\n",
       "205     23382\n",
       "204     15313\n",
       "206     10483\n",
       "207     10081\n",
       "208      3761\n",
       "210      3539\n",
       "212      3034\n",
       "209      1608\n",
       "Name: meta_class, dtype: int64"
      ]
     },
     "execution_count": 7,
     "metadata": {},
     "output_type": "execute_result"
    }
   ],
   "source": [
    "df_bell_sales.meta_class.value_counts()"
   ]
  },
  {
   "cell_type": "markdown",
   "id": "6e8d3be7",
   "metadata": {},
   "source": [
    "class 211 and 212 are condos. Lets' remove those"
   ]
  },
  {
   "cell_type": "code",
   "execution_count": 8,
   "id": "dd107848",
   "metadata": {},
   "outputs": [],
   "source": [
    "df_bell_sales = df_bell_sales[(df_bell_sales.meta_class != '211')&(df_bell_sales.meta_class !='212')]"
   ]
  },
  {
   "cell_type": "code",
   "execution_count": 9,
   "id": "41d7e19b",
   "metadata": {},
   "outputs": [
    {
     "data": {
      "text/plain": [
       "203    107741\n",
       "202     35848\n",
       "278     31433\n",
       "234     29320\n",
       "295     24000\n",
       "205     23382\n",
       "204     15313\n",
       "206     10483\n",
       "207     10081\n",
       "208      3761\n",
       "210      3539\n",
       "209      1608\n",
       "Name: meta_class, dtype: int64"
      ]
     },
     "execution_count": 9,
     "metadata": {},
     "output_type": "execute_result"
    }
   ],
   "source": [
    "df_bell_sales.meta_class.value_counts()"
   ]
  },
  {
   "cell_type": "code",
   "execution_count": 10,
   "id": "6588c34b",
   "metadata": {},
   "outputs": [
    {
     "data": {
      "text/plain": [
       "SF    296509\n",
       "Name: meta_modeling_group, dtype: int64"
      ]
     },
     "execution_count": 10,
     "metadata": {},
     "output_type": "execute_result"
    }
   ],
   "source": [
    "df_bell_sales.meta_modeling_group.value_counts()"
   ]
  },
  {
   "cell_type": "code",
   "execution_count": 11,
   "id": "677a900e",
   "metadata": {},
   "outputs": [
    {
     "data": {
      "text/plain": [
       "0         2014-05-22\n",
       "1         2020-10-16\n",
       "2         2020-06-19\n",
       "3         2020-12-16\n",
       "4         2017-06-27\n",
       "             ...    \n",
       "346288    2020-02-20\n",
       "346289    2016-11-17\n",
       "346290    2018-07-31\n",
       "346291    2017-10-24\n",
       "346292    2016-04-06\n",
       "Name: meta_sale_date, Length: 296509, dtype: object"
      ]
     },
     "execution_count": 11,
     "metadata": {},
     "output_type": "execute_result"
    }
   ],
   "source": [
    "df_bell_sales.meta_sale_date"
   ]
  },
  {
   "cell_type": "code",
   "execution_count": 12,
   "id": "e75e28c6",
   "metadata": {},
   "outputs": [
    {
     "data": {
      "text/plain": [
       "0         NaN\n",
       "1         NaN\n",
       "2         NaN\n",
       "3         NaN\n",
       "4         NaN\n",
       "         ... \n",
       "346288    NaN\n",
       "346289    NaN\n",
       "346290    NaN\n",
       "346291    NaN\n",
       "346292    NaN\n",
       "Name: char_apts, Length: 296509, dtype: category\n",
       "Categories (6, object): ['1', '2', '3', '4', '5', '6']"
      ]
     },
     "execution_count": 12,
     "metadata": {},
     "output_type": "execute_result"
    }
   ],
   "source": [
    "df_bell_sales.char_apts"
   ]
  },
  {
   "cell_type": "code",
   "execution_count": 13,
   "id": "3071e32f",
   "metadata": {},
   "outputs": [
    {
     "data": {
      "text/plain": [
       "0         1\n",
       "1         1\n",
       "2         1\n",
       "3         1\n",
       "4         1\n",
       "         ..\n",
       "346288    2\n",
       "346289    2\n",
       "346290    2\n",
       "346291    2\n",
       "346292    1\n",
       "Name: char_ext_wall, Length: 296509, dtype: category\n",
       "Categories (4, object): ['1', '2', '3', '4']"
      ]
     },
     "execution_count": 13,
     "metadata": {},
     "output_type": "execute_result"
    }
   ],
   "source": [
    "df_bell_sales.char_ext_wall\n"
   ]
  },
  {
   "cell_type": "code",
   "execution_count": 14,
   "id": "c1d6e84e",
   "metadata": {},
   "outputs": [
    {
     "data": {
      "text/plain": [
       "0         1\n",
       "1         1\n",
       "2         1\n",
       "3         1\n",
       "4         1\n",
       "         ..\n",
       "346288    1\n",
       "346289    1\n",
       "346290    1\n",
       "346291    1\n",
       "346292    1\n",
       "Name: char_roof_cnst, Length: 296509, dtype: category\n",
       "Categories (6, object): ['1', '2', '3', '4', '5', '6']"
      ]
     },
     "execution_count": 14,
     "metadata": {},
     "output_type": "execute_result"
    }
   ],
   "source": [
    "df_bell_sales.char_roof_cnst"
   ]
  },
  {
   "cell_type": "code",
   "execution_count": 15,
   "id": "1c390145",
   "metadata": {},
   "outputs": [],
   "source": [
    "df_bell_sales_mf = df_bell_sales.iloc[:,[0,1,2,19,23,24,26,27,28,29,30,31,32,34,35,36,37,38,43,48,89,76,77]]"
   ]
  },
  {
   "cell_type": "code",
   "execution_count": 16,
   "id": "c82f1572",
   "metadata": {},
   "outputs": [
    {
     "data": {
      "text/html": [
       "<div>\n",
       "<style scoped>\n",
       "    .dataframe tbody tr th:only-of-type {\n",
       "        vertical-align: middle;\n",
       "    }\n",
       "\n",
       "    .dataframe tbody tr th {\n",
       "        vertical-align: top;\n",
       "    }\n",
       "\n",
       "    .dataframe thead th {\n",
       "        text-align: right;\n",
       "    }\n",
       "</style>\n",
       "<table border=\"1\" class=\"dataframe\">\n",
       "  <thead>\n",
       "    <tr style=\"text-align: right;\">\n",
       "      <th></th>\n",
       "      <th>char_ext_wall</th>\n",
       "      <th>char_roof_cnst</th>\n",
       "      <th>char_bsmt</th>\n",
       "      <th>char_bsmt_fin</th>\n",
       "      <th>char_heat</th>\n",
       "      <th>char_air</th>\n",
       "      <th>char_attic_type</th>\n",
       "      <th>char_gar1_size</th>\n",
       "    </tr>\n",
       "  </thead>\n",
       "  <tbody>\n",
       "    <tr>\n",
       "      <th>0</th>\n",
       "      <td>1</td>\n",
       "      <td>1</td>\n",
       "      <td>1</td>\n",
       "      <td>3</td>\n",
       "      <td>2</td>\n",
       "      <td>2</td>\n",
       "      <td>2</td>\n",
       "      <td>3</td>\n",
       "    </tr>\n",
       "    <tr>\n",
       "      <th>1</th>\n",
       "      <td>1</td>\n",
       "      <td>1</td>\n",
       "      <td>1</td>\n",
       "      <td>3</td>\n",
       "      <td>1</td>\n",
       "      <td>1</td>\n",
       "      <td>3</td>\n",
       "      <td>3</td>\n",
       "    </tr>\n",
       "    <tr>\n",
       "      <th>2</th>\n",
       "      <td>1</td>\n",
       "      <td>1</td>\n",
       "      <td>1</td>\n",
       "      <td>3</td>\n",
       "      <td>1</td>\n",
       "      <td>1</td>\n",
       "      <td>3</td>\n",
       "      <td>4</td>\n",
       "    </tr>\n",
       "    <tr>\n",
       "      <th>3</th>\n",
       "      <td>1</td>\n",
       "      <td>1</td>\n",
       "      <td>1</td>\n",
       "      <td>3</td>\n",
       "      <td>2</td>\n",
       "      <td>1</td>\n",
       "      <td>3</td>\n",
       "      <td>5</td>\n",
       "    </tr>\n",
       "    <tr>\n",
       "      <th>4</th>\n",
       "      <td>1</td>\n",
       "      <td>1</td>\n",
       "      <td>3</td>\n",
       "      <td>1</td>\n",
       "      <td>1</td>\n",
       "      <td>2</td>\n",
       "      <td>2</td>\n",
       "      <td>1</td>\n",
       "    </tr>\n",
       "    <tr>\n",
       "      <th>...</th>\n",
       "      <td>...</td>\n",
       "      <td>...</td>\n",
       "      <td>...</td>\n",
       "      <td>...</td>\n",
       "      <td>...</td>\n",
       "      <td>...</td>\n",
       "      <td>...</td>\n",
       "      <td>...</td>\n",
       "    </tr>\n",
       "    <tr>\n",
       "      <th>346288</th>\n",
       "      <td>2</td>\n",
       "      <td>1</td>\n",
       "      <td>3</td>\n",
       "      <td>3</td>\n",
       "      <td>1</td>\n",
       "      <td>1</td>\n",
       "      <td>3</td>\n",
       "      <td>3</td>\n",
       "    </tr>\n",
       "    <tr>\n",
       "      <th>346289</th>\n",
       "      <td>2</td>\n",
       "      <td>1</td>\n",
       "      <td>1</td>\n",
       "      <td>1</td>\n",
       "      <td>2</td>\n",
       "      <td>2</td>\n",
       "      <td>3</td>\n",
       "      <td>3</td>\n",
       "    </tr>\n",
       "    <tr>\n",
       "      <th>346290</th>\n",
       "      <td>2</td>\n",
       "      <td>1</td>\n",
       "      <td>2</td>\n",
       "      <td>3</td>\n",
       "      <td>2</td>\n",
       "      <td>2</td>\n",
       "      <td>3</td>\n",
       "      <td>4</td>\n",
       "    </tr>\n",
       "    <tr>\n",
       "      <th>346291</th>\n",
       "      <td>2</td>\n",
       "      <td>1</td>\n",
       "      <td>4</td>\n",
       "      <td>3</td>\n",
       "      <td>1</td>\n",
       "      <td>1</td>\n",
       "      <td>3</td>\n",
       "      <td>3</td>\n",
       "    </tr>\n",
       "    <tr>\n",
       "      <th>346292</th>\n",
       "      <td>1</td>\n",
       "      <td>1</td>\n",
       "      <td>2</td>\n",
       "      <td>3</td>\n",
       "      <td>1</td>\n",
       "      <td>2</td>\n",
       "      <td>3</td>\n",
       "      <td>3</td>\n",
       "    </tr>\n",
       "  </tbody>\n",
       "</table>\n",
       "<p>296509 rows × 8 columns</p>\n",
       "</div>"
      ],
      "text/plain": [
       "       char_ext_wall char_roof_cnst char_bsmt char_bsmt_fin char_heat  \\\n",
       "0                  1              1         1             3         2   \n",
       "1                  1              1         1             3         1   \n",
       "2                  1              1         1             3         1   \n",
       "3                  1              1         1             3         2   \n",
       "4                  1              1         3             1         1   \n",
       "...              ...            ...       ...           ...       ...   \n",
       "346288             2              1         3             3         1   \n",
       "346289             2              1         1             1         2   \n",
       "346290             2              1         2             3         2   \n",
       "346291             2              1         4             3         1   \n",
       "346292             1              1         2             3         1   \n",
       "\n",
       "       char_air char_attic_type char_gar1_size  \n",
       "0             2               2              3  \n",
       "1             1               3              3  \n",
       "2             1               3              4  \n",
       "3             1               3              5  \n",
       "4             2               2              1  \n",
       "...         ...             ...            ...  \n",
       "346288        1               3              3  \n",
       "346289        2               3              3  \n",
       "346290        2               3              4  \n",
       "346291        1               3              3  \n",
       "346292        2               3              3  \n",
       "\n",
       "[296509 rows x 8 columns]"
      ]
     },
     "execution_count": 16,
     "metadata": {},
     "output_type": "execute_result"
    }
   ],
   "source": [
    "df_bell_sales_mf.select_dtypes(include='category')"
   ]
  },
  {
   "cell_type": "code",
   "execution_count": 17,
   "id": "c5001193",
   "metadata": {},
   "outputs": [
    {
     "name": "stdout",
     "output_type": "stream",
     "text": [
      "<class 'pandas.core.frame.DataFrame'>\n",
      "Int64Index: 296509 entries, 0 to 346292\n",
      "Data columns (total 23 columns):\n",
      " #   Column                 Non-Null Count   Dtype   \n",
      "---  ------                 --------------   -----   \n",
      " 0   meta_pin               296509 non-null  object  \n",
      " 1   meta_year              296509 non-null  float64 \n",
      " 2   meta_class             296509 non-null  object  \n",
      " 3   meta_sale_price        296509 non-null  float64 \n",
      " 4   char_hd_sf             296509 non-null  float64 \n",
      " 5   char_age               296509 non-null  float64 \n",
      " 6   char_ext_wall          296405 non-null  category\n",
      " 7   char_roof_cnst         296404 non-null  category\n",
      " 8   char_rooms             296509 non-null  float64 \n",
      " 9   char_beds              296509 non-null  float64 \n",
      " 10  char_bsmt              296417 non-null  category\n",
      " 11  char_bsmt_fin          296416 non-null  category\n",
      " 12  char_heat              296403 non-null  category\n",
      " 13  char_air               296420 non-null  category\n",
      " 14  char_frpl              296407 non-null  float64 \n",
      " 15  char_attic_type        296405 non-null  category\n",
      " 16  char_fbath             296509 non-null  float64 \n",
      " 17  char_hbath             296509 non-null  float64 \n",
      " 18  char_gar1_size         296424 non-null  category\n",
      " 19  char_bldg_sf           296509 non-null  float64 \n",
      " 20  time_sale_day_of_year  296509 non-null  float64 \n",
      " 21  geo_longitude          296016 non-null  float64 \n",
      " 22  geo_latitude           296016 non-null  float64 \n",
      "dtypes: category(8), float64(13), object(2)\n",
      "memory usage: 38.5+ MB\n"
     ]
    }
   ],
   "source": [
    "df_bell_sales_mf.info()"
   ]
  },
  {
   "cell_type": "code",
   "execution_count": 18,
   "id": "5a301012",
   "metadata": {},
   "outputs": [
    {
     "data": {
      "text/plain": [
       "2    115399\n",
       "1     95848\n",
       "3     79552\n",
       "4      5606\n",
       "Name: char_ext_wall, dtype: int64"
      ]
     },
     "execution_count": 18,
     "metadata": {},
     "output_type": "execute_result"
    }
   ],
   "source": [
    "df_bell_sales_mf.char_ext_wall.value_counts()"
   ]
  },
  {
   "cell_type": "code",
   "execution_count": 19,
   "id": "73a46b7b",
   "metadata": {},
   "outputs": [
    {
     "data": {
      "text/plain": [
       "1    279059\n",
       "2     10167\n",
       "4      2797\n",
       "5      1790\n",
       "6      1413\n",
       "3      1178\n",
       "Name: char_roof_cnst, dtype: int64"
      ]
     },
     "execution_count": 19,
     "metadata": {},
     "output_type": "execute_result"
    }
   ],
   "source": [
    "df_bell_sales_mf.char_roof_cnst.value_counts()"
   ]
  },
  {
   "cell_type": "code",
   "execution_count": 20,
   "id": "fbd78b66",
   "metadata": {},
   "outputs": [
    {
     "data": {
      "text/plain": [
       "1    170979\n",
       "3     69158\n",
       "2     38275\n",
       "4     18005\n",
       "Name: char_bsmt, dtype: int64"
      ]
     },
     "execution_count": 20,
     "metadata": {},
     "output_type": "execute_result"
    }
   ],
   "source": [
    "df_bell_sales_mf.char_bsmt.value_counts()"
   ]
  },
  {
   "cell_type": "code",
   "execution_count": 21,
   "id": "7133be74",
   "metadata": {},
   "outputs": [
    {
     "data": {
      "text/plain": [
       "3    197817\n",
       "1     98567\n",
       "2        32\n",
       "Name: char_bsmt_fin, dtype: int64"
      ]
     },
     "execution_count": 21,
     "metadata": {},
     "output_type": "execute_result"
    }
   ],
   "source": [
    "df_bell_sales_mf.char_bsmt_fin.value_counts()"
   ]
  },
  {
   "cell_type": "code",
   "execution_count": 22,
   "id": "ad6bdc42",
   "metadata": {},
   "outputs": [
    {
     "data": {
      "text/plain": [
       "1    163355\n",
       "2    133065\n",
       "Name: char_air, dtype: int64"
      ]
     },
     "execution_count": 22,
     "metadata": {},
     "output_type": "execute_result"
    }
   ],
   "source": [
    "df_bell_sales_mf.char_air.value_counts()"
   ]
  },
  {
   "cell_type": "code",
   "execution_count": 23,
   "id": "cf26d506",
   "metadata": {},
   "outputs": [
    {
     "data": {
      "text/plain": [
       "1    262731\n",
       "2     32469\n",
       "3      1015\n",
       "4       188\n",
       "Name: char_heat, dtype: int64"
      ]
     },
     "execution_count": 23,
     "metadata": {},
     "output_type": "execute_result"
    }
   ],
   "source": [
    "df_bell_sales_mf.char_heat.value_counts()\n"
   ]
  },
  {
   "cell_type": "code",
   "execution_count": 24,
   "id": "302f0d09",
   "metadata": {},
   "outputs": [
    {
     "data": {
      "text/plain": [
       "3    173510\n",
       "1     46360\n",
       "7     33062\n",
       "2     18945\n",
       "4     13481\n",
       "5      9475\n",
       "8       864\n",
       "6       727\n",
       "Name: char_gar1_size, dtype: int64"
      ]
     },
     "execution_count": 24,
     "metadata": {},
     "output_type": "execute_result"
    }
   ],
   "source": [
    "df_bell_sales_mf.char_gar1_size.value_counts()\n"
   ]
  },
  {
   "cell_type": "code",
   "execution_count": 25,
   "id": "8e2b9eba",
   "metadata": {},
   "outputs": [
    {
     "data": {
      "text/plain": [
       "3    196903\n",
       "1     54991\n",
       "2     44511\n",
       "Name: char_attic_type, dtype: int64"
      ]
     },
     "execution_count": 25,
     "metadata": {},
     "output_type": "execute_result"
    }
   ],
   "source": [
    "df_bell_sales_mf.char_attic_type.value_counts()"
   ]
  },
  {
   "cell_type": "markdown",
   "id": "6c3dba6f",
   "metadata": {},
   "source": [
    "All values are non-null expect for 1 entry in # fireplaces. But it is only missing in the sales file. I should be able fill this in from the other file. In fact, the feature values in the sales file should be identical for the same property id's in the main file. Privided the property hasn't flipped. Let check this for 1 pin."
   ]
  },
  {
   "cell_type": "code",
   "execution_count": 26,
   "id": "4aa197da",
   "metadata": {},
   "outputs": [
    {
     "data": {
      "image/png": "[encoded data removed]",
      "text/plain": [
       "<Figure size 1080x720 with 16 Axes>"
      ]
     },
     "metadata": {
      "needs_background": "light"
     },
     "output_type": "display_data"
    }
   ],
   "source": [
    "df_bell_sales_mf.hist(figsize=(15,10))\n",
    "plt.subplots_adjust(hspace=0.5);"
   ]
  },
  {
   "cell_type": "markdown",
   "id": "46c23045",
   "metadata": {},
   "source": [
    "There appear to be gap years in the sales data. There is only slight evidence for a bimodal sales distribution from slight dip less than 1.5 million. But the age is clearly bimodal. There appear to be outliers in hd_sf, rooms, beds, half baths, and bld_sf, "
   ]
  },
  {
   "cell_type": "code",
   "execution_count": 27,
   "id": "09470400",
   "metadata": {},
   "outputs": [],
   "source": [
    "df_bell_sales_mf.to_csv('../data/bell_sales_cleaned_mhomes.csv')"
   ]
  },
  {
   "cell_type": "markdown",
   "id": "dbbe651b",
   "metadata": {},
   "source": [
    "I have saved single family home data in the Bell district. I have retained numerical features plus class."
   ]
  }
 ],
 "metadata": {
  "kernelspec": {
   "display_name": "Python 3 (ipykernel)",
   "language": "python",
   "name": "python3"
  },
  "language_info": {
   "codemirror_mode": {
    "name": "ipython",
    "version": 3
   },
   "file_extension": ".py",
   "mimetype": "text/x-python",
   "name": "python",
   "nbconvert_exporter": "python",
   "pygments_lexer": "ipython3",
   "version": "3.10.2"
  }
 },
 "nbformat": 4,
 "nbformat_minor": 5
}
