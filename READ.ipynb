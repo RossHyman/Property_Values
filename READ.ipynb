{
 "cells": [
  {
   "cell_type": "markdown",
   "id": "2e412654",
   "metadata": {},
   "source": [
    "# The Assessment is Too Damn High: Overvaluation of Bungalows in the Bell School Area of Chicago\n",
    "\n",
    "Ross Hyman\n",
    "\n",
    "![Chicago Bungalow](Picture1.png)\n",
    "\n",
    "\n",
    "According to the Cook County Assessor, the estimated market value of my home, a one-story ninety-six-year-old Chicago bungalow in the Bell School area of Chicago jumped from $\\$343,360$ in $2020$ to $\\$720,000$ in $2021$. Many of my neighbors received similar shocking assessments. A quick search on Redfin, which I conducted upon receiving my assessment, shows that in 2018, three bungalows in our neighborhood sold for $\\$300,000$, $\\$485,000$, and $\\$510,000$. One sold in $2021$ for $\\$445,000$. How is it possible for the Assessor’s estimated market value of our homes to be so much higher than the values that they are being sold for? This is the question that was on my mind and wallet when I was asked to choose a capstone project for the data science course I am taking at Springboard. This is the report for that project. \n",
    "\n",
    "\n"
   ]
  },
  {
   "cell_type": "code",
   "execution_count": null,
   "id": "40ea06ce",
   "metadata": {},
   "outputs": [],
   "source": []
  }
 ],
 "metadata": {
  "kernelspec": {
   "display_name": "Python 3 (ipykernel)",
   "language": "python",
   "name": "python3"
  },
  "language_info": {
   "codemirror_mode": {
    "name": "ipython",
    "version": 3
   },
   "file_extension": ".py",
   "mimetype": "text/x-python",
   "name": "python",
   "nbconvert_exporter": "python",
   "pygments_lexer": "ipython3",
   "version": "3.10.2"
  }
 },
 "nbformat": 4,
 "nbformat_minor": 5
}
